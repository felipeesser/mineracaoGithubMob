{
  "cells": [
    {
      "cell_type": "markdown",
      "metadata": {
        "id": "view-in-github",
        "colab_type": "text"
      },
      "source": [
        "<a href=\"https://colab.research.google.com/github/felipeesser/mineracaoGithubMob/blob/main/proxy.ipynb\" target=\"_parent\"><img src=\"https://colab.research.google.com/assets/colab-badge.svg\" alt=\"Open In Colab\"/></a>"
      ]
    },
    {
      "cell_type": "markdown",
      "metadata": {
        "id": "qfFsYVVVoqgn"
      },
      "source": [
        "# +/- 257 repositórios por grupo\n"
      ]
    },
    {
      "cell_type": "markdown",
      "metadata": {
        "id": "bTrQBEDQo4I2"
      },
      "source": [
        "# init"
      ]
    },
    {
      "cell_type": "code",
      "execution_count": 1,
      "metadata": {
        "colab": {
          "base_uri": "https://localhost:8080/"
        },
        "id": "C86VXPPUow_L",
        "outputId": "27d4d843-8cd9-4ab8-a088-e731aec7b8c4"
      },
      "outputs": [
        {
          "output_type": "stream",
          "name": "stdout",
          "text": [
            "Looking in indexes: https://pypi.org/simple, https://us-python.pkg.dev/colab-wheels/public/simple/\n",
            "Collecting simplejson\n",
            "  Downloading simplejson-3.18.0-cp38-cp38-manylinux_2_5_x86_64.manylinux1_x86_64.manylinux_2_12_x86_64.manylinux2010_x86_64.whl (139 kB)\n",
            "\u001b[K     |████████████████████████████████| 139 kB 7.3 MB/s \n",
            "\u001b[?25hInstalling collected packages: simplejson\n",
            "Successfully installed simplejson-3.18.0\n"
          ]
        }
      ],
      "source": [
        "!pip install simplejson"
      ]
    },
    {
      "cell_type": "code",
      "execution_count": 2,
      "metadata": {
        "id": "23o7qCewozG-"
      },
      "outputs": [],
      "source": [
        "import hashlib\n",
        "import requests\n",
        "import simplejson\n",
        "import os\n",
        "import sys\n",
        "from flask import Flask, request, Response"
      ]
    },
    {
      "cell_type": "code",
      "execution_count": 3,
      "metadata": {
        "colab": {
          "base_uri": "https://localhost:8080/",
          "height": 66,
          "referenced_widgets": [
            "94547036c5694ecba73b232f171bd0d9",
            "b5b2dce695f549ea8801e0f8378dd538",
            "47128a3ff09f41528b7d43e0bc274f4a",
            "cf9f1b30f5bf4083be261f9119fdadb6",
            "f1bc082d0f21442c8dac1ffefefedd42",
            "86dd65b5a0d94015b9f796949b2921c4",
            "c4da5db0a54244d180b06c2867008a2d"
          ]
        },
        "id": "GLZFFNL_o26h",
        "outputId": "1ef4303a-0f3f-446d-af3f-68562b36943b"
      },
      "outputs": [
        {
          "output_type": "display_data",
          "data": {
            "text/plain": [
              "interactive(children=(FileUpload(value={}, description='Upload'), Output()), _dom_classes=('widget-interact',)…"
            ],
            "application/vnd.jupyter.widget-view+json": {
              "version_major": 2,
              "version_minor": 0,
              "model_id": "94547036c5694ecba73b232f171bd0d9"
            }
          },
          "metadata": {}
        }
      ],
      "source": [
        "from ipywidgets import FileUpload, interact\n",
        "@interact(files=FileUpload())\n",
        "def setToken(files={}):\n",
        "  global token\n",
        "  if files:\n",
        "    for key, values in files.items():\n",
        "      token= values['content'].decode(\"utf-8\").strip()\n",
        "      print(\"Token carregado\")"
      ]
    },
    {
      "cell_type": "code",
      "execution_count": 4,
      "metadata": {
        "colab": {
          "base_uri": "https://localhost:8080/"
        },
        "id": "ubNPdysJpsoZ",
        "outputId": "7b909097-6fd8-41a1-a7af-0a8e7140540b"
      },
      "outputs": [
        {
          "output_type": "stream",
          "name": "stdout",
          "text": [
            "status code:  200\n",
            "limite de requisições:  5000\n",
            "número de requisições disponíveis:  4999\n",
            "número de requisições utilizadas:  1\n",
            "horário para o reset do limite:  2022-12-19 14:19:45\n"
          ]
        }
      ],
      "source": [
        "import datetime\n",
        "SITE=\"https://api.github.com/\"\n",
        "def tokenAuth(request):\n",
        "  request.headers[\"User-Agent\"]=\"Mineracao\"\n",
        "  request.headers[\"Authorization\"]=\"token {}\".format(token)\n",
        "  return request\n",
        "\n",
        "response= requests.get(SITE,auth=tokenAuth)\n",
        "print(\"status code: \",response.status_code)\n",
        "print(\"limite de requisições: \",response.headers[\"x-ratelimit-limit\"])\n",
        "print(\"número de requisições disponíveis: \",response.headers[\"x-ratelimit-remaining\"])\n",
        "print(\"número de requisições utilizadas: \",response.headers[\"x-ratelimit-used\"])\n",
        "print(\"horário para o reset do limite: \",datetime.datetime.fromtimestamp(int(response.headers[\"x-ratelimit-reset\"])).strftime('%Y-%m-%d %H:%M:%S'))"
      ]
    },
    {
      "cell_type": "markdown",
      "metadata": {
        "id": "n7xmLQU0vEVw"
      },
      "source": [
        "# Armazenamento da população"
      ]
    },
    {
      "cell_type": "code",
      "execution_count": 5,
      "metadata": {
        "id": "p24MDxRjo_vP"
      },
      "outputs": [],
      "source": [
        "import time\n",
        "def paginacao(path,query,pagina,caminhos,tam):\n",
        "  itemsPg=1\n",
        "  while(itemsPg!=0):\n",
        "    response=requests.get(SITE+path+'?q='+query+'&page='+str(pagina),auth=tokenAuth)\n",
        "    data=response.json()\n",
        "    if(pagina==1):\n",
        "      if 'total_count' in data:\n",
        "        tam.append(data['total_count'])\n",
        "    if 'items' in data:\n",
        "      itemsPg=len(data['items'])\n",
        "      if(itemsPg!=0):\n",
        "        for item in data['items']:\n",
        "          if item['full_name'] not in caminhos:\n",
        "            caminhos.append([item['full_name']])\n",
        "        pagina+=1\n",
        "    else:\n",
        "      if '1000' in data['message']:\n",
        "        print(data)\n",
        "        return\n",
        "      print(data)\n",
        "      time.sleep(60)\n",
        "      paginacao(path,query,pagina,caminhos,tam)\n",
        "      return"
      ]
    },
    {
      "cell_type": "markdown",
      "metadata": {
        "id": "U9yoTm18v0Gf"
      },
      "source": [
        "# Armazenamento variaveis de estudo"
      ]
    },
    {
      "cell_type": "code",
      "execution_count": null,
      "metadata": {
        "id": "qIjc-59lqEzz"
      },
      "outputs": [],
      "source": [
        "import time\n",
        "def repPossuiQ(path,repo,query,resultado):\n",
        "    response=requests.get(SITE+path+'?q=repo:'+repo[0]+'+'+query,auth=tokenAuth)\n",
        "    data=response.json()\n",
        "    if 'items' in data:\n",
        "      if(int(data['total_count'])>0):\n",
        "        resultado.append(repo)\n",
        "    else:\n",
        "      time.sleep(60)\n",
        "      repPossuiQ(path,repo,query,resultado)\n",
        "\n",
        "def reposPossuiQ(repos,path,query):\n",
        "  tam=len(repos)\n",
        "  resultado=[]\n",
        "  for pos in range(tam):\n",
        "    repPossuiQ(path,repos[pos],query,resultado)\n",
        "    if pos!=0 and (pos%49==0) or (pos==(tam-1)):\n",
        "      print(str(pos+1)+' repositórios filtrados')\n",
        "  return resultado"
      ]
    },
    {
      "cell_type": "code",
      "source": [
        "import time\n",
        "def repAddElem(path,repo,resultado,elem):\n",
        "    response=requests.get(SITE+path+repo[0],auth=tokenAuth)\n",
        "    data=response.json()\n",
        "    temp=repo.copy()\n",
        "    while elem:\n",
        "      if elem[0] in data:\n",
        "        temp.append(data[elem[0]])\n",
        "        elem.pop(0)\n",
        "      else:\n",
        "        print(data)\n",
        "        response=requests.get(SITE+path+repo[0],auth=tokenAuth)\n",
        "        data=response.json()\n",
        "    resultado.append(temp)"
      ],
      "metadata": {
        "id": "VQOVfpEVnRW2"
      },
      "execution_count": 15,
      "outputs": []
    },
    {
      "cell_type": "code",
      "execution_count": 7,
      "metadata": {
        "id": "WUGgqozspFg-"
      },
      "outputs": [],
      "source": [
        "def reposAddElem(repos,elem):\n",
        "  resultado=[]\n",
        "  for repo in repos:\n",
        "    temp=elem.copy()\n",
        "    repAddElem('repos/',repo,resultado,temp)\n",
        "  return resultado"
      ]
    },
    {
      "cell_type": "code",
      "execution_count": 18,
      "metadata": {
        "id": "7J6m961tppqJ"
      },
      "outputs": [],
      "source": [
        "import time\n",
        "from bs4 import BeautifulSoup\n",
        "def contaDepRepo(repo):\n",
        "  resultado=0\n",
        "  response= requests.get('https://github.com/'+repo+'/network/dependencies')\n",
        "  if response.status_code==200:\n",
        "    soup=BeautifulSoup(response.text,'html.parser')\n",
        "    for s in soup.select('a.Link--primary.text-bold'):\n",
        "      if s.has_attr('title'):\n",
        "        if '.lock' not in s['title']:\n",
        "          nbr=s.findNext('span').contents[0]\n",
        "          if ',' in nbr:\n",
        "            resultado+=int(nbr.replace(',',\"\"))\n",
        "          else:\n",
        "            resultado+=int(nbr)\n",
        "  else:\n",
        "    print(response)\n",
        "    time.sleep(10)\n",
        "    resultado=contaDepRepo(repo)\n",
        "  return resultado\n",
        "\n",
        "def contaDepRepos(repos):\n",
        "  resultado=[]\n",
        "  pos=0\n",
        "  tam=len(repos)\n",
        "  for repo in repos:\n",
        "    ndep=contaDepRepo(repo[0])\n",
        "    if ndep!=0:\n",
        "      temp=repo.copy()\n",
        "      temp.append(ndep)\n",
        "      resultado.append(temp)\n",
        "    pos+=1\n",
        "    if (pos%50==0) or (pos==tam):\n",
        "      print(str(pos)+' repositórios filtrados')\n",
        "  return resultado"
      ]
    },
    {
      "cell_type": "code",
      "execution_count": 19,
      "metadata": {
        "id": "hYOES5wa3z9R"
      },
      "outputs": [],
      "source": [
        "import time\n",
        "from bs4 import BeautifulSoup\n",
        "def contaCommitRepo(repo):\n",
        "  resultado=0\n",
        "  response= requests.get('https://github.com/'+repo)\n",
        "  if response.status_code==200:\n",
        "    soup=BeautifulSoup(response.text,'html.parser')\n",
        "    for tag in soup.select(\"span.d-none.d-sm-inline\"):\n",
        "      if len(tag.find_all(\"strong\"))>0:\n",
        "        for child in tag.find_all(\"strong\"):\n",
        "          nbr=child.get_text()\n",
        "          if ',' in nbr:\n",
        "            resultado=nbr.replace(',',\"\")\n",
        "          else:\n",
        "            resultado=nbr\n",
        "  else:\n",
        "    print(response)\n",
        "    time.sleep(10)\n",
        "    resultado=contaDepRepo(repo)\n",
        "  return resultado\n",
        "def contaCommitRepos(repos):\n",
        "  resultado=[]\n",
        "  pos=0\n",
        "  tam=len(repos)\n",
        "  for repo in repos:\n",
        "    ncommit=contaCommitRepo(repo[0])\n",
        "    if ncommit!=0:\n",
        "      temp=repo.copy()\n",
        "      temp.append(ncommit)\n",
        "      resultado.append(temp)\n",
        "    pos+=1\n",
        "    if (pos%50==0) or (pos==tam):\n",
        "      print(str(pos)+' repositórios filtrados')\n",
        "  return resultado"
      ]
    },
    {
      "cell_type": "markdown",
      "metadata": {
        "id": "KZIlBATopag2"
      },
      "source": [
        "# Definição grupos"
      ]
    },
    {
      "cell_type": "code",
      "execution_count": null,
      "metadata": {
        "id": "Gdk3vabL15J9"
      },
      "outputs": [],
      "source": [
        "def proporcao(tam1,tam2,tamf):\n",
        "  prop=tamf/(tam1[0]+tam2[0])\n",
        "  tam1[0]=round(tam1[0]*prop)\n",
        "  tam2[0]=tamf-tam1[0]\n",
        "  return"
      ]
    },
    {
      "cell_type": "markdown",
      "metadata": {
        "id": "WH1auePxJJtA"
      },
      "source": [
        "Limite de 1000 repos por query"
      ]
    },
    {
      "cell_type": "markdown",
      "metadata": {
        "id": "igtjk2LEqLA4"
      },
      "source": [
        "PWA"
      ]
    },
    {
      "cell_type": "code",
      "execution_count": 21,
      "metadata": {
        "colab": {
          "base_uri": "https://localhost:8080/"
        },
        "id": "tzyQNz1HgWKW",
        "outputId": "84c4b651-731d-4441-ee5c-a6c854cbf6cf"
      },
      "outputs": [
        {
          "output_type": "stream",
          "name": "stdout",
          "text": [
            "8124\n"
          ]
        }
      ],
      "source": [
        "response=requests.get(SITE+'search/repositories'+'?q='+'''topic:pwa\n",
        " -topic:flutter -topic:nativescript -topic:cordova -topic:capacitor -topic:react-native -topic:xamarin sort:stars''',auth=tokenAuth)\n",
        "data=response.json()\n",
        "if 'total_count' in data:\n",
        "  print(data['total_count'])"
      ]
    },
    {
      "cell_type": "code",
      "execution_count": 22,
      "metadata": {
        "id": "6HDEu15vxWSd",
        "colab": {
          "base_uri": "https://localhost:8080/"
        },
        "outputId": "e7a9653c-4226-49f7-b2f1-653a72f13d87"
      },
      "outputs": [
        {
          "output_type": "stream",
          "name": "stdout",
          "text": [
            "{'message': 'API rate limit exceeded for user ID 44467278.', 'documentation_url': 'https://docs.github.com/rest/overview/resources-in-the-rest-api#rate-limiting'}\n",
            "{'message': 'Only the first 1000 search results are available', 'documentation_url': 'https://docs.github.com/v3/search/'}\n",
            "1020 [['angular/angular', 427743, 85478], ['hoppscotch/hoppscotch', 62594, 48904], ['freeCodeCamp/devdocs', 30417, 30402], ['GoogleChrome/lighthouse', 188192, 25745], ['quasarframework/quasar', 256095, 22564], ['qier222/YesPlayMusic', 32683, 20283], ['RobinLinus/snapdrop', 3551, 14118], ['vuestorefront/vue-storefront', 91316, 10198], ['Lissy93/dashy', 315626, 8586], ['alibaba/rax', 20924, 7837], ['maxence-charriere/go-app', 210777, 6718], ['andreasbm/web-skills', 122455, 6290], ['TalAter/UpUp', 30382, 4845], ['angus-c/just', 23001, 4731], ['lauragift21/awesome-learning-resources', 420, 4708], ['preactjs/preact-cli', 8135, 4624], ['NekR/offline-plugin', 1181, 4494], ['assemble/assemble', 13050, 4125], ['hemanth/awesome-pwa', 483, 4084], ['mgechev/angular-performance-checklist', 353, 3945], ['pipipi-pikachu/PPTist', 131248, 3634], ['SangKa/PWA-Book-CN', 2000, 3486], ['alienzhou/frontend-tech-list', 32, 3474], ['webhintio/hint', 75101, 3443], ['cotes2020/jekyll-theme-chirpy', 3473, 3278], ['vuejs-templates/pwa', 174, 3026], ['shadowwalker/next-pwa', 1309, 2663], ['vuesion/vuesion', 15560, 2634], ['swarmpit/swarmpit', 6648, 2537], ['Atyantik/react-pwa', 17154, 2506], ['TarikHuber/react-most-wanted', 38764, 2264], ['GoogleChromeLabs/lighthousebot', 319, 2247], ['elegantapp/pwa-asset-generator', 33186, 2236], ['samuelmaddock/metastream', 72190, 2170], ['padloc/padloc', 49721, 2053], ['cezerin/cezerin', 20163, 2006], ['vuestorefront/storefront-ui', 46757, 1962], ['webproblem/learning-article', 2814, 1784], ['AdaptiveConsulting/ReactiveTraderCloud', 540770, 1733], ['vite-pwa/vite-plugin-pwa', 2985, 1656], ['pwa-builder/PWABuilder', 151493, 1568], ['FoxUSA/OpenNote', 8960, 1560], ['generativefm/generative.fm', 497212, 1559], ['le0pard/pgtune', 73691, 1552], ['deckgo/deckdeckgo', 36644, 1535], ['kefranabg/bento-starter', 971, 1531], ['hanford/next-offline', 2262, 1518], ['Vagr9K/gatsby-advanced-starter', 55095, 1504], ['codenameone/CodenameOne', 222714, 1376], ['skidding/flatris', 20296, 1345], ['Atri-Labs/atrilabs-engine', 30465, 1343], ['nuxt-community/legacy-modules', 1540, 1299], ['snorpey/jpg-glitch', 985, 1173], ['nuxt-community/pwa-module', 5470, 1156], ['maciejtreder/ng-toolkit', 7106, 1127], ['GoogleChromeLabs/pwacompat', 431, 1107], ['filips123/PWAsForFirefox', 1355, 1092], ['tr1s/tris-webpack-boilerplate', 19918, 1037], ['code-kotis/qr-code-scanner', 2357, 1034], ['uasoft-indonesia/badaso', 5329, 1008], ['gdg-x/hoverboard', 288867, 995], ['nuxt/hackernews', 1488, 992], ['magento/pwa-studio', 661163, 977], ['developit/preact-boilerplate', 433, 965], ['nolanlawson/pinafore', 150874, 952], ['Metnew/suicrux', 8738, 945], ['rgab1508/PixelCraft', 887, 925], ['aermin/ghChat', 56601, 909], ['sudhakar3697/electron-alternatives', 82, 890], ['gokulkrishh/demo-progressive-web-app', 1746, 880], ['nicejade/nice-front-end-tutorial', 6184, 875], ['flawiddsouza/Restfox', 5016, 843], ['reuixiy/hugo-theme-meme', 9505, 819], ['pwa-builder/pwa-starter', 20986, 805], ['itswadesh/svelte-commerce', 12265, 796], ['bangle-io/bangle-io', 1040170, 786], ['saleor/saleor-storefront', 21704, 775], ['ayastreb/money-tracker', 2405, 763], ['awes-io/awes-io', 319, 749], ['xiaomuzhu/vue-ts-daily', 3113, 742], ['mckeever02/mailtolink', 3502, 732], ['gs-shop/vue-slick-carousel', 8588, 728], ['storefront-foundation/react-storefront', 16358, 709], ['4gray/iptvnator', 24787, 703], ['KnicKnic/WASM-ImageMagick', 2656, 693], ['bstavroulakis/vue-wordpress-pwa', 1342, 689], ['gokulkrishh/awesome-meta-and-manifest', 14, 676], ['koca/vue-prism-editor', 1781, 670], ['pldubouilh/gossa', 7120, 653], ['ionic-team/ionic-pwa-toolkit', 613, 634], ['fabe/gatsby-universal', 5424, 621], ['madneal/articles-translator', 1235, 611], ['avatsaev/angular-contacts-app-example', 1026, 604], ['ikismail/Angular-ShoppingCart', 8158, 584], ['HenrikJoreteg/redux-bundler', 1589, 582], ['harryho/vue-crm', 2145, 568], ['GoogleChromeLabs/pwa-wp', 13021, 559], ['scriptype/sorted-colors', 7372, 558], ['jrainlau/markcook', 22908, 550], ['vchaptsev/cookiecutter-django-vue', 435, 549], ['mixcore/mix.core', 840349, 545], ['mrsimonfletcher/react-progressive-web-app', 668, 544], ['gillkyle/sol-journal', 1482, 517], ['arthurbergmz/webpack-pwa-manifest', 1508, 508], ['snuffyDev/Beatbump', 89336, 505], ['osrec/SuperSlide.js', 514, 494], ['mgks/Android-SmartWebView', 9366, 478], ['maxence-charriere/lofimusic', 105614, 476], ['hanford/trends', 6349, 473], ['nicejade/vue-boilerplate-template', 5174, 469], ['DSchau/gatsby-mail', 4335, 462], ['PWA-POLICE/pwa-bugs', 25, 458], ['dot-cafe/beam.cafe', 3963, 437], ['Merkie/freespeech', 57107, 436], ['devrsi0n/React-2048-game', 9287, 430], ['ganatan/angular-app', 36132, 423], ['rock-solid/pwa-theme-woocommerce', 268, 421], ['getify/youperiod.app', 133, 417], ['AiursoftWeb/Kahla.App', 11614, 400], ['lukeed/preact-starter', 698, 386], ['vfeskov/gitpunch', 20401, 377], ['vuefront/vuefront', 14511, 375], ['Tommertom/svelte-ionic-app', 33732, 373], ['CreateThrive/react-firebase-admin', 4405, 368], ['bitfoundation/bitplatform', 43303, 363], ['vaadin/expense-manager-demo', 64927, 358], ['whilelucky/pwa', 196, 353], ['SuperPWA/Super-Progressive-Web-Apps', 1059, 347], ['beercss/beercss', 7566, 345], ['justinribeiro/speedometer-pwa', 55, 343], ['chr15m/slingcode', 1317, 341], ['dufu1991/simple-cloud-music', 1354, 341], ['yandeu/phaser-project-template', 1951, 338], ['filrak/vue-offline', 780, 338], ['RinteRface/shinyMobile', 36985, 335], ['maxwellito/minimator', 347, 334], ['mvllow/next-pwa-template', 3326, 329], ['GoogleChromeLabs/react-shrine', 5336, 327], ['vuestorefront/shopware-pwa', 36363, 319], ['jakejarvis/lighthouse-action', 1018, 318], ['nuxt-community/nuxt7', 2589, 316], ['mizchi/next-editor', 4164, 312], ['xtools-at/iOS-PWA-Wrapper', 867, 311], ['vue-land/create-vue-app', 276, 309], ['xtools-at/Android-PWA-Wrapper', 244, 308], ['pacexy/flow', 4489, 307], ['FoxUSA/StoreDown', 2539, 304], ['stefanfrede/11st-starter-kit', 5852, 303], ['twreporter/twreporter-react', 171843, 301], ['ManuCutillas/ngx-responsive', 2404, 298], ['HybridShivam/pokedex-angular-app', 59109, 292], ['staart/ui', 24450, 289], ['deanhume/progressive-web-apps-book', 360, 287], ['hiroppy/ssr-sample', 6864, 285], ['innFactory/create-react-app-material-typescript-redux', 2397, 284], ['webmaxru/progressive-web-apps-logo', 8291, 283], ['maxwellito/breaklock', 1760, 275], ['mike-works/pwa-fundamentals', 32368, 267], ['ncarlier/readflow', 9875, 267], ['suren-atoyan/react-pwa', 2331, 263], ['aofdev/vue-firebase-auth-vuex', 334, 262], ['srhise/nuxt-wordpress-pwa', 533, 259], ['cristianbote/hnpwa-vanilla', 1575, 259], ['coryrylan/ng-pokedex', 4694, 258], ['jfadev/jfa-pwa-toolkit', 3789, 255], ['morkro/happy-plants', 26647, 246], ['narendrashetty/uber-mobile-web', 2124, 246], ['Adamant-im/adamant-im', 9553, 246], ['14nrv/buefy-shop', 1222, 246], ['ShivamJoker/Ylight-Music', 2562, 243], ['dhruv-kumar-jha/productivity-frontend', 6699, 243], ['jfbrennan/m-', 3423, 239], ['DockYard/ember-service-worker', 1679, 239], ['Minishlink/pwa-qr-code-scanner', 169, 232], ['proyecto26/animatable-component', 1976, 231], ['MananTank/cybertype', 4000, 230], ['GatsbyStorefront/gatsby-theme-storefront-shopify', 217, 228], ['GoogleChromeLabs/sample-pie-shop', 2676, 226], ['schollz/offlinenotepad', 652, 226], ['akirarika/creamdb', 2957, 219], ['daquinoaldo/https-localhost', 680, 218], ['ibrahima92/pwa-with-vanilla-js', 7904, 217], ['Minishlink/web-push-php-example', 51, 215], ['mgks/os-fileup', 233, 209], ['adriancarriger/angularfire2-offline', 12893, 207], ['alienzhou/learning-pwa', 113, 205], ['ShafSpecs/remix-pwa', 2083, 204], ['shmuelhizmi/web-desktop-environment', 42760, 203], ['latsic/imgalign', 238865, 202], ['maxpou/gatsby-starter-morning-dew', 15986, 201], ['Rajatm544/MERN-Blog-App', 3963, 196], ['kosmigramma/appleshouter', 60, 196], ['jamesjohnson280/hello-pwa', 79, 192], ['tretapey/svelte-pwa', 249, 192], ['davidgaroro/vuetify-todo-pwa', 622, 188], ['andrewcourtice/ocula', 2611, 188], ['Hanziness/AnotherPomodoro', 4515, 187], ['loginov-rocks/Web-Bluetooth-Terminal', 2675, 186], ['rodneylab/sveltekit-blog-mdx', 3297, 185], ['sandoche/Jekyll-webpack-boilerplate', 1634, 185], ['pwafire/pwafire', 25171, 181], ['JerryC8080/GlacierJS', 96887, 181], ['NullVoxPopuli/emberclear', 20500, 180], ['hyundotio/magicpad', 69995, 179], ['torch2424/made-with-webassembly', 4649, 178], ['gokulkrishh/qrcodescan.in', 3222, 174], ['paulhoughton/remember', 923, 173], ['tomsoderlund/nextjs-pwa-firebase-boilerplate', 1327, 172], ['angular-university/angular-pwa-course', 3039, 172], ['Just-Moh-it/Mockoops', 8975, 172], ['seydx/camera.ui', 56525, 171], ['moigonzalez/pwa-barcode-scanner', 18240, 170], ['codepo8/github-page-pwa', 525, 168], ['rherwig/template-react-ssr', 2851, 168], ['siimonevans/notes', 188, 168], ['alexkehayias/woz', 3776, 167], ['graphcommerce-org/graphcommerce', 130506, 167], ['manekinekko/angular-search-experience', 6460, 165], ['webmaxru/pwatter', 3484, 164], ['nicejade/awesome-vue-cli3-example', 3559, 164], ['iondrimba/react-weather-app', 12923, 164], ['KeJunMao/jekyll-theme-mdui', 4123, 162], ['jcalixte/vue-pwa-asset-generator', 3037, 159], ['Flowm/satvis', 1204, 159], ['genie-team/graphql-genie', 6536, 159], ['koddr/a2hs.js', 2390, 158], ['SalesforceCommerceCloud/pwa-kit', 118657, 158], ['ademilter/prayer-times', 3873, 158], ['IBM/pwa-lit-template', 7478, 157], ['aman-atg/react-product-card', 23084, 156], ['manolo/gwt-polymer-elements', 53532, 154], ['SimplQ/simplQ-frontend', 7354, 153], ['vuestorefront/vsf-capybara', 8882, 152], ['onch-at/onchat-web', 7944, 151], ['johman10/flood-for-transmission', 2535, 151], ['yandeu/phaser-project-template-es6', 2728, 150], ['SafdarJamal/quiz-app', 8915, 150], ['jekuer/php-microsite-boilerplate', 1308, 149], ['google/service-worker-detector', 3505, 148], ['DannyMoerkerke/whatpwacando.today', 1, 146], ['madneal/subway-shanghai', 4199, 144], ['microsoft/30daysof', 49753, 144], ['rl-king/elm-hnpwa', 899, 142], ['aganglada/preact-minimal', 1752, 142], ['NotWoods/maskable', 2208, 142], ['san650/ember-web-app', 1054, 141], ['tsukumijima/TVRemotePlus', 480866, 140], ['jonhue/pwa', 162, 139], ['jakubito/spotify-release-list', 4357, 139], ['nicejade/nicelinks-vue-client', 2901, 138], ['intershop/intershop-pwa', 35275, 137], ['davidgaroro/vuetify-swipeout', 832, 136], ['ThaUnknown/pwa-haven', 54872, 136], ['Aerolab/nextjs-pwa', 97, 135], ['Bertrand31/Monitaure', 46403, 134], ['ali-master/pwa-badge', 1080, 135], ['lavas-project/hexo-pwa', 36, 134], ['Tomburgs/pwa-boilerplate', 3284, 134], ['graycoreio/daffodil', 42257, 134], ['DivanteLtd/storefront-integration-sdk', 8557, 136], ['ramiz-rahman/sort-visualizer', 4341, 132], ['mikestead/lighthouse-batch', 252, 132], ['tomsoderlund/nextjs-pwa-graphql-sql-boilerplate', 1302, 132], ['laqul/laqul', 1382, 131], ['alexgibson/wavepad', 673, 131], ['hackaru-app/hackaru', 2503, 130], ['magenx/Magento-2-server-installation', 752, 130], ['nuxt-community/pwa-template', 87, 129], ['aaron5670/aaronvandenberg.nl', 3646, 129], ['iondrimba/pwa-music-player', 4098, 127], ['andreasbm/lit-translate', 10643, 127], ['sandoche/Detoxify-app', 65001, 127], ['OrangeXC/gank', 3928, 127], ['universal-vue/uvue', 3146, 127], ['umluizlima/flask-pwa', 143, 126], ['Fyerl/vue-awesome-picker', 1583, 125], ['GoogleChromeLabs/sample-currency-converter', 1333, 127], ['brunocodutra/webapp-webpack-plugin', 13809, 123], ['wednesday-solutions/react-template', 38620, 121], ['maslick/koder', 3844, 119], ['oliviertassinari/browser-metrics', 247, 119], ['runbox/runbox7', 7979, 119], ['ionicthemes/ionic-pwa', 3227, 117], ['vendure-ecommerce/storefront-angular-starter', 3710, 116], ['shellyln/kanban-board-app', 5245, 115], ['Gingernaut/Peridot', 9989, 114], ['Lt0/sysmon', 4009, 113], ['vuefront/wordpress', 11372, 111], ['JP1016/Markdown-Electron', 1375, 110], ['abhinaba-ghosh/playwright-lighthouse', 130, 110], ['JimmyVV/PWA-cookbook', 60, 109], ['commudle/commudle-ng', 92879, 109], ['JP1016/Paper', 1583, 108], ['lazy-guy/tomodoro', 1597, 108], ['localnerve/react-pwa-reference', 5364, 108], ['google/amp-pwa-demo', 62, 107], ['asurcodes/amperage', 2651, 107], ['FrontendMasters/service-workers-offline', 69, 106], ['ThymeApp/thyme', 6339, 105], ['GoogleChromeLabs/rowing-monitor', 1719, 105], ['ademilter/next-template', 1427, 104], ['ssshooter/nippon-color', 5787, 104], ['microsoft/win-student-devs', 46638, 104], ['ionic-team/ionic-stencil-hn-app', 8119, 103], ['andreasbm/router-slot', 1088, 103], ['scandipwa/magento-docker', 3753, 103], ['GrabarzUndPartner/gp-vue-boilerplate', 349883, 103], ['nyancodeid/iro', 1556, 102], ['avatsaev/kawachat2-client', 797, 102], ['cklwblove/vue-element-admin-ts', 3284, 102], ['ismaelgt/english-accents-map', 1718, 102], ['chrisdiana/webden', 21635, 101], ['gil--/gatsby-starter-shopifypwa', 721, 101], ['qlova/seed', 5560, 101], ['sorcererxw/iloveworks', 6466, 101], ['Hunlongyu/ReadMe', 100461, 99], ['HarshKapadia2/git_basics', 7270, 99], ['thelittlewonder/hush', 1132, 99], ['lunchclass/absolute', 26922, 99], ['alexandrunastase/json-formatter-live', 1440, 99], ['vueneue/vueneue', 1144, 98], ['whoisryosuke/ryosuke-gatsby-blog', 446875, 98], ['lukeed/colors-app', 447, 96], ['cloudfour/pwastats', 5189, 95], ['lavas-project/jekyll-pwa', 563, 98], ['itswadesh/foodfire', 3579, 94], ['luckyshot/twentyfive', 557, 94], ['unjs/redirect-ssl', 228, 94], ['SQL-MisterMagoo/Blazor.PWA.MSBuild', 181, 94], ['fede-rodes/meteor-apollo-starter-kit', 2868, 93], ['aofdev/vue-pwa-speech', 54, 93], ['vaneenige/offline-gallery', 88, 92], ['xtools-at/Electron-PWA-Wrapper', 1683, 91], ['m2sd/nuxt-laravel', 3584, 91], ['EreckGordon/angular-universal-pwa-starter', 1034, 91], ['mutebg/pwa-weather', 238, 93], ['christianliebel/paint', 22328, 88], ['PierfrancescoSoffritti/pierfrancescosoffritti.com', 18313, 88], ['BerndWessels/preact-redux-isomorphic', 1404, 87], ['Glue42/core', 54357, 85], ['bagisto/laravel-pwa', 67362, 84], ['F-loat/caption2text', 3325, 84], ['abdonrd/PolymerProjects', 98, 83], ['meanos/meanOs', 39987, 82], ['wildhaber/offline-first-sw', 52, 82], ['cocopon/llumino-pwa', 2038, 81], ['cloudflare/workers-react-pwa-example', 363, 81], ['Zack-Bee/hdtv', 1547, 81], ['spacegangster/page-renderer', 123, 80], ['framework7io/framework7-appstore-react', 124600, 80], ['ovanta/vue-cloudfront', 2084, 79], ['vuefront/prestashop', 12713, 78], ['gmatthewsfeuer/next-plate', 6950, 78], ['OsmTravel/OsmGo', 269564, 78], ['milligram/awesome-milligram', 29, 78], ['kiwix/kiwix-js-windows', 3579107, 78], ['garage44/ca11', 8877, 77], ['agateblue/tempo', 6535, 76], ['meanbee/magento-meanbee-pwa', 12, 75], ['pmdartus/rcast', 38864, 75], ['corbindavenport/link-cleaner', 281, 75], ['deanhume/beer', 102789, 74], ['dorianim/money-balancer', 1611, 74], ['grantas33/Kotlin-PWA-starter-kit', 169, 73], ['fspoettel/blaupause', 11481, 72], ['stylesuxx/esc-configurator', 4337, 72], ['AminAliH47/PicoSchool', 2734, 72], ['aocattleya/Ramen-Timer', 2424, 72], ['cyyyu/parcel-plugin-sw-precache', 102, 71], ['forgepwa/the_forge', 42788, 71], ['lukechilds/onionite', 563, 71], ['dd3v/snippets.ninja', 2769, 70], ['jasonujmaalvis/vue-movies', 695, 70], ['MacKentoch/react-redux-nextjs-bootstrap-pwa-starter', 5103, 70], ['jefrydco/nuxt-pwa-vuetify-starter', 3185, 69], ['kwrush/react-2048', 2640, 69], ['nikkifurls/simplepwa', 322, 68], ['Gatsbylius/Gatsbylius', 3536, 68], ['justinribeiro/pwa-firebase-functions-botrender', 143, 68], ['frysztak/orpington-news', 7250, 68], ['xpioneer/react-typescript', 4660, 68], ['IronKinoko/e-hentai-view', 1363, 68], ['yomete/pushercoins', 237, 67], ['cobi-bike/DevKit', 3859, 69], ['Offroaders123/Smart-Text-Editor', 3632, 67], ['Bellisario/node-snapdrop', 1458, 67], ['AdamBien/bce.design', 185, 67], ['mantou132/mt-music-player', 5558, 67], ['snipcart/gatsby-pwa-demo', 6442, 68], ['GoogleChromeLabs/affilicats', 3096, 66], ['msaaddev/create-next-pwa', 93803, 66], ['milooy/react-django-pwa-kit', 16006, 66], ['peterpeterparker/web-social-share', 1143, 66], ['wagerfield/nuxt-stack', 8759, 66], ['ganatan/angular-react-seo', 30477, 66], ['arcomage/arcomage-hd', 61769, 66], ['lincenying/mmf-blog-vue2-pwa-ssr', 3725, 65], ['aofdev/vue-speech-streaming', 52, 65], ['raucao/webmarks', 5910, 65], ['SokichiFujita/starter-react-flux', 5643, 65], ['10secondsofcode/coding-ai', 1567, 65], ['ahmedkaludi/pwa-for-wp', 1572, 64], ['nwtgck/nipp', 48010, 64], ['Pushedskydiver/Colour-Contrast-Checker', 3168, 64], ['matthijsgroen/geppetto', 65596, 64], ['themgoncalves/react-adventure', 6973, 66], ['iondrimba/react-calculator', 16107, 64], ['jiahaog/jiahao.codes', 42825, 63], ['dtinth/WebMIDICon', 7143, 63], ['zoff-music/zoff', 16857, 63], ['SamsungInternet/snapwat', 4959, 62], ['vuefront/opencart', 19955, 62], ['persianturtle/rescript-react-boilerplate', 4755, 61], ['jeremyckahn/farmhand', 21284, 62], ['cahyofendhi/Flutter-Cinema', 506112, 62], ['Wellenline/auddly', 48710, 62], ['ishandeveloper/Portfolio', 23422, 62], ['igorski/bitmappery', 2510, 61], ['ruisaraiva19/favycon', 12226, 61], ['RetroAstro/yinyue', 3004, 60], ['aswara/Admin-eCommerce-ReactJS', 796, 60], ['ansezz/laravel-vuejs.com', 37558, 60], ['OrangeXC/udao', 4240, 59], ['lybekk/offPIM', 11182, 59], ['szafran89/nuxt-blog', 1218, 59], ['vaneenige/periodic-weather', 300, 58], ['bikedeboa/bikedeboa', 60081, 58], ['as-ideas/add-to-homescreen-react', 6279, 58], ['tiansh/reader', 5552, 58], ['Specy/genshin-music', 46443, 57], ['smastrom/headless-gatsby-multilang', 412, 57], ['aromalanil/WhatSend', 1158, 57], ['ttu/lego-boost-app', 3513, 56], ['mbaxszy7/pika-music', 15861, 56], ['sokhuong-uon/discord-clone-old', 2524, 56], ['iotaledger/spark-wallet', 5193, 56], ['minht11/local-music-pwa', 1730, 56], ['SAP-samples/openui5-pwa-sample', 169, 55], ['swifweb/web', 1785, 55], ['Codebrahma/gatsby-ecommerce-pwa', 7686, 54], ['elegantapp/pwa-workshop-angular-firebase', 17001, 54], ['TheDevPath/Navi', 3265, 54], ['ZJU-CC98/CC98-PWA', 7484, 54], ['theanam/pushkit', 393, 55], ['tomayac/fugu-greetings', 6174, 52], ['sebholstein/angular-hacker-news', 541, 52], ['halebopp/vue-pomo', 170, 52], ['yelabbassi/cinedantan', 7844, 52], ['YogeshPrasanna/expense-manager-react', 52953, 52], ['justinribeiro/blog-pwa', 19711, 51], ['ganatan/angular-react-pwa', 30106, 51], ['meanbee/magento2-serviceworker', 130, 51], ['nothingismagick/quasar-starter-ssr-pwa-jest-cypress', 2273, 51], ['tutorbookapp/tutorbook', 1025013, 51], ['anita-app/anita', 21830, 51], ['atomicptr/dauntless-builder', 53637, 51], ['NoelDeMartin/media-kraken', 5146, 51], ['jkga/me', 407, 51], ['bfmatei/stencil-boilerplate', 1093, 51], ['mkungla/webxr-webpack-boilerplate', 4655, 50], ['john-doherty/mixpanel-lite', 419, 50], ['NoelDeMartin/solid-focus', 3330, 50], ['0918nobita/Tsundoku', 5122, 50], ['segunolalive/helloBooks', 2404, 50], ['imranhsayed/next-js-app', 118, 50], ['ecomplus/storefront-starter', 18574, 50], ['jefrydco/nuxt-pwa-vuetify-firebase-ssr', 4923, 50], ['amahdy/java-pwa', 2324, 49], ['mjzhang1993/react-router4-template', 3232, 49], ['fengerzh/fengerzh.github.io', 1543, 49], ['mayneyao/phos', 2115, 49], ['voorhoede/nuxt-twa-module', 989, 48], ['memeLab/Jandig', 91117, 48], ['bitflower/stencil-lerna', 14235, 48], ['vinicius73/vue-pokemon-memory-game', 8799, 48], ['nyancodeid/insta-share', 489, 48], ['Lukazovic/nextjs-with-chakra-ui-boilerplate', 295, 47], ['KhalisFoundation/sttm-web', 33779, 47], ['inshopgroup/inshop-crm-client', 6002, 47], ['VanishMax/Modern-Web-App', 498, 46], ['davejm/react-app-rewire-workbox', 18, 46], ['iondrimba/marvel-api-explorer', 20595, 46], ['mvximenko/youdo', 3473, 46], ['gawlk/svind', 7056, 45], ['david-szabo97/github-guesser', 316, 45], ['TheNightmareX/reply', 1962, 45], ['itsalb3rt/sheiley-shop-app', 5581, 45], ['GatsbyStorefront/gatsby-starter-storefront-shopify', 2188, 45], ['htdangkhoa/react-ssr-starter', 2369, 45], ['fluid-notion/fluid-outliner', 15149, 45], ['DivanteLtd/spartacus-capybara', 4420, 45], ['azu/hatebupwa', 656, 45], ['hubblecommerce/hubble-frontend-pwa', 7438, 44], ['robinglen/lighthouse-cron', 71, 44], ['vinicius73/gravatar-url-generator', 2961, 44], ['CrowdStrike/ember-browser-services', 2205, 44], ['tgambet/musicsource', 4037, 44], ['K0IN/Notify', 4249, 44], ['photostack/photostack', 4632, 44], ['fpapado/ephemeralnotes', 4879, 44], ['jabardigitalservice/pikobar-jabarprov-go-id', 33745, 44], ['saurabhdaware/pwainit', 731, 44], ['sylvainpolletvillard/pwa-workshop', 2794, 43], ['gurov/stupid-rss-reader', 7819, 43], ['mrcotter/crypto-market', 2203, 43], ['PragatiVerma18/Snippet-Share', 4430, 43], ['llopisdon/skies-adsb', 29456, 43], ['g105b/pwa', 29, 43], ['elasticpath/react-pwa-reference-storefront', 59976, 43], ['quasarframework/quasar-template-pwa', 489, 42], ['lmiguelm/portfolio', 14158, 42], ['based-ghost/vue-seo-friendly-spa-template', 33184, 42], ['usm4n/cycle-hn', 617, 42], ['r3nanp/flappy-bird', 2698, 42], ['Quinten/black-hole-square', 607, 42], ['ionicthemes/ionic-navigation-and-routing', 2587, 42], ['floysh/DCC-green-pass-decoder', 1932, 42], ['navneetsharmaui/discover-twitter-spaces', 23220, 42], ['ionic-team/create-stencil', 2756, 42], ['nico-martin/todo-pwa', 3661, 41], ['vinitshahdeo/ProgressiveNewsApp', 596, 41], ['rossmc/how-to-venia', 7017, 41], ['DaxChen/vue-firebase-starter', 295, 41], ['pedrocoutinhosilva/shiny.pwa', 469, 41], ['sandoche/Surfable-app', 160392, 41], ['catchspider2002/periodic-table.io', 299563, 41], ['forabi/WebCeph', 20943, 41], ['asadsahi/vuenode-fullstack', 802, 41], ['HorusGoul/atom-pwa', 16792, 40], ['vuestorefront/ecommerce-integration-boilerplate', 6067, 40], ['gauravsaini03-zz/ionic3-ecommerce-app', 2451, 40], ['quasarframeworkbrasil/skeleton-quasar', 29287, 40], ['codi-hacks/weather-station', 3774, 40], ['ygoex/yetty', 5589, 40], ['lvzhenbang/webpack-play', 19294, 41], ['HarkerDev/harker-bell', 8672, 40], ['sarmadsangi/offline-kanban', 46, 40], ['nicejade/docker-vue-node-nginx-mongodb-redis', 989, 40], ['vnglst/finding-nora', 7440, 40], ['thepassle/reddit-pwa', 5361, 40], ['rizalibnu/react-pwa-wwwid', 5394, 39], ['asc-lab/claim-reporter-pwa-poc', 1858, 39], ['alexnoz/vanilla-wc-hnpwa', 235, 39], ['azu/service-worker-updatefound-refresh-dialog', 232, 39], ['puku0x/angular-pwa-sample', 3235, 39], ['gdg-x/chakram', 2045, 39], ['opaulochaves/react-pwa-webpack-starter', 308, 39], ['kasparsd/sensor-pilot', 1123, 39], ['mgks/Kotlin-SmartWebView', 160, 39], ['m1guelpf/send-to-things', 299, 39], ['JokeNetwork/vegancheck.me', 111391, 39], ['thepassle/pwa-helpers', 1126, 38], ['m4r1vs/mnged', 1593, 38], ['kkoscielniak/react-add-to-homescreen', 2807, 38], ['br3ndonland/udacity-google', 13494, 38], ['moonou/zhihu-daily-vue', 1167, 38], ['aofdev/vue-pwa-rekognition', 16068, 38], ['aofdev/vue-pwa-vision', 102, 39], ['cleverfranke/cf-kyt-starter-universal-redux', 273, 38], ['ambianic/ambianic-ui', 42998, 38], ['code-kotis/pwa-codelabs', 4861, 37], ['lowerbarriers/finished-starter', 35895, 37], ['terichadbourne/offline-first-project-manager', 39080, 37], ['wooorm/dictionary', 166, 37], ['Esri/nearby-javascript', 1320, 37], ['safeapps-io/money-client', 2001, 37], ['Explosion-Scratch/OnDrop', 1129, 37], ['lucasm/findto', 1062, 37], ['leegeunhyeok/resume', 24557, 37], ['lvzhenbang/webpack4.x-multi-page', 44000, 37], ['Rocketseat/rocketpwa', 523, 37], ['shindesharad71/Anstagram', 13427, 37], ['zonkyio/ember-web-app', 32513, 37], ['RocketChat/Rocket.Chat.PWA.React', 1175, 36], ['superpikar/onsenui-vue-router-pwa', 543, 36], ['lucasrmagalhaes/covid19-react', 6324, 36], ['sonic16x/interslavic', 48858, 36], ['alienzhou/learning-pwa-ebook', 1588, 35], ['fpapado/ephemeral', 576, 35], ['khmyznikov/pwa-install', 1465, 35], ['BrianRuizy/gatsby-minimal-portfolio', 170361, 35], ['ffalt/mah', 46642, 35], ['ChenMingK/Blog', 693, 36], ['chromeos/create-vite-pwa', 101, 34], ['Naramsim/Colosseum', 29358, 34], ['pierresaid/vue-pwa-camera', 293, 34], ['vitaliy-bobrov/pacman-pwa', 2010, 34], ['mizchi/next-pwa-boilerplate', 87, 34], ['toxic-johann/is-pwa-ready', 6255, 34], ['jpodwys/preact-journal', 2437, 34], ['vuefront/magento', 8459, 34], ['Asatelit/pwa-pos-terminal', 35117, 34], ['solrachix/podcastr', 6547, 34], ['MacKentoch/react-redux-nextjs-material-ui-pwa-starter', 697, 33], ['greenido/WebSQL-to-IndexedDB-example', 223, 34], ['smakosh/gatsby-starter-i18n', 3375, 35], ['Tom-Julux/shared-zustand', 20, 34], ['catdad-experiments/heic-app', 159, 34], ['malisipi/Vebview.JS', 5295, 34], ['wasedatime/wasedatime-web', 91022, 34], ['chromeos/pwa-play-billing', 3815, 34], ['corbindavenport/whatdevice', 810, 33], ['alumna/alumna', 1735, 33], ['based-ghost/react-seo-friendly-spa-template', 30045, 33], ['matronator/GlobalCollapse', 41990, 33], ['R1dwanMaulana/quran-id.me', 4086, 33], ['patrickmonteiro/quasar-warren', 2009, 33], ['KeJunMao/vdraw', 1697, 36], ['martins-rafael/rafaelmartins.dev', 2376, 33], ['mvllow/tailwindcss-safe-area', 35, 33], ['srph/careflix', 6898, 33], ['ScerIO/phar.scer.io', 1792, 32], ['carlosqsilva/YASCC', 6688, 32], ['vnglst/peter-and-the-wolf', 201857, 32], ['TYPO3-Headless/pwa-demo', 9894, 32], ['gifaldyazkaa/aqua-fanpage', 1988, 32], ['Lazzzer/Moviepark', 25599, 32], ['AbhishekCode/word-tetris', 6555, 32], ['danarrib/BulletGCSS', 24018, 32], ['Aam-Digital/ndb-core', 41573, 32], ['m4r1vs/slidecontrol', 23035, 32], ['JayantGoel001/JayantGoel001.github.io', 248077, 32], ['code-by-sia/OpenWebSheet', 6517, 32], ['retire-run/retire.run', 334, 32], ['mikhael28/paretOS', 42244, 31], ['eshaan7/RenameThemSubs', 10911, 31], ['itissandeep98/TimeTableManager', 21640, 31], ['oussamatn/radio-player', 1463, 31], ['csbun/workbox-examples', 222, 31], ['shareup/pwa-resources', 651, 30], ['bengarrett/DOSee', 18085, 30], ['jul-sh/archive-jul.sh', 41238, 31], ['leifermendez/swipe-angular-list', 92, 30], ['CharlBest/nean-stack-starter', 8004, 30], ['2brew/2brew.github.io', 1223, 30], ['JimmyVV/web-pwa', 12, 31], ['brapifra/readhnlater-pwa', 4232, 29], ['carlosrojaso/appress-book-pwa', 1250, 29], ['FlorianRappl/pwa-example', 513, 29], ['benji6/moodtracker', 10304, 29], ['eddedd88/react-firebase-template', 1017, 29], ['onfe/Picto', 28726, 29], ['AnishDe12020/devkit', 2082, 29], ['rock-solid/pwa-theme-obliq', 400, 29], ['ChangeWindows/ChangeWindows', 16074, 29], ['Kopano-dev/meet', 5551, 29], ['Lorti/phrasebook', 5461, 29], ['ccwukong/react-cam', 1199, 29], ['tsriram/15puzzle', 642, 29], ['mhadaily/glimmer-hn-pwa', 2038, 28], ['vite-pwa/sveltekit', 1290, 28], ['ajayns/paper-todo', 168, 28], ['johncalvinroberts/pprmnt', 945, 28], ['umaim/SKE', 13165, 28], ['flolu/centsideas', 5211, 28], ['Armster15/doblar', 3847, 28], ['limhenry/nothing', 91, 28], ['ntrix/amazin', 53223, 28], ['carsonsaldanha/screen-recorder', 1787, 28], ['liutian/light-push-admin', 17691, 28], ['chymz/nuxt-starter', 822, 28], ['loomchild/sojourner-web', 9441, 29], ['zfoo-project/zapp', 46899, 28], ['rodydavis/lit-native', 1196, 28], ['thuongtruong1009/e-shopee', 112591, 28], ['Jaspero/fireshop', 7868, 28], ['gokulkrishh/anonymous-web', 8308, 28], ['dhananshan/PWA-Asp.NetCore', 721, 27], ['ProgressiveWebComponents/pwa-install', 49, 27], ['jbdoderlein/BetterOCaml', 302243, 27], ['cosmicjs/vue-garage-sale', 124538, 27], ['Spiderpig86/spottr', 45264, 27], ['vc64web/virtualc64web', 5498, 27], ['baotlake/deep-reading', 22326, 27], ['sozonome/pub-apis', 2499, 27], ['felipe-jm/nextjs-boilerplate', 10265, 27], ['DingpingZhang/white-raven', 4258, 27], ['unjs/workbox-cdn', 358, 27], ['webdevstar/React-Ecommerce', 4934, 27], ['topaxi/ember-service-worker-update-notify', 809, 27], ['flyerq/minesweeper', 5310, 26], ['mohammadnazari110/pwa_offline_video_download', 31264, 26], ['bogas04/SikhJS', 63126, 26], ['pankajladhar/speedy-math', 1993, 28], ['vaneenige/rainbow-explorer', 100, 26], ['maccali/Apod.PWA', 2795, 26], ['houssem-yahiaoui/progressive-web-app-starter-kit', 75, 26], ['Alovoa/alovoa-android', 5934, 26], ['fzn0x/reactplate', 1009, 26], ['Vendic/vsf-external-checkout', 153, 26], ['egierdian/pwa-alquran-ku', 1967, 26], ['ShenHongFei/dict', 4042, 26], ['osamhack2020/WEB_KookbangFriends_Woowahan', 339062, 26], ['breadsplit/breadsplit', 17425, 26], ['seejamescode/global-upvote', 2075, 26], ['negrel/nwotable', 4275, 26], ['seanwu1105/ionic-pwa-example-moment', 47020, 26], ['pmbanugo/shopping-list', 763, 25], ['bergpb/flask-pwa', 207, 25], ['mehmettahameral/Blazor-wasm-pwa-camera', 244, 25], ['quasarframework/quasar-hackernews', 1011, 25], ['lyyourc/blog', 6549, 25], ['Aniket762/playground', 1585, 25], ['foumart/JS.13kGames', 751, 25], ['englishextra/iframe-lightbox', 1228, 25], ['Angular2Guy/AngularPwaMessenger', 3113, 25], ['michaeldera/edliz', 21875, 25], ['PapillonApp/papillon-v3', 6013, 25], ['ovk/clcalc', 863, 25], ['nieheyong/vue-tvideo', 2335, 25], ['mvysny/vaadin-kotlin-pwa', 2956, 25], ['nanawel/our-shopping-list', 3217, 25], ['jefrydco/nuxt-typescript-pwa-tailwindcss-composition-api', 1615, 25], ['whitetigle/fable-pwa', 3081, 24], ['fallaciousreasoning/progrssive', 9738, 24], ['souldanger/jekyll-pwa-workbox', 1603, 24], ['tmpo-io/tracks', 637, 24], ['Sominemo/Mono-PWA', 14434, 24], ['impressivewebs/CSS-Values', 3, 24], ['tbela99/gzip', 5689, 24], ['mkhan004/angular7-series', 273, 24], ['janispritzkau/loopover', 3697, 24], ['sylvainpolletvillard/pwa-cookbook', 12131, 24], ['NeuroWhAI/isekaidol-stream-noti', 2438, 24], ['Jinjinov/TheLastTime', 634, 24], ['corejam/corejam', 5560, 24], ['aofdev/vue-input-streaming', 46, 24], ['xiaoping6688/react-spa-project', 67, 24], ['lsquires/open-iota', 2730, 24], ['Mekurun/mekurun.com', 233710, 24], ['eagleoflqj/sympy_beta', 439, 24], ['notangelmario/paquet', 3524, 24], ['takuma-ru/vue-swipe-modal', 2056, 24], ['ceit93/graduation-web', 3111, 24], ['Beats0/Beats0.github.io', 11864, 24], ['davikawasaki/iot-security-vulnerability', 1536, 24], ['jkomoros/boardgame', 9567, 24], ['sandoche/LearningLab-website', 12174, 24], ['RikudouSage/PwaToTwa', 66, 23], ['webmaxru/progressive-web-conf', 24, 23], ['dotmind/react-use-pwa', 156, 23], ['dicodingacademy/a74-mpwa-labs', 413, 23], ['particle-iot/xmastree', 4797, 23], ['ninjinkun/blog-feedback-app', 21464, 24], ['deliciousinsights/goal-tracker', 575, 23], ['jhonnyrogerb/angular-podcast-app', 535, 23], ['0ql/Coffeetyper-Svelte', 226, 23], ['olafsulich/E-commerce-Plants-Shop', 16153, 23], ['hang-up/buuk', 11846, 23], ['afonsopacifer/react-prpl-boilerplate', 1316, 23], ['alex-saunders/ecmasyntax.io', 34329, 23], ['Alex61NN5/angular-universal-pwa-heroku-starter', 2267, 23], ['miladimos/semicolon', 64653, 23], ['kiel-live/kiel-live', 3373, 23], ['mazipan/vue-wwwid', 1438, 23], ['safeimuslim/push-notifications-next-js', 12, 23], ['gokulkrishh/fuel-price', 108, 22], ['cansin/next-with-workbox', 1180, 22], ['mezoistvan/angular-pwa-starter', 685, 22], ['indreklasn/pwa-example', 82, 22], ['le0pard/vmail', 121252, 22], ['rehhouari/rapide', 1031, 22], ['SvenEV/Xamzor', 166, 22], ['benji6/meditation-timer', 4654, 22], ['jefrydco/jefrydco', 44161, 22], ['ragingwind/firebase-hackernews', 137, 22], ['qdzungpham/redax-sounds', 20862, 22], ['mateusfg7/Noisekun', 270859, 22], ['tsirlucas/soundplace', 11489, 22], ['Pinqua/Radon', 1885, 22], ['teambtcmap/btcmap.org', 16224, 22], ['marcosvidolin/vue-social-login', 4431, 22], ['rock-solid/wordpress-pwacommerce', 891, 21], ['w3id/pwa-layanan-publik', 8, 21], ['AbFarid/daegmael', 2003, 21], ['MichaelSolati/pwa.otta.dev', 4360, 21], ['wKovacs64/pwl', 16006, 21], ['muniz95/duopettaja', 1954, 21], ['le0pard/webp-wasm', 11321, 21], ['0x00000001A/watosan', 1016, 21], ['iamyajat/WhatsAppThem', 277, 21], ['hackaru-app/hackaru-web', 9736, 21], ['erickbogarin/ios-homescreen', 9770, 21], ['zubair-io/leto', 329, 21], ['aureatelabs/vsf-google-recaptcha', 445, 21], ['dailydotdev/daily-go', 4153, 21], ['juliafealves/deciframe-pwa', 360, 21], ['spicyboys/drg-completionist', 31258, 21], ['webmaxru/bpm-counter', 5951, 20], ['LibertarianTeam/ancapsu', 7418, 19], ['appsemble/appsemble', 49206, 20], ['pwafire/pwafireapp', 3774, 20], ['timlzh/NeuMusic', 3333, 20], ['zws-im/website', 5600, 20], ['andrewmmc/wtsapp.ga', 1814, 20], ['juandc/aerostore', 18557, 20], ['mark-szabo/carwash', 30181, 20], ['OleksandrYehorov/minesweeper', 6085, 20], ['ikhsanalatsary/next-react-boilerplate', 961, 20], ['vAmigaWeb/vAmigaWeb', 5087, 20], ['kalkih/singlyricly', 13000, 20], ['simicoder/ecommerce', 916, 20], ['Rule-34/App-Android', 24455, 20], ['Atyantik/example-pawjs-material-ui', 554, 20], ['aureatelabs/vsf-address-book', 92, 20], ['MrMYHuang/cbetar2', 106416, 20], ['Akash1362000/News-Web-App', 12153, 20], ['raucao/sharesome', 6163, 20], ['cmpct-io/frontend', 3649, 20], ['Uvacoder/abc-ushare-it', 839, 20], ['irekrog/battery-status-progressive-web-app', 66, 19], ['tecdrop/pwa-display-test', 513, 19], ['RemeJuan/progressive-web-app-starter', 3117, 19], ['Yancey-Blog/blog-desktop-v2', 16374, 19], ['jgw96/Wavex', 8712, 19], ['coryrylan/ng-math', 280, 19], ['operfildoluiz/worthit', 539, 19], ['kirushenski/gatsby-starter-vadyan', 4298, 19], ['coreyauger/tasktick', 24147, 19], ['MohitSojitra/portfolio', 3215, 19], ['h43z/twagenerator', 60, 19], ['haikelfazzani/vconsole', 2349, 19], ['KnicKnic/croppy', 6521, 19], ['solrachix/landing-page-template_4', 1384, 19], ['jackbalageru/MERN-CRUD', 598, 19], ['statsim/app', 6517, 19], ['ccuffs/horario', 5723, 19], ['meanbee/magento2-webappmanifest', 12, 19], ['0xGG/vscode-pwa', 28095, 19], ['wcadena/gestor-inventarios-it', 72041, 19], ['englishextra/englishextra.github.io', 90319, 19], ['scriptified/scriptified.dev', 17227, 19], ['bilde2910/FreeField', 34113, 19], ['Pinqua/Zinger', 10101, 19], ['saadpasta/PWA-Olx-Clone', 3262, 18], ['wisdomekpotu/PWA-TodoApp', 90, 18], ['clem109/nextjs-koa-styledcomponents', 50, 18], ['b31ngd3v/aniflix', 6822, 18], ['seunsaber/ayele', 9628, 18], ['restuwahyu13/react-boilerplate', 1760, 18], ['Minishlink/DailyScrum', 9941, 19], ['IBastawisi/math-editor', 12415, 18], ['Ryan-Gordon/Ionic-Firestarter', 1496, 18], ['zhenbinjing/i-Cut', 49546, 18], ['DannyMoerkerke/webauthn-demo', 371, 18], ['Minishlink/physbook', 3299, 18], ['sozonome/nextarter-tailwind', 1334, 18], ['AsaoluElijah/say-it', 620, 18], ['Xe/mi', 625, 18], ['Alyw234237/md-wysiwyg-editor', 20852, 18], ['giovanigenerali/precodeveiculo', 1269, 18], ['c2FmZQ/c2FmZQ', 2318, 18], ['Gabriel-Paulucci/UmDiaProgramando', 651, 18], ['arjunmahishi/vanilla-pwa', 2040, 17], ['satnaing/haru-fashion', 5573, 17], ['xxczaki/currency-converter', 3006, 17], ['codefest-iit-bhu/codefest-app', 39820, 17], ['Vue-Boilerplates/vue-typescript-boilerplate', 1838, 17], ['victorheringer/planning-poker-deck', 6062, 17], ['AdamBien/effectiveweb.training', 732, 17], ['minhlucvan/nasa-images', 3288, 17], ['aladin002dz/PWA', 44, 17], ['borjapazr/angular-skeleton', 5433, 17], ['techiediaries/angular-pwa', 117, 17], ['ofcyln/currency-exchange', 5733, 17], ['pedrorivald/gitdex', 9256, 17], ['jamrants/donations', 1050, 17], ['lava-jato-the-game/lava-jato-the-game', 94, 17], ['abhisheknaiidu/iiitdmj-gpa', 3111, 17], ['gnss-sdr/geniuss-place', 74068, 17], ['egoist/create-poi-react-app', 64, 17], ['ronffy/umi-dva-typescript-mock', 185, 17], ['numToStr/site', 1591, 17], ['imshubhamsingh/IPL-dashboard', 14707, 17], ['GDGSpain/gdg.es', 17665, 17], ['vuefront/vuefront-nuxt', 1065, 17], ['owsas/parse-offline', 131, 17], ['sirixdb/sirix-web-frontend', 3665, 17], ['voinsource/SmartWebView-Pro', 94, 17], ['kymjs/PWAblog', 228, 17], ['dahnielson/parcel-plugin-workbox', 1029, 18], ['joshxfi/track-as-one', 1269, 17], ['ShadOoW/web-starter-kit', 3790, 17], ['fancy-flashcard/ffc', 6995, 17], ['emibcn/service-worker-updater', 2851, 17], ['imranhsayed/pwa-concepts', 2690, 16], ['HeratPatel/hnpwa', 7659, 16], ['webmaxru/prog-web-news', 4016, 16], ['mazipan/workbox-in-js-framework', 134, 16], ['mariusclaret/outweb', 1387, 16], ['malokhvii-eduard/mod3d', 16656, 16], ['6c65726f79/custom-titlebar', 1787, 16], ['Snickdx/pwadocs', 3878, 16], ['code-and-comment/code-and-comment', 1296, 16], ['isair/notepad-pwa', 3392, 16], ['mauriciabad/custom-easings-with-keyframes', 2800, 16], ['cosmicjs/react-pwa', 293, 16], ['MatthiasWinkelmann/lighthouse-chromium-alpine-docker', 32, 16], ['svenpanel/the-shrine-ng', 5946, 16], ['Booligoosh/covid19nsw', 63489, 16], ['MatrixAges/testool', 8734, 16], ['vuefront/create-vuefront-app', 305, 16], ['xgqfrms/cdn', 869388, 16], ['grrd01/Puzzle', 1080203, 16], ['4cm4k1/personal-website', 11803, 16], ['goblin-laboratory/cra-multi-page-template', 3881, 17], ['adrivelasco/graphql-pwa-workshop', 810, 16], ['ReactConf/nextjs-boilerplate-reactconf-ir2020', 6802, 16], ['Open-Gamma-Project/Gamma-MCA', 5321, 16], ['mash-up-kr/zibro', 4719, 18], ['ahampriyanshu/gonewz', 671, 16], ['abdonrd/abdonrd.com', 5394, 16], ['VEZwolle/wandelapp', 2405, 16], ['amazon-archives/aws-mobilehub-ember', 574, 16], ['cuongdevjs/pull-to-refresh-react', 1889, 16], ['mcf1110/ionic-anhembi-2021.1', 26766, 16], ['phondani0/ecommerce_store', 1149, 16], ['stephenkingsley/hackerNews-pwa', 261, 17], ['dmartinjs/awesome-stenciljs', 51, 16], ['jefrydco/nuxt-pwa-tailwindcss-starter', 420, 16], ['the-blue-alliance/the-blue-alliance-pwa', 2073, 16], ['firtadokei/ci-vue-appstarter', 214, 15], ['intl-wc/intl', 675, 15], ['tanaypratap/polaris', 350, 15], ['esn-tumi/app', 172450, 15], ['iamvdo/speedometer-pwa', 254, 15], ['jordic/tracks_preact', 788, 15], ['aureatelabs/vsf-payment-razorpay', 5645, 15], ['cajlonbatista/spacehunter', 3225, 15], ['xrei/vue-ssr', 58, 15], ['ibbatta/frontend-modern-boilerplate', 7039, 15], ['Kirlovon/Simple-SSR', 2174, 17], ['flysteur-dev/pager', 2525, 16], ['gmatthewsfeuer/github-unfollow-checker', 1446, 15], ['finogeeks/finclip-desktop-demo', 995, 15], ['100lvlmaster/svelte-pwa', 501, 15], ['murtuzaalisurti/qr', 181, 15], ['dhormale/pwa_demo', 106, 16], ['gabriel-hahn/billing-cycle-reactjs', 2369, 15], ['chalu/smart-search', 2957, 15], ['Monogramm/frappe_pwa', 4188, 15], ['knrdl/bicimon', 140, 15], ['leonardodino/forex-web-app', 4676, 17], ['denar90/brunch-with-marionettejs', 223, 14], ['saurshaz/pwa-meteor', 809, 14], ['tomwayson/esri-preact-pwa', 622, 13], ['nficano/nickficano.com', 5758, 14], ['pwafire/tips', 61, 14], ['icelam/chinese-lorem-ipsum', 2602, 14], ['CRIZPRZ/LARAVEL-PWACRIZPRZ', 772, 14], ['davidgaroro/vue-todo-pwa', 564, 14], ['taehwanno/hnpwa-react', 1203, 14], ['arafatamim/waqt-web', 1136, 14], ['vuestorefront/vue-storefront-1', 57409, 14], ['everton-dgn/next_styled_components_redux_tlk_pwa_boilerplate', 2025, 14], ['jomurgel/project-acorn-ssr', 692, 14], ['cassiolpaixao90/boilerplate-react-redux-pwa', 1501, 14], ['Warwick-Engineering-Society/PDR', 3105, 14], ['taisuke-j/progress-ring-component', 10367, 14], ['KaustubhDamania/SmallMedium', 8690, 14], ['eteplus/giog', 864, 14], ['honungsburk/atomic-swap', 6389, 14], ['evilfactorylabsarchive/nadya', 3567, 14], ['satyawikananda/grammer-blog', 13064, 14], ['gdgpisa/gdgpisa.github.io', 63178, 14], ['ChristianTracy/cra-redux-boilerplate', 4574, 14], ['m8524769/espacio', 15827, 14], ['MSakamaki/ngx-onesignal', 4569, 15], ['itsabdelrahman/phonetically', 1974, 16], ['ofcyln/mortgage-expense-calculator', 12925, 14], ['devpato/angular-pwa-qrcode', 1534, 14], ['devpato/pwa-notifications', 172, 14], ['zuixjs/zuix-web-book', 4212, 13], ['Atyantik/example-pawjs-tailwind', 2441, 14], ['dailymotion/camcorder', 1680, 14], ['IncredibleWeb/React-PWA-Boilerplate', 215, 13], ['dmcd/pwa-demo', 912, 13], ['mayeedwin/vscode-pwa', 34260, 13], ['mikegeyser/building-pwas-with-angular', 59431, 13], ['andreruffert/javascript-questions', 3859, 13], ['mxjoly/react-ssr-setup', 7378, 13], ['myanmartools/zawgyi-unicode-converter-pwa', 6871, 13], ['operfildoluiz/pwact', 28, 13], ['hello-efficiency-inc/openpeeps-generator', 2938, 15], ['CIPHERTron/portfolio', 12145, 15], ['ReporterOne/reporter', 9463, 13], ['OpenSooq/react-mic-record', 389, 13], ['zhmushan/gif-generator', 7803, 13], ['L4fv/whatsapp-click-to-chat', 1863, 13], ['jauhl/mecEdit', 10684, 13], ['ayndqy/notecards', 1187, 13], ['Jozwiaczek/smart-gate', 11649, 13], ['TeamPiickle/client', 6611, 13], ['heddendorp/tumi-app', 162644, 13], ['sebastian-software/app-manifest-loader', 3669, 13], ['rotimi-best/sveltedoc', 374, 13], ['mertguvencli/quicktext', 915, 13], ['Ncookiez/sveltekit-pwa-template', 2972, 13], ['vanishcode/lavas-cnode', 4251, 13], ['lencx/gg', 1184, 13], ['LasaleFamine/http-server-pwa', 3896, 14], ['Dear-Blueno/dearblueno', 4814, 13], ['irkvuz/schedule', 48034, 13], ['cescoferraro/react-boil', 839, 13], ['FriendsOfREDAXO/pwa', 51, 13], ['john-doherty/notch-detected-event', 415, 13], ['zhongzhi107/universal-react-starter-kit', 1086, 13], ['sempostma/atc-manager-2', 7911, 17], ['cTxplorer/whatsapp-anyone', 1482, 13], ['diballesteros/nuzlocke', 10049, 13], ['edisonneza/react-blog', 3001, 13], ['dima-horror/lighthouse.net', 47, 13], ['alhazmy13/pwa-angular4', 81, 13], ['shopgate/pwa', 35595, 13], ['elasticpath/epcc-react-pwa-reference-storefront', 105777, 13], ['YagoLopez/progressive-web-app-boilerplate', 317, 12], ['mayeedwin/profile', 10611, 12], ['gauravbehere/pwa-starter-demo', 104, 12], ['pacoita/modern-web', 5140, 12], ['AbubakerSaeed/react-todo-list', 4193, 12]]\n",
            "50 repositórios filtrados\n",
            "100 repositórios filtrados\n",
            "150 repositórios filtrados\n",
            "200 repositórios filtrados\n",
            "250 repositórios filtrados\n",
            "300 repositórios filtrados\n",
            "350 repositórios filtrados\n",
            "400 repositórios filtrados\n",
            "450 repositórios filtrados\n",
            "500 repositórios filtrados\n",
            "550 repositórios filtrados\n",
            "600 repositórios filtrados\n",
            "650 repositórios filtrados\n",
            "700 repositórios filtrados\n",
            "750 repositórios filtrados\n",
            "800 repositórios filtrados\n",
            "850 repositórios filtrados\n",
            "900 repositórios filtrados\n",
            "950 repositórios filtrados\n",
            "1000 repositórios filtrados\n",
            "1020 repositórios filtrados\n",
            "917 [['angular/angular', 427743, 85478, 570], ['hoppscotch/hoppscotch', 62594, 48904, 247], ['freeCodeCamp/devdocs', 30417, 30402, 44], ['GoogleChrome/lighthouse', 188192, 25745, 154], ['quasarframework/quasar', 256095, 22564, 280], ['qier222/YesPlayMusic', 32683, 20283, 71], ['RobinLinus/snapdrop', 3551, 14118, 45], ['vuestorefront/vue-storefront', 91316, 10198, 217], ['Lissy93/dashy', 315626, 8586, 120], ['alibaba/rax', 20924, 7837, 474], ['maxence-charriere/go-app', 210777, 6718, 23], ['andreasbm/web-skills', 122455, 6290, 6], ['TalAter/UpUp', 30382, 4845, 535], ['angus-c/just', 23001, 4731, 901], ['preactjs/preact-cli', 8135, 4624, 145], ['NekR/offline-plugin', 1181, 4494, 18], ['assemble/assemble', 13050, 4125, 71], ['hemanth/awesome-pwa', 483, 4084, 2], ['pipipi-pikachu/PPTist', 131248, 3634, 1574], ['alienzhou/frontend-tech-list', 32, 3474, 2], ['webhintio/hint', 75101, 3443, 2055], ['cotes2020/jekyll-theme-chirpy', 3473, 3278, 26], ['vuejs-templates/pwa', 174, 3026, 1], ['shadowwalker/next-pwa', 1309, 2663, 525], ['vuesion/vuesion', 15560, 2634, 2840], ['Atyantik/react-pwa', 17154, 2506, 1277], ['TarikHuber/react-most-wanted', 38764, 2264, 7575], ['GoogleChromeLabs/lighthousebot', 319, 2247, 12], ['elegantapp/pwa-asset-generator', 33186, 2236, 984], ['samuelmaddock/metastream', 72190, 2170, 99], ['padloc/padloc', 49721, 2053, 5562], ['cezerin/cezerin', 20163, 2006, 1132], ['vuestorefront/storefront-ui', 46757, 1962, 116], ['AdaptiveConsulting/ReactiveTraderCloud', 540770, 1733, 2660], ['vite-pwa/vite-plugin-pwa', 2985, 1656, 161], ['pwa-builder/PWABuilder', 151493, 1568, 7041], ['FoxUSA/OpenNote', 8960, 1560, 741], ['generativefm/generative.fm', 497212, 1559, 1136], ['le0pard/pgtune', 73691, 1552, 74], ['deckgo/deckdeckgo', 36644, 1535, 5294], ['kefranabg/bento-starter', 971, 1531, 1538], ['hanford/next-offline', 2262, 1518, 425], ['Vagr9K/gatsby-advanced-starter', 55095, 1504, 3011], ['codenameone/CodenameOne', 222714, 1376, 182], ['skidding/flatris', 20296, 1345, 57], ['Atri-Labs/atrilabs-engine', 30465, 1343, 622], ['nuxt-community/legacy-modules', 1540, 1299, 16], ['snorpey/jpg-glitch', 985, 1173, 8], ['nuxt-community/pwa-module', 5470, 1156, 31], ['maciejtreder/ng-toolkit', 7106, 1127, 1489], ['GoogleChromeLabs/pwacompat', 431, 1107, 3], ['filips123/PWAsForFirefox', 1355, 1092, 67], ['tr1s/tris-webpack-boilerplate', 19918, 1037, 1182], ['code-kotis/qr-code-scanner', 2357, 1034, 19], ['uasoft-indonesia/badaso', 5329, 1008, 156], ['gdg-x/hoverboard', 288867, 995, 1962], ['nuxt/hackernews', 1488, 992, 5], ['magento/pwa-studio', 661163, 977, 1739], ['developit/preact-boilerplate', 433, 965, 51], ['nolanlawson/pinafore', 150874, 952, 85], ['Metnew/suicrux', 8738, 945, 1489], ['rgab1508/PixelCraft', 887, 925, 12], ['aermin/ghChat', 56601, 909, 1939], ['gokulkrishh/demo-progressive-web-app', 1746, 880, 6], ['nicejade/nice-front-end-tutorial', 6184, 875, 4], ['flawiddsouza/Restfox', 5016, 843, 1381], ['reuixiy/hugo-theme-meme', 9505, 819, 3], ['pwa-builder/pwa-starter', 20986, 805, 369], ['itswadesh/svelte-commerce', 12265, 796, 45], ['bangle-io/bangle-io', 1040170, 786, 783], ['saleor/saleor-storefront', 21704, 775, 3211], ['ayastreb/money-tracker', 2405, 763, 1278], ['awes-io/awes-io', 319, 749, 33], ['xiaomuzhu/vue-ts-daily', 3113, 742, 49], ['mckeever02/mailtolink', 3502, 732, 987], ['gs-shop/vue-slick-carousel', 8588, 728, 1402], ['storefront-foundation/react-storefront', 16358, 709, 2161], ['4gray/iptvnator', 24787, 703, 1861], ['KnicKnic/WASM-ImageMagick', 2656, 693, 1519], ['bstavroulakis/vue-wordpress-pwa', 1342, 689, 976], ['koca/vue-prism-editor', 1781, 670, 31], ['pldubouilh/gossa', 7120, 653, 12], ['ionic-team/ionic-pwa-toolkit', 613, 634, 6], ['fabe/gatsby-universal', 5424, 621, 42], ['avatsaev/angular-contacts-app-example', 1026, 604, 1038], ['ikismail/Angular-ShoppingCart', 8158, 584, 1362], ['HenrikJoreteg/redux-bundler', 1589, 582, 544], ['harryho/vue-crm', 2145, 568, 1204], ['GoogleChromeLabs/pwa-wp', 13021, 559, 1716], ['scriptype/sorted-colors', 7372, 558, 993], ['jrainlau/markcook', 22908, 550, 20], ['vchaptsev/cookiecutter-django-vue', 435, 549, 50], ['mixcore/mix.core', 840349, 545, 524], ['mrsimonfletcher/react-progressive-web-app', 668, 544, 41], ['gillkyle/sol-journal', 1482, 517, 339], ['arthurbergmz/webpack-pwa-manifest', 1508, 508, 539], ['snuffyDev/Beatbump', 89336, 505, 591], ['maxence-charriere/lofimusic', 105614, 476, 10], ['hanford/trends', 6349, 473, 31], ['nicejade/vue-boilerplate-template', 5174, 469, 1132], ['DSchau/gatsby-mail', 4335, 462, 33], ['dot-cafe/beam.cafe', 3963, 437, 1140], ['Merkie/freespeech', 57107, 436, 33], ['devrsi0n/React-2048-game', 9287, 430, 71], ['ganatan/angular-app', 36132, 423, 129], ['rock-solid/pwa-theme-woocommerce', 268, 421, 28], ['getify/youperiod.app', 133, 417, 4], ['AiursoftWeb/Kahla.App', 11614, 400, 1363], ['lukeed/preact-starter', 698, 386, 24], ['vfeskov/gitpunch', 20401, 377, 3090], ['vuefront/vuefront', 14511, 375, 85], ['Tommertom/svelte-ionic-app', 33732, 373, 507], ['CreateThrive/react-firebase-admin', 4405, 368, 1842], ['bitfoundation/bitplatform', 43303, 363, 652], ['vaadin/expense-manager-demo', 64927, 358, 1477], ['whilelucky/pwa', 196, 353, 66], ['SuperPWA/Super-Progressive-Web-Apps', 1059, 347, 3], ['beercss/beercss', 7566, 345, 20], ['justinribeiro/speedometer-pwa', 55, 343, 2], ['chr15m/slingcode', 1317, 341, 18], ['dufu1991/simple-cloud-music', 1354, 341, 26], ['yandeu/phaser-project-template', 1951, 338, 711], ['filrak/vue-offline', 780, 338, 684], ['RinteRface/shinyMobile', 36985, 335, 11], ['maxwellito/minimator', 347, 334, 6], ['mvllow/next-pwa-template', 3326, 329, 595], ['GoogleChromeLabs/react-shrine', 5336, 327, 1270], ['vuestorefront/shopware-pwa', 36363, 319, 189], ['jakejarvis/lighthouse-action', 1018, 318, 2], ['nuxt-community/nuxt7', 2589, 316, 19], ['mizchi/next-editor', 4164, 312, 109], ['vue-land/create-vue-app', 276, 309, 8], ['pacexy/flow', 4489, 307, 1428], ['FoxUSA/StoreDown', 2539, 304, 1636], ['stefanfrede/11st-starter-kit', 5852, 303, 977], ['twreporter/twreporter-react', 171843, 301, 77], ['ManuCutillas/ngx-responsive', 2404, 298, 60], ['HybridShivam/pokedex-angular-app', 59109, 292, 1410], ['staart/ui', 24450, 289, 913], ['deanhume/progressive-web-apps-book', 360, 287, 5], ['hiroppy/ssr-sample', 6864, 285, 2610], ['innFactory/create-react-app-material-typescript-redux', 2397, 284, 1290], ['maxwellito/breaklock', 1760, 275, 501], ['mike-works/pwa-fundamentals', 32368, 267, 57], ['ncarlier/readflow', 9875, 267, 2944], ['suren-atoyan/react-pwa', 2331, 263, 696], ['aofdev/vue-firebase-auth-vuex', 334, 262, 51], ['srhise/nuxt-wordpress-pwa', 533, 259, 15], ['cristianbote/hnpwa-vanilla', 1575, 259, 637], ['coryrylan/ng-pokedex', 4694, 258, 951], ['morkro/happy-plants', 26647, 246, 7227], ['narendrashetty/uber-mobile-web', 2124, 246, 52], ['Adamant-im/adamant-im', 9553, 246, 83], ['14nrv/buefy-shop', 1222, 246, 46], ['ShivamJoker/Ylight-Music', 2562, 243, 24], ['dhruv-kumar-jha/productivity-frontend', 6699, 243, 38], ['jfbrennan/m-', 3423, 239, 496], ['DockYard/ember-service-worker', 1679, 239, 844], ['Minishlink/pwa-qr-code-scanner', 169, 232, 8], ['proyecto26/animatable-component', 1976, 231, 757], ['MananTank/cybertype', 4000, 230, 766], ['GatsbyStorefront/gatsby-theme-storefront-shopify', 217, 228, 57], ['GoogleChromeLabs/sample-pie-shop', 2676, 226, 1015], ['schollz/offlinenotepad', 652, 226, 8], ['akirarika/creamdb', 2957, 219, 838], ['daquinoaldo/https-localhost', 680, 218, 432], ['Minishlink/web-push-php-example', 51, 215, 1], ['adriancarriger/angularfire2-offline', 12893, 207, 101], ['alienzhou/learning-pwa', 113, 205, 12], ['ShafSpecs/remix-pwa', 2083, 204, 841], ['shmuelhizmi/web-desktop-environment', 42760, 203, 1459], ['latsic/imgalign', 238865, 202, 1000], ['maxpou/gatsby-starter-morning-dew', 15986, 201, 228], ['Rajatm544/MERN-Blog-App', 3963, 196, 1434], ['kosmigramma/appleshouter', 60, 196, 190], ['tretapey/svelte-pwa', 249, 192, 92], ['davidgaroro/vuetify-todo-pwa', 622, 188, 980], ['andrewcourtice/ocula', 2611, 188, 74], ['Hanziness/AnotherPomodoro', 4515, 187, 38], ['loginov-rocks/Web-Bluetooth-Terminal', 2675, 186, 421], ['rodneylab/sveltekit-blog-mdx', 3297, 185, 35], ['sandoche/Jekyll-webpack-boilerplate', 1634, 185, 44], ['pwafire/pwafire', 25171, 181, 493], ['JerryC8080/GlacierJS', 96887, 181, 68], ['NullVoxPopuli/emberclear', 20500, 180, 612], ['hyundotio/magicpad', 69995, 179, 8], ['torch2424/made-with-webassembly', 4649, 178, 1473], ['gokulkrishh/qrcodescan.in', 3222, 174, 507], ['paulhoughton/remember', 923, 173, 29], ['tomsoderlund/nextjs-pwa-firebase-boilerplate', 1327, 172, 9], ['angular-university/angular-pwa-course', 3039, 172, 1140], ['Just-Moh-it/Mockoops', 8975, 172, 34], ['seydx/camera.ui', 56525, 171, 2445], ['moigonzalez/pwa-barcode-scanner', 18240, 170, 985], ['rherwig/template-react-ssr', 2851, 168, 965], ['alexkehayias/woz', 3776, 167, 31], ['graphcommerce-org/graphcommerce', 130506, 167, 686], ['manekinekko/angular-search-experience', 6460, 165, 1367], ['webmaxru/pwatter', 3484, 164, 952], ['nicejade/awesome-vue-cli3-example', 3559, 164, 36], ['iondrimba/react-weather-app', 12923, 164, 1583], ['KeJunMao/jekyll-theme-mdui', 4123, 162, 12], ['jcalixte/vue-pwa-asset-generator', 3037, 159, 10], ['Flowm/satvis', 1204, 159, 48], ['genie-team/graphql-genie', 6536, 159, 5158], ['koddr/a2hs.js', 2390, 158, 573], ['SalesforceCommerceCloud/pwa-kit', 118657, 158, 7041], ['ademilter/prayer-times', 3873, 158, 24], ['IBM/pwa-lit-template', 7478, 157, 39], ['aman-atg/react-product-card', 23084, 156, 1474], ['manolo/gwt-polymer-elements', 53532, 154, 8], ['SimplQ/simplQ-frontend', 7354, 153, 56], ['vuestorefront/vsf-capybara', 8882, 152, 17], ['onch-at/onchat-web', 7944, 151, 1288], ['johman10/flood-for-transmission', 2535, 151, 611], ['yandeu/phaser-project-template-es6', 2728, 150, 899], ['SafdarJamal/quiz-app', 8915, 150, 1917], ['jekuer/php-microsite-boilerplate', 1308, 149, 284], ['google/service-worker-detector', 3505, 148, 357], ['madneal/subway-shanghai', 4199, 144, 1170], ['microsoft/30daysof', 49753, 144, 1051], ['rl-king/elm-hnpwa', 899, 142, 399], ['aganglada/preact-minimal', 1752, 142, 17], ['NotWoods/maskable', 2208, 142, 522], ['san650/ember-web-app', 1054, 141, 31], ['jonhue/pwa', 162, 139, 6], ['jakubito/spotify-release-list', 4357, 139, 44], ['nicejade/nicelinks-vue-client', 2901, 138, 87], ['intershop/intershop-pwa', 35275, 137, 2025], ['davidgaroro/vuetify-swipeout', 832, 136, 1027], ['ThaUnknown/pwa-haven', 54872, 136, 33], ['Aerolab/nextjs-pwa', 97, 135, 668], ['Bertrand31/Monitaure', 46403, 134, 53], ['ali-master/pwa-badge', 1080, 135, 661], ['lavas-project/hexo-pwa', 36, 134, 1], ['Tomburgs/pwa-boilerplate', 3284, 134, 36], ['graycoreio/daffodil', 42257, 134, 2453], ['DivanteLtd/storefront-integration-sdk', 8557, 136, 56], ['ramiz-rahman/sort-visualizer', 4341, 132, 4], ['mikestead/lighthouse-batch', 252, 132, 3], ['tomsoderlund/nextjs-pwa-graphql-sql-boilerplate', 1302, 132, 26], ['laqul/laqul', 1382, 131, 52], ['alexgibson/wavepad', 673, 131, 15], ['nuxt-community/pwa-template', 87, 129, 9], ['aaron5670/aaronvandenberg.nl', 3646, 129, 1609], ['iondrimba/pwa-music-player', 4098, 127, 1737], ['andreasbm/lit-translate', 10643, 127, 1019], ['sandoche/Detoxify-app', 65001, 127, 525], ['OrangeXC/gank', 3928, 127, 25], ['universal-vue/uvue', 3146, 127, 139], ['umluizlima/flask-pwa', 143, 126, 7], ['Fyerl/vue-awesome-picker', 1583, 125, 975], ['GoogleChromeLabs/sample-currency-converter', 1333, 127, 867], ['brunocodutra/webapp-webpack-plugin', 13809, 123, 904], ['wednesday-solutions/react-template', 38620, 121, 151], ['maslick/koder', 3844, 119, 28], ['oliviertassinari/browser-metrics', 247, 119, 17], ['runbox/runbox7', 7979, 119, 1518], ['ionicthemes/ionic-pwa', 3227, 117, 1133], ['vendure-ecommerce/storefront-angular-starter', 3710, 116, 84], ['shellyln/kanban-board-app', 5245, 115, 1403], ['Gingernaut/Peridot', 9989, 114, 26], ['Lt0/sysmon', 4009, 113, 952], ['vuefront/wordpress', 11372, 111, 87], ['JP1016/Markdown-Electron', 1375, 110, 57], ['abhinaba-ghosh/playwright-lighthouse', 130, 110, 248], ['JimmyVV/PWA-cookbook', 60, 109, 57], ['commudle/commudle-ng', 92879, 109, 1779], ['JP1016/Paper', 1583, 108, 924], ['localnerve/react-pwa-reference', 5364, 108, 1596], ['google/amp-pwa-demo', 62, 107, 5], ['FrontendMasters/service-workers-offline', 69, 106, 4], ['ThymeApp/thyme', 6339, 105, 1419], ['GoogleChromeLabs/rowing-monitor', 1719, 105, 793], ['ademilter/next-template', 1427, 104, 11], ['ssshooter/nippon-color', 5787, 104, 1044], ['microsoft/win-student-devs', 46638, 104, 2], ['ionic-team/ionic-stencil-hn-app', 8119, 103, 566], ['andreasbm/router-slot', 1088, 103, 1067], ['scandipwa/magento-docker', 3753, 103, 3], ['GrabarzUndPartner/gp-vue-boilerplate', 349883, 103, 1752], ['nyancodeid/iro', 1556, 102, 420], ['avatsaev/kawachat2-client', 797, 102, 40], ['cklwblove/vue-element-admin-ts', 3284, 102, 1207], ['ismaelgt/english-accents-map', 1718, 102, 1176], ['gil--/gatsby-starter-shopifypwa', 721, 101, 1378], ['qlova/seed', 5560, 101, 41], ['sorcererxw/iloveworks', 6466, 101, 1319], ['Hunlongyu/ReadMe', 100461, 99, 49], ['HarshKapadia2/git_basics', 7270, 99, 2], ['thelittlewonder/hush', 1132, 99, 854], ['lunchclass/absolute', 26922, 99, 28], ['alexandrunastase/json-formatter-live', 1440, 99, 491], ['vueneue/vueneue', 1144, 98, 77], ['whoisryosuke/ryosuke-gatsby-blog', 446875, 98, 2056], ['lukeed/colors-app', 447, 96, 23], ['cloudfour/pwastats', 5189, 95, 1046], ['itswadesh/foodfire', 3579, 94, 24], ['unjs/redirect-ssl', 228, 94, 16], ['fede-rodes/meteor-apollo-starter-kit', 2868, 93, 1181], ['aofdev/vue-pwa-speech', 54, 93, 40], ['vaneenige/offline-gallery', 88, 92, 22], ['xtools-at/Electron-PWA-Wrapper', 1683, 91, 2], ['m2sd/nuxt-laravel', 3584, 91, 38], ['EreckGordon/angular-universal-pwa-starter', 1034, 91, 85], ['mutebg/pwa-weather', 238, 93, 26], ['christianliebel/paint', 22328, 88, 1211], ['PierfrancescoSoffritti/pierfrancescosoffritti.com', 18313, 88, 1358], ['BerndWessels/preact-redux-isomorphic', 1404, 87, 47], ['Glue42/core', 54357, 85, 22629], ['bagisto/laravel-pwa', 67362, 84, 20], ['F-loat/caption2text', 3325, 84, 25], ['cocopon/llumino-pwa', 2038, 81, 787], ['cloudflare/workers-react-pwa-example', 363, 81, 13], ['Zack-Bee/hdtv', 1547, 81, 866], ['framework7io/framework7-appstore-react', 124600, 80, 1066], ['ovanta/vue-cloudfront', 2084, 79, 1151], ['vuefront/prestashop', 12713, 78, 87], ['gmatthewsfeuer/next-plate', 6950, 78, 47], ['OsmTravel/OsmGo', 269564, 78, 85], ['kiwix/kiwix-js-windows', 3579107, 78, 15], ['garage44/ca11', 8877, 77, 59], ['agateblue/tempo', 6535, 76, 44], ['meanbee/magento-meanbee-pwa', 12, 75, 1], ['pmdartus/rcast', 38864, 75, 18], ['deanhume/beer', 102789, 74, 556], ['dorianim/money-balancer', 1611, 74, 69], ['fspoettel/blaupause', 11481, 72, 1250], ['stylesuxx/esc-configurator', 4337, 72, 60], ['AminAliH47/PicoSchool', 2734, 72, 1], ['cyyyu/parcel-plugin-sw-precache', 102, 71, 146], ['forgepwa/the_forge', 42788, 71, 1617], ['lukechilds/onionite', 563, 71, 607], ['dd3v/snippets.ninja', 2769, 70, 1438], ['jasonujmaalvis/vue-movies', 695, 70, 20], ['MacKentoch/react-redux-nextjs-bootstrap-pwa-starter', 5103, 70, 89], ['jefrydco/nuxt-pwa-vuetify-starter', 3185, 69, 31], ['kwrush/react-2048', 2640, 69, 634], ['Gatsbylius/Gatsbylius', 3536, 68, 534], ['justinribeiro/pwa-firebase-functions-botrender', 143, 68, 372], ['frysztak/orpington-news', 7250, 68, 217], ['xpioneer/react-typescript', 4660, 68, 53], ['IronKinoko/e-hentai-view', 1363, 68, 66], ['yomete/pushercoins', 237, 67, 912], ['Bellisario/node-snapdrop', 1458, 67, 70], ['AdamBien/bce.design', 185, 67, 37], ['mantou132/mt-music-player', 5558, 67, 34], ['snipcart/gatsby-pwa-demo', 6442, 68, 1521], ['GoogleChromeLabs/affilicats', 3096, 66, 972], ['msaaddev/create-next-pwa', 93803, 66, 19], ['milooy/react-django-pwa-kit', 16006, 66, 51], ['peterpeterparker/web-social-share', 1143, 66, 28], ['wagerfield/nuxt-stack', 8759, 66, 83], ['ganatan/angular-react-seo', 30477, 66, 2113], ['arcomage/arcomage-hd', 61769, 66, 68], ['lincenying/mmf-blog-vue2-pwa-ssr', 3725, 65, 41], ['aofdev/vue-speech-streaming', 52, 65, 43], ['raucao/webmarks', 5910, 65, 1513], ['SokichiFujita/starter-react-flux', 5643, 65, 16], ['10secondsofcode/coding-ai', 1567, 65, 11], ['nwtgck/nipp', 48010, 64, 1261], ['Pushedskydiver/Colour-Contrast-Checker', 3168, 64, 1211], ['matthijsgroen/geppetto', 65596, 64, 69], ['themgoncalves/react-adventure', 6973, 66, 84], ['iondrimba/react-calculator', 16107, 64, 2116], ['jiahaog/jiahao.codes', 42825, 63, 1656], ['dtinth/WebMIDICon', 7143, 63, 34], ['zoff-music/zoff', 16857, 63, 587], ['SamsungInternet/snapwat', 4959, 62, 12], ['vuefront/opencart', 19955, 62, 86], ['persianturtle/rescript-react-boilerplate', 4755, 61, 182], ['jeremyckahn/farmhand', 21284, 62, 2656], ['cahyofendhi/Flutter-Cinema', 506112, 62, 23], ['Wellenline/auddly', 48710, 62, 39], ['igorski/bitmappery', 2510, 61, 1526], ['ruisaraiva19/favycon', 12226, 61, 101], ['RetroAstro/yinyue', 3004, 60, 4], ['aswara/Admin-eCommerce-ReactJS', 796, 60, 14], ['ansezz/laravel-vuejs.com', 37558, 60, 2132], ['OrangeXC/udao', 4240, 59, 44], ['lybekk/offPIM', 11182, 59, 58], ['szafran89/nuxt-blog', 1218, 59, 15], ['vaneenige/periodic-weather', 300, 58, 29], ['bikedeboa/bikedeboa', 60081, 58, 1121], ['as-ideas/add-to-homescreen-react', 6279, 58, 789], ['Specy/genshin-music', 46443, 57, 72], ['smastrom/headless-gatsby-multilang', 412, 57, 27], ['aromalanil/WhatSend', 1158, 57, 1275], ['ttu/lego-boost-app', 3513, 56, 1238], ['mbaxszy7/pika-music', 15861, 56, 1172], ['sokhuong-uon/discord-clone-old', 2524, 56, 1358], ['iotaledger/spark-wallet', 5193, 56, 71], ['minht11/local-music-pwa', 1730, 56, 422], ['SAP-samples/openui5-pwa-sample', 169, 55, 1], ['Codebrahma/gatsby-ecommerce-pwa', 7686, 54, 1632], ['elegantapp/pwa-workshop-angular-firebase', 17001, 54, 26], ['TheDevPath/Navi', 3265, 54, 1651], ['ZJU-CC98/CC98-PWA', 7484, 54, 1063], ['theanam/pushkit', 393, 55, 6], ['tomayac/fugu-greetings', 6174, 52, 11], ['sebholstein/angular-hacker-news', 541, 52, 25], ['halebopp/vue-pomo', 170, 52, 73], ['yelabbassi/cinedantan', 7844, 52, 23], ['YogeshPrasanna/expense-manager-react', 52953, 52, 1096], ['justinribeiro/blog-pwa', 19711, 51, 47], ['ganatan/angular-react-pwa', 30106, 51, 2105], ['meanbee/magento2-serviceworker', 130, 51, 8], ['nothingismagick/quasar-starter-ssr-pwa-jest-cypress', 2273, 51, 86], ['tutorbookapp/tutorbook', 1025013, 51, 1233], ['anita-app/anita', 21830, 51, 700], ['atomicptr/dauntless-builder', 53637, 51, 71], ['NoelDeMartin/media-kraken', 5146, 51, 2127], ['jkga/me', 407, 51, 8], ['bfmatei/stencil-boilerplate', 1093, 51, 783], ['mkungla/webxr-webpack-boilerplate', 4655, 50, 33], ['john-doherty/mixpanel-lite', 419, 50, 619], ['NoelDeMartin/solid-focus', 3330, 50, 38], ['0918nobita/Tsundoku', 5122, 50, 86], ['segunolalive/helloBooks', 2404, 50, 1275], ['imranhsayed/next-js-app', 118, 50, 88], ['ecomplus/storefront-starter', 18574, 50, 2001], ['jefrydco/nuxt-pwa-vuetify-firebase-ssr', 4923, 50, 1047], ['amahdy/java-pwa', 2324, 49, 13], ['mjzhang1993/react-router4-template', 3232, 49, 81], ['fengerzh/fengerzh.github.io', 1543, 49, 20], ['mayneyao/phos', 2115, 49, 10], ['voorhoede/nuxt-twa-module', 989, 48, 1084], ['memeLab/Jandig', 91117, 48, 35], ['bitflower/stencil-lerna', 14235, 48, 886], ['vinicius73/vue-pokemon-memory-game', 8799, 48, 29], ['nyancodeid/insta-share', 489, 48, 336], ['Lukazovic/nextjs-with-chakra-ui-boilerplate', 295, 47, 39], ['KhalisFoundation/sttm-web', 33779, 47, 1586], ['inshopgroup/inshop-crm-client', 6002, 47, 30], ['VanishMax/Modern-Web-App', 498, 46, 26], ['iondrimba/marvel-api-explorer', 20595, 46, 1461], ['mvximenko/youdo', 3473, 46, 1300], ['gawlk/svind', 7056, 45, 23], ['david-szabo97/github-guesser', 316, 45, 12], ['TheNightmareX/reply', 1962, 45, 1027], ['itsalb3rt/sheiley-shop-app', 5581, 45, 45], ['GatsbyStorefront/gatsby-starter-storefront-shopify', 2188, 45, 5], ['htdangkhoa/react-ssr-starter', 2369, 45, 81], ['fluid-notion/fluid-outliner', 15149, 45, 116], ['DivanteLtd/spartacus-capybara', 4420, 45, 53], ['azu/hatebupwa', 656, 45, 44], ['hubblecommerce/hubble-frontend-pwa', 7438, 44, 34], ['robinglen/lighthouse-cron', 71, 44, 539], ['vinicius73/gravatar-url-generator', 2961, 44, 27], ['CrowdStrike/ember-browser-services', 2205, 44, 123], ['tgambet/musicsource', 4037, 44, 2], ['K0IN/Notify', 4249, 44, 2270], ['fpapado/ephemeralnotes', 4879, 44, 869], ['jabardigitalservice/pikobar-jabarprov-go-id', 33745, 44, 1936], ['saurabhdaware/pwainit', 731, 44, 208], ['sylvainpolletvillard/pwa-workshop', 2794, 43, 931], ['gurov/stupid-rss-reader', 7819, 43, 854], ['mrcotter/crypto-market', 2203, 43, 1313], ['PragatiVerma18/Snippet-Share', 4430, 43, 5], ['llopisdon/skies-adsb', 29456, 43, 399], ['elasticpath/react-pwa-reference-storefront', 59976, 43, 3027], ['quasarframework/quasar-template-pwa', 489, 42, 53], ['lmiguelm/portfolio', 14158, 42, 250], ['based-ghost/vue-seo-friendly-spa-template', 33184, 42, 1129], ['usm4n/cycle-hn', 617, 42, 917], ['r3nanp/flappy-bird', 2698, 42, 2], ['Quinten/black-hole-square', 607, 42, 487], ['ionicthemes/ionic-navigation-and-routing', 2587, 42, 868], ['floysh/DCC-green-pass-decoder', 1932, 42, 28], ['navneetsharmaui/discover-twitter-spaces', 23220, 42, 53], ['ionic-team/create-stencil', 2756, 42, 609], ['nico-martin/todo-pwa', 3661, 41, 102], ['vinitshahdeo/ProgressiveNewsApp', 596, 41, 75], ['rossmc/how-to-venia', 7017, 41, 75], ['DaxChen/vue-firebase-starter', 295, 41, 83], ['pedrocoutinhosilva/shiny.pwa', 469, 41, 2], ['sandoche/Surfable-app', 160392, 41, 634], ['catchspider2002/periodic-table.io', 299563, 41, 296], ['forabi/WebCeph', 20943, 41, 136], ['asadsahi/vuenode-fullstack', 802, 41, 84], ['HorusGoul/atom-pwa', 16792, 40, 95], ['vuestorefront/ecommerce-integration-boilerplate', 6067, 40, 86], ['gauravsaini03-zz/ionic3-ecommerce-app', 2451, 40, 33], ['quasarframeworkbrasil/skeleton-quasar', 29287, 40, 24], ['codi-hacks/weather-station', 3774, 40, 52], ['ygoex/yetty', 5589, 40, 31], ['lvzhenbang/webpack-play', 19294, 41, 748], ['HarkerDev/harker-bell', 8672, 40, 1280], ['sarmadsangi/offline-kanban', 46, 40, 58], ['nicejade/docker-vue-node-nginx-mongodb-redis', 989, 40, 62], ['vnglst/finding-nora', 7440, 40, 39], ['thepassle/reddit-pwa', 5361, 40, 338], ['rizalibnu/react-pwa-wwwid', 5394, 39, 32], ['asc-lab/claim-reporter-pwa-poc', 1858, 39, 1065], ['alexnoz/vanilla-wc-hnpwa', 235, 39, 50], ['azu/service-worker-updatefound-refresh-dialog', 232, 39, 8], ['puku0x/angular-pwa-sample', 3235, 39, 1091], ['opaulochaves/react-pwa-webpack-starter', 308, 39, 32], ['kasparsd/sensor-pilot', 1123, 39, 892], ['m1guelpf/send-to-things', 299, 39, 22], ['JokeNetwork/vegancheck.me', 111391, 39, 13], ['thepassle/pwa-helpers', 1126, 38, 797], ['m4r1vs/mnged', 1593, 38, 258], ['kkoscielniak/react-add-to-homescreen', 2807, 38, 41], ['moonou/zhihu-daily-vue', 1167, 38, 66], ['aofdev/vue-pwa-rekognition', 16068, 38, 41], ['aofdev/vue-pwa-vision', 102, 39, 40], ['cleverfranke/cf-kyt-starter-universal-redux', 273, 38, 32], ['ambianic/ambianic-ui', 42998, 38, 2532], ['code-kotis/pwa-codelabs', 4861, 37, 7], ['lowerbarriers/finished-starter', 35895, 37, 27], ['terichadbourne/offline-first-project-manager', 39080, 37, 1], ['wooorm/dictionary', 166, 37, 19], ['Esri/nearby-javascript', 1320, 37, 58], ['safeapps-io/money-client', 2001, 37, 34], ['Explosion-Scratch/OnDrop', 1129, 37, 94], ['lucasm/findto', 1062, 37, 186], ['leegeunhyeok/resume', 24557, 37, 23], ['lvzhenbang/webpack4.x-multi-page', 44000, 37, 31], ['Rocketseat/rocketpwa', 523, 37, 222], ['shindesharad71/Anstagram', 13427, 37, 882], ['zonkyio/ember-web-app', 32513, 37, 62], ['RocketChat/Rocket.Chat.PWA.React', 1175, 36, 997], ['superpikar/onsenui-vue-router-pwa', 543, 36, 70], ['lucasrmagalhaes/covid19-react', 6324, 36, 11], ['sonic16x/interslavic', 48858, 36, 1249], ['fpapado/ephemeral', 576, 35, 849], ['khmyznikov/pwa-install', 1465, 35, 27], ['BrianRuizy/gatsby-minimal-portfolio', 170361, 35, 1675], ['ffalt/mah', 46642, 35, 1452], ['chromeos/create-vite-pwa', 101, 34, 256], ['Naramsim/Colosseum', 29358, 34, 767], ['pierresaid/vue-pwa-camera', 293, 34, 1019], ['vitaliy-bobrov/pacman-pwa', 2010, 34, 19], ['mizchi/next-pwa-boilerplate', 87, 34, 16], ['toxic-johann/is-pwa-ready', 6255, 34, 41], ['jpodwys/preact-journal', 2437, 34, 1334], ['vuefront/magento', 8459, 34, 90], ['Asatelit/pwa-pos-terminal', 35117, 34, 39], ['solrachix/podcastr', 6547, 34, 34], ['MacKentoch/react-redux-nextjs-material-ui-pwa-starter', 697, 33, 60], ['smakosh/gatsby-starter-i18n', 3375, 35, 24], ['Tom-Julux/shared-zustand', 20, 34, 4], ['catdad-experiments/heic-app', 159, 34, 176], ['wasedatime/wasedatime-web', 91022, 34, 337], ['chromeos/pwa-play-billing', 3815, 34, 1527], ['alumna/alumna', 1735, 33, 575], ['based-ghost/react-seo-friendly-spa-template', 30045, 33, 40], ['matronator/GlobalCollapse', 41990, 33, 79], ['R1dwanMaulana/quran-id.me', 4086, 33, 11], ['patrickmonteiro/quasar-warren', 2009, 33, 17], ['KeJunMao/vdraw', 1697, 36, 28], ['martins-rafael/rafaelmartins.dev', 2376, 33, 32], ['mvllow/tailwindcss-safe-area', 35, 33, 13], ['srph/careflix', 6898, 33, 804], ['ScerIO/phar.scer.io', 1792, 32, 38], ['carlosqsilva/YASCC', 6688, 32, 902], ['vnglst/peter-and-the-wolf', 201857, 32, 68], ['TYPO3-Headless/pwa-demo', 9894, 32, 29], ['gifaldyazkaa/aqua-fanpage', 1988, 32, 24], ['Lazzzer/Moviepark', 25599, 32, 597], ['AbhishekCode/word-tetris', 6555, 32, 10], ['danarrib/BulletGCSS', 24018, 32, 2], ['Aam-Digital/ndb-core', 41573, 32, 2124], ['m4r1vs/slidecontrol', 23035, 32, 356], ['JayantGoel001/JayantGoel001.github.io', 248077, 32, 855], ['code-by-sia/OpenWebSheet', 6517, 32, 1164], ['retire-run/retire.run', 334, 32, 631], ['mikhael28/paretOS', 42244, 31, 109], ['eshaan7/RenameThemSubs', 10911, 31, 14], ['itissandeep98/TimeTableManager', 21640, 31, 1743], ['oussamatn/radio-player', 1463, 31, 19], ['csbun/workbox-examples', 222, 31, 11], ['shareup/pwa-resources', 651, 30, 24], ['bengarrett/DOSee', 18085, 30, 19], ['jul-sh/archive-jul.sh', 41238, 31, 2029], ['CharlBest/nean-stack-starter', 8004, 30, 1548], ['2brew/2brew.github.io', 1223, 30, 95], ['JimmyVV/web-pwa', 12, 31, 1], ['brapifra/readhnlater-pwa', 4232, 29, 633], ['carlosrojaso/appress-book-pwa', 1250, 29, 1023], ['benji6/moodtracker', 10304, 29, 788], ['eddedd88/react-firebase-template', 1017, 29, 31], ['onfe/Picto', 28726, 29, 871], ['AnishDe12020/devkit', 2082, 29, 46], ['rock-solid/pwa-theme-obliq', 400, 29, 37], ['ChangeWindows/ChangeWindows', 16074, 29, 265], ['Kopano-dev/meet', 5551, 29, 69], ['Lorti/phrasebook', 5461, 29, 19], ['ccwukong/react-cam', 1199, 29, 23], ['tsriram/15puzzle', 642, 29, 541], ['mhadaily/glimmer-hn-pwa', 2038, 28, 1070], ['vite-pwa/sveltekit', 1290, 28, 27], ['ajayns/paper-todo', 168, 28, 8], ['johncalvinroberts/pprmnt', 945, 28, 16], ['flolu/centsideas', 5211, 28, 117], ['Armster15/doblar', 3847, 28, 626], ['ntrix/amazin', 53223, 28, 111], ['carsonsaldanha/screen-recorder', 1787, 28, 805], ['liutian/light-push-admin', 17691, 28, 43], ['chymz/nuxt-starter', 822, 28, 56], ['loomchild/sojourner-web', 9441, 29, 1154], ['zfoo-project/zapp', 46899, 28, 371], ['rodydavis/lit-native', 1196, 28, 299], ['thuongtruong1009/e-shopee', 112591, 28, 62], ['Jaspero/fireshop', 7868, 28, 1924], ['gokulkrishh/anonymous-web', 8308, 28, 11], ['dhananshan/PWA-Asp.NetCore', 721, 27, 346], ['jbdoderlein/BetterOCaml', 302243, 27, 5], ['cosmicjs/vue-garage-sale', 124538, 27, 27], ['Spiderpig86/spottr', 45264, 27, 1317], ['baotlake/deep-reading', 22326, 27, 165], ['sozonome/pub-apis', 2499, 27, 33], ['felipe-jm/nextjs-boilerplate', 10265, 27, 42], ['DingpingZhang/white-raven', 4258, 27, 24], ['unjs/workbox-cdn', 358, 27, 1], ['webdevstar/React-Ecommerce', 4934, 27, 297], ['topaxi/ember-service-worker-update-notify', 809, 27, 27], ['flyerq/minesweeper', 5310, 26, 24], ['bogas04/SikhJS', 63126, 26, 776], ['pankajladhar/speedy-math', 1993, 28, 1021], ['vaneenige/rainbow-explorer', 100, 26, 22], ['maccali/Apod.PWA', 2795, 26, 44], ['houssem-yahiaoui/progressive-web-app-starter-kit', 75, 26, 3], ['Alovoa/alovoa-android', 5934, 26, 2], ['fzn0x/reactplate', 1009, 26, 1107], ['ShenHongFei/dict', 4042, 26, 59], ['osamhack2020/WEB_KookbangFriends_Woowahan', 339062, 26, 40], ['breadsplit/breadsplit', 17425, 26, 3703], ['seejamescode/global-upvote', 2075, 26, 20], ['negrel/nwotable', 4275, 26, 34], ['seanwu1105/ionic-pwa-example-moment', 47020, 26, 1703], ['pmbanugo/shopping-list', 763, 25, 679], ['bergpb/flask-pwa', 207, 25, 27], ['mehmettahameral/Blazor-wasm-pwa-camera', 244, 25, 7], ['quasarframework/quasar-hackernews', 1011, 25, 47], ['lyyourc/blog', 6549, 25, 36], ['Aniket762/playground', 1585, 25, 928], ['foumart/JS.13kGames', 751, 25, 17], ['englishextra/iframe-lightbox', 1228, 25, 20], ['Angular2Guy/AngularPwaMessenger', 3113, 25, 1291], ['michaeldera/edliz', 21875, 25, 1461], ['ovk/clcalc', 863, 25, 724], ['nieheyong/vue-tvideo', 2335, 25, 1162], ['mvysny/vaadin-kotlin-pwa', 2956, 25, 625], ['nanawel/our-shopping-list', 3217, 25, 47], ['jefrydco/nuxt-typescript-pwa-tailwindcss-composition-api', 1615, 25, 46], ['whitetigle/fable-pwa', 3081, 24, 475], ['fallaciousreasoning/progrssive', 9738, 24, 580], ['tmpo-io/tracks', 637, 24, 33], ['Sominemo/Mono-PWA', 14434, 24, 60], ['tbela99/gzip', 5689, 24, 19], ['mkhan004/angular7-series', 273, 24, 935], ['janispritzkau/loopover', 3697, 24, 1002], ['sylvainpolletvillard/pwa-cookbook', 12131, 24, 1250], ['NeuroWhAI/isekaidol-stream-noti', 2438, 24, 44], ['Jinjinov/TheLastTime', 634, 24, 26], ['corejam/corejam', 5560, 24, 212], ['aofdev/vue-input-streaming', 46, 24, 47], ['xiaoping6688/react-spa-project', 67, 24, 67], ['lsquires/open-iota', 2730, 24, 874], ['Mekurun/mekurun.com', 233710, 24, 24], ['eagleoflqj/sympy_beta', 439, 24, 54], ['notangelmario/paquet', 3524, 24, 8], ['takuma-ru/vue-swipe-modal', 2056, 24, 24], ['ceit93/graduation-web', 3111, 24, 20], ['Beats0/Beats0.github.io', 11864, 24, 138], ['davikawasaki/iot-security-vulnerability', 1536, 24, 78], ['jkomoros/boardgame', 9567, 24, 479], ['sandoche/LearningLab-website', 12174, 24, 1396], ['dotmind/react-use-pwa', 156, 23, 54], ['particle-iot/xmastree', 4797, 23, 22], ['ninjinkun/blog-feedback-app', 21464, 24, 87], ['deliciousinsights/goal-tracker', 575, 23, 1321], ['jhonnyrogerb/angular-podcast-app', 535, 23, 53], ['0ql/Coffeetyper-Svelte', 226, 23, 18], ['olafsulich/E-commerce-Plants-Shop', 16153, 23, 29], ['hang-up/buuk', 11846, 23, 977], ['afonsopacifer/react-prpl-boilerplate', 1316, 23, 14], ['alex-saunders/ecmasyntax.io', 34329, 23, 952], ['Alex61NN5/angular-universal-pwa-heroku-starter', 2267, 23, 45], ['miladimos/semicolon', 64653, 23, 41], ['kiel-live/kiel-live', 3373, 23, 92], ['mazipan/vue-wwwid', 1438, 23, 37], ['safeimuslim/push-notifications-next-js', 12, 23, 10], ['gokulkrishh/fuel-price', 108, 22, 25], ['cansin/next-with-workbox', 1180, 22, 652], ['mezoistvan/angular-pwa-starter', 685, 22, 29], ['le0pard/vmail', 121252, 22, 110], ['rehhouari/rapide', 1031, 22, 32], ['SvenEV/Xamzor', 166, 22, 6], ['benji6/meditation-timer', 4654, 22, 7], ['jefrydco/jefrydco', 44161, 22, 94], ['ragingwind/firebase-hackernews', 137, 22, 13], ['qdzungpham/redax-sounds', 20862, 22, 893], ['mateusfg7/Noisekun', 270859, 22, 42], ['tsirlucas/soundplace', 11489, 22, 70], ['Pinqua/Radon', 1885, 22, 27], ['teambtcmap/btcmap.org', 16224, 22, 27], ['marcosvidolin/vue-social-login', 4431, 22, 14], ['rock-solid/wordpress-pwacommerce', 891, 21, 6], ['AbFarid/daegmael', 2003, 21, 41], ['MichaelSolati/pwa.otta.dev', 4360, 21, 1557], ['wKovacs64/pwl', 16006, 21, 1137], ['muniz95/duopettaja', 1954, 21, 196], ['le0pard/webp-wasm', 11321, 21, 76], ['0x00000001A/watosan', 1016, 21, 52], ['hackaru-app/hackaru-web', 9736, 21, 95], ['erickbogarin/ios-homescreen', 9770, 21, 903], ['zubair-io/leto', 329, 21, 86], ['dailydotdev/daily-go', 4153, 21, 19], ['juliafealves/deciframe-pwa', 360, 21, 506], ['spicyboys/drg-completionist', 31258, 21, 50], ['webmaxru/bpm-counter', 5951, 20, 1646], ['LibertarianTeam/ancapsu', 7418, 19, 16], ['appsemble/appsemble', 49206, 20, 559], ['pwafire/pwafireapp', 3774, 20, 795], ['zws-im/website', 5600, 20, 18], ['andrewmmc/wtsapp.ga', 1814, 20, 1535], ['juandc/aerostore', 18557, 20, 20], ['mark-szabo/carwash', 30181, 20, 2426], ['OleksandrYehorov/minesweeper', 6085, 20, 864], ['ikhsanalatsary/next-react-boilerplate', 961, 20, 31], ['kalkih/singlyricly', 13000, 20, 1101], ['simicoder/ecommerce', 916, 20, 28], ['Atyantik/example-pawjs-material-ui', 554, 20, 1001], ['MrMYHuang/cbetar2', 106416, 20, 976], ['Akash1362000/News-Web-App', 12153, 20, 91], ['raucao/sharesome', 6163, 20, 1301], ['cmpct-io/frontend', 3649, 20, 26], ['Uvacoder/abc-ushare-it', 839, 20, 336], ['tecdrop/pwa-display-test', 513, 19, 340], ['RemeJuan/progressive-web-app-starter', 3117, 19, 74], ['Yancey-Blog/blog-desktop-v2', 16374, 19, 85], ['jgw96/Wavex', 8712, 19, 363], ['coryrylan/ng-math', 280, 19, 38], ['operfildoluiz/worthit', 539, 19, 5], ['kirushenski/gatsby-starter-vadyan', 4298, 19, 60], ['coreyauger/tasktick', 24147, 19, 43], ['MohitSojitra/portfolio', 3215, 19, 1513], ['haikelfazzani/vconsole', 2349, 19, 13], ['solrachix/landing-page-template_4', 1384, 19, 20], ['jackbalageru/MERN-CRUD', 598, 19, 1393], ['statsim/app', 6517, 19, 1004], ['meanbee/magento2-webappmanifest', 12, 19, 4], ['0xGG/vscode-pwa', 28095, 19, 30], ['wcadena/gestor-inventarios-it', 72041, 19, 44], ['englishextra/englishextra.github.io', 90319, 19, 431], ['scriptified/scriptified.dev', 17227, 19, 34], ['Pinqua/Zinger', 10101, 19, 27], ['saadpasta/PWA-Olx-Clone', 3262, 18, 448], ['clem109/nextjs-koa-styledcomponents', 50, 18, 9], ['b31ngd3v/aniflix', 6822, 18, 682], ['restuwahyu13/react-boilerplate', 1760, 18, 112], ['Minishlink/DailyScrum', 9941, 19, 68], ['IBastawisi/math-editor', 12415, 18, 1331], ['Ryan-Gordon/Ionic-Firestarter', 1496, 18, 635], ['zhenbinjing/i-Cut', 49546, 18, 109], ['DannyMoerkerke/webauthn-demo', 371, 18, 263], ['Minishlink/physbook', 3299, 18, 46], ['sozonome/nextarter-tailwind', 1334, 18, 36], ['Xe/mi', 625, 18, 53], ['c2FmZQ/c2FmZQ', 2318, 18, 141], ['Gabriel-Paulucci/UmDiaProgramando', 651, 18, 13], ['satnaing/haru-fashion', 5573, 17, 643], ['xxczaki/currency-converter', 3006, 17, 28], ['codefest-iit-bhu/codefest-app', 39820, 17, 1350], ['Vue-Boilerplates/vue-typescript-boilerplate', 1838, 17, 33], ['victorheringer/planning-poker-deck', 6062, 17, 41], ['AdamBien/effectiveweb.training', 732, 17, 192], ['minhlucvan/nasa-images', 3288, 17, 101], ['borjapazr/angular-skeleton', 5433, 17, 1966], ['techiediaries/angular-pwa', 117, 17, 877], ['ofcyln/currency-exchange', 5733, 17, 1613], ['pedrorivald/gitdex', 9256, 17, 36], ['jamrants/donations', 1050, 17, 40], ['lava-jato-the-game/lava-jato-the-game', 94, 17, 151], ['abhisheknaiidu/iiitdmj-gpa', 3111, 17, 1562], ['gnss-sdr/geniuss-place', 74068, 17, 129], ['egoist/create-poi-react-app', 64, 17, 14], ['ronffy/umi-dva-typescript-mock', 185, 17, 9], ['numToStr/site', 1591, 17, 11], ['imshubhamsingh/IPL-dashboard', 14707, 17, 1076], ['GDGSpain/gdg.es', 17665, 17, 14], ['vuefront/vuefront-nuxt', 1065, 17, 14], ['owsas/parse-offline', 131, 17, 9], ['sirixdb/sirix-web-frontend', 3665, 17, 30], ['dahnielson/parcel-plugin-workbox', 1029, 18, 8], ['joshxfi/track-as-one', 1269, 17, 39], ['ShadOoW/web-starter-kit', 3790, 17, 1157], ['fancy-flashcard/ffc', 6995, 17, 1276], ['emibcn/service-worker-updater', 2851, 17, 36], ['imranhsayed/pwa-concepts', 2690, 16, 23], ['HeratPatel/hnpwa', 7659, 16, 23], ['webmaxru/prog-web-news', 4016, 16, 951], ['mazipan/workbox-in-js-framework', 134, 16, 296], ['malokhvii-eduard/mod3d', 16656, 16, 57], ['6c65726f79/custom-titlebar', 1787, 16, 360], ['Snickdx/pwadocs', 3878, 16, 379], ['code-and-comment/code-and-comment', 1296, 16, 47], ['isair/notepad-pwa', 3392, 16, 1474], ['mauriciabad/custom-easings-with-keyframes', 2800, 16, 794], ['cosmicjs/react-pwa', 293, 16, 9], ['svenpanel/the-shrine-ng', 5946, 16, 15], ['Booligoosh/covid19nsw', 63489, 16, 1082], ['MatrixAges/testool', 8734, 16, 30], ['vuefront/create-vuefront-app', 305, 16, 144], ['xgqfrms/cdn', 869388, 16, 37], ['grrd01/Puzzle', 1080203, 16, 522], ['4cm4k1/personal-website', 11803, 16, 29], ['goblin-laboratory/cra-multi-page-template', 3881, 17, 25], ['adrivelasco/graphql-pwa-workshop', 810, 16, 1151], ['ReactConf/nextjs-boilerplate-reactconf-ir2020', 6802, 16, 48], ['Open-Gamma-Project/Gamma-MCA', 5321, 16, 4], ['mash-up-kr/zibro', 4719, 18, 1179], ['ahampriyanshu/gonewz', 671, 16, 12], ['abdonrd/abdonrd.com', 5394, 16, 7], ['VEZwolle/wandelapp', 2405, 16, 1313], ['amazon-archives/aws-mobilehub-ember', 574, 16, 20], ['cuongdevjs/pull-to-refresh-react', 1889, 16, 1010], ['mcf1110/ionic-anhembi-2021.1', 26766, 16, 1073], ['phondani0/ecommerce_store', 1149, 16, 1942], ['stephenkingsley/hackerNews-pwa', 261, 17, 8], ['jefrydco/nuxt-pwa-tailwindcss-starter', 420, 16, 42], ['the-blue-alliance/the-blue-alliance-pwa', 2073, 16, 1398], ['firtadokei/ci-vue-appstarter', 214, 15, 16], ['intl-wc/intl', 675, 15, 1555], ['tanaypratap/polaris', 350, 15, 840], ['esn-tumi/app', 172450, 15, 211], ['iamvdo/speedometer-pwa', 254, 15, 12], ['jordic/tracks_preact', 788, 15, 66], ['cajlonbatista/spacehunter', 3225, 15, 25], ['xrei/vue-ssr', 58, 15, 53], ['ibbatta/frontend-modern-boilerplate', 7039, 15, 50], ['Kirlovon/Simple-SSR', 2174, 17, 190], ['flysteur-dev/pager', 2525, 16, 12], ['gmatthewsfeuer/github-unfollow-checker', 1446, 15, 39], ['finogeeks/finclip-desktop-demo', 995, 15, 172], ['100lvlmaster/svelte-pwa', 501, 15, 16], ['murtuzaalisurti/qr', 181, 15, 205], ['dhormale/pwa_demo', 106, 16, 941], ['gabriel-hahn/billing-cycle-reactjs', 2369, 15, 915], ['chalu/smart-search', 2957, 15, 597], ['Monogramm/frappe_pwa', 4188, 15, 718], ['knrdl/bicimon', 140, 15, 2], ['leonardodino/forex-web-app', 4676, 17, 41], ['denar90/brunch-with-marionettejs', 223, 14, 14], ['saurshaz/pwa-meteor', 809, 14, 7], ['tomwayson/esri-preact-pwa', 622, 13, 25], ['nficano/nickficano.com', 5758, 14, 41], ['icelam/chinese-lorem-ipsum', 2602, 14, 1188], ['davidgaroro/vue-todo-pwa', 564, 14, 1062], ['taehwanno/hnpwa-react', 1203, 14, 107], ['arafatamim/waqt-web', 1136, 14, 21], ['vuestorefront/vue-storefront-1', 57409, 14, 213], ['everton-dgn/next_styled_components_redux_tlk_pwa_boilerplate', 2025, 14, 71], ['jomurgel/project-acorn-ssr', 692, 14, 1107], ['cassiolpaixao90/boilerplate-react-redux-pwa', 1501, 14, 67], ['Warwick-Engineering-Society/PDR', 3105, 14, 191], ['taisuke-j/progress-ring-component', 10367, 14, 514], ['KaustubhDamania/SmallMedium', 8690, 14, 6], ['eteplus/giog', 864, 14, 65], ['honungsburk/atomic-swap', 6389, 14, 1835], ['evilfactorylabsarchive/nadya', 3567, 14, 24], ['satyawikananda/grammer-blog', 13064, 14, 21], ['gdgpisa/gdgpisa.github.io', 63178, 14, 35], ['ChristianTracy/cra-redux-boilerplate', 4574, 14, 19], ['m8524769/espacio', 15827, 14, 1244], ['MSakamaki/ngx-onesignal', 4569, 15, 4638], ['itsabdelrahman/phonetically', 1974, 16, 18], ['ofcyln/mortgage-expense-calculator', 12925, 14, 1298], ['devpato/angular-pwa-qrcode', 1534, 14, 948], ['zuixjs/zuix-web-book', 4212, 13, 479], ['Atyantik/example-pawjs-tailwind', 2441, 14, 936], ['dailymotion/camcorder', 1680, 14, 20], ['IncredibleWeb/React-PWA-Boilerplate', 215, 13, 1038], ['dmcd/pwa-demo', 912, 13, 34], ['mikegeyser/building-pwas-with-angular', 59431, 13, 710], ['andreruffert/javascript-questions', 3859, 13, 1114], ['mxjoly/react-ssr-setup', 7378, 13, 154], ['myanmartools/zawgyi-unicode-converter-pwa', 6871, 13, 1512], ['operfildoluiz/pwact', 28, 13, 31], ['hello-efficiency-inc/openpeeps-generator', 2938, 15, 27], ['CIPHERTron/portfolio', 12145, 15, 23], ['ReporterOne/reporter', 9463, 13, 1045], ['OpenSooq/react-mic-record', 389, 13, 7], ['zhmushan/gif-generator', 7803, 13, 39], ['L4fv/whatsapp-click-to-chat', 1863, 13, 940], ['jauhl/mecEdit', 10684, 13, 4], ['ayndqy/notecards', 1187, 13, 85], ['Jozwiaczek/smart-gate', 11649, 13, 198], ['TeamPiickle/client', 6611, 13, 60], ['heddendorp/tumi-app', 162644, 13, 128], ['sebastian-software/app-manifest-loader', 3669, 13, 1027], ['rotimi-best/sveltedoc', 374, 13, 454], ['mertguvencli/quicktext', 915, 13, 10], ['Ncookiez/sveltekit-pwa-template', 2972, 13, 8], ['vanishcode/lavas-cnode', 4251, 13, 67], ['lencx/gg', 1184, 13, 27], ['LasaleFamine/http-server-pwa', 3896, 14, 15], ['Dear-Blueno/dearblueno', 4814, 13, 1411], ['irkvuz/schedule', 48034, 13, 45], ['cescoferraro/react-boil', 839, 13, 86], ['john-doherty/notch-detected-event', 415, 13, 505], ['zhongzhi107/universal-react-starter-kit', 1086, 13, 79], ['sempostma/atc-manager-2', 7911, 17, 1572], ['cTxplorer/whatsapp-anyone', 1482, 13, 765], ['diballesteros/nuzlocke', 10049, 13, 59], ['edisonneza/react-blog', 3001, 13, 26], ['dima-horror/lighthouse.net', 47, 13, 4], ['alhazmy13/pwa-angular4', 81, 13, 34], ['shopgate/pwa', 35595, 13, 335], ['elasticpath/epcc-react-pwa-reference-storefront', 105777, 13, 30], ['mayeedwin/profile', 10611, 12, 1], ['gauravbehere/pwa-starter-demo', 104, 12, 48], ['pacoita/modern-web', 5140, 12, 1052], ['AbubakerSaeed/react-todo-list', 4193, 12, 6]]\n",
            "50 repositórios filtrados\n",
            "100 repositórios filtrados\n",
            "150 repositórios filtrados\n",
            "200 repositórios filtrados\n",
            "250 repositórios filtrados\n",
            "300 repositórios filtrados\n",
            "350 repositórios filtrados\n",
            "400 repositórios filtrados\n",
            "450 repositórios filtrados\n",
            "500 repositórios filtrados\n",
            "550 repositórios filtrados\n",
            "600 repositórios filtrados\n",
            "650 repositórios filtrados\n",
            "700 repositórios filtrados\n",
            "750 repositórios filtrados\n",
            "800 repositórios filtrados\n",
            "850 repositórios filtrados\n",
            "900 repositórios filtrados\n",
            "917 repositórios filtrados\n",
            "917 [['angular/angular', 427743, 85478, 570, '25890'], ['hoppscotch/hoppscotch', 62594, 48904, 247, '4401'], ['freeCodeCamp/devdocs', 30417, 30402, 44, '4822'], ['GoogleChrome/lighthouse', 188192, 25745, 154, '5488'], ['quasarframework/quasar', 256095, 22564, 280, '12537'], ['qier222/YesPlayMusic', 32683, 20283, 71, '636'], ['RobinLinus/snapdrop', 3551, 14118, 45, '387'], ['vuestorefront/vue-storefront', 91316, 10198, 217, '16475'], ['Lissy93/dashy', 315626, 8586, 120, '2692'], ['alibaba/rax', 20924, 7837, 474, '5965'], ['maxence-charriere/go-app', 210777, 6718, 23, '1113'], ['andreasbm/web-skills', 122455, 6290, 6, '181'], ['TalAter/UpUp', 30382, 4845, 535, '281'], ['angus-c/just', 23001, 4731, 901, '973'], ['preactjs/preact-cli', 8135, 4624, 145, '1258'], ['NekR/offline-plugin', 1181, 4494, 18, '700'], ['assemble/assemble', 13050, 4125, 71, '2421'], ['hemanth/awesome-pwa', 483, 4084, 2, '459'], ['pipipi-pikachu/PPTist', 131248, 3634, 1574, '764'], ['alienzhou/frontend-tech-list', 32, 3474, 2, '24'], ['webhintio/hint', 75101, 3443, 2055, '6255'], ['cotes2020/jekyll-theme-chirpy', 3473, 3278, 26, '1044'], ['vuejs-templates/pwa', 174, 3026, 1, '77'], ['shadowwalker/next-pwa', 1309, 2663, 525, '405'], ['vuesion/vuesion', 15560, 2634, 2840, '855'], ['Atyantik/react-pwa', 17154, 2506, 1277, '489'], ['TarikHuber/react-most-wanted', 38764, 2264, 7575, '1848'], ['GoogleChromeLabs/lighthousebot', 319, 2247, 12, '161'], ['elegantapp/pwa-asset-generator', 33186, 2236, 984, '874'], ['samuelmaddock/metastream', 72190, 2170, 99, '2004'], ['padloc/padloc', 49721, 2053, 5562, '3369'], ['cezerin/cezerin', 20163, 2006, 1132, '1147'], ['vuestorefront/storefront-ui', 46757, 1962, 116, '6222'], ['AdaptiveConsulting/ReactiveTraderCloud', 540770, 1733, 2660, '6754'], ['vite-pwa/vite-plugin-pwa', 2985, 1656, 161, '471'], ['pwa-builder/PWABuilder', 151493, 1568, 7041, '4768'], ['FoxUSA/OpenNote', 8960, 1560, 741, '323'], ['generativefm/generative.fm', 497212, 1559, 1136, '758'], ['le0pard/pgtune', 73691, 1552, 74, '522'], ['deckgo/deckdeckgo', 36644, 1535, 5294, '6762'], ['kefranabg/bento-starter', 971, 1531, 1538, '60'], ['hanford/next-offline', 2262, 1518, 425, '245'], ['Vagr9K/gatsby-advanced-starter', 55095, 1504, 3011, '746'], ['codenameone/CodenameOne', 222714, 1376, 182, '7740'], ['skidding/flatris', 20296, 1345, 57, '431'], ['Atri-Labs/atrilabs-engine', 30465, 1343, 622, '2097'], ['nuxt-community/legacy-modules', 1540, 1299, 16, '536'], ['snorpey/jpg-glitch', 985, 1173, 8, '173'], ['nuxt-community/pwa-module', 5470, 1156, 31, '551'], ['maciejtreder/ng-toolkit', 7106, 1127, 1489, '882'], ['GoogleChromeLabs/pwacompat', 431, 1107, 3, '147'], ['filips123/PWAsForFirefox', 1355, 1092, 67, '260'], ['tr1s/tris-webpack-boilerplate', 19918, 1037, 1182, '148'], ['code-kotis/qr-code-scanner', 2357, 1034, 19, '86'], ['uasoft-indonesia/badaso', 5329, 1008, 156, '1430'], ['gdg-x/hoverboard', 288867, 995, 1962, '3862'], ['nuxt/hackernews', 1488, 992, 5, '422'], ['magento/pwa-studio', 661163, 977, 1739, '2348'], ['developit/preact-boilerplate', 433, 965, 51, '181'], ['nolanlawson/pinafore', 150874, 952, 85, '2351'], ['Metnew/suicrux', 8738, 945, 1489, '1396'], ['rgab1508/PixelCraft', 887, 925, 12, '135'], ['aermin/ghChat', 56601, 909, 1939, '319'], ['gokulkrishh/demo-progressive-web-app', 1746, 880, 6, '161'], ['nicejade/nice-front-end-tutorial', 6184, 875, 4, '319'], ['flawiddsouza/Restfox', 5016, 843, 1381, '303'], ['reuixiy/hugo-theme-meme', 9505, 819, 3, '570'], ['pwa-builder/pwa-starter', 20986, 805, 369, '204'], ['itswadesh/svelte-commerce', 12265, 796, 45, '504'], ['bangle-io/bangle-io', 1040170, 786, 783, '736'], ['saleor/saleor-storefront', 21704, 775, 3211, '2755'], ['ayastreb/money-tracker', 2405, 763, 1278, '354'], ['awes-io/awes-io', 319, 749, 33, '54'], ['xiaomuzhu/vue-ts-daily', 3113, 742, 49, '66'], ['mckeever02/mailtolink', 3502, 732, 987, '66'], ['gs-shop/vue-slick-carousel', 8588, 728, 1402, '165'], ['storefront-foundation/react-storefront', 16358, 709, 2161, '204'], ['4gray/iptvnator', 24787, 703, 1861, '617'], ['KnicKnic/WASM-ImageMagick', 2656, 693, 1519, '165'], ['bstavroulakis/vue-wordpress-pwa', 1342, 689, 976, '299'], ['koca/vue-prism-editor', 1781, 670, 31, '103'], ['pldubouilh/gossa', 7120, 653, 12, '138'], ['ionic-team/ionic-pwa-toolkit', 613, 634, 6, '150'], ['fabe/gatsby-universal', 5424, 621, 42, '142'], ['avatsaev/angular-contacts-app-example', 1026, 604, 1038, '150'], ['ikismail/Angular-ShoppingCart', 8158, 584, 1362, '229'], ['HenrikJoreteg/redux-bundler', 1589, 582, 544, '325'], ['harryho/vue-crm', 2145, 568, 1204, '119'], ['GoogleChromeLabs/pwa-wp', 13021, 559, 1716, '1952'], ['scriptype/sorted-colors', 7372, 558, 993, '136'], ['jrainlau/markcook', 22908, 550, 20, '46'], ['vchaptsev/cookiecutter-django-vue', 435, 549, 50, '146'], ['mixcore/mix.core', 840349, 545, 524, '2950'], ['mrsimonfletcher/react-progressive-web-app', 668, 544, 41, '42'], ['gillkyle/sol-journal', 1482, 517, 339, '149'], ['arthurbergmz/webpack-pwa-manifest', 1508, 508, 539, '171'], ['snuffyDev/Beatbump', 89336, 505, 591, '257'], ['maxence-charriere/lofimusic', 105614, 476, 10, '128'], ['hanford/trends', 6349, 473, 31, '224'], ['nicejade/vue-boilerplate-template', 5174, 469, 1132, '310'], ['DSchau/gatsby-mail', 4335, 462, 33, '30'], ['dot-cafe/beam.cafe', 3963, 437, 1140, '328'], ['Merkie/freespeech', 57107, 436, 33, '454'], ['devrsi0n/React-2048-game', 9287, 430, 71, '429'], ['ganatan/angular-app', 36132, 423, 129, '381'], ['rock-solid/pwa-theme-woocommerce', 268, 421, 28, '158'], ['getify/youperiod.app', 133, 417, 4, '55'], ['AiursoftWeb/Kahla.App', 11614, 400, 1363, '2071'], ['lukeed/preact-starter', 698, 386, 24, '71'], ['vfeskov/gitpunch', 20401, 377, 3090, '406'], ['vuefront/vuefront', 14511, 375, 85, '408'], ['Tommertom/svelte-ionic-app', 33732, 373, 507, '509'], ['CreateThrive/react-firebase-admin', 4405, 368, 1842, '240'], ['bitfoundation/bitplatform', 43303, 363, 652, '4686'], ['vaadin/expense-manager-demo', 64927, 358, 1477, '472'], ['whilelucky/pwa', 196, 353, 66, '168'], ['SuperPWA/Super-Progressive-Web-Apps', 1059, 347, 3, '723'], ['beercss/beercss', 7566, 345, 20, '785'], ['justinribeiro/speedometer-pwa', 55, 343, 2, '11'], ['chr15m/slingcode', 1317, 341, 18, '270'], ['dufu1991/simple-cloud-music', 1354, 341, 26, '43'], ['yandeu/phaser-project-template', 1951, 338, 711, '95'], ['filrak/vue-offline', 780, 338, 684, '55'], ['RinteRface/shinyMobile', 36985, 335, 11, '847'], ['maxwellito/minimator', 347, 334, 6, '116'], ['mvllow/next-pwa-template', 3326, 329, 595, '101'], ['GoogleChromeLabs/react-shrine', 5336, 327, 1270, '31'], ['vuestorefront/shopware-pwa', 36363, 319, 189, '1706'], ['jakejarvis/lighthouse-action', 1018, 318, 2, '32'], ['nuxt-community/nuxt7', 2589, 316, 19, '285'], ['mizchi/next-editor', 4164, 312, 109, '907'], ['vue-land/create-vue-app', 276, 309, 8, '148'], ['pacexy/flow', 4489, 307, 1428, '350'], ['FoxUSA/StoreDown', 2539, 304, 1636, '14'], ['stefanfrede/11st-starter-kit', 5852, 303, 977, '223'], ['twreporter/twreporter-react', 171843, 301, 77, '4882'], ['ManuCutillas/ngx-responsive', 2404, 298, 60, '231'], ['HybridShivam/pokedex-angular-app', 59109, 292, 1410, '734'], ['staart/ui', 24450, 289, 913, '2546'], ['deanhume/progressive-web-apps-book', 360, 287, 5, '57'], ['hiroppy/ssr-sample', 6864, 285, 2610, '500'], ['innFactory/create-react-app-material-typescript-redux', 2397, 284, 1290, '97'], ['maxwellito/breaklock', 1760, 275, 501, '191'], ['mike-works/pwa-fundamentals', 32368, 267, 57, '1011'], ['ncarlier/readflow', 9875, 267, 2944, '529'], ['suren-atoyan/react-pwa', 2331, 263, 696, '164'], ['aofdev/vue-firebase-auth-vuex', 334, 262, 51, '36'], ['srhise/nuxt-wordpress-pwa', 533, 259, 15, '19'], ['cristianbote/hnpwa-vanilla', 1575, 259, 637, '167'], ['coryrylan/ng-pokedex', 4694, 258, 951, '106'], ['morkro/happy-plants', 26647, 246, 7227, '728'], ['narendrashetty/uber-mobile-web', 2124, 246, 52, '89'], ['Adamant-im/adamant-im', 9553, 246, 83, '2654'], ['14nrv/buefy-shop', 1222, 246, 46, '195'], ['ShivamJoker/Ylight-Music', 2562, 243, 24, '147'], ['dhruv-kumar-jha/productivity-frontend', 6699, 243, 38, '45'], ['jfbrennan/m-', 3423, 239, 496, '408'], ['DockYard/ember-service-worker', 1679, 239, 844, '251'], ['Minishlink/pwa-qr-code-scanner', 169, 232, 8, '10'], ['proyecto26/animatable-component', 1976, 231, 757, '135'], ['MananTank/cybertype', 4000, 230, 766, '75'], ['GatsbyStorefront/gatsby-theme-storefront-shopify', 217, 228, 57, '138'], ['GoogleChromeLabs/sample-pie-shop', 2676, 226, 1015, '193'], ['schollz/offlinenotepad', 652, 226, 8, '173'], ['akirarika/creamdb', 2957, 219, 838, '2'], ['daquinoaldo/https-localhost', 680, 218, 432, '181'], ['Minishlink/web-push-php-example', 51, 215, 1, '34'], ['adriancarriger/angularfire2-offline', 12893, 207, 101, '232'], ['alienzhou/learning-pwa', 113, 205, 12, '41'], ['ShafSpecs/remix-pwa', 2083, 204, 841, '423'], ['shmuelhizmi/web-desktop-environment', 42760, 203, 1459, '404'], ['latsic/imgalign', 238865, 202, 1000, '68'], ['maxpou/gatsby-starter-morning-dew', 15986, 201, 228, '159'], ['Rajatm544/MERN-Blog-App', 3963, 196, 1434, '274'], ['kosmigramma/appleshouter', 60, 196, 190, '21'], ['tretapey/svelte-pwa', 249, 192, 92, '32'], ['davidgaroro/vuetify-todo-pwa', 622, 188, 980, '26'], ['andrewcourtice/ocula', 2611, 188, 74, '123'], ['Hanziness/AnotherPomodoro', 4515, 187, 38, '502'], ['loginov-rocks/Web-Bluetooth-Terminal', 2675, 186, 421, '114'], ['rodneylab/sveltekit-blog-mdx', 3297, 185, 35, '291'], ['sandoche/Jekyll-webpack-boilerplate', 1634, 185, 44, '197'], ['pwafire/pwafire', 25171, 181, 493, '1443'], ['JerryC8080/GlacierJS', 96887, 181, 68, '134'], ['NullVoxPopuli/emberclear', 20500, 180, 612, '2735'], ['hyundotio/magicpad', 69995, 179, 8, '446'], ['torch2424/made-with-webassembly', 4649, 178, 1473, '149'], ['gokulkrishh/qrcodescan.in', 3222, 174, 507, '140'], ['paulhoughton/remember', 923, 173, 29, '41'], ['tomsoderlund/nextjs-pwa-firebase-boilerplate', 1327, 172, 9, '212'], ['angular-university/angular-pwa-course', 3039, 172, 1140, '89'], ['Just-Moh-it/Mockoops', 8975, 172, 34, '73'], ['seydx/camera.ui', 56525, 171, 2445, '237'], ['moigonzalez/pwa-barcode-scanner', 18240, 170, 985, '142'], ['rherwig/template-react-ssr', 2851, 168, 965, '46'], ['alexkehayias/woz', 3776, 167, 31, '140'], ['graphcommerce-org/graphcommerce', 130506, 167, 686, '7952'], ['manekinekko/angular-search-experience', 6460, 165, 1367, '7'], ['webmaxru/pwatter', 3484, 164, 952, '40'], ['nicejade/awesome-vue-cli3-example', 3559, 164, 36, '79'], ['iondrimba/react-weather-app', 12923, 164, 1583, '879'], ['KeJunMao/jekyll-theme-mdui', 4123, 162, 12, '156'], ['jcalixte/vue-pwa-asset-generator', 3037, 159, 10, '78'], ['Flowm/satvis', 1204, 159, 48, '396'], ['genie-team/graphql-genie', 6536, 159, 5158, '441'], ['koddr/a2hs.js', 2390, 158, 573, '326'], ['SalesforceCommerceCloud/pwa-kit', 118657, 158, 7041, '1101'], ['ademilter/prayer-times', 3873, 158, 24, '106'], ['IBM/pwa-lit-template', 7478, 157, 39, '1605'], ['aman-atg/react-product-card', 23084, 156, 1474, '61'], ['manolo/gwt-polymer-elements', 53532, 154, 8, '433'], ['SimplQ/simplQ-frontend', 7354, 153, 56, '484'], ['vuestorefront/vsf-capybara', 8882, 152, 17, '977'], ['onch-at/onchat-web', 7944, 151, 1288, '732'], ['johman10/flood-for-transmission', 2535, 151, 611, '214'], ['yandeu/phaser-project-template-es6', 2728, 150, 899, '66'], ['SafdarJamal/quiz-app', 8915, 150, 1917, '352'], ['jekuer/php-microsite-boilerplate', 1308, 149, 284, '167'], ['google/service-worker-detector', 3505, 148, 357, '112'], ['madneal/subway-shanghai', 4199, 144, 1170, '404'], ['microsoft/30daysof', 49753, 144, 1051, '394'], ['rl-king/elm-hnpwa', 899, 142, 399, '116'], ['aganglada/preact-minimal', 1752, 142, 17, '55'], ['NotWoods/maskable', 2208, 142, 522, '182'], ['san650/ember-web-app', 1054, 141, 31, '197'], ['jonhue/pwa', 162, 139, 6, '146'], ['jakubito/spotify-release-list', 4357, 139, 44, '426'], ['nicejade/nicelinks-vue-client', 2901, 138, 87, '400'], ['intershop/intershop-pwa', 35275, 137, 2025, '5595'], ['davidgaroro/vuetify-swipeout', 832, 136, 1027, '19'], ['ThaUnknown/pwa-haven', 54872, 136, 33, '288'], ['Aerolab/nextjs-pwa', 97, 135, 668, '3'], ['Bertrand31/Monitaure', 46403, 134, 53, '853'], ['ali-master/pwa-badge', 1080, 135, 661, '35'], ['lavas-project/hexo-pwa', 36, 134, 1, '21'], ['Tomburgs/pwa-boilerplate', 3284, 134, 36, '382'], ['graycoreio/daffodil', 42257, 134, 2453, '2807'], ['DivanteLtd/storefront-integration-sdk', 8557, 136, 56, '145'], ['ramiz-rahman/sort-visualizer', 4341, 132, 4, '57'], ['mikestead/lighthouse-batch', 252, 132, 3, '90'], ['tomsoderlund/nextjs-pwa-graphql-sql-boilerplate', 1302, 132, 26, '180'], ['laqul/laqul', 1382, 131, 52, '35'], ['alexgibson/wavepad', 673, 131, 15, '187'], ['nuxt-community/pwa-template', 87, 129, 9, '62'], ['aaron5670/aaronvandenberg.nl', 3646, 129, 1609, '56'], ['iondrimba/pwa-music-player', 4098, 127, 1737, '287'], ['andreasbm/lit-translate', 10643, 127, 1019, '185'], ['sandoche/Detoxify-app', 65001, 127, 525, '180'], ['OrangeXC/gank', 3928, 127, 25, '761'], ['universal-vue/uvue', 3146, 127, 139, '591'], ['umluizlima/flask-pwa', 143, 126, 7, '27'], ['Fyerl/vue-awesome-picker', 1583, 125, 975, '81'], ['GoogleChromeLabs/sample-currency-converter', 1333, 127, 867, '33'], ['brunocodutra/webapp-webpack-plugin', 13809, 123, 904, '247'], ['wednesday-solutions/react-template', 38620, 121, 151, '452'], ['maslick/koder', 3844, 119, 28, '273'], ['oliviertassinari/browser-metrics', 247, 119, 17, '11'], ['runbox/runbox7', 7979, 119, 1518, '2052'], ['ionicthemes/ionic-pwa', 3227, 117, 1133, '3'], ['vendure-ecommerce/storefront-angular-starter', 3710, 116, 84, '255'], ['shellyln/kanban-board-app', 5245, 115, 1403, '114'], ['Gingernaut/Peridot', 9989, 114, 26, '213'], ['Lt0/sysmon', 4009, 113, 952, '7'], ['vuefront/wordpress', 11372, 111, 87, '120'], ['JP1016/Markdown-Electron', 1375, 110, 57, '23'], ['abhinaba-ghosh/playwright-lighthouse', 130, 110, 248, '61'], ['JimmyVV/PWA-cookbook', 60, 109, 57, '6'], ['commudle/commudle-ng', 92879, 109, 1779, '2951'], ['JP1016/Paper', 1583, 108, 924, '52'], ['localnerve/react-pwa-reference', 5364, 108, 1596, '1381'], ['google/amp-pwa-demo', 62, 107, 5, '23'], ['FrontendMasters/service-workers-offline', 69, 106, 4, '15'], ['ThymeApp/thyme', 6339, 105, 1419, '1559'], ['GoogleChromeLabs/rowing-monitor', 1719, 105, 793, '45'], ['ademilter/next-template', 1427, 104, 11, '24'], ['ssshooter/nippon-color', 5787, 104, 1044, '18'], ['microsoft/win-student-devs', 46638, 104, 2, '115'], ['ionic-team/ionic-stencil-hn-app', 8119, 103, 566, '116'], ['andreasbm/router-slot', 1088, 103, 1067, '270'], ['scandipwa/magento-docker', 3753, 103, 3, '433'], ['GrabarzUndPartner/gp-vue-boilerplate', 349883, 103, 1752, '3179'], ['nyancodeid/iro', 1556, 102, 420, '218'], ['avatsaev/kawachat2-client', 797, 102, 40, '41'], ['cklwblove/vue-element-admin-ts', 3284, 102, 1207, '98'], ['ismaelgt/english-accents-map', 1718, 102, 1176, '204'], ['gil--/gatsby-starter-shopifypwa', 721, 101, 1378, '142'], ['qlova/seed', 5560, 101, 41, '863'], ['sorcererxw/iloveworks', 6466, 101, 1319, '60'], ['Hunlongyu/ReadMe', 100461, 99, 49, '385'], ['HarshKapadia2/git_basics', 7270, 99, 2, '447'], ['thelittlewonder/hush', 1132, 99, 854, '40'], ['lunchclass/absolute', 26922, 99, 28, '174'], ['alexandrunastase/json-formatter-live', 1440, 99, 491, '63'], ['vueneue/vueneue', 1144, 98, 77, '418'], ['whoisryosuke/ryosuke-gatsby-blog', 446875, 98, 2056, '372'], ['lukeed/colors-app', 447, 96, 23, '153'], ['cloudfour/pwastats', 5189, 95, 1046, '437'], ['itswadesh/foodfire', 3579, 94, 24, '37'], ['unjs/redirect-ssl', 228, 94, 16, '59'], ['fede-rodes/meteor-apollo-starter-kit', 2868, 93, 1181, '284'], ['aofdev/vue-pwa-speech', 54, 93, 40, '16'], ['vaneenige/offline-gallery', 88, 92, 22, '9'], ['xtools-at/Electron-PWA-Wrapper', 1683, 91, 2, '69'], ['m2sd/nuxt-laravel', 3584, 91, 38, '145'], ['EreckGordon/angular-universal-pwa-starter', 1034, 91, 85, '218'], ['mutebg/pwa-weather', 238, 93, 26, '86'], ['christianliebel/paint', 22328, 88, 1211, '933'], ['PierfrancescoSoffritti/pierfrancescosoffritti.com', 18313, 88, 1358, '133'], ['BerndWessels/preact-redux-isomorphic', 1404, 87, 47, '34'], ['Glue42/core', 54357, 85, 22629, '816'], ['bagisto/laravel-pwa', 67362, 84, 20, '163'], ['F-loat/caption2text', 3325, 84, 25, '60'], ['cocopon/llumino-pwa', 2038, 81, 787, '122'], ['cloudflare/workers-react-pwa-example', 363, 81, 13, '19'], ['Zack-Bee/hdtv', 1547, 81, 866, '52'], ['framework7io/framework7-appstore-react', 124600, 80, 1066, '55'], ['ovanta/vue-cloudfront', 2084, 79, 1151, '533'], ['vuefront/prestashop', 12713, 78, 87, '72'], ['gmatthewsfeuer/next-plate', 6950, 78, 47, '692'], ['OsmTravel/OsmGo', 269564, 78, 85, '447'], ['kiwix/kiwix-js-windows', 3579107, 78, 15, '2930'], ['garage44/ca11', 8877, 77, 59, '152'], ['agateblue/tempo', 6535, 76, 44, '332'], ['meanbee/magento-meanbee-pwa', 12, 75, 1, '8'], ['pmdartus/rcast', 38864, 75, 18, '122'], ['deanhume/beer', 102789, 74, 556, '104'], ['dorianim/money-balancer', 1611, 74, 69, '128'], ['fspoettel/blaupause', 11481, 72, 1250, '612'], ['stylesuxx/esc-configurator', 4337, 72, 60, '734'], ['AminAliH47/PicoSchool', 2734, 72, 1, '93'], ['cyyyu/parcel-plugin-sw-precache', 102, 71, 146, '75'], ['forgepwa/the_forge', 42788, 71, 1617, '336'], ['lukechilds/onionite', 563, 71, 607, '387'], ['dd3v/snippets.ninja', 2769, 70, 1438, '128'], ['jasonujmaalvis/vue-movies', 695, 70, 20, '5'], ['MacKentoch/react-redux-nextjs-bootstrap-pwa-starter', 5103, 70, 89, '134'], ['jefrydco/nuxt-pwa-vuetify-starter', 3185, 69, 31, '132'], ['kwrush/react-2048', 2640, 69, 634, '87'], ['Gatsbylius/Gatsbylius', 3536, 68, 534, '275'], ['justinribeiro/pwa-firebase-functions-botrender', 143, 68, 372, '14'], ['frysztak/orpington-news', 7250, 68, 217, '816'], ['xpioneer/react-typescript', 4660, 68, 53, '132'], ['IronKinoko/e-hentai-view', 1363, 68, 66, '330'], ['yomete/pushercoins', 237, 67, 912, '12'], ['Bellisario/node-snapdrop', 1458, 67, 70, '55'], ['AdamBien/bce.design', 185, 67, 37, '66'], ['mantou132/mt-music-player', 5558, 67, 34, '221'], ['snipcart/gatsby-pwa-demo', 6442, 68, 1521, '26'], ['GoogleChromeLabs/affilicats', 3096, 66, 972, '114'], ['msaaddev/create-next-pwa', 93803, 66, 19, '162'], ['milooy/react-django-pwa-kit', 16006, 66, 51, '6'], ['peterpeterparker/web-social-share', 1143, 66, 28, '278'], ['wagerfield/nuxt-stack', 8759, 66, 83, '768'], ['ganatan/angular-react-seo', 30477, 66, 2113, '214'], ['arcomage/arcomage-hd', 61769, 66, 68, '450'], ['lincenying/mmf-blog-vue2-pwa-ssr', 3725, 65, 41, '241'], ['aofdev/vue-speech-streaming', 52, 65, 43, '18'], ['raucao/webmarks', 5910, 65, 1513, '362'], ['SokichiFujita/starter-react-flux', 5643, 65, 16, '271'], ['10secondsofcode/coding-ai', 1567, 65, 11, '338'], ['nwtgck/nipp', 48010, 64, 1261, '420'], ['Pushedskydiver/Colour-Contrast-Checker', 3168, 64, 1211, '162'], ['matthijsgroen/geppetto', 65596, 64, 69, '725'], ['themgoncalves/react-adventure', 6973, 66, 84, '192'], ['iondrimba/react-calculator', 16107, 64, 2116, '869'], ['jiahaog/jiahao.codes', 42825, 63, 1656, '293'], ['dtinth/WebMIDICon', 7143, 63, 34, '360'], ['zoff-music/zoff', 16857, 63, 587, '4169'], ['SamsungInternet/snapwat', 4959, 62, 12, '228'], ['vuefront/opencart', 19955, 62, 86, '186'], ['persianturtle/rescript-react-boilerplate', 4755, 61, 182, '111'], ['jeremyckahn/farmhand', 21284, 62, 2656, '1872'], ['cahyofendhi/Flutter-Cinema', 506112, 62, 23, '223'], ['Wellenline/auddly', 48710, 62, 39, '264'], ['igorski/bitmappery', 2510, 61, 1526, '476'], ['ruisaraiva19/favycon', 12226, 61, 101, '423'], ['RetroAstro/yinyue', 3004, 60, 4, '45'], ['aswara/Admin-eCommerce-ReactJS', 796, 60, 14, '48'], ['ansezz/laravel-vuejs.com', 37558, 60, 2132, '530'], ['OrangeXC/udao', 4240, 59, 44, '659'], ['lybekk/offPIM', 11182, 59, 58, '290'], ['szafran89/nuxt-blog', 1218, 59, 15, '80'], ['vaneenige/periodic-weather', 300, 58, 29, '20'], ['bikedeboa/bikedeboa', 60081, 58, 1121, '1408'], ['as-ideas/add-to-homescreen-react', 6279, 58, 789, '180'], ['Specy/genshin-music', 46443, 57, 72, '540'], ['smastrom/headless-gatsby-multilang', 412, 57, 27, '46'], ['aromalanil/WhatSend', 1158, 57, 1275, '51'], ['ttu/lego-boost-app', 3513, 56, 1238, '117'], ['mbaxszy7/pika-music', 15861, 56, 1172, '167'], ['sokhuong-uon/discord-clone-old', 2524, 56, 1358, '253'], ['iotaledger/spark-wallet', 5193, 56, 71, '228'], ['minht11/local-music-pwa', 1730, 56, 422, '42'], ['SAP-samples/openui5-pwa-sample', 169, 55, 1, '7'], ['Codebrahma/gatsby-ecommerce-pwa', 7686, 54, 1632, '413'], ['elegantapp/pwa-workshop-angular-firebase', 17001, 54, 26, '35'], ['TheDevPath/Navi', 3265, 54, 1651, '499'], ['ZJU-CC98/CC98-PWA', 7484, 54, 1063, '546'], ['theanam/pushkit', 393, 55, 6, '39'], ['tomayac/fugu-greetings', 6174, 52, 11, '97'], ['sebholstein/angular-hacker-news', 541, 52, 25, '31'], ['halebopp/vue-pomo', 170, 52, 73, '14'], ['yelabbassi/cinedantan', 7844, 52, 23, '79'], ['YogeshPrasanna/expense-manager-react', 52953, 52, 1096, '293'], ['justinribeiro/blog-pwa', 19711, 51, 47, '296'], ['ganatan/angular-react-pwa', 30106, 51, 2105, '60'], ['meanbee/magento2-serviceworker', 130, 51, 8, '42'], ['nothingismagick/quasar-starter-ssr-pwa-jest-cypress', 2273, 51, 86, '40'], ['tutorbookapp/tutorbook', 1025013, 51, 1233, '2783'], ['anita-app/anita', 21830, 51, 700, '616'], ['atomicptr/dauntless-builder', 53637, 51, 71, '871'], ['NoelDeMartin/media-kraken', 5146, 51, 2127, '220'], ['jkga/me', 407, 51, 8, '27'], ['bfmatei/stencil-boilerplate', 1093, 51, 783, '117'], ['mkungla/webxr-webpack-boilerplate', 4655, 50, 33, '271'], ['john-doherty/mixpanel-lite', 419, 50, 619, '142'], ['NoelDeMartin/solid-focus', 3330, 50, 38, '136'], ['0918nobita/Tsundoku', 5122, 50, 86, '1445'], ['segunolalive/helloBooks', 2404, 50, 1275, '497'], ['imranhsayed/next-js-app', 118, 50, 88, '34'], ['ecomplus/storefront-starter', 18574, 50, 2001, '1860'], ['jefrydco/nuxt-pwa-vuetify-firebase-ssr', 4923, 50, 1047, '32'], ['amahdy/java-pwa', 2324, 49, 13, '21'], ['mjzhang1993/react-router4-template', 3232, 49, 81, '43'], ['fengerzh/fengerzh.github.io', 1543, 49, 20, '238'], ['mayneyao/phos', 2115, 49, 10, '99'], ['voorhoede/nuxt-twa-module', 989, 48, 1084, '121'], ['memeLab/Jandig', 91117, 48, 35, '1166'], ['bitflower/stencil-lerna', 14235, 48, 886, '75'], ['vinicius73/vue-pokemon-memory-game', 8799, 48, 29, '170'], ['nyancodeid/insta-share', 489, 48, 336, '94'], ['Lukazovic/nextjs-with-chakra-ui-boilerplate', 295, 47, 39, '29'], ['KhalisFoundation/sttm-web', 33779, 47, 1586, '2674'], ['inshopgroup/inshop-crm-client', 6002, 47, 30, '140'], ['VanishMax/Modern-Web-App', 498, 46, 26, '44'], ['iondrimba/marvel-api-explorer', 20595, 46, 1461, '1092'], ['mvximenko/youdo', 3473, 46, 1300, '22'], ['gawlk/svind', 7056, 45, 23, '251'], ['david-szabo97/github-guesser', 316, 45, 12, '9'], ['TheNightmareX/reply', 1962, 45, 1027, '304'], ['itsalb3rt/sheiley-shop-app', 5581, 45, 45, '495'], ['GatsbyStorefront/gatsby-starter-storefront-shopify', 2188, 45, 5, '29'], ['htdangkhoa/react-ssr-starter', 2369, 45, 81, '296'], ['fluid-notion/fluid-outliner', 15149, 45, 116, '57'], ['DivanteLtd/spartacus-capybara', 4420, 45, 53, '197'], ['azu/hatebupwa', 656, 45, 44, '112'], ['hubblecommerce/hubble-frontend-pwa', 7438, 44, 34, '966'], ['robinglen/lighthouse-cron', 71, 44, 539, '26'], ['vinicius73/gravatar-url-generator', 2961, 44, 27, '89'], ['CrowdStrike/ember-browser-services', 2205, 44, 123, '499'], ['tgambet/musicsource', 4037, 44, 2, '249'], ['K0IN/Notify', 4249, 44, 2270, '370'], ['fpapado/ephemeralnotes', 4879, 44, 869, '306'], ['jabardigitalservice/pikobar-jabarprov-go-id', 33745, 44, 1936, '2281'], ['saurabhdaware/pwainit', 731, 44, 208, '85'], ['sylvainpolletvillard/pwa-workshop', 2794, 43, 931, '90'], ['gurov/stupid-rss-reader', 7819, 43, 854, '127'], ['mrcotter/crypto-market', 2203, 43, 1313, '117'], ['PragatiVerma18/Snippet-Share', 4430, 43, 5, '70'], ['llopisdon/skies-adsb', 29456, 43, 399, '87'], ['elasticpath/react-pwa-reference-storefront', 59976, 43, 3027, '972'], ['quasarframework/quasar-template-pwa', 489, 42, 53, '28'], ['lmiguelm/portfolio', 14158, 42, 250, '102'], ['based-ghost/vue-seo-friendly-spa-template', 33184, 42, 1129, '370'], ['usm4n/cycle-hn', 617, 42, 917, '45'], ['r3nanp/flappy-bird', 2698, 42, 2, '183'], ['Quinten/black-hole-square', 607, 42, 487, '201'], ['ionicthemes/ionic-navigation-and-routing', 2587, 42, 868, '31'], ['floysh/DCC-green-pass-decoder', 1932, 42, 28, '62'], ['navneetsharmaui/discover-twitter-spaces', 23220, 42, 53, '266'], ['ionic-team/create-stencil', 2756, 42, 609, '182'], ['nico-martin/todo-pwa', 3661, 41, 102, '38'], ['vinitshahdeo/ProgressiveNewsApp', 596, 41, 75, '46'], ['rossmc/how-to-venia', 7017, 41, 75, '67'], ['DaxChen/vue-firebase-starter', 295, 41, 83, '27'], ['pedrocoutinhosilva/shiny.pwa', 469, 41, 2, '48'], ['sandoche/Surfable-app', 160392, 41, 634, '117'], ['catchspider2002/periodic-table.io', 299563, 41, 296, '316'], ['forabi/WebCeph', 20943, 41, 136, '726'], ['asadsahi/vuenode-fullstack', 802, 41, 84, '55'], ['HorusGoul/atom-pwa', 16792, 40, 95, '707'], ['vuestorefront/ecommerce-integration-boilerplate', 6067, 40, 86, '101'], ['gauravsaini03-zz/ionic3-ecommerce-app', 2451, 40, 33, '2'], ['quasarframeworkbrasil/skeleton-quasar', 29287, 40, 24, '80'], ['codi-hacks/weather-station', 3774, 40, 52, '69'], ['ygoex/yetty', 5589, 40, 31, '862'], ['lvzhenbang/webpack-play', 19294, 41, 748, '175'], ['HarkerDev/harker-bell', 8672, 40, 1280, '381'], ['sarmadsangi/offline-kanban', 46, 40, 58, '11'], ['nicejade/docker-vue-node-nginx-mongodb-redis', 989, 40, 62, '49'], ['vnglst/finding-nora', 7440, 40, 39, '353'], ['thepassle/reddit-pwa', 5361, 40, 338, '33'], ['rizalibnu/react-pwa-wwwid', 5394, 39, 32, '66'], ['asc-lab/claim-reporter-pwa-poc', 1858, 39, 1065, '21'], ['alexnoz/vanilla-wc-hnpwa', 235, 39, 50, '5'], ['azu/service-worker-updatefound-refresh-dialog', 232, 39, 8, '32'], ['puku0x/angular-pwa-sample', 3235, 39, 1091, '116'], ['opaulochaves/react-pwa-webpack-starter', 308, 39, 32, '44'], ['kasparsd/sensor-pilot', 1123, 39, 892, '43'], ['m1guelpf/send-to-things', 299, 39, 22, '4'], ['JokeNetwork/vegancheck.me', 111391, 39, 13, '831'], ['thepassle/pwa-helpers', 1126, 38, 797, '82'], ['m4r1vs/mnged', 1593, 38, 258, '60'], ['kkoscielniak/react-add-to-homescreen', 2807, 38, 41, '36'], ['moonou/zhihu-daily-vue', 1167, 38, 66, '55'], ['aofdev/vue-pwa-rekognition', 16068, 38, 41, '10'], ['aofdev/vue-pwa-vision', 102, 39, 40, '13'], ['cleverfranke/cf-kyt-starter-universal-redux', 273, 38, 32, '197'], ['ambianic/ambianic-ui', 42998, 38, 2532, '1463'], ['code-kotis/pwa-codelabs', 4861, 37, 7, '114'], ['lowerbarriers/finished-starter', 35895, 37, 27, '210'], ['terichadbourne/offline-first-project-manager', 39080, 37, 1, '52'], ['wooorm/dictionary', 166, 37, 19, '24'], ['Esri/nearby-javascript', 1320, 37, 58, '93'], ['safeapps-io/money-client', 2001, 37, 34, '309'], ['Explosion-Scratch/OnDrop', 1129, 37, 94, '149'], ['lucasm/findto', 1062, 37, 186, '38'], ['leegeunhyeok/resume', 24557, 37, 23, '254'], ['lvzhenbang/webpack4.x-multi-page', 44000, 37, 31, '72'], ['Rocketseat/rocketpwa', 523, 37, 222, '9'], ['shindesharad71/Anstagram', 13427, 37, 882, '467'], ['zonkyio/ember-web-app', 32513, 37, 62, '2284'], ['RocketChat/Rocket.Chat.PWA.React', 1175, 36, 997, '77'], ['superpikar/onsenui-vue-router-pwa', 543, 36, 70, '13'], ['lucasrmagalhaes/covid19-react', 6324, 36, 11, '116'], ['sonic16x/interslavic', 48858, 36, 1249, '849'], ['fpapado/ephemeral', 576, 35, 849, '118'], ['khmyznikov/pwa-install', 1465, 35, 27, '163'], ['BrianRuizy/gatsby-minimal-portfolio', 170361, 35, 1675, '485'], ['ffalt/mah', 46642, 35, 1452, '725'], ['chromeos/create-vite-pwa', 101, 34, 256, '19'], ['Naramsim/Colosseum', 29358, 34, 767, '51'], ['pierresaid/vue-pwa-camera', 293, 34, 1019, '44'], ['vitaliy-bobrov/pacman-pwa', 2010, 34, 19, '24'], ['mizchi/next-pwa-boilerplate', 87, 34, 16, '12'], ['toxic-johann/is-pwa-ready', 6255, 34, 41, '140'], ['jpodwys/preact-journal', 2437, 34, 1334, '474'], ['vuefront/magento', 8459, 34, 90, '98'], ['Asatelit/pwa-pos-terminal', 35117, 34, 39, '96'], ['solrachix/podcastr', 6547, 34, 34, '22'], ['MacKentoch/react-redux-nextjs-material-ui-pwa-starter', 697, 33, 60, '31'], ['smakosh/gatsby-starter-i18n', 3375, 35, 24, '21'], ['Tom-Julux/shared-zustand', 20, 34, 4, '15'], ['catdad-experiments/heic-app', 159, 34, 176, '96'], ['wasedatime/wasedatime-web', 91022, 34, 337, '1801'], ['chromeos/pwa-play-billing', 3815, 34, 1527, '137'], ['alumna/alumna', 1735, 33, 575, '60'], ['based-ghost/react-seo-friendly-spa-template', 30045, 33, 40, '221'], ['matronator/GlobalCollapse', 41990, 33, 79, '294'], ['R1dwanMaulana/quran-id.me', 4086, 33, 11, '141'], ['patrickmonteiro/quasar-warren', 2009, 33, 17, '67'], ['KeJunMao/vdraw', 1697, 36, 28, '39'], ['martins-rafael/rafaelmartins.dev', 2376, 33, 32, '125'], ['mvllow/tailwindcss-safe-area', 35, 33, 13, '28'], ['srph/careflix', 6898, 33, 804, '509'], ['ScerIO/phar.scer.io', 1792, 32, 38, '54'], ['carlosqsilva/YASCC', 6688, 32, 902, '54'], ['vnglst/peter-and-the-wolf', 201857, 32, 68, '98'], ['TYPO3-Headless/pwa-demo', 9894, 32, 29, '38'], ['gifaldyazkaa/aqua-fanpage', 1988, 32, 24, '278'], ['Lazzzer/Moviepark', 25599, 32, 597, '168'], ['AbhishekCode/word-tetris', 6555, 32, 10, '26'], ['danarrib/BulletGCSS', 24018, 32, 2, '105'], ['Aam-Digital/ndb-core', 41573, 32, 2124, '2271'], ['m4r1vs/slidecontrol', 23035, 32, 356, '98'], ['JayantGoel001/JayantGoel001.github.io', 248077, 32, 855, '549'], ['code-by-sia/OpenWebSheet', 6517, 32, 1164, '187'], ['retire-run/retire.run', 334, 32, 631, '71'], ['mikhael28/paretOS', 42244, 31, 109, '731'], ['eshaan7/RenameThemSubs', 10911, 31, 14, '74'], ['itissandeep98/TimeTableManager', 21640, 31, 1743, '198'], ['oussamatn/radio-player', 1463, 31, 19, '170'], ['csbun/workbox-examples', 222, 31, 11, '8'], ['shareup/pwa-resources', 651, 30, 24, '26'], ['bengarrett/DOSee', 18085, 30, 19, '225'], ['jul-sh/archive-jul.sh', 41238, 31, 2029, '211'], ['CharlBest/nean-stack-starter', 8004, 30, 1548, '1445'], ['2brew/2brew.github.io', 1223, 30, 95, '78'], ['JimmyVV/web-pwa', 12, 31, 1, '9'], ['brapifra/readhnlater-pwa', 4232, 29, 633, '63'], ['carlosrojaso/appress-book-pwa', 1250, 29, 1023, '34'], ['benji6/moodtracker', 10304, 29, 788, '1102'], ['eddedd88/react-firebase-template', 1017, 29, 31, '47'], ['onfe/Picto', 28726, 29, 871, '917'], ['AnishDe12020/devkit', 2082, 29, 46, '422'], ['rock-solid/pwa-theme-obliq', 400, 29, 37, '186'], ['ChangeWindows/ChangeWindows', 16074, 29, 265, '689'], ['Kopano-dev/meet', 5551, 29, 69, '747'], ['Lorti/phrasebook', 5461, 29, 19, '175'], ['ccwukong/react-cam', 1199, 29, 23, '68'], ['tsriram/15puzzle', 642, 29, 541, '115'], ['mhadaily/glimmer-hn-pwa', 2038, 28, 1070, '235'], ['vite-pwa/sveltekit', 1290, 28, 27, '35'], ['ajayns/paper-todo', 168, 28, 8, '25'], ['johncalvinroberts/pprmnt', 945, 28, 16, '103'], ['flolu/centsideas', 5211, 28, 117, '698'], ['Armster15/doblar', 3847, 28, 626, '34'], ['ntrix/amazin', 53223, 28, 111, '946'], ['carsonsaldanha/screen-recorder', 1787, 28, 805, '82'], ['liutian/light-push-admin', 17691, 28, 43, '90'], ['chymz/nuxt-starter', 822, 28, 56, '20'], ['loomchild/sojourner-web', 9441, 29, 1154, '784'], ['zfoo-project/zapp', 46899, 28, 371, '39'], ['rodydavis/lit-native', 1196, 28, 299, '47'], ['thuongtruong1009/e-shopee', 112591, 28, 62, '457'], ['Jaspero/fireshop', 7868, 28, 1924, '821'], ['gokulkrishh/anonymous-web', 8308, 28, 11, '92'], ['dhananshan/PWA-Asp.NetCore', 721, 27, 346, '28'], ['jbdoderlein/BetterOCaml', 302243, 27, 5, '279'], ['cosmicjs/vue-garage-sale', 124538, 27, 27, '35'], ['Spiderpig86/spottr', 45264, 27, 1317, '219'], ['baotlake/deep-reading', 22326, 27, 165, '250'], ['sozonome/pub-apis', 2499, 27, 33, '102'], ['felipe-jm/nextjs-boilerplate', 10265, 27, 42, '1922'], ['DingpingZhang/white-raven', 4258, 27, 24, '216'], ['unjs/workbox-cdn', 358, 27, 1, '44'], ['webdevstar/React-Ecommerce', 4934, 27, 297, '258'], ['topaxi/ember-service-worker-update-notify', 809, 27, 27, '59'], ['flyerq/minesweeper', 5310, 26, 24, '32'], ['bogas04/SikhJS', 63126, 26, 776, '256'], ['pankajladhar/speedy-math', 1993, 28, 1021, '65'], ['vaneenige/rainbow-explorer', 100, 26, 22, '15'], ['maccali/Apod.PWA', 2795, 26, 44, '239'], ['houssem-yahiaoui/progressive-web-app-starter-kit', 75, 26, 3, '43'], ['Alovoa/alovoa-android', 5934, 26, 2, '25'], ['fzn0x/reactplate', 1009, 26, 1107, '50'], ['ShenHongFei/dict', 4042, 26, 59, '7'], ['osamhack2020/WEB_KookbangFriends_Woowahan', 339062, 26, 40, '234'], ['breadsplit/breadsplit', 17425, 26, 3703, '1100'], ['seejamescode/global-upvote', 2075, 26, 20, '7'], ['negrel/nwotable', 4275, 26, 34, '122'], ['seanwu1105/ionic-pwa-example-moment', 47020, 26, 1703, '138'], ['pmbanugo/shopping-list', 763, 25, 679, '56'], ['bergpb/flask-pwa', 207, 25, 27, '16'], ['mehmettahameral/Blazor-wasm-pwa-camera', 244, 25, 7, '18'], ['quasarframework/quasar-hackernews', 1011, 25, 47, '22'], ['lyyourc/blog', 6549, 25, 36, '64'], ['Aniket762/playground', 1585, 25, 928, '153'], ['foumart/JS.13kGames', 751, 25, 17, '61'], ['englishextra/iframe-lightbox', 1228, 25, 20, '199'], ['Angular2Guy/AngularPwaMessenger', 3113, 25, 1291, '523'], ['michaeldera/edliz', 21875, 25, 1461, '925'], ['ovk/clcalc', 863, 25, 724, '275'], ['nieheyong/vue-tvideo', 2335, 25, 1162, '32'], ['mvysny/vaadin-kotlin-pwa', 2956, 25, 625, '283'], ['nanawel/our-shopping-list', 3217, 25, 47, '111'], ['jefrydco/nuxt-typescript-pwa-tailwindcss-composition-api', 1615, 25, 46, '59'], ['whitetigle/fable-pwa', 3081, 24, 475, '21'], ['fallaciousreasoning/progrssive', 9738, 24, 580, '951'], ['tmpo-io/tracks', 637, 24, 33, '78'], ['Sominemo/Mono-PWA', 14434, 24, 60, '104'], ['tbela99/gzip', 5689, 24, 19, '473'], ['mkhan004/angular7-series', 273, 24, 935, '7'], ['janispritzkau/loopover', 3697, 24, 1002, '258'], ['sylvainpolletvillard/pwa-cookbook', 12131, 24, 1250, '101'], ['NeuroWhAI/isekaidol-stream-noti', 2438, 24, 44, '189'], ['Jinjinov/TheLastTime', 634, 24, 26, '342'], ['corejam/corejam', 5560, 24, 212, '691'], ['aofdev/vue-input-streaming', 46, 24, 47, '8'], ['xiaoping6688/react-spa-project', 67, 24, 67, '27'], ['lsquires/open-iota', 2730, 24, 874, '41'], ['Mekurun/mekurun.com', 233710, 24, 24, '1087'], ['eagleoflqj/sympy_beta', 439, 24, 54, '172'], ['notangelmario/paquet', 3524, 24, 8, '412'], ['takuma-ru/vue-swipe-modal', 2056, 24, 24, '238'], ['ceit93/graduation-web', 3111, 24, 20, '432'], ['Beats0/Beats0.github.io', 11864, 24, 138, '92'], ['davikawasaki/iot-security-vulnerability', 1536, 24, 78, '40'], ['jkomoros/boardgame', 9567, 24, 479, '4397'], ['sandoche/LearningLab-website', 12174, 24, 1396, '267'], ['dotmind/react-use-pwa', 156, 23, 54, '13'], ['particle-iot/xmastree', 4797, 23, 22, '24'], ['ninjinkun/blog-feedback-app', 21464, 24, 87, '2555'], ['deliciousinsights/goal-tracker', 575, 23, 1321, '1'], ['jhonnyrogerb/angular-podcast-app', 535, 23, 53, '66'], ['0ql/Coffeetyper-Svelte', 226, 23, 18, '21'], ['olafsulich/E-commerce-Plants-Shop', 16153, 23, 29, '66'], ['hang-up/buuk', 11846, 23, 977, '534'], ['afonsopacifer/react-prpl-boilerplate', 1316, 23, 14, '5'], ['alex-saunders/ecmasyntax.io', 34329, 23, 952, '126'], ['Alex61NN5/angular-universal-pwa-heroku-starter', 2267, 23, 45, '114'], ['miladimos/semicolon', 64653, 23, 41, '51'], ['kiel-live/kiel-live', 3373, 23, 92, '759'], ['mazipan/vue-wwwid', 1438, 23, 37, '47'], ['safeimuslim/push-notifications-next-js', 12, 23, 10, '17'], ['gokulkrishh/fuel-price', 108, 22, 25, '17'], ['cansin/next-with-workbox', 1180, 22, 652, '41'], ['mezoistvan/angular-pwa-starter', 685, 22, 29, '22'], ['le0pard/vmail', 121252, 22, 110, '327'], ['rehhouari/rapide', 1031, 22, 32, '47'], ['SvenEV/Xamzor', 166, 22, 6, '31'], ['benji6/meditation-timer', 4654, 22, 7, '539'], ['jefrydco/jefrydco', 44161, 22, 94, '1081'], ['ragingwind/firebase-hackernews', 137, 22, 13, '81'], ['qdzungpham/redax-sounds', 20862, 22, 893, '33'], ['mateusfg7/Noisekun', 270859, 22, 42, '978'], ['tsirlucas/soundplace', 11489, 22, 70, '444'], ['Pinqua/Radon', 1885, 22, 27, '85'], ['teambtcmap/btcmap.org', 16224, 22, 27, '516'], ['marcosvidolin/vue-social-login', 4431, 22, 14, '57'], ['rock-solid/wordpress-pwacommerce', 891, 21, 6, '115'], ['AbFarid/daegmael', 2003, 21, 41, '26'], ['MichaelSolati/pwa.otta.dev', 4360, 21, 1557, '30'], ['wKovacs64/pwl', 16006, 21, 1137, '3224'], ['muniz95/duopettaja', 1954, 21, 196, '109'], ['le0pard/webp-wasm', 11321, 21, 76, '96'], ['0x00000001A/watosan', 1016, 21, 52, '55'], ['hackaru-app/hackaru-web', 9736, 21, 95, '3053'], ['erickbogarin/ios-homescreen', 9770, 21, 903, '49'], ['zubair-io/leto', 329, 21, 86, '38'], ['dailydotdev/daily-go', 4153, 21, 19, '67'], ['juliafealves/deciframe-pwa', 360, 21, 506, '17'], ['spicyboys/drg-completionist', 31258, 21, 50, '602'], ['webmaxru/bpm-counter', 5951, 20, 1646, '66'], ['LibertarianTeam/ancapsu', 7418, 19, 16, '189'], ['appsemble/appsemble', 49206, 20, 559, '10980'], ['pwafire/pwafireapp', 3774, 20, 795, '251'], ['zws-im/website', 5600, 20, 18, '1100'], ['andrewmmc/wtsapp.ga', 1814, 20, 1535, '3'], ['juandc/aerostore', 18557, 20, 20, '23'], ['mark-szabo/carwash', 30181, 20, 2426, '718'], ['OleksandrYehorov/minesweeper', 6085, 20, 864, '133'], ['ikhsanalatsary/next-react-boilerplate', 961, 20, 31, '45'], ['kalkih/singlyricly', 13000, 20, 1101, '489'], ['simicoder/ecommerce', 916, 20, 28, '29'], ['Atyantik/example-pawjs-material-ui', 554, 20, 1001, '6'], ['MrMYHuang/cbetar2', 106416, 20, 976, '999'], ['Akash1362000/News-Web-App', 12153, 20, 91, '48'], ['raucao/sharesome', 6163, 20, 1301, '245'], ['cmpct-io/frontend', 3649, 20, 26, '285'], ['Uvacoder/abc-ushare-it', 839, 20, 336, '101'], ['tecdrop/pwa-display-test', 513, 19, 340, '40'], ['RemeJuan/progressive-web-app-starter', 3117, 19, 74, '77'], ['Yancey-Blog/blog-desktop-v2', 16374, 19, 85, '1440'], ['jgw96/Wavex', 8712, 19, 363, '26'], ['coryrylan/ng-math', 280, 19, 38, '19'], ['operfildoluiz/worthit', 539, 19, 5, '9'], ['kirushenski/gatsby-starter-vadyan', 4298, 19, 60, '155'], ['coreyauger/tasktick', 24147, 19, 43, '25'], ['MohitSojitra/portfolio', 3215, 19, 1513, '17'], ['haikelfazzani/vconsole', 2349, 19, 13, '176'], ['solrachix/landing-page-template_4', 1384, 19, 20, '9'], ['jackbalageru/MERN-CRUD', 598, 19, 1393, '35'], ['statsim/app', 6517, 19, 1004, '241'], ['meanbee/magento2-webappmanifest', 12, 19, 4, '6'], ['0xGG/vscode-pwa', 28095, 19, 30, '28'], ['wcadena/gestor-inventarios-it', 72041, 19, 44, '609'], ['englishextra/englishextra.github.io', 90319, 19, 431, '32'], ['scriptified/scriptified.dev', 17227, 19, 34, '465'], ['Pinqua/Zinger', 10101, 19, 27, '40'], ['saadpasta/PWA-Olx-Clone', 3262, 18, 448, '8'], ['clem109/nextjs-koa-styledcomponents', 50, 18, 9, '8'], ['b31ngd3v/aniflix', 6822, 18, 682, '47'], ['restuwahyu13/react-boilerplate', 1760, 18, 112, '110'], ['Minishlink/DailyScrum', 9941, 19, 68, '455'], ['IBastawisi/math-editor', 12415, 18, 1331, '155'], ['Ryan-Gordon/Ionic-Firestarter', 1496, 18, 635, '23'], ['zhenbinjing/i-Cut', 49546, 18, 109, '1178'], ['DannyMoerkerke/webauthn-demo', 371, 18, 263, '5'], ['Minishlink/physbook', 3299, 18, 46, '1530'], ['sozonome/nextarter-tailwind', 1334, 18, 36, '61'], ['Xe/mi', 625, 18, 53, '105'], ['c2FmZQ/c2FmZQ', 2318, 18, 141, '368'], ['Gabriel-Paulucci/UmDiaProgramando', 651, 18, 13, '38'], ['satnaing/haru-fashion', 5573, 17, 643, '231'], ['xxczaki/currency-converter', 3006, 17, 28, '187'], ['codefest-iit-bhu/codefest-app', 39820, 17, 1350, '475'], ['Vue-Boilerplates/vue-typescript-boilerplate', 1838, 17, 33, '15'], ['victorheringer/planning-poker-deck', 6062, 17, 41, '190'], ['AdamBien/effectiveweb.training', 732, 17, 192, '85'], ['minhlucvan/nasa-images', 3288, 17, 101, '45'], ['borjapazr/angular-skeleton', 5433, 17, 1966, '55'], ['techiediaries/angular-pwa', 117, 17, 877, '3'], ['ofcyln/currency-exchange', 5733, 17, 1613, '240'], ['pedrorivald/gitdex', 9256, 17, 36, '113'], ['jamrants/donations', 1050, 17, 40, '350'], ['lava-jato-the-game/lava-jato-the-game', 94, 17, 151, '10'], ['abhisheknaiidu/iiitdmj-gpa', 3111, 17, 1562, '68'], ['gnss-sdr/geniuss-place', 74068, 17, 129, '3301'], ['egoist/create-poi-react-app', 64, 17, 14, '19'], ['ronffy/umi-dva-typescript-mock', 185, 17, 9, '27'], ['numToStr/site', 1591, 17, 11, '143'], ['imshubhamsingh/IPL-dashboard', 14707, 17, 1076, '33'], ['GDGSpain/gdg.es', 17665, 17, 14, '427'], ['vuefront/vuefront-nuxt', 1065, 17, 14, '170'], ['owsas/parse-offline', 131, 17, 9, '57'], ['sirixdb/sirix-web-frontend', 3665, 17, 30, '289'], ['dahnielson/parcel-plugin-workbox', 1029, 18, 8, '44'], ['joshxfi/track-as-one', 1269, 17, 39, '445'], ['ShadOoW/web-starter-kit', 3790, 17, 1157, '291'], ['fancy-flashcard/ffc', 6995, 17, 1276, '211'], ['emibcn/service-worker-updater', 2851, 17, 36, '534'], ['imranhsayed/pwa-concepts', 2690, 16, 23, '50'], ['HeratPatel/hnpwa', 7659, 16, 23, '672'], ['webmaxru/prog-web-news', 4016, 16, 951, '38'], ['mazipan/workbox-in-js-framework', 134, 16, 296, '53'], ['malokhvii-eduard/mod3d', 16656, 16, 57, '106'], ['6c65726f79/custom-titlebar', 1787, 16, 360, '419'], ['Snickdx/pwadocs', 3878, 16, 379, '26'], ['code-and-comment/code-and-comment', 1296, 16, 47, '502'], ['isair/notepad-pwa', 3392, 16, 1474, '71'], ['mauriciabad/custom-easings-with-keyframes', 2800, 16, 794, '255'], ['cosmicjs/react-pwa', 293, 16, 9, '18'], ['svenpanel/the-shrine-ng', 5946, 16, 15, '332'], ['Booligoosh/covid19nsw', 63489, 16, 1082, '586'], ['MatrixAges/testool', 8734, 16, 30, '73'], ['vuefront/create-vuefront-app', 305, 16, 144, '28'], ['xgqfrms/cdn', 869388, 16, 37, '1436'], ['grrd01/Puzzle', 1080203, 16, 522, '147'], ['4cm4k1/personal-website', 11803, 16, 29, '574'], ['goblin-laboratory/cra-multi-page-template', 3881, 17, 25, '17'], ['adrivelasco/graphql-pwa-workshop', 810, 16, 1151, '71'], ['ReactConf/nextjs-boilerplate-reactconf-ir2020', 6802, 16, 48, '9'], ['Open-Gamma-Project/Gamma-MCA', 5321, 16, 4, '356'], ['mash-up-kr/zibro', 4719, 18, 1179, '139'], ['ahampriyanshu/gonewz', 671, 16, 12, '25'], ['abdonrd/abdonrd.com', 5394, 16, 7, '511'], ['VEZwolle/wandelapp', 2405, 16, 1313, '4'], ['amazon-archives/aws-mobilehub-ember', 574, 16, 20, '37'], ['cuongdevjs/pull-to-refresh-react', 1889, 16, 1010, '33'], ['mcf1110/ionic-anhembi-2021.1', 26766, 16, 1073, '6'], ['phondani0/ecommerce_store', 1149, 16, 1942, '98'], ['stephenkingsley/hackerNews-pwa', 261, 17, 8, '21'], ['jefrydco/nuxt-pwa-tailwindcss-starter', 420, 16, 42, '10'], ['the-blue-alliance/the-blue-alliance-pwa', 2073, 16, 1398, '265'], ['firtadokei/ci-vue-appstarter', 214, 15, 16, '11'], ['intl-wc/intl', 675, 15, 1555, '50'], ['tanaypratap/polaris', 350, 15, 840, '59'], ['esn-tumi/app', 172450, 15, 211, '2060'], ['iamvdo/speedometer-pwa', 254, 15, 12, '47'], ['jordic/tracks_preact', 788, 15, 66, '60'], ['cajlonbatista/spacehunter', 3225, 15, 25, '208'], ['xrei/vue-ssr', 58, 15, 53, '66'], ['ibbatta/frontend-modern-boilerplate', 7039, 15, 50, '155'], ['Kirlovon/Simple-SSR', 2174, 17, 190, '92'], ['flysteur-dev/pager', 2525, 16, 12, '89'], ['gmatthewsfeuer/github-unfollow-checker', 1446, 15, 39, '39'], ['finogeeks/finclip-desktop-demo', 995, 15, 172, '31'], ['100lvlmaster/svelte-pwa', 501, 15, 16, '1'], ['murtuzaalisurti/qr', 181, 15, 205, '44'], ['dhormale/pwa_demo', 106, 16, 941, '6'], ['gabriel-hahn/billing-cycle-reactjs', 2369, 15, 915, '370'], ['chalu/smart-search', 2957, 15, 597, '104'], ['Monogramm/frappe_pwa', 4188, 15, 718, '48'], ['knrdl/bicimon', 140, 15, 2, '6'], ['leonardodino/forex-web-app', 4676, 17, 41, '58'], ['denar90/brunch-with-marionettejs', 223, 14, 14, '21'], ['saurshaz/pwa-meteor', 809, 14, 7, '2'], ['tomwayson/esri-preact-pwa', 622, 13, 25, '91'], ['nficano/nickficano.com', 5758, 14, 41, '93'], ['icelam/chinese-lorem-ipsum', 2602, 14, 1188, '10'], ['davidgaroro/vue-todo-pwa', 564, 14, 1062, '27'], ['taehwanno/hnpwa-react', 1203, 14, 107, '106'], ['arafatamim/waqt-web', 1136, 14, 21, '79'], ['vuestorefront/vue-storefront-1', 57409, 14, 213, '11944'], ['everton-dgn/next_styled_components_redux_tlk_pwa_boilerplate', 2025, 14, 71, '368'], ['jomurgel/project-acorn-ssr', 692, 14, 1107, '341'], ['cassiolpaixao90/boilerplate-react-redux-pwa', 1501, 14, 67, '73'], ['Warwick-Engineering-Society/PDR', 3105, 14, 191, '46'], ['taisuke-j/progress-ring-component', 10367, 14, 514, '114'], ['KaustubhDamania/SmallMedium', 8690, 14, 6, '29'], ['eteplus/giog', 864, 14, 65, '9'], ['honungsburk/atomic-swap', 6389, 14, 1835, '63'], ['evilfactorylabsarchive/nadya', 3567, 14, 24, '237'], ['satyawikananda/grammer-blog', 13064, 14, 21, '84'], ['gdgpisa/gdgpisa.github.io', 63178, 14, 35, '580'], ['ChristianTracy/cra-redux-boilerplate', 4574, 14, 19, '19'], ['m8524769/espacio', 15827, 14, 1244, '176'], ['MSakamaki/ngx-onesignal', 4569, 15, 4638, '33'], ['itsabdelrahman/phonetically', 1974, 16, 18, '44'], ['ofcyln/mortgage-expense-calculator', 12925, 14, 1298, '167'], ['devpato/angular-pwa-qrcode', 1534, 14, 948, '60'], ['zuixjs/zuix-web-book', 4212, 13, 479, '109'], ['Atyantik/example-pawjs-tailwind', 2441, 14, 936, '16'], ['dailymotion/camcorder', 1680, 14, 20, '13'], ['IncredibleWeb/React-PWA-Boilerplate', 215, 13, 1038, '23'], ['dmcd/pwa-demo', 912, 13, 34, '48'], ['mikegeyser/building-pwas-with-angular', 59431, 13, 710, '37'], ['andreruffert/javascript-questions', 3859, 13, 1114, '172'], ['mxjoly/react-ssr-setup', 7378, 13, 154, '74'], ['myanmartools/zawgyi-unicode-converter-pwa', 6871, 13, 1512, '1558'], ['operfildoluiz/pwact', 28, 13, 31, '24'], ['hello-efficiency-inc/openpeeps-generator', 2938, 15, 27, '61'], ['CIPHERTron/portfolio', 12145, 15, 23, '192'], ['ReporterOne/reporter', 9463, 13, 1045, '457'], ['OpenSooq/react-mic-record', 389, 13, 7, '16'], ['zhmushan/gif-generator', 7803, 13, 39, '26'], ['L4fv/whatsapp-click-to-chat', 1863, 13, 940, '21'], ['jauhl/mecEdit', 10684, 13, 4, '147'], ['ayndqy/notecards', 1187, 13, 85, '18'], ['Jozwiaczek/smart-gate', 11649, 13, 198, '1035'], ['TeamPiickle/client', 6611, 13, 60, '1033'], ['heddendorp/tumi-app', 162644, 13, 128, '1026'], ['sebastian-software/app-manifest-loader', 3669, 13, 1027, '141'], ['rotimi-best/sveltedoc', 374, 13, 454, '29'], ['mertguvencli/quicktext', 915, 13, 10, '26'], ['Ncookiez/sveltekit-pwa-template', 2972, 13, 8, '12'], ['vanishcode/lavas-cnode', 4251, 13, 67, '31'], ['lencx/gg', 1184, 13, 27, '51'], ['LasaleFamine/http-server-pwa', 3896, 14, 15, '191'], ['Dear-Blueno/dearblueno', 4814, 13, 1411, '771'], ['irkvuz/schedule', 48034, 13, 45, '1308'], ['cescoferraro/react-boil', 839, 13, 86, '92'], ['john-doherty/notch-detected-event', 415, 13, 505, '14'], ['zhongzhi107/universal-react-starter-kit', 1086, 13, 79, '305'], ['sempostma/atc-manager-2', 7911, 17, 1572, '71'], ['cTxplorer/whatsapp-anyone', 1482, 13, 765, '42'], ['diballesteros/nuzlocke', 10049, 13, 59, '734'], ['edisonneza/react-blog', 3001, 13, 26, '69'], ['dima-horror/lighthouse.net', 47, 13, 4, '20'], ['alhazmy13/pwa-angular4', 81, 13, 34, '3'], ['shopgate/pwa', 35595, 13, 335, '16448'], ['elasticpath/epcc-react-pwa-reference-storefront', 105777, 13, 30, '92'], ['mayeedwin/profile', 10611, 12, 1, '67'], ['gauravbehere/pwa-starter-demo', 104, 12, 48, '29'], ['pacoita/modern-web', 5140, 12, 1052, '115'], ['AbubakerSaeed/react-todo-list', 4193, 12, 6, '2']]\n"
          ]
        }
      ],
      "source": [
        "CAMINHOSPWA=[]\n",
        "paginacao('search/repositories','''topic:pwa\n",
        " -topic:flutter -topic:nativescript -topic:cordova -topic:capacitor -topic:react-native -topic:xamarin sort:stars''',1,CAMINHOSPWA,[])\n",
        "CAMINHOSPWA=reposAddElem(CAMINHOSPWA,['size','stargazers_count'])\n",
        "print(len(CAMINHOSPWA),CAMINHOSPWA)\n",
        "CAMINHOSPWA=contaDepRepos(CAMINHOSPWA)\n",
        "print(len(CAMINHOSPWA),CAMINHOSPWA)\n",
        "CAMINHOSPWA=contaCommitRepos(CAMINHOSPWA)\n",
        "print(len(CAMINHOSPWA),CAMINHOSPWA)"
      ]
    },
    {
      "cell_type": "markdown",
      "metadata": {
        "id": "6VxSHkC3qPEx"
      },
      "source": [
        "Híbrido"
      ]
    },
    {
      "cell_type": "markdown",
      "metadata": {
        "id": "6N0Gpa3wp7EJ"
      },
      "source": [
        "cordova"
      ]
    },
    {
      "cell_type": "code",
      "execution_count": null,
      "metadata": {
        "colab": {
          "base_uri": "https://localhost:8080/"
        },
        "id": "Ahuq28fgp8Ox",
        "outputId": "b6d77042-a28b-4254-ebee-df9942849b7c"
      },
      "outputs": [
        {
          "output_type": "stream",
          "name": "stdout",
          "text": [
            "2394\n"
          ]
        }
      ],
      "source": [
        "response=requests.get(SITE+'search/repositories'+'?q='+'''topic:cordova -topic:capacitor\n",
        "-topic:flutter -topic:pwa -topic:xamarin -topic:react-native -topic:native-script sort:stars''',auth=tokenAuth)\n",
        "data=response.json()\n",
        "if 'total_count' in data:\n",
        "  print(data['total_count'])"
      ]
    },
    {
      "cell_type": "markdown",
      "metadata": {
        "id": "IDHTee-u_HwD"
      },
      "source": [
        "capacitor"
      ]
    },
    {
      "cell_type": "code",
      "execution_count": null,
      "metadata": {
        "colab": {
          "base_uri": "https://localhost:8080/"
        },
        "id": "bO3NhXAD_JmL",
        "outputId": "611e5296-3905-4a8a-e066-f487c7fd7522"
      },
      "outputs": [
        {
          "output_type": "stream",
          "name": "stdout",
          "text": [
            "542\n"
          ]
        }
      ],
      "source": [
        "response=requests.get(SITE+'search/repositories'+'?q='+'''topic:capacitor \n",
        "-topic:flutter -topic:reactjs -topic:react-native -topic:xamarin -topic:cordova -topic:pwa sort:stars''',auth=tokenAuth)\n",
        "data=response.json()\n",
        "if 'total_count' in data:\n",
        "  print(data['total_count'])"
      ]
    },
    {
      "cell_type": "code",
      "execution_count": null,
      "metadata": {
        "colab": {
          "base_uri": "https://localhost:8080/"
        },
        "id": "4sSH2PfMy3pn",
        "outputId": "11fde30d-e2da-47a9-8747-dde4740f3460"
      },
      "outputs": [
        {
          "output_type": "stream",
          "name": "stdout",
          "text": [
            "{'message': 'API rate limit exceeded for user ID 44467278.', 'documentation_url': 'https://docs.github.com/rest/overview/resources-in-the-rest-api#rate-limiting'}\n",
            "{'message': 'Only the first 1000 search results are available', 'documentation_url': 'https://docs.github.com/v3/search/'}\n",
            "227 51\n",
            "50 repositórios filtrados\n",
            "100 repositórios filtrados\n",
            "150 repositórios filtrados\n",
            "200 repositórios filtrados\n",
            "250 repositórios filtrados\n",
            "278 repositórios filtrados\n",
            "50 repositórios filtrados\n",
            "100 repositórios filtrados\n",
            "150 repositórios filtrados\n",
            "200 repositórios filtrados\n",
            "250 repositórios filtrados\n",
            "278 repositórios filtrados\n",
            "277 [['framework7io/framework7', 102716, 16982, 923, '6665'], ['Jigsaw-Code/outline-client', 560467, 7289, 1772, '1006'], ['melonjs/melonJS', 95083, 4270, 873, '6279'], ['apache/cordova-android', 37740, 3416, 376, '4045'], ['danielsogl/awesome-cordova-plugins', 32402, 2256, 1121, '4409'], ['apache/cordova-ios', 32157, 2076, 420, '3917'], ['halfrost/vue-objccn', 67016, 2004, 1040, '106'], ['mapsplugin/cordova-plugin-googlemaps', 132295, 1647, 4, '4669'], ['tus/tus-js-client', 12713, 1565, 56, '584'], ['quasarframework/quasar-awesome', 360, 1409, 0, '287'], ['katzer/cordova-plugin-background-mode', 11501, 1366, 0, '229'], ['lean/phaser-es6-webpack', 2337, 1291, 786, '85'], ['deadlyjack/Acode', 24087, 1212, 502, '307'], ['xu-li/cordova-plugin-wechat', 48176, 1210, 1, '196'], ['apache/cordova-plugin-inappbrowser', 1898, 1069, 207, '689'], ['arnesson/cordova-plugin-firebase', 253466, 1001, 0, '644'], ['apache/cordova-plugin-camera', 1773, 932, 209, '704'], ['apache/cordova-cli', 40676, 898, 592, '1374'], ['candelibas/awesome-ionic', 76, 830, 0, '75'], ['chrisben/imgcache.js', 509, 824, 130, '202'], ['BelinChung/HiApp', 2499, 783, 1052, '148'], ['EddyVerbruggen/Calendar-PhoneGap-Plugin', 606, 759, 0, '361'], ['apache/cordova-plugin-file', 2313, 715, 211, '720'], ['floatinghotpot/cordova-admob-pro', 288335, 703, 0, '276'], ['CS-Tao/whu-library-seat-mobile', 10325, 690, 67, '174'], ['cordova-rtc/cordova-plugin-iosrtc', 319746, 678, 629, '1240'], ['mwaylabs/generator-m-ionic', 4581, 675, 67, '668'], ['microsoft/cordova-plugin-code-push', 1605, 648, 619, '598'], ['transistorsoft/cordova-background-geolocation-lt', 538511, 639, 4, '545'], ['caiobiodere/cordova-template-framework7-vue-webpack', 478, 629, 40, '198'], ['apache/cordova-plugin-splashscreen', 786, 629, 204, '410'], ['apache/cordova-plugin-geolocation', 655, 619, 211, '340'], ['apache/cordova-js', 12956, 615, 530, '2011'], ['apache/cordova-plugin-wkwebview-engine', 242, 614, 178, '154'], ['apache/cordova-plugin-statusbar', 482, 599, 188, '307'], ['apache/cordova-plugin-file-transfer', 1246, 583, 434, '525'], ['EddyVerbruggen/cordova-plugin-googleplus', 25559, 567, 3, '298'], ['cordova-plugin-camera-preview/cordova-plugin-camera-preview', 10435, 560, 0, '594'], ['bitpay/cordova-plugin-qrscanner', 2516, 558, 576, '134'], ['g0v/moedict-webkit', 168886, 537, 800, '1505'], ['apache/cordova-weinre', 5358, 520, 0, '208'], ['EddyVerbruggen/Toast-PhoneGap-Plugin', 2038, 508, 0, '149'], ['ratson/cordova-plugin-admob-free', 13321, 507, 49, '333'], ['john-doherty/swiped-events', 523, 478, 548, '48'], ['ionic-team/cordova-plugin-ionic-webview', 614, 462, 9, '425'], ['apache/cordova-plugin-network-information', 444, 449, 207, '300'], ['apache/cordova-plugin-whitelist', 130, 449, 0, '97'], ['apache/cordova', 44, 445, 2, '40'], ['Xmader/aria-ng-gui-android', 4169, 432, 281, '43'], ['apache/cordova-plugman', 5482, 391, 516, '1042'], ['apache/cordova-plugin-media', 1088, 370, 182, '440'], ['shekit/peeqo-robot', 187503, 369, 23, '224'], ['apache/cordova-plugin-device', 507, 367, 208, '329'], ['giantss/cordova-plugin-ImagePicker', 7247, 352, 2, '146'], ['meteor/mobile-packages', 1091, 338, 221, '143'], ['liupeijun/vue2-hybridapp-haoshiqi', 11883, 337, 47, '22'], ['apache/cordova-docs', 211672, 335, 769, '3341'], ['isleofcode/corber', 5858, 333, 37, '1991'], ['kartsims/vue-cordova', 215, 331, 7, '25'], ['apache/cordova-plugin-media-capture', 2991, 290, 211, '342'], ['NiklasMerz/cordova-plugin-fingerprint-aio', 789, 288, 3, '481'], ['apache/cordova-plugin-dialogs', 621, 286, 211, '312'], ['Riron/ionic-img-viewer', 2949, 286, 14, '117'], ['busterc/awesome-cordova', 28, 281, 0, '48'], ['srtucker22/glipchat', 44016, 281, 50, '458'], ['microsoft/vscode-cordova', 16485, 280, 1204, '1177'], ['floatinghotpot/cordova-httpd', 224, 279, 0, '39'], ['EddyVerbruggen/cordova-plugin-native-keyboard', 25571, 275, 0, '118'], ['cowbell/cordova-plugin-geofence', 3592, 265, 1, '245'], ['gautamsi/ews-javascript-api', 8494, 264, 192, '425'], ['apache/cordova-plugins', 12945, 243, 0, '223'], ['CordovaCn/CordovaCn', 8071, 240, 0, '383'], ['apache/cordova-osx', 17713, 235, 348, '277'], ['OneSignal/OneSignal-Cordova-SDK', 2883, 230, 0, '371'], ['floatinghotpot/cordova-plugin-nativeaudio', 2989, 230, 0, '160'], ['BranchMetrics/cordova-ionic-phonegap-branch-deep-linking-attribution', 106611, 229, 151, '1593'], ['logicalhacking/DVHMA', 12226, 226, 0, '42'], ['apache/cordova-lib', 53946, 221, 612, '3539'], ['apache/cordova-plugin-contacts', 912, 213, 1, '440'], ['EddyVerbruggen/cordova-plugin-touch-id', 639, 212, 0, '43'], ['samarthagarwal/wooionic3', 23285, 212, 34, '53'], ['akoidan/pychat', 11647, 209, 99, '2838'], ['unimonkiez/react-cordova-boilerplate', 3180, 209, 54, '149'], ['paulsutherland/Polyonic', 102099, 207, 1346, '193'], ['fishme/awesome-ionic2-components', 41, 205, 0, '38'], ['apache/cordova-windows', 39650, 204, 294, '648'], ['apache/cordova-plugin-screen-orientation', 283, 202, 201, '208'], ['sarriaroman/FabricPlugin', 38374, 201, 2, '118'], ['akFace/vue-movie', 10201, 188, 66, '78'], ['apache/cordova-app-hello-world', 13689, 187, 0, '194'], ['charleyw/cordova-plugin-alipay', 31062, 180, 0, '46'], ['sitewaerts/cordova-plugin-document-viewer', 20525, 172, 5, '197'], ['Scandit/barcodescanner-sdk-cordova', 6410, 170, 1081, '684'], ['cjpearson/cordova-plugin-keyboard', 138, 171, 0, '66'], ['johnkmzhou/cordova-create-react-app', 96, 165, 38, '7'], ['floatinghotpot/coding-to-monetization', 4344, 163, 0, '132'], ['apache/cordova-node-xcode', 1402, 161, 336, '400'], ['xseignard/cordovarduino', 9002, 160, 0, '83'], ['apache/cordova-browser', 10031, 153, 404, '203'], ['edimuj/cordova-plugin-audioinput', 168, 151, 0, '87'], ['seasonstar/bibi-ionic', 10328, 150, 140, '10'], ['apache/cordova-plugin-console', 141, 146, 1, '152'], ['MobileUI/components', 6768, 146, 127, '249'], ['oracle/cordova-plugin-wkwebview-file-xhr', 97, 139, 1, '58'], ['DmcSDK/cordova-plugin-mediaPicker', 40528, 140, 0, '216'], ['cozy/cozy-drive', 476507, 137, 101, '6475'], ['apache/cordova-plugin-globalization', 5380, 137, 7, '236'], ['pmwisdom/cordova-background-geolocation-services', 132, 135, 0, '109'], ['Involt/Involt', 2898, 132, 0, '109'], ['fluster-app/fluster-app', 6245, 129, 1138, '341'], ['smartapant/ionic2-reddit-reader', 1032, 127, 19, '53'], ['Justin-Credible/Ionic-TypeScript-Starter', 3569, 124, 35, '246'], ['chihu-team/chihu2', 79411, 123, 69, '46'], ['friimaind/pi-hole-droid', 8376, 121, 4, '53'], ['apache/cordova-plugin-vibration', 728, 120, 207, '335'], ['tripflex/WifiWizard2', 207, 116, 3, '104'], ['akofman/cordova-plugin-add-swift-support', 3660, 112, 10, '67'], ['bamlab/fastlane-plugin-cordova', 58, 113, 6, '55'], ['bsorrentino/cordova-broadcaster', 10171, 111, 148, '221'], ['bykof/cordova-plugin-webserver', 352, 107, 632, '73'], ['timbru31/cordova-plugin-lottie-splashscreen', 11424, 106, 491, '651'], ['framework7io/framework7-template-react', 633, 105, 9, '44'], ['cesarvr/pdf-generator', 2713, 104, 0, '122'], ['apache/cordova-electron', 8140, 102, 559, '233'], ['thompsonemerson/ionic-collection', 711, 101, 3, '44'], ['yasirkula/UnityIonicIntegration', 475, 100, 0, '29'], ['Cloudoki/ImageDetectionCordovaPlugin', 271978, 100, 0, '41'], ['720kb/BitNFC', 3890, 96, 9, '363'], ['apache/cordova-plugin-battery-status', 420, 95, 207, '240'], ['zyra/cordova-plugin-stripe', 32976, 94, 5, '150'], ['intercom/intercom-cordova', 201379, 93, 116, '366'], ['beevelop/docker-ionic', 29, 92, 7, '97'], ['AxGord/Pony', 9706, 91, 0, '1217'], ['an-rahulpandey/cordova-plugin-dbcopy', 86, 90, 0, '94'], ['TruckMovers/cordova-plugin-remote-injection', 48, 90, 0, '31'], ['juancarlospaco/webgui', 2031, 90, 4, '184'], ['cmackay/google-analytics-plugin', 49839, 90, 2, '106'], ['arcoirislabs/cordova-plugin-mqtt', 125, 86, 0, '105'], ['framework7io/framework7-cli', 17344, 86, 814, '396'], ['azerion/phaser-ads', 3565, 85, 314, '150'], ['apache/cordova-wp8', 10193, 83, 8, '1164'], ['framework7io/framework7-template-vue-simple', 2974, 82, 104, '15'], ['NeutrinosPlatform/cordova-plugin-document-scanner', 32276, 80, 0, '85'], ['JSalaat/TheFoodShop', 4120, 80, 8, '26'], ['STS-Rosario/carpoolear', 11906, 79, 1216, '739'], ['ETENG-OSP/xgpush-cordova', 25530, 78, 2, '83'], ['HMS-Core/hms-cordova-plugin', 12950, 78, 634, '166'], ['cordova-plugin-camera-preview/cordova-plugin-camera-preview-sample-app', 3307, 77, 0, '39'], ['framework7io/framework7-plugin-keypad', 2674, 73, 487, '44'], ['imouou/BUI-Guide', 44846, 73, 35, '80'], ['growu/drip-ionic3', 42499, 72, 1036, '131'], ['Justin-Credible/Ionic-TypeScript-MDHA-Starter', 7943, 71, 29, '157'], ['apache/cordova-plugin-test-framework', 2987, 70, 200, '151'], ['beevelop/docker-cordova', 27, 70, 7, '54'], ['twogate/cordova-plugin-sign-in-with-apple', 36, 70, 0, '38'], ['TheMushrr00m/cordovue', 2787, 69, 32, '18'], ['GetuiLaboratory/cordova-plugin-getuisdk', 132136, 67, 0, '98'], ['okode/movies-app', 11350, 68, 995, 995], ['MetinSeylan/Kaput', 54, 68, 55, '19'], ['apache/cordova-plugin-device-motion', 459, 67, 207, '274'], ['meteor/cordova-plugin-meteor-webapp', 9197, 67, 855, '192'], ['jdnichollsc/Ionic-ElastiChat-with-Images', 5339, 67, 19, '22'], ['zsxsoft/cordova-plugin-x5-tbs', 1410, 65, 0, '16'], ['ExpeditionRPG/expedition', 207929, 65, 159, '2893'], ['getsentry/sentry-cordova', 584, 64, 44, '232'], ['apache/cordova-mobile-spec', 3313, 63, 3, '846'], ['972784674t/quasar-manage', 5961, 62, 186, '55'], ['kotarella1110/cordova-plugin-webpack', 33578, 60, 1161, '952'], ['zoro-r/vue-mobile-mint', 17906, 59, 100, '82'], ['ionic-team/angular-toolkit', 3124, 59, 1325, '134'], ['nakulkundaliya/ionic-3-video-calling-using-webrtc', 1884, 58, 41, '4'], ['framework7io/framework7-plugin-3d-panels', 992, 58, 587, '20'], ['apache/cordova-qt', 399, 57, 0, '137'], ['didinj/ionic4-angular7-example', 171, 57, 914, '9'], ['tonib/kaichronicles', 5474, 57, 857, '1216'], ['kristofferandreasen/simple-ionic-3-app', 5982, 57, 19, '20'], ['supertorpe/chessendgametraining', 11231, 57, 61, '142'], ['marcoturi/ionic-docker', 41, 56, 0, '50'], ['apache/cordova-plugin-device-orientation', 409, 54, 207, '230'], ['didinj/ionic3-angular4-sample-app', 1014, 35, 19, '6'], ['aerogear/aerogear-cordova-push', 9700, 34, 0, '335'], ['framework7io/framework7-template-single-view', 3061, 34, 94, '22'], ['EasyTuan/ionic-cordova-demo', 14899, 34, 84, '112'], ['MBuchalik/cordova-build-architecture', 12, 34, 0, '30'], ['gurisko/cordova-plugin-accountkit', 27348, 34, 4, '40'], ['phonegap/phonegap-template-vue-f7-blank', 12049, 32, 46, '71'], ['xfally/cordova-plugin-ftp', 197, 33, 113, '75'], ['yantrab/nest-angular', 7786, 33, 369, '524'], ['enterlab/cordevicljs', 6898, 33, 0, '53'], ['apache/cordova-paramedic', 1868, 32, 418, '416'], ['tolu360/cordova-plugin-paystack', 1794, 32, 0, '82'], ['mikaoelitiana/cordova-ios-plugin-no-export-compliance', 10, 31, 0, '25'], ['apache/cordova-common', 1090, 31, 370, '298'], ['phonegap/phonegap-template-vue-f7-tabs', 11888, 31, 864, '52'], ['hc-oss/ionic-resource-generator', 107, 31, 8, '22'], ['busterc/cordova-resource-generators', 20, 31, 0, '7'], ['paulstelzer/cordova-plugin-ml-kit', 1334, 30, 48, '27'], ['apache/cordova-tizen', 12890, 31, 0, '55'], ['PeterHdd/cordova-plugin-crypto-file', 28, 30, 0, '20'], ['apache/cordova-coho', 2438, 29, 588, '1023'], ['hhfa008/SwiftJSBridge', 77, 29, 0, '16'], ['airamrguez/cordova-plugin-realm', 23403, 29, 12, '80'], ['dmedvinsky/cordova-startapp', 111, 29, 0, '9'], ['RootSoft/Create-a-custom-Cordova-plugin', 6, 30, 0, '2'], ['feedhenry/mobile-security', 3253, 28, 16, '197'], ['liangminhua/cordova-posprinter-sample', 2008, 27, 8, '17'], ['akofman/cordova-plugin-permissionScope', 55, 27, 8, '30'], ['hajirodeon/daftarkaryaku', 651, 27, 0, '62'], ['mwaylabs/generator-m-ionic-demo', 334, 27, 50, '173'], ['zyra/cordova-plugin-linkedin', 714, 17, 0, '45'], ['Scratch-Client-4/itchy-cordova', 1189, 17, 1087, '102'], ['PeeJeeDR/phaser-3-webpack-cordova', 716, 17, 18, '39'], ['appodeal/appodeal-cordova-plugin', 1163226, 18, 3, '100'], ['mnasyrov/cryptobench-js', 1168, 17, 697, '25'], ['akofman/cordova-plugin-boilerplate', 132, 16, 0, '15'], ['oracle/cordova-plugin-emm-app-config', 15, 16, 1, '13'], ['hanatharesh2712/ionic-native-sms-retriever-plugin-master', 34, 18, 0, '45'], ['zwilias/elm-cordova-intro', 9459, 16, 8, '12'], ['ModusCreateOrg/cordova-swift-plugin-example', 5, 16, 0, '7'], ['ioBroker/ioBroker.vis.cordova', 22567, 16, 87, '209'], ['apache/cordova-medic', 989, 17, 16, '492'], ['isleofcode/ember-cordova', 3167, 16, 38, '1366'], ['phonegap/phonegap-template-vue-f7-split-panel', 11974, 17, 861, '60'], ['didinj/ionic4-image-crop-upload', 1418, 16, 926, '6'], ['Coware-Apps/ellenorzo', 11825, 16, 1003, '80'], ['Wiseonesoft/cordova-whatsapp-sticker-plugin', 2542, 16, 729, '71'], ['NativeScript/NativeScript', 109665, 21819, 154, '7117'], ['lichess-org/lichobile', 88327, 1579, 802, '6949'], ['mlynch/nextjs-tailwind-ionic-capacitor-starter', 5686, 1008, 458, '104'], ['XRFoundation/XREngine', 1733779, 529, 569, '1222'], ['iotaledger/firefly', 292997, 405, 166, '1359'], ['ionic-team/capacitor-assets', 5203, 342, 1033, '129'], ['riderx/awesome-capacitor', 382, 228, 3, '108'], ['capacitor-community/sqlite', 32734, 228, 361, '512'], ['capacitor-community/electron', 10543, 218, 2176, '843'], ['capacitor-community/http', 12492, 205, 1743, '155'], ['capacitor-community/fcm', 14118, 204, 64, '219'], ['capacitor-community/react-hooks', 4483, 204, 750, '88'], ['6c65726f79/Transmissionic', 14558, 167, 1521, '2766'], ['capawesome-team/capacitor-firebase', 1100, 166, 677, '211'], ['moberwasserlechner/capacitor-oauth2', 1009, 165, 368, '211'], ['ionic-team/trapeze', 22131, 155, 3196, '441'], ['capacitor-community/bluetooth-le', 1898, 145, 689, '246'], ['capacitor-community/vue-cli-plugin-capacitor', 366, 135, 10, '48'], ['capacitor-community/firebase-analytics', 588, 128, 397, 397], ['ionic-team/ionifits', 18700, 122, 1016, '84'], ['capacitor-community/stripe', 17146, 119, 4834, '648'], ['ionic-team/tutorial-photo-gallery-angular', 2187, 113, 1253, '41'], ['ionicthemes/ionic5-firebase-authentication', 4210, 105, 1790, '22'], ['getsentry/sentry-capacitor', 12247, 99, 1252, '213'], ['danielsogl/capacitor-face-id', 4063, 93, 186, '279'], ['capawesome-team/capacitor-app-update', 718, 88, 444, '72'], ['TeamMaestro/app-starter', 7606, 76, 1619, '32'], ['rfprod/nx-ng-starter', 32664, 74, 676, '983'], ['capacitor-community/keep-awake', 607, 72, 446, '51'], ['calvinckho/capacitor-jitsi-meet', 34853, 69, 116, '237'], ['capacitor-community/tauri', 3322, 67, 2077, '54'], ['ionic-team/tutorial-photo-gallery-react', 1414, 65, 1505, '32'], ['abritopach/angular-ionic-ngxs-movies', 73300, 64, 1200, '274'], ['capacitor-community/firebase-crashlytics', 459, 62, 461, '157'], ['capacitor-community/text-to-speech', 834, 56, 443, '120'], ['moberwasserlechner/capacitor-filesharer', 391, 55, 373, '38'], ['wagiminator/ATmega-Transistor-Tester', 5186, 52, 0, '9'], ['ionic-team/tutorial-photo-gallery-vue', 1837, 49, 1546, '16'], ['dlodeprojuicer/ionic-vue-mobile-template-01', 4865, 47, 29, '37'], ['capawesome-team/capacitor-background-task', 746, 42, 440, '45'], ['aparajita/capacitor-splash-screen', 456, 42, 33, '65'], ['capacitor-community/media', 715, 39, 364, '53'], ['capacitor-community/intercom', 945, 38, 1804, '163'], ['techiediaries/vue-capacitor-ionic-app', 489, 37, 975, '3'], ['capacitor-community/privacy-screen', 503, 36, 443, '73'], ['capacitor-community/app-icon', 13098, 35, 591, '87'], ['gavinlyonsrepo/LCR_meter', 291, 35, 0, '13'], ['productdevbook/full-stack-monorepo', 4779, 32, 278, '56'], ['abritopach/capacitor-youtube-player', 49237, 31, 3836, '327'], ['Cap-go/capacitor-purchases', 19432, 26, 330, '174'], ['W4G1/ionic-vue-starter', 131, 24, 909, '6']]\n"
          ]
        }
      ],
      "source": [
        "CAMINHOSHIBRIDO=[]\n",
        "CAMINHOSCORDOVA=[]\n",
        "CAMINHOSCAPACITOR=[]\n",
        "tam1=[]\n",
        "tam2=[]\n",
        "paginacao('search/repositories','''topic:cordova -topic:capacitor\n",
        "-topic:flutter -topic:pwa -topic:xamarin -topic:react-native -topic:native-script sort:stars''',1,CAMINHOSCORDOVA,tam1)\n",
        "paginacao('search/repositories','''topic:capacitor -topic:flutter \n",
        "-topic:reactjs -topic:react-native -topic:xamarin -topic:cordova -topic:pwa sort:stars''',1,CAMINHOSCAPACITOR,tam2)\n",
        "proporcao(tam1,tam2,278)\n",
        "print(tam1[0],tam2[0])\n",
        "CAMINHOSHIBRIDO=CAMINHOSCORDOVA[:tam1[0]]+CAMINHOSCAPACITOR[:tam2[0]]\n",
        "CAMINHOSHIBRIDO=reposAddElem(CAMINHOSHIBRIDO,'size')\n",
        "CAMINHOSHIBRIDO=reposAddElem(CAMINHOSHIBRIDO,'stargazers_count')\n",
        "CAMINHOSHIBRIDO=contaDepRepos(CAMINHOSHIBRIDO)\n",
        "CAMINHOSHIBRIDO=contaCommitRepos(CAMINHOSHIBRIDO)\n",
        "print(len(CAMINHOSHIBRIDO),CAMINHOSHIBRIDO)"
      ]
    },
    {
      "cell_type": "markdown",
      "metadata": {
        "id": "hp6HHwuXqaUx"
      },
      "source": [
        "Nativo"
      ]
    },
    {
      "cell_type": "markdown",
      "metadata": {
        "id": "glJZUFmCp87J"
      },
      "source": [
        "android"
      ]
    },
    {
      "cell_type": "code",
      "execution_count": null,
      "metadata": {
        "colab": {
          "base_uri": "https://localhost:8080/"
        },
        "id": "GpP4zs2Hp_XA",
        "outputId": "9ab5e714-2746-4557-a43b-7c9f17e5d270"
      },
      "outputs": [
        {
          "output_type": "stream",
          "name": "stdout",
          "text": [
            "87154\n"
          ]
        }
      ],
      "source": [
        "response=requests.get(SITE+'search/repositories'+'?q='+'''topic:android -topic:capacitor -topic:cordova\n",
        "-topic:flutter -topic:pwa -topic:react-native -topic:xamarin -topic:nativescript -topic:ios sort:stars''',auth=tokenAuth)\n",
        "data=response.json()\n",
        "if 'total_count' in data:\n",
        "  print(data['total_count'])"
      ]
    },
    {
      "cell_type": "markdown",
      "metadata": {
        "id": "CNx2ZWrz9C1D"
      },
      "source": [
        "ios"
      ]
    },
    {
      "cell_type": "code",
      "execution_count": null,
      "metadata": {
        "colab": {
          "base_uri": "https://localhost:8080/"
        },
        "id": "6ygBZ9Br9A9D",
        "outputId": "99866723-bf55-45b5-a64d-411f4639ff61"
      },
      "outputs": [
        {
          "output_type": "stream",
          "name": "stdout",
          "text": [
            "26808\n"
          ]
        }
      ],
      "source": [
        "response=requests.get(SITE+'search/repositories'+'?q='+'''topic:ios -topic:capacitor -topic:cordova\n",
        "-topic:flutter -topic:pwa -topic:react-native -topic:xamarin -topic:nativescript -topic:android sort:stars''',auth=tokenAuth)\n",
        "data=response.json()\n",
        "if 'total_count' in data:\n",
        "  print(data['total_count'])"
      ]
    },
    {
      "cell_type": "code",
      "execution_count": null,
      "metadata": {
        "colab": {
          "base_uri": "https://localhost:8080/"
        },
        "id": "SaCd0TT55WNd",
        "outputId": "f414149a-4b0d-423f-8373-0b832df5e754"
      },
      "outputs": [
        {
          "output_type": "stream",
          "name": "stdout",
          "text": [
            "{'message': 'API rate limit exceeded for user ID 44467278.', 'documentation_url': 'https://docs.github.com/rest/overview/resources-in-the-rest-api#rate-limiting'}\n",
            "{'message': 'Only the first 1000 search results are available', 'documentation_url': 'https://docs.github.com/v3/search/'}\n",
            "{'message': 'API rate limit exceeded for user ID 44467278.', 'documentation_url': 'https://docs.github.com/rest/overview/resources-in-the-rest-api#rate-limiting'}\n",
            "{'message': 'Only the first 1000 search results are available', 'documentation_url': 'https://docs.github.com/v3/search/'}\n",
            "213 65\n",
            "50 repositórios filtrados\n",
            "100 repositórios filtrados\n",
            "150 repositórios filtrados\n",
            "200 repositórios filtrados\n",
            "250 repositórios filtrados\n",
            "278 repositórios filtrados\n",
            "50 repositórios filtrados\n",
            "100 repositórios filtrados\n",
            "150 repositórios filtrados\n",
            "200 repositórios filtrados\n",
            "250 repositórios filtrados\n",
            "278 repositórios filtrados\n",
            "275 [['Genymobile/scrcpy', 3805, 73399, 0, '1809'], ['Hack-with-Github/Awesome-Hacking', 165, 58518, 0, '115'], ['wasabeef/awesome-android-ui', 871781, 44615, 0, '459'], ['square/okhttp', 47755, 43191, 9, '5226'], ['android/architecture-samples', 14195, 41835, 7, '776'], ['square/retrofit', 5688, 40825, 10, '1960'], ['PhilJay/MPAndroidChart', 21720, 35842, 2, '2070'], ['airbnb/lottie-android', 136179, 33391, 4, '1453'], ['bumptech/glide', 95046, 33156, 5, '2757'], ['shadowsocks/shadowsocks-android', 53335, 33098, 0, '3659'], ['skylot/jadx', 19682, 32376, 14, '1872'], ['Blankj/AndroidUtilCode', 47327, 31606, 6, '1430'], ['Trinea/android-open-project', 2042, 31104, 0, '956'], ['zxing/zxing', 241439, 30419, 86, '3682'], ['square/leakcanary', 135117, 28035, 10, '2002'], ['codepath/android_guides', 1100, 27959, 0, '62'], ['alibaba/fastjson', 15499, 25092, 71, '3976'], ['scwang90/SmartRefreshLayout', 273318, 23946, 0, '1111'], ['CymChad/BaseRecyclerViewAdapterHelper', 65329, 23250, 0, '1235'], ['TeamNewPipe/NewPipe', 63517, 22064, 10, '10348'], ['google/iosched', 58036, 21692, 5, '3138'], ['futurice/android-best-practices', 584, 20192, 0, '247'], ['google/ExoPlayer', 200677, 20107, 2, '14882'], ['tachiyomiorg/tachiyomi', 40477, 19822, 13, '5271'], ['google/mediapipe', 564461, 19521, 27, '658'], ['afollestad/material-dialogs', 265793, 19456, 2, '2020'], ['CarGuo/GSYVideoPlayer', 333365, 18009, 7, '1457'], ['google/flexbox-layout', 49328, 17686, 2, '370'], ['2dust/v2rayNG', 232731, 17633, 3, '330'], ['termux/termux-app', 4318, 17607, 6, '1417'], ['Shahroz16/material-searchview', 106, 149, 0, '7'], ['massivedisaster/ArcToolbarView', 10726, 147, 0, '43'], ['zhaoxuyang/chameleon', 768, 149, 0, '24'], ['kunny/RxFirebase', 515, 142, 0, '187'], ['sebaslogen/CleanGUITestArchitecture', 155, 138, 0, '79'], ['manumaticx/Ti.DrawerLayout', 2903, 137, 1, '165'], ['k4zy/FontDrawable', 217, 131, 0, '30'], ['ruzhan1116/Double-Pull-Delegate', 6064, 131, 0, '18'], ['Orfium/RxMusicPlayer-android', 170, 127, 0, '17'], ['Martin20150405/OpenCV4AndroidWithCmake', 42519, 127, 0, '12'], ['heimashi/debug_view_kotlin', 396, 129, 0, '17'], ['hidaron/HiFrameAnimation', 16799, 127, 0, '7'], ['chunquedong/axbasePlugin', 2200, 125, 0, '23'], ['navyifanr/AndroidTrainingDemo', 6205, 124, 0, '31'], ['MoIbrahim15/AndroidComposeSamples', 4814, 122, 0, '27'], ['klinker24/wearable-reply', 214, 120, 0, '7'], ['dynamitechetan/VusikView', 3800, 120, 0, '12'], ['droidconKE/droidconKE2020App', 38048, 119, 8, '393'], ['znyang/library-analysis', 1697, 118, 0, '111'], ['vejei/scallop', 1436, 118, 0, '107'], ['Panl/Gank.io', 1691, 117, 0, '75'], ['florent37/EnhancedNavigationView', 394, 116, 0, '11'], ['AndSync/XPermissionUtils', 193, 113, 0, '42'], ['jeanboydev/Android-Architecture', 1167, 114, 0, '36'], ['tmurakami/dexopener', 1441, 112, 0, '535'], ['Tonyzhangcanon/AUICrawler', 1318, 114, 0, '123'], ['RxViper/RxViper', 959, 109, 0, '168'], ['jackjyq/android_background_ignore', 31980, 109, 0, '142'], ['china-kook/Skill-learn-collect', 58, 109, 0, '99'], ['pppscn/SmsForwarder', 253529, 6880, 13, '497'], ['li-xiaojun/XPopup', 152942, 6779, 0, '1078'], ['DroidPluginTeam/DroidPlugin', 1859, 6757, 0, '224'], ['Tencent/Shadow', 3867, 6691, 22, '1620'], ['zetbaitsu/Compressor', 900, 6650, 0, '89'], ['Meituan-Dianping/walle', 528, 6510, 0, '13'], ['LawnchairLauncher/lawnchair', 410282, 6494, 31, '39123'], ['mozilla-mobile/fenix', 121900, 6462, 48, '10121'], ['smuyyh/BookReader', 31940, 6205, 0, '452'], ['ArthurHub/Android-Image-Cropper', 26035, 6191, 0, '575'], ['skydoves/Pokedex', 15114, 6129, 3, '343'], ['ankidroid/Anki-Android', 200708, 5707, 35, '16962'], ['igorwojda/android-showcase', 9488, 5700, 24, '592'], ['iSoron/uhabits', 39594, 5647, 506, '2374'], ['yarolegovich/DiscreteScrollView', 33353, 5636, 0, '106'], ['opengapps/opengapps', 218075, 5422, 0, '1426'], ['Tapadoo/Alerter', 37084, 5353, 0, '456'], ['h6ah4i/android-advancedrecyclerview', 9053, 5238, 0, '673'], ['CameraKit/camerakit-android', 21847, 5225, 0, '520'], ['Clans/FloatingActionButton', 3389, 5225, 0, '154'], ['Karumi/Dexter', 2928, 5189, 0, '298'], ['ehids/ecapture', 8167, 5099, 69, '505'], ['AriaLyy/Aria', 39085, 5091, 0, '905'], ['skydoves/android-developer-roadmap', 17677, 5041, 3, '76'], ['alibaba/UltraViewPager', 8873, 5022, 0, '87'], ['orhanobut/dialogplus', 6790, 4974, 0, '183'], ['ldcsaa/HP-Socket', 211007, 4962, 0, '232'], ['Devlight/NavigationTabBar', 389, 4930, 0, '88'], ['aidlearning/AidLearning-FrameWork', 77793, 4922, 0, '758'], ['huangyanbin/smartTable', 63951, 4882, 0, '170'], ['assimp/assimp', 195912, 8435, 16, '11522'], ['roughike/BottomBar', 40819, 8430, 0, '770'], ['firebase/quickstart-android', 31554, 8285, 227, '1227'], ['florent37/MaterialViewPager', 19557, 8201, 0, '311'], ['barry-ran/QtScrcpy', 40667, 8163, 16, '732'], ['amitshekhariitbhu/Android-Debug-Database', 1638, 8098, 0, '328'], ['anbox/anbox', 7061, 8091, 1, '1364'], ['alibaba/atlas', 84497, 8075, 0, '1214'], ['yuliskov/SmartTubeNext', 80370, 8066, 0, '6469'], ['KunMinX/Jetpack-MVVM-Best-Practice', 10608, 7998, 2, '548'], ['JackyAndroid/AndroidInterview-Q-A', 68209, 7915, 941, '221'], ['guolindev/LitePal', 5433, 7907, 0, '449'], ['InsertKoinIO/koin', 41423, 7723, 14, '2174'], ['LSPosed/LSPosed', 19918, 7617, 7, '2455'], ['FreeRDP/FreeRDP', 55973, 7610, 3, '16415'], ['aritraroy/UltimateAndroidReference', 543, 7602, 0, '322'], ['android/android-ktx', 6245, 7535, 0, '445'], ['ColorfulCat/AndroidLibs', 3336, 7437, 0, '2342'], ['seven332/EhViewer', 111228, 7434, 0, '2376'], ['davemorrissey/subsampling-scale-image-view', 57935, 7420, 0, '351'], ['thundernest/k-9', 89850, 7389, 4, '11543'], ['lecho/hellocharts-android', 6126, 7350, 3, '819'], ['n1nj4sec/pupy', 31429, 7337, 53, '3488'], ['Bearded-Hen/Android-Bootstrap', 11507, 7268, 0, '338'], ['google/agera', 968, 7259, 0, '160'], ['cymcsg/UltimateRecyclerView', 7153, 7239, 0, '764'], ['crazycodeboy/TakePhoto', 11513, 7210, 0, '162'], ['google/android-classyshark', 24860, 7208, 0, '616'], ['kivy/python-for-android', 18464, 7203, 27, '3641'], ['geeeeeeeeek/WeChatLuckyMoney', 660, 7147, 0, '199'], ['ogaclejapan/SmartTabLayout', 14671, 7003, 0, '108'], ['alibaba/AndFix', 15890, 6943, 0, '51'], ['pppscn/SmsForwarder', 253529, 6880, 13, '497'], ['li-xiaojun/XPopup', 152942, 6779, 0, '1078'], ['naman14/Timber', 17485, 6769, 0, '602'], ['rovo89/Xposed', 205, 6758, 0, '148'], ['DroidPluginTeam/DroidPlugin', 1859, 6757, 0, '224'], ['Shabinder/SpotiFlyer', 65566, 6702, 17, '597'], ['Tencent/Shadow', 3867, 6691, 22, '1620'], ['zetbaitsu/Compressor', 900, 6650, 0, '89'], ['ashishb/android-security-awesome', 347, 6516, 4, '334'], ['Meituan-Dianping/walle', 528, 6510, 0, '13'], ['LawnchairLauncher/lawnchair', 410282, 6494, 31, '39123'], ['mozilla-mobile/fenix', 121900, 6462, 48, '10121'], ['GrenderG/Toasty', 977, 6420, 0, '181'], ['guardianproject/haven', 24387, 6282, 4, '987'], ['smuyyh/BookReader', 31940, 6205, 0, '452'], ['ArthurHub/Android-Image-Cropper', 26035, 6191, 0, '575'], ['skydoves/Pokedex', 15114, 6129, 3, '343'], ['rey5137/material', 3901, 6033, 0, '280'], ['daimajia/NumberProgressBar', 158, 6023, 0, '61'], ['ximsfei/Android-skin-support', 54130, 5965, 0, '536'], ['ACRA/acra', 11199, 5952, 23, '1837'], ['wasabeef/richeditor-android', 2898, 5935, 0, '170'], ['snowdream/awesome-android', 12403, 5925, 3, '1227'], ['0x192/universal-android-debloater', 9674, 5894, 25, '271'], ['prolificinteractive/material-calendarview', 4823, 5814, 0, '553'], ['amitshekhariitbhu/from-java-to-kotlin', 223, 5800, 0, '157'], ['Devlight/InfiniteCycleViewPager', 279, 5727, 0, '89'], ['ankidroid/Anki-Android', 200708, 5707, 35, '16962'], ['igorwojda/android-showcase', 9488, 5700, 24, '592'], ['kickstarter/android-oss', 42422, 5688, 7, '4961'], ['iSoron/uhabits', 39594, 5647, 506, '2374'], ['k0shk0sh/FastHub', 19973, 5637, 0, '1879'], ['yarolegovich/DiscreteScrollView', 33353, 5636, 0, '106'], ['robolectric/robolectric', 54091, 5566, 19, '12721'], ['sockeqwe/mosby', 26564, 5495, 0, '604'], ['amitshekhariitbhu/Fast-Android-Networking', 2831, 5484, 0, '565'], ['hanks-zyh/HTextView', 9880, 5439, 0, '148'], ['opengapps/opengapps', 218075, 5422, 0, '1426'], ['evernote/android-job', 1860, 5385, 0, '480'], ['Tapadoo/Alerter', 37084, 5353, 0, '456'], ['wasabeef/Blurry', 2286, 5303, 0, '131'], ['commonsguy/cw-omnibus', 75165, 5300, 0, '1078'], ['getActivity/AndroidProject', 89374, 5292, 2, '24'], ['taichi-framework/TaiChi', 23395, 5246, 0, '51'], ['h6ah4i/android-advancedrecyclerview', 9053, 5238, 0, '673'], ['CameraKit/camerakit-android', 21847, 5225, 0, '520'], ['Clans/FloatingActionButton', 3389, 5225, 0, '154'], ['KeepSafe/TapTargetView', 4401, 5216, 0, '159'], ['Yalantis/Side-Menu.Android', 1048, 5206, 0, '63'], ['Karumi/Dexter', 2928, 5189, 0, '298'], ['microg/GmsCore', 6555, 5172, 1, '1130'], ['budtmo/docker-android', 242212, 5155, 6, '536'], ['ehids/ecapture', 8167, 5099, 69, '505'], ['AriaLyy/Aria', 39085, 5091, 0, '905'], ['danikula/AndroidVideoCache', 116058, 5090, 0, '89'], ['skydoves/android-developer-roadmap', 17677, 5041, 3, '76'], ['mikepenz/Android-Iconics', 16119, 5026, 11, '1230'], ['alibaba/UltraViewPager', 8873, 5022, 0, '87'], ['alipay/SoloPi', 258080, 5021, 0, '203'], ['amitshekhariitbhu/RxJava2-Android-Samples', 491, 4980, 0, '197'], ['orhanobut/dialogplus', 6790, 4974, 0, '183'], ['ldcsaa/HP-Socket', 211007, 4962, 0, '232'], ['Devlight/NavigationTabBar', 389, 4930, 0, '88'], ['aidlearning/AidLearning-FrameWork', 77793, 4922, 0, '758'], ['diogobernardino/williamchart', 1026, 4914, 2, '439'], ['ElderDrivers/EdXposed', 12036, 4909, 3, '621'], ['Ramotion/folding-cell-android', 26341, 4888, 0, '131'], ['huangyanbin/smartTable', 63951, 4882, 0, '170'], ['Moosphan/Android-Daily-Interview', 1126, 4864, 0, '282'], ['razerdp/BasePopup', 20608, 4861, 0, '1688'], ['revanced/revanced-manager', 20289, 4856, 63, '466'], ['szad670401/HyperLPR', 289373, 4831, 64, '255'], ['mcxiaoke/packer-ng-plugin', 1458, 4815, 0, '217'], ['Jasonchenlijian/FastBle', 35234, 4794, 0, '153'], ['RangiLyu/nanodet', 5407, 4771, 20, '353'], ['Gurupreet/ComposeCookBook', 78415, 4750, 6, '334'], ['google/cameraview', 256, 4745, 0, '80'], ['AdAway/AdAway', 39760, 4740, 106, '3656'], ['begeekmyfriend/yasea', 27381, 4735, 0, '408'], ['youlookwhat/CloudReader', 95346, 4733, 0, '915'], ['Genymobile/gnirehtet', 1014, 4728, 7, '658'], ['bromite/bromite', 26093, 4701, 0, '853'], ['wdullaer/MaterialDateTimePicker', 2001, 4651, 0, '473'], ['nisrulz/android-tips-tricks', 34191, 4641, 0, '291'], ['kyleduo/SwitchButton', 12157, 4599, 0, '177'], ['SplashCodes/JAViewer', 2335, 4576, 0, '117'], ['xiaojieonly/Ehviewer_CN_SXJ', 4376, 4574, 3, '342'], ['romandanylyk/PageIndicatorView', 33988, 4563, 0, '303'], ['AntennaPod/AntennaPod', 102538, 4562, 7, '8352'], ['zhanghai/Douya', 25350, 4530, 0, '1318'], ['vsouza/awesome-ios', 15378, 41178, 0, '6246'], ['FiloSottile/mkcert', 1844, 38500, 15, '164'], ['ultralytics/yolov5', 13895, 33138, 33, '2490'], ['SheetJS/sheetjs', 106167, 31738, 57, '767'], ['SDWebImage/SDWebImage', 21243, 24393, 1, '3295'], ['airbnb/lottie-ios', 173183, 23348, 5, '1121'], ['ReactiveX/RxSwift', 16119, 22936, 3, '3634'], ['matteocrippa/awesome-swift', 6949, 22715, 5, '3854'], ['HeroTransitions/Hero', 31215, 21149, 21, '558'], ['onevcat/Kingfisher', 5706, 20772, 5, '2547'], ['nikitavoloboev/my-mac-os', 37784, 19172, 0, '374'], ['utmapp/UTM', 23544, 16698, 9, '2547'], ['ustbhuangyi/better-scroll', 18667, 15854, 100, '1990'], ['realm/realm-swift', 67745, 15647, 1, '12025'], ['CodeEditApp/CodeEdit', 9060, 15542, 23, '1451'], ['CocoaPods/CocoaPods', 88818, 13900, 48, '9377'], ['ish-app/ish', 4725, 13027, 0, '3308'], ['CocoaLumberjack/CocoaLumberjack', 5926, 12839, 16, '2246'], ['Instagram/IGListKit', 8143, 12522, 5, '733'], ['SVProgressHUD/SVProgressHUD', 1115, 12361, 0, '781'], ['SwifterSwift/SwifterSwift', 16186, 11917, 8, '925'], ['halfrost/Halfrost-Field', 105218, 11704, 3, '1030'], ['Juanpe/SkeletonView', 6536, 11593, 10, '875'], ['xmartlabs/Eureka', 21075, 11547, 2, '898'], ['jessesquires/JSQMessagesViewController', 20414, 11196, 0, '1710'], ['Tim9Liu9/TimLiu-iOS', 4315, 11149, 0, '1636'], ['Ramotion/animated-tab-bar', 9671, 11027, 0, '409'], ['futurice/ios-good-practices', 295, 10638, 0, '207'], ['ninjaprox/NVActivityIndicatorView', 6114, 10256, 1, '537'], ['WenchaoD/FSCalendar', 2514, 10209, 0, '841'], ['Ramotion/folding-cell', 23548, 10129, 0, '373'], ['Quick/Quick', 3021, 9564, 15, '1984'], ['AudioKit/AudioKit', 118772, 9446, 2, '12374'], ['ultralytics/yolov3', 9595, 9170, 26, '2653'], ['mac-cain13/R.swift', 4734, 8897, 8, '1256'], ['IBAnimatable/IBAnimatable', 26761, 8642, 5, '2197'], ['SwiftGen/SwiftGen', 49859, 8300, 25, '2726'], ['draveness/analyze', 103436, 8031, 0, '432'], ['kickstarter/ios-oss', 2948726, 8022, 9, '2381'], ['PureLayout/PureLayout', 1070, 7592, 1, '316'], ['olucurious/Awesome-ARKit', 1200, 7476, 2, '324'], ['soapyigu/Swift-30-Projects', 213159, 7413, 0, '417'], ['patchthecode/JTAppleCalendar', 2532, 7271, 0, '1040'], ['krzysztofzablocki/Sourcery', 56936, 6902, 8, '1173'], ['marcosgriselli/ViewAnimator', 12303, 6862, 2, '154'], ['ChenYilong/CYLTabBarController', 56475, 6740, 0, '395'], ['Tencent/QMUI_iOS', 7236, 6734, 0, '736'], ['SwiftKickMobile/SwiftMessages', 18747, 6698, 0, '312'], ['WenchaoD/FSPagerView', 2105, 6640, 0, '129'], ['jverkoey/nimbus', 45382, 6471, 2, '2122'], ['bizz84/SwiftyStoreKit', 3925, 6133, 1, '856'], ['BohdanOrlov/iOS-Developer-Roadmap', 35616, 5990, 0, '173'], ['SwipeCellKit/SwipeCellKit', 8356, 5929, 0, '266'], ['AloneMonkey/MonkeyDev', 20217, 5910, 0, '198'], ['Swift-AI/Swift-AI', 30117, 5900, 0, '341'], ['exyte/Macaw', 57767, 5880, 0, '1600'], ['pujiaxin33/JXCategoryView', 31926, 5813, 0, '618'], ['VirgilClyne/iRingo', 9254, 5748, 0, '1719'], ['joeldev/JLRoutes', 683, 5639, 0, '294'], ['SwiftyBeaver/SwiftyBeaver', 2455, 5589, 0, '615'], ['likedan/Awesome-CoreML-Models', 3082, 5547, 0, '145'], ['Swinject/Swinject', 1704, 5530, 3, '1039'], ['blinksh/blink', 52688, 5468, 3, '2642'], ['google/EarlGrey', 47914, 5450, 7, '783']]\n"
          ]
        }
      ],
      "source": [
        "CAMINHOSNATIVO=[]\n",
        "CAMINHOSANDROID=[]\n",
        "CAMINHOSIOS=[]\n",
        "tam1=[]\n",
        "tam2=[]\n",
        "paginacao('search/repositories','''topic:android -topic:capacitor -topic:cordova\n",
        "-topic:flutter -topic:pwa -topic:react-native -topic:xamarin -topic:nativescript -topic:ios sort:stars''',1,CAMINHOSANDROID,tam1)\n",
        "paginacao('search/repositories','''topic:ios -topic:capacitor -topic:cordova\n",
        "-topic:flutter -topic:pwa -topic:react-native -topic:xamarin -topic:nativescript -topic:android sort:stars''',1,CAMINHOSIOS,tam2)\n",
        "proporcao(tam1,tam2,278)\n",
        "print(tam1[0],tam2[0])\n",
        "CAMINHOSNATIVO=CAMINHOSANDROID[:tam1[0]]+CAMINHOSIOS[:tam2[0]]\n",
        "CAMINHOSNATIVO=reposAddElem(CAMINHOSNATIVO,'size')\n",
        "CAMINHOSNATIVO=reposAddElem(CAMINHOSNATIVO,'stargazers_count')\n",
        "CAMINHOSNATIVO=contaDepRepos(CAMINHOSNATIVO)\n",
        "CAMINHOSNATIVO=contaCommitRepos(CAMINHOSNATIVO)\n",
        "print(len(CAMINHOSNATIVO),CAMINHOSNATIVO)"
      ]
    },
    {
      "cell_type": "markdown",
      "metadata": {
        "id": "kRwpj5LEqcsZ"
      },
      "source": [
        "Cross-compilado"
      ]
    },
    {
      "cell_type": "markdown",
      "metadata": {
        "id": "5SG9sRXhp_5B"
      },
      "source": [
        "flutter"
      ]
    },
    {
      "cell_type": "code",
      "execution_count": null,
      "metadata": {
        "colab": {
          "base_uri": "https://localhost:8080/"
        },
        "id": "Tss6JtjyqF7w",
        "outputId": "ef6468e2-c339-40de-ac2f-c94d79f44337"
      },
      "outputs": [
        {
          "output_type": "stream",
          "name": "stdout",
          "text": [
            "37749\n"
          ]
        }
      ],
      "source": [
        "response=requests.get(SITE+'search/repositories'+'?q='+'''topic:flutter -topic:capacitor -topic:cordova\n",
        "-topic:xamarin -topic:nativescript -topic:react-native -topic:pwa sort:stars''',auth=tokenAuth)\n",
        "data=response.json()\n",
        "if 'total_count' in data:\n",
        "  print(data['total_count'])"
      ]
    },
    {
      "cell_type": "markdown",
      "metadata": {
        "id": "UlU9YyQG9a9j"
      },
      "source": [
        "xamarin"
      ]
    },
    {
      "cell_type": "code",
      "execution_count": null,
      "metadata": {
        "colab": {
          "base_uri": "https://localhost:8080/"
        },
        "id": "_6dMuYH76gy7",
        "outputId": "0d9e88a0-f7a7-439a-ba72-86f91dae1768"
      },
      "outputs": [
        {
          "output_type": "stream",
          "name": "stdout",
          "text": [
            "3832\n"
          ]
        }
      ],
      "source": [
        "response=requests.get(SITE+'search/repositories'+'?q='+'''topic:xamarin  -topic:capacitor -topic:cordova\n",
        "-topic:flutter -topic:nativescript -topic:react-native -topic:pwa sort:stars''',auth=tokenAuth)\n",
        "data=response.json()\n",
        "if 'total_count' in data:\n",
        "  print(data['total_count'])"
      ]
    },
    {
      "cell_type": "code",
      "execution_count": null,
      "metadata": {
        "colab": {
          "base_uri": "https://localhost:8080/"
        },
        "id": "QZnxEKsf6-6m",
        "outputId": "2de36c50-c0d7-4aa4-96dd-7bb9f6ade027"
      },
      "outputs": [
        {
          "output_type": "stream",
          "name": "stdout",
          "text": [
            "{'message': 'API rate limit exceeded for user ID 44467278.', 'documentation_url': 'https://docs.github.com/rest/overview/resources-in-the-rest-api#rate-limiting'}\n",
            "{'message': 'Only the first 1000 search results are available', 'documentation_url': 'https://docs.github.com/v3/search/'}\n",
            "{'message': 'API rate limit exceeded for user ID 44467278.', 'documentation_url': 'https://docs.github.com/rest/overview/resources-in-the-rest-api#rate-limiting'}\n",
            "{'message': 'Only the first 1000 search results are available', 'documentation_url': 'https://docs.github.com/v3/search/'}\n",
            "252 26\n",
            "50 repositórios filtrados\n",
            "100 repositórios filtrados\n",
            "150 repositórios filtrados\n",
            "200 repositórios filtrados\n",
            "250 repositórios filtrados\n",
            "278 repositórios filtrados\n",
            "50 repositórios filtrados\n",
            "100 repositórios filtrados\n",
            "150 repositórios filtrados\n",
            "200 repositórios filtrados\n",
            "250 repositórios filtrados\n",
            "278 repositórios filtrados\n",
            "278 [['flutter/flutter', 227253, 146693, 2490, 2490], ['Solido/awesome-flutter', 3414, 44125, 0, '1810'], ['rustdesk/rustdesk', 14849, 33545, 215, '3151'], ['AppFlowy-IO/AppFlowy', 37774, 29587, 485, '3530'], ['appwrite/appwrite', 212593, 27423, 58, '13685'], ['alibaba/flutter-go', 117708, 23215, 36, '754'], ['iampawan/FlutterExampleApps', 112899, 17729, 0, '52'], ['flutter/plugins', 34532, 16482, 315, '4318'], ['mitesh77/Best-Flutter-UI-Templates', 148807, 16137, 9, '110'], ['Tencent/MMKV', 2475, 15266, 7, '1081'], ['CarGuo/gsy_github_app_flutter', 35943, 13602, 43, '915'], ['flutterchina/dio', 3428, 11124, 31, '427'], ['felangel/bloc', 56546, 9818, 472, '2035'], ['flutterchina/flutter-in-action', 52115, 8703, 41, '628'], ['brianegan/flutter_architecture_samples', 3696, 8186, 40, '336'], ['jonataslaw/getx', 34181, 7772, 7, '1845'], ['alibaba/fish-redux', 833, 7311, 5, '486'], ['firebase/flutterfire', 43969, 7278, 680, '2837'], ['flame-engine/flame', 45345, 7150, 182, '2727'], ['OpenFlutter/Flutter-Notebook', 52523, 6983, 65, '455'], ['invoiceninja/invoiceninja', 2959602, 6749, 868, '14767'], ['simplezhli/flutter_deer', 56521, 6618, 35, '497'], ['alibaba/flutter_boost', 6086, 6258, 9, '1120'], ['nisrulz/flutter-examples', 96419, 6254, 122, '196'], ['immich-app/immich', 87270, 6048, 3644, '763'], ['iampawan/Flutter-UI-Kit', 55942, 5959, 4, '84'], ['vandadnp/flutter-tips-and-tricks', 437900, 5636, 0, '1525'], ['toly1994328/FlutterUnit', 46730, 5576, 33, '267'], ['go-flutter-desktop/go-flutter', 1506, 5475, 37, '344'], ['Sky24n/flutter_wanandroid', 2090, 5453, 14, '117'], ['abuanwar072/Flutter-Responsive-Admin-Panel-or-Dashboard', 21365, 5351, 9, '48'], ['getActivity/AndroidProject', 89374, 5292, 2, '24'], ['AweiLoveAndroid/Flutter-learning', 8305, 5148, 13, '184'], ['nhost/nhost', 132543, 5138, 455, '2508'], ['imaNNeoFighT/fl_chart', 52135, 5116, 13, '1431'], ['samarthagarwal/FlutterScreens', 15462, 4959, 0, '65'], ['openkraken/kraken', 173669, 4737, 129, '8642'], ['flutter/gallery', 51303, 4669, 50, '559'], ['flutterchina/flukit', 72424, 4628, 3, '41'], ['rrousselGit/provider', 1220, 4539, 6, '411'], ['FilledStacks/flutter-tutorials', 3436, 4493, 151, '43'], ['Notsfsssf/pixez-flutter', 184461, 4310, 47, '1032'], ['Sangwan5688/BlackHole', 58916, 3967, 46, '659'], ['lohanidamodar/flutter_ui_challenges', 261487, 3924, 16, '492'], ['rrousselGit/riverpod', 23046, 3758, 1197, '1226'], ['monkeyWie/gopeed', 1410, 3748, 184, '176'], ['ionorg/ion', 24534, 3650, 138, '813'], ['ionicfirebaseapp/getwidget', 18118, 3610, 3, '1132'], ['CarGuo/gsy_flutter_book', 150645, 3534, 0, '21'], ['lukepighetti/fluro', 1125, 3529, 4, '186'], ['roughike/inKino', 32460, 3395, 29, '424'], ['best-flutter/flutter_swiper', 6397, 3354, 3, '83'], ['OpenFlutter/flutter_screenutil', 3613, 3329, 3, '506'], ['FlutterOpen/flutter-ui-nice', 27961, 3329, 4, '124'], ['xuelongqy/flutter_easy_refresh', 391224, 3328, 23, '746'], ['flutter-webrtc/flutter-webrtc', 201838, 3325, 15, '904'], ['hivedb/hive', 1094, 3317, 31, '624'], ['fluttertools/fvm', 5795, 3097, 122, '1082'], ['abuanwar072/E-commerce-Complete-Flutter-UI', 48628, 3091, 3, '54'], ['boyan01/flutter-netease-music', 2997, 3059, 51, '853'], ['zino-hofmann/graphql-flutter', 85302, 3050, 55, '1826'], ['niuhuan/pikapika', 4247, 2875, 73, '200'], ['yubo725/flutter-osc', 48858, 2840, 7, '36'], ['bernaferrari/FigmaToCode', 12061, 2734, 54, '144'], ['letsar/flutter_staggered_grid_view', 14039, 2709, 1, '162'], ['OpenFlutter/fluwx', 45172, 2701, 5, '994'], ['jogboms/flutter_spinkit', 2494, 2648, 6, '137'], ['crazycodeboy/awesome-flutter-cn', 75, 2599, 0, '10'], ['tortuvshin/open-source-flutter-apps', 7447, 2593, 0, '148'], ['phoenixsky/fun_android_flutter', 9880, 2591, 27, '275'], ['flet-dev/flet', 30289, 2536, 122, '465'], ['rrousselGit/flutter_hooks', 528, 2534, 10, '336'], ['huangruiLearn/flutter_hrlweibo', 74026, 2525, 26, '30'], ['yang7229693/flutter-study', 282, 2491, 2, '48'], ['CarGuo/gsy_flutter_demo', 5371, 2482, 19, '282'], ['TheAlphamerc/flutter_ecommerce_app', 2427, 2481, 5, '46'], ['fireship-io/fireship.io', 316208, 2442, 1099, '1256'], ['shichunlei/flutter_app', 172531, 2366, 51, '637'], ['letsar/flutter_slidable', 9487, 2293, 2, '212'], ['pichillilorenzo/flutter_inappwebview', 8564, 2267, 105, '1021'], ['flutter/website', 421704, 2262, 269, '4928'], ['harmonoid/harmonoid', 19950, 2226, 30, '1857'], ['fleaflet/flutter_map', 10023, 2217, 24, '744'], ['mobxjs/mobx.dart', 21632, 2214, 45, '1071'], ['balsikandar/Android-Studio-Plugins', 81, 2208, 0, '47'], ['TheAlphamerc/flutter_twitter_clone', 17688, 2202, 35, '307'], ['fluttercandies/wechat_flutter', 32615, 2172, 29, 29], ['LianjiaTech/bruno', 165784, 2156, 20, '135'], ['memspace/zefyr', 11622, 2139, 20, '346'], ['Baseflow/flutter_cached_network_image', 660, 2122, 25, '326'], ['mdanics/fluttergram', 71444, 2113, 415, '199'], ['GanZhiXiong/GZXTaoBaoAppFlutter', 91444, 2110, 14, '92'], ['WorldHealthOrganization/app', 29164, 2107, 1079, '791'], ['MaikuB/flutter_local_notifications', 6437, 2076, 21, '558'], ['flutter-rs/flutter-rs', 41633, 1990, 38, '477'], ['KRTirtho/spotube', 101115, 1989, 95, '657'], ['UnityTech/UIWidgets', 69261, 1948, 5, '1865'], ['fzyzcjy/flutter_rust_bridge', 13684, 1946, 135, '3088'], ['isar/isar', 17204, 1938, 468, '1191'], ['zubairehman/flutter-boilerplate-project', 1873, 1910, 21, '141'], ['janoodleFTW/timy-messenger', 15610, 1852, 303, '41'], ['Tencent/cloudbase-framework', 7086, 1846, 189, '1568'], ['aloisdeniel/flutter_device_preview', 116927, 1829, 30, '217'], ['flutter/flutter-intellij', 159777, 1825, 20, '2850'], ['X-Wei/flutter_catalog', 20021, 1820, 90, '565'], ['yukilzw/dy_flutter', 760, 1809, 20, '164'], ['JideGuru/FlutterEbookApp', 77390, 1790, 135, '198'], ['simolus3/drift', 24064, 1771, 178, '2746'], ['asjqkkkk/flutter-todos', 2670, 1769, 28, '261'], ['mulaRahul/keyviz', 2356, 1769, 10, '57'], ['bdlukaa/fluent_ui', 11154, 1745, 21, '1342'], ['leisim/auto_size_text', 6119, 1745, 4, '99'], ['hungps/flutter_pokedex', 10069, 1743, 14, '99'], ['fluttercandies/NeteaseCloudMusic', 1139, 1734, 20, '107'], ['VeryGoodOpenSource/very_good_cli', 8096, 1728, 1096, '356'], ['bytedance/flutter_ume', 37362, 1724, 57, '129'], ['robertodoering/harpy', 73797, 1713, 65, '3039'], ['olmps/memo', 6703, 1713, 39, '722'], ['Baseflow/flutter-permission-handler', 6831, 1680, 39, '759'], ['rxlabz/panache', 65093, 1674, 16, '79'], ['juicycleff/flutter-unity-view-widget', 309411, 1670, 9, '266'], ['fluttercommunity/flutter_launcher_icons', 73255, 1668, 18, '341'], ['bluefireteam/photo_view', 59200, 1666, 5, '382'], ['dahliaOS/pangolin_desktop', 301908, 1660, 38, '2563'], ['abuanwar072/Flutter-responsive-email-ui---Mobile-Tablet-and-Web', 1496, 1647, 3, '7'], ['JideGuru/FlutterSocialAppUIKit', 61139, 1641, 4, '59'], ['singerdmx/flutter-quill', 2607, 1640, 27, '1220'], ['abuanwar072/E-commerce-App-UI-Flutter', 23146, 1639, 2, '10'], ['Idean/Flutter-Neumorphic', 16829, 1624, 3, '608'], ['ResoCoder/flutter-tdd-clean-architecture-course', 110, 1615, 8, '18'], ['huextrat/TheGorgeousLogin', 12909, 1604, 1, '25'], ['fluttercommunity/chewie', 38119, 1598, 11, '365'], ['atsign-foundation/at_client_sdk', 4467, 1585, 77, '1603'], ['brianegan/flutter_redux', 7982, 1584, 13, '83'], ['subosito/flutter-action', 1280, 1550, 494, '214'], ['hnvn/flutter_shimmer', 2005, 1542, 4, '44'], ['fluttercandies/extended_image', 11157, 1541, 26, '343'], ['Sub6Resources/flutter_html', 2648, 1522, 43, '913'], ['Mayandev/morec', 41942, 1504, 15, '119'], ['kubenav/kubenav', 43724, 1502, 240, '892'], ['bluefireteam/audioplayers', 15089, 1500, 46, '855'], ['authpass/authpass', 153465, 1478, 112, '1263'], ['iampawan/FlutterWhatsAppClone', 882, 1472, 3, '15'], ['wasabeef/flutter-architecture-blueprints', 112927, 1464, 8, '488'], ['dnfield/flutter_svg', 2662, 1456, 6, '576'], ['niuhuan/jasmine', 2018, 1455, 28, '143'], ['Xtremilicious/projectlearn-project-based-learning', 12349, 1447, 27, '184'], ['jamesblasco/modal_bottom_sheet', 33586, 1446, 21, '217'], ['aleksanderwozniak/table_calendar', 2724, 1432, 3, '337'], ['aagarwal1012/Animated-Text-Kit', 18316, 1431, 10, '318'], ['boyan01/flutter-tetris', 7817, 1404, 6, '51'], ['xuyisheng/flutter_dojo', 17702, 1395, 22, '167'], ['duytq94/flutter-chat-demo', 6504, 1383, 14, '93'], ['befovy/fijkplayer', 2886, 1376, 72, '574'], ['Rannie/flui', 23146, 1376, 9, '236'], ['serenader2014/flutter_carousel_slider', 42659, 1369, 0, '142'], ['rrousselGit/freezed', 3027, 1358, 32, '629'], ['abuanwar072/Chat-Messaging-App-Light-and-Dark-Theme', 73933, 1357, 2, '9'], ['dengyin2000/dynamic_widget', 22582, 1341, 4, '196'], ['Dart-Code/Dart-Code', 19664, 1333, 475, '6707'], ['JideGuru/FlutterFoodybite', 18199, 1320, 1, '40'], ['stryder-dev/flutter_platform_widgets', 2343, 1317, 1, '383'], ['invoiceninja/admin-portal', 79795, 1277, 58, '11797'], ['mkobuolys/flutter-design-patterns', 4670, 1272, 15, '221'], ['git-touch/git-touch', 13066, 1248, 54, '1078'], ['Sky24n/common_utils', 460, 1240, 4, '126'], ['akshathjain/sliding_up_panel', 139373, 1239, 4, '182'], ['ponnamkarthik/FlutterToast', 16924, 1239, 4, '250'], ['alan-ai/alan-sdk-flutter', 355, 1236, 1, '71'], ['YYFlutter/flutter-ui', 14936, 1226, 22, '396'], ['bizz84/layout-demo-flutter', 3593, 1215, 2, '85'], ['NearHuscarl/flutter_login', 16703, 1209, 16, '484'], ['leo-elstin/Flutter-UI-Kits', 4552, 1202, 5, '49'], ['leisim/awesome-flutter-packages', 13636, 1191, 2, '43'], ['flutter-form-builder-ecosystem/flutter_form_builder', 82700, 1178, 13, '1303'], ['javiercbk/json_to_dart', 2994, 1159, 5, '40'], ['Milad-Akarie/auto_route_library', 12998, 1155, 27, '470'], ['iampawan/VelocityX', 1209, 1149, 8, '463'], ['ponkans/F2E', 148, 1145, 166, '61'], ['FlutterGen/flutter_gen', 4641, 1124, 124, '561'], ['aws-amplify/amplify-flutter', 26964, 1116, 580, '671'], ['SimformSolutionsPvtLtd/flutter_showcaseview', 10867, 1107, 7, '197'], ['fluttercandies/flutter_wechat_assets_picker', 10978, 1099, 22, '770'], ['GroovinChip/macos_ui', 16531, 1089, 22, '340'], ['fluttertools/sidekick', 19059, 1087, 47, '746'], ['0015/ThatProject', 32919, 1062, 698, '246'], ['rohan20/flutter-chat-app', 28809, 1057, 7, 7], ['aagarwal1012/Liquid-Pull-To-Refresh', 16177, 1053, 10, '97'], ['ardera/flutter-pi', 1519, 1047, 2, '327'], ['Baseflow/flutter-geolocator', 1743, 1040, 86, '1093'], ['bailicangdu/native-xdm', 886, 1039, 9, '47'], ['hasura/learn-graphql', 52652, 1034, 21199, '699'], ['mjohnsullivan/flutter-by-example', 21300, 1032, 67, '155'], ['mpflutter/mpflutter', 9342, 1030, 7001, '598'], ['fluttercommunity/plus_plugins', 7669, 1027, 1442, '1254'], ['olayemii/flutter-ui-kits', 276854, 1016, 44, '292'], ['leanflutter/awesome-flutter-desktop', 155, 1012, 4, '143'], ['Crequency/KitX', 46596, 1008, 9, '27'], ['ibhavikmakwana/FlutterPlayground', 30651, 1006, 15, '140'], ['KhoaSuperman/findseat', 14894, 1005, 26, '155'], ['burhanrashid52/WhatTodo', 909, 998, 8, '166'], ['nslogx/flutter_easyloading', 5232, 994, 4, '130'], ['iamSahdeep/liquid_swipe_flutter', 54631, 980, 9, '152'], ['ZDfordream/FlutterTianYue', 18761, 980, 15, '62'], ['margaretmz/awesome-tensorflow-lite', 12221, 971, 0, '224'], ['miguelpruivo/flutter_file_picker', 20763, 966, 32, '330'], ['trentpiercy/trace', 127221, 966, 7, '260'], ['leisim/dartx', 619, 950, 13, '313'], ['ReinBentdal/styled_widget', 18608, 949, 1, '231'], ['Lyokone/flutterlocation', 13977, 949, 31, '459'], ['DavBfr/dart_pdf', 16226, 930, 31, '872'], ['jonbhanson/flutter_native_splash', 3256, 922, 14, '174'], ['pengMaster/BestNote', 21801, 915, 0, '84'], ['Codelessly/ResponsiveFramework', 194244, 914, 2, '188'], ['AdobeXD/xd-to-flutter-plugin', 5576, 909, 19, '328'], ['sony/flutter-embedded-linux', 726, 902, 1, '191'], ['ajay-prabhakar/awesome-flutter-ui', 31397, 893, 16, '35'], ['dart-native/dart_native', 116045, 886, 17, '891'], ['pedromassango/my_flutter_challenges', 66734, 885, 3, '115'], ['miickel/flutter_particle_clock', 3705, 884, 0, '22'], ['hnvn/flutter_image_cropper', 18036, 884, 16, '180'], ['go-flutter-desktop/hover', 801, 881, 49, '491'], ['dart-lang/http', 1495, 879, 39, '404'], ['mogol/flutter_secure_storage', 26873, 877, 24, '414'], ['biyidev/biyi', 1935, 875, 0, '1'], ['glorylab/wave', 13841, 874, 5, '50'], ['xvrh/lottie-flutter', 48966, 873, 7, '87'], ['anji-plus/captcha', 83867, 866, 3466, '541'], ['JideGuru/FlutterTravel', 13937, 865, 1, '35'], ['syphon-org/syphon', 52268, 865, 69, '1824'], ['aaronoe/FlutterCinematic', 20927, 865, 7, '66'], ['entronad/graphic', 4546, 865, 9, '115'], ['google/inject.dart', 102, 864, 22, '12'], ['pedromassango/bottom_navy_bar', 8089, 863, 3, '134'], ['vvkeep/JSONConverter', 41431, 842, 0, '232'], ['jogboms/flutter_offline', 1170, 836, 8, '39'], ['aloisdeniel/figma-to-flutter', 5327, 831, 38, '49'], ['kauemurakami/getx_pattern', 125701, 830, 9, '220'], ['flutter/photobooth', 85724, 824, 895, '315'], ['JagandeepBrar/LunaSea', 20041, 822, 522, '966'], ['google/flutter-provide', 74, 821, 1, '19'], ['material-components/material-components-flutter', 27761, 819, 0, '55'], ['fzyzcjy/flutter_smooth', 9421, 819, 36, '1210'], ['TakeoffAndroid/flutter-examples', 326, 816, 3, '392'], ['PoojaB26/FlutterBasicWidgets', 2696, 812, 1, '80'], ['marchellodev/sharik', 7170, 810, 30, '334'], ['huextrat/Taskist', 491, 807, 12, '33'], ['Tarikul711/flutter-food-delivery-app-ui', 7375, 799, 3, '22'], ['fluttercandies/flutter_candies', 93179, 792, 2, '185'], ['flutterturkey/flutter-rehberi', 514, 791, 0, '82'], ['brinesoftwares/Flutter-AI-Rubik-cube-Solver', 1074, 790, 5, '12'], ['jpush/jpush-flutter-plugin', 4236, 787, 9, '126'], ['dotnet-architecture/eShopOnContainers', 657399, 22015, 1834, '4097'], ['mono/mono', 579042, 10184, 47, '122568'], ['reactiveui/ReactiveUI', 87875, 7265, 86, '4894'], ['unoplatform/uno', 154883, 7205, 353, '18527'], ['reactiveui/refit', 15216, 6627, 21, '1595'], ['NLog/NLog', 113669, 5682, 64, '6510'], ['xamarin/Xamarin.Forms', 110976, 5626, 170, '5782'], ['neuecc/MessagePack-CSharp', 9265, 4291, 133, '1797'], ['xamarin/xamarin-forms-samples', 488022, 4255, 398, '2892'], ['bitwarden/mobile', 1072162, 4083, 119, '3468'], ['MvvmCross/MvvmCross', 75080, 3711, 80, '9409'], ['mono/SkiaSharp', 51961, 3099, 272, '2952'], ['migueldeicaza/TensorFlowSharp', 8583, 3075, 29, '275'], ['Caliburn-Micro/Caliburn.Micro', 21564, 2572, 78, '1603'], ['mono/CppSharp', 37735, 2495, 11, '5429'], ['jsuarezruiz/xamarin-forms-goodlooking-UI', 398917, 2480, 0, '200'], ['beto-rodriguez/LiveCharts2', 39152, 2325, 126, '1653'], ['reactiveui/Akavache', 80322, 2285, 50, '1470'], ['xamarin/xamarin-macios', 189158, 2200, 98, '14889'], ['XamSome/awesome-xamarin', 485, 1831, 0, '251'], ['microcharts-dotnet/Microcharts', 10567, 1790, 215, '309'], ['NLua/NLua', 90317, 1665, 44, '623'], ['xamarin/ios-samples', 1497532, 1557, 3, '3177'], ['xamarin/Essentials', 15977, 1507, 81, '1570'], ['luberda-molinet/FFImageLoading', 34147, 1393, 192, '1995'], ['microsoft/AdaptiveCards', 360640, 1393, 5406, '3562']]\n"
          ]
        }
      ],
      "source": [
        "CAMINHOSCROSS=[]\n",
        "CAMINHOSFLUTTER=[]\n",
        "CAMINHOSXAMARIN=[]\n",
        "tam1=[]\n",
        "tam2=[]\n",
        "paginacao('search/repositories','''topic:flutter -topic:capacitor -topic:cordova\n",
        "-topic:xamarin -topic:nativescript -topic:react-native -topic:pwa sort:stars''',1,CAMINHOSFLUTTER,tam1)\n",
        "paginacao('search/repositories','''topic:xamarin  -topic:capacitor -topic:cordova\n",
        "-topic:flutter -topic:nativescript -topic:react-native -topic:pwa sort:stars''',1,CAMINHOSXAMARIN,tam2)\n",
        "proporcao(tam1,tam2,278)\n",
        "print(tam1[0],tam2[0])\n",
        "CAMINHOSCROSS=CAMINHOSFLUTTER[:tam1[0]]+CAMINHOSXAMARIN[:tam2[0]]\n",
        "CAMINHOSCROSS=reposAddElem(CAMINHOSCROSS,'size')\n",
        "CAMINHOSCROSS=reposAddElem(CAMINHOSCROSS,'stargazers_count')\n",
        "CAMINHOSCROSS=contaDepRepos(CAMINHOSCROSS)\n",
        "CAMINHOSCROSS=contaCommitRepos(CAMINHOSCROSS)\n",
        "print(len(CAMINHOSCROSS),CAMINHOSCROSS)"
      ]
    },
    {
      "cell_type": "markdown",
      "metadata": {
        "id": "8vWt-FA5y0oD"
      },
      "source": [
        "Interpretado"
      ]
    },
    {
      "cell_type": "markdown",
      "metadata": {
        "id": "LRi_Cx4Qy7By"
      },
      "source": [
        "react-native"
      ]
    },
    {
      "cell_type": "code",
      "execution_count": null,
      "metadata": {
        "colab": {
          "base_uri": "https://localhost:8080/"
        },
        "id": "nb1ZCeW8y277",
        "outputId": "64daf51f-e799-45f0-fb77-4115ec86abc2"
      },
      "outputs": [
        {
          "output_type": "stream",
          "name": "stdout",
          "text": [
            "35372\n"
          ]
        }
      ],
      "source": [
        "response=requests.get(SITE+'search/repositories'+'?q='+'''topic:react-native -topic:capacitor -topic:cordova\n",
        "-topic:flutter -topic:pwa -topic:xamarin -topic:nativescript sort:stars''',auth=tokenAuth)\n",
        "data=response.json()\n",
        "if 'total_count' in data:\n",
        "  print(data['total_count'])"
      ]
    },
    {
      "cell_type": "markdown",
      "metadata": {
        "id": "JFMRs1Qi-eqr"
      },
      "source": [
        "native-script"
      ]
    },
    {
      "cell_type": "code",
      "execution_count": null,
      "metadata": {
        "colab": {
          "base_uri": "https://localhost:8080/"
        },
        "id": "W1hrV6SP-dXe",
        "outputId": "cb16668a-5671-4a1e-99f9-d77a84978777"
      },
      "outputs": [
        {
          "output_type": "stream",
          "name": "stdout",
          "text": [
            "726\n"
          ]
        }
      ],
      "source": [
        "response=requests.get(SITE+'search/repositories'+'?q='+'''topic:nativescript -topic:capacitor -topic:cordova\n",
        "-topic:flutter -topic:pwa -topic:react-native -topic:xamarin sort:stars''',auth=tokenAuth)\n",
        "data=response.json()\n",
        "if 'total_count' in data:\n",
        "  print(data['total_count'])"
      ]
    },
    {
      "cell_type": "code",
      "execution_count": null,
      "metadata": {
        "colab": {
          "base_uri": "https://localhost:8080/"
        },
        "id": "IHjUN6Hc827O",
        "outputId": "77aaf250-3a77-43c8-e607-3d621445d718"
      },
      "outputs": [
        {
          "output_type": "stream",
          "name": "stdout",
          "text": [
            "{'message': 'API rate limit exceeded for user ID 44467278.', 'documentation_url': 'https://docs.github.com/rest/overview/resources-in-the-rest-api#rate-limiting'}\n",
            "{'message': 'Only the first 1000 search results are available', 'documentation_url': 'https://docs.github.com/v3/search/'}\n",
            "{'message': 'API rate limit exceeded for user ID 44467278.', 'documentation_url': 'https://docs.github.com/rest/overview/resources-in-the-rest-api#rate-limiting'}\n",
            "50 repositórios filtrados\n",
            "100 repositórios filtrados\n",
            "150 repositórios filtrados\n",
            "200 repositórios filtrados\n",
            "250 repositórios filtrados\n",
            "278 repositórios filtrados\n",
            "50 repositórios filtrados\n",
            "100 repositórios filtrados\n",
            "150 repositórios filtrados\n",
            "200 repositórios filtrados\n",
            "250 repositórios filtrados\n",
            "278 repositórios filtrados\n",
            "278 [['justjavac/free-programming-books-zh_CN', 1236, 97281, 0, '922'], ['storybookjs/storybook', 594739, 75231, 1401, '45316'], ['enaqx/awesome-react', 2429, 52417, 0, '1932'], ['laurent22/joplin', 294743, 33147, 11263, '8367'], ['dkhamsing/open-source-ios-apps', 19278, 32564, 2, '6409'], ['jondot/awesome-react-native', 5250, 32175, 7, '2193'], ['NervJS/taro', 1417422, 31947, 966, '8878'], ['react-hook-form/react-hook-form', 27674, 31872, 88, '3350'], ['jaredpalmer/formik', 13364, 31540, 190, '1703'], ['typeorm/typeorm', 24191, 29813, 980, '5113'], ['sudheerj/reactjs-interview-questions', 1873, 25438, 8, '365'], ['vercel/swr', 3229, 24684, 116, '691'], ['mattermost/mattermost-server', 577219, 24361, 0, '15657'], ['react-native-elements/react-native-elements', 142760, 23037, 123, '2366'], ['react-navigation/react-navigation', 49363, 21867, 236, '1857'], ['necolas/react-native-web', 53416, 20374, 1198, '1873'], ['GeekyAnts/NativeBase', 69854, 18643, 1011, 1011], ['expo/expo', 2481322, 18187, 727, '16803'], ['zulip/zulip', 381147, 16787, 613, '49280'], ['oblador/react-native-vector-icons', 6606, 16231, 47, '582'], ['lottie-react-native/lottie-react-native', 414262, 15493, 54, '681'], ['microsoft/react-native-windows', 211103, 15121, 946, '6937'], ['infinitered/ignite', 58008, 14516, 112, '2378'], ['feathersjs/feathers', 30395, 14203, 2229, '3819'], ['infinitered/reactotron', 21939, 13802, 170, '1259'], ['react-native-maps/react-native-maps', 6056, 13644, 29, '1391'], ['expo/create-react-native-app', 1912, 13048, 32, '371'], ['wix/react-native-navigation', 136264, 12667, 80, '5446'], ['danilowoz/react-content-loader', 8229, 12615, 2069, '279'], ['FaridSafi/react-native-gifted-chat', 47538, 12035, 61, '1319'], ['invertase/react-native-firebase', 45018, 10452, 1034, '5342'], ['leecade/react-native-swiper', 9194, 10060, 25, '364'], ['wix/Detox', 70383, 10022, 175, '4311'], ['callstack/react-native-paper', 355862, 10009, 105, '1714'], ['jhen0409/react-native-debugger', 6078, 9660, 96, '899'], ['react-native-camera/react-native-camera', 17586, 9594, 838, '1699'], ['welldone-software/why-did-you-render', 5531, 9448, 57, '420'], ['akveo/react-native-ui-kitten', 464220, 9382, 182, '816'], ['oblador/react-native-animatable', 5695, 9367, 42, '181'], ['boardgameio/boardgame.io', 13875, 9339, 1348, '1834'], ['gregberge/svgr', 15379, 9208, 3023, '593'], ['alibaba/formily', 27165, 8842, 355, '2985'], ['Nozbe/WatermelonDB', 18435, 8743, 189, '3640'], ['GetStream/Winds', 61501, 8701, 112, '3306'], ['devhubapp/devhub', 121209, 8567, 199, '2725'], ['keybase/client', 657640, 8286, 885, '36408'], ['rematch/rematch', 23635, 8277, 4256, '1624'], ['microsoft/react-native-code-push', 8368, 8275, 455, '1739'], ['wix/react-native-calendars', 17592, 8165, 64, '2511'], ['i18next/react-i18next', 10185, 7835, 5346, '1546'], ['react-native-image-picker/react-native-image-picker', 2453, 7808, 31, '771'], ['DylanVann/react-native-fast-image', 61812, 7236, 49, '575'], ['akveo/kittenTricks', 107763, 6931, 55, '303'], ['ptomasroos/react-native-scrollable-tab-view', 7597, 6836, 15, '380'], ['software-mansion/react-native-reanimated', 105707, 6715, 199, '1371'], ['fangwei716/30-days-of-react-native', 94030, 6603, 13, '72'], ['zo0r/react-native-push-notification', 1688, 6511, 12, '818'], ['berty/berty', 264368, 6280, 2621, '7770'], ['redux-offline/redux-offline', 3181, 6099, 46, '366'], ['ivpusic/react-native-image-crop-picker', 8163, 5626, 4, '480'], ['jpush/aurora-imui', 11148, 5591, 737, '1197'], ['crazycodeboy/react-native-splash-screen', 3830, 5325, 11, '166'], ['learnapollo/learnapollo', 44669, 5246, 67, '311'], ['benoitvallon/react-native-nw-react-calculator', 1839, 5165, 57, '186'], ['software-mansion/react-native-gesture-handler', 62844, 5144, 154, '1122'], ['satya164/react-native-tab-view', 9735, 5111, 51, '719'], ['react-native-modal/react-native-modal', 8492, 5025, 44, '537'], ['wix/react-native-ui-lib', 161643, 4937, 179, '3676'], ['APSL/react-native-keyboard-aware-scroll-view', 408, 4891, 8, '182'], ['xinthink/react-native-material-kit', 2553, 4839, 44, '496'], ['shoutem/ui', 8506, 4769, 1040, '1218'], ['vhpoet/react-native-styling-cheat-sheet', 38, 4658, 0, '36'], ['streetwriters/notesnook', 134182, 4646, 10539, '8847'], ['facebook/metro', 32016, 4642, 261, '3852'], ['futurice/pepperoni-app-kit', 49617, 4642, 854, '213'], ['Flipkart/recyclerlistview', 4973, 4638, 11, '466'], ['gitpoint/git-point', 6059, 4615, 96, '730'], ['bartonhammond/snowflake', 30278, 4585, 39, '283'], ['itinance/react-native-fs', 1193, 4564, 33, '733'], ['Shopify/react-native-skia', 108865, 4485, 113, '1943'], ['unform/unform', 9263, 4481, 64, '421'], ['oliviertassinari/react-swipeable-views', 4377, 4267, 99, '600'], ['ritz078/transform', 13283, 4204, 94, '380'], ['kdchang/reactjs101', 7719, 4122, 296, '500'], ['react-native-webrtc/react-native-webrtc', 432601, 4088, 489, '890'], ['maicki/why-did-you-update', 956, 4079, 0, '120'], ['gorhom/react-native-bottom-sheet', 28596, 4076, 95, '367'], ['crazycodeboy/RNStudyNotes', 8356, 3915, 19, '255'], ['xotahal/react-native-material-ui', 2611, 3762, 26, '524'], ['rcbyr/keen-slider', 3059, 3673, 1072, '413'], ['callstack/haul', 5695, 3611, 226, '576'], ['status-im/status-mobile', 207389, 3553, 125, '7412'], ['lingui/js-lingui', 13715, 3479, 315, '1987'], ['attentiveness/reading', 22613, 3428, 31, '458'], ['Kureev/react-native-blur', 1941, 3412, 34, '253'], ['deepsyx/home-automation', 4273, 3381, 12, '48'], ['taofed/react-web', 8314, 3380, 31, '313'], ['mrousavy/react-native-vision-camera', 74354, 3376, 79, '922'], ['thecodingmachine/react-native-boilerplate', 18244, 3362, 75, '479'], ['hectahertz/react-native-typography', 4251, 3342, 12, '51'], ['zoontek/react-native-permissions', 4376, 3327, 36, '679'], ['vincentriemer/react-native-dom', 17204, 3255, 99, '418'], ['mcnamee/react-native-starter-kit', 13766, 3212, 38, '59'], ['react-native-share/react-native-share', 10931, 3198, 731, '969'], ['FuYaoDe/react-native-app-intro', 10686, 3193, 9, '96'], ['airbnb/native-navigation', 1679, 3133, 18, 18], ['artsy/eigen', 477250, 3126, 223, '22299'], ['rainbow-me/rainbow', 165987, 3124, 351, '6926'], ['meliorence/react-native-render-html', 70085, 2993, 184, '1358'], ['CSFrequency/react-firebase-hooks', 1240, 2979, 1225, '389'], ['galio-org/galio', 30857, 2946, 756, '419'], ['fram-x/FluidTransitions', 9199, 2898, 27, '678'], ['sunnylqm/react-native-storage', 1084, 2894, 11, '175'], ['rilyu/teaset', 6685, 2880, 13, '144'], ['yorkie/react-native-wechat', 58165, 2873, 71, '230'], ['iconoir-icons/iconoir', 6870, 2868, 74, '271'], ['crazycodeboy/GitHubPopular', 10464, 2859, 12, '13'], ['coffe1891/frontend-hard-mode-interview', 11110, 2847, 0, '964'], ['vitalets/react-native-extended-stylesheet', 1282, 2836, 640, '242'], ['tamagui/tamagui', 378347, 2832, 873, '2935'], ['react-native-community/upgrade-helper', 26696, 2831, 37, '718'], ['oblador/react-native-keychain', 1752, 2755, 21, '315'], ['gre/gl-react', 133245, 2722, 855, '480'], ['mrousavy/react-native-mmkv', 6088, 2699, 52, '370'], ['YvetteLau/Blog', 1348, 2681, 950, '78'], ['mmazzarolo/react-native-modal-datetime-picker', 5393, 2665, 16, '452'], ['jemise111/react-native-swipe-list-view', 1217, 2653, 18, '551'], ['ant-design/ant-design-mobile-rn', 38120, 2620, 82, '553'], ['react-native-google-signin/google-signin', 22664, 2610, 30, '485'], ['jsdf/react-native-htmlview', 710, 2608, 8, '226'], ['callstack/react-native-testing-library', 10899, 2598, 73, '733'], ['wkh237/react-native-fetch-blob', 52488, 2598, 2, '1196'], ['unicodeveloper/awesome-opensource-apps', 247, 2580, 0, '300'], ['jeremybarbet/react-native-modalize', 2598, 2553, 63, '529'], ['js-newbee/taro-yanxuan', 4627, 2512, 45, '65'], ['doublesymmetry/react-native-track-player', 34957, 2509, 63, '881'], ['software-mansion/react-native-screens', 19398, 2493, 212, '798'], ['infinitered/apisauce', 355, 2493, 28, '301'], ['react-ui-kit/dribbble2react', 18325, 2491, 97, '65'], ['zoontek/react-native-bootsplash', 18395, 2474, 24, '396'], ['microsoft/vscode-react-native', 21926, 2455, 1184, '1836'], ['mastermoo/react-native-action-button', 361, 2449, 22, '230'], ['midudev/preguntas-entrevista-react', 392, 2443, 21, '224'], ['bberak/react-native-game-engine', 527, 2398, 3, '186'], ['ascoders/react-native-image-viewer', 2498, 2388, 1316, '324'], ['atulmy/crate', 10773, 2362, 2404, '166'], ['expo/expo-cli', 131026, 2362, 488, '5212'], ['indiespirit/react-native-chart-kit', 2329, 2331, 25, '336'], ['MarnoDev/react-native-open-project', 25018, 2311, 0, '32'], ['oblador/react-native-collapsible', 1376, 2297, 647, '226'], ['transistorsoft/react-native-background-geolocation', 644843, 2275, 9, '725'], ['bolan9999/react-native-largelist', 37674, 2261, 30, '274'], ['CarGuo/GSYGithubAPP', 8128, 2257, 44, '34'], ['dooboolab/react-native-iap', 42513, 2246, 81, '1538'], ['wuxudong/react-native-charts-wrapper', 7950, 2234, 19, '329'], ['amazon-archives/aws-mobile-react-native-starter', 28118, 2234, 47, '79'], ['gre/react-native-view-shot', 6908, 2217, 34, '316'], ['Kureev/react-native-side-menu', 721, 2215, 21, '337'], ['ladjs/lad', 6126, 2197, 202, '343'], ['JesperLekland/react-native-svg-charts', 1912, 2183, 34, '386'], ['junedomingo/react-native-rename', 442, 2181, 28, '206'], ['rgommezz/react-native-offline', 1944, 2139, 1809, '214'], ['nitaliano/react-native-mapbox-gl', 16868, 2137, 70, '1261'], ['xmppjs/xmpp.js', 6307, 2080, 1512, '2489'], ['arthenica/ffmpeg-kit', 10368, 2080, 29, '322'], ['jacklam718/react-native-modals', 15600, 2078, 37, '367'], ['Flaque/quirk', 43858, 2071, 75, '476'], ['nachos-ui/nachos-ui', 1507, 2050, 678, '58'], ['xotahal/react-native-motion', 46, 2035, 18, '51'], ['catalinmiron/react-native-dribbble-app', 5441, 2031, 5, '67'], ['FormidableLabs/victory-native', 2888, 2016, 97, '452'], ['mfrachet/rn-placeholder', 13150, 1992, 51, '100'], ['osdio/noder-react-native', 5535, 1989, 61, '397'], ['bartgryszko/react-native-circular-progress', 6609, 1989, 640, '236'], ['7kfpun/FinanceReactNative', 4423, 1984, 16, '104'], ['redux-zero/redux-zero', 3415, 1983, 4046, '438'], ['viromedia/viro', 2028018, 1975, 20, '1631'], ['jmurzy/react-native-foldview', 1127, 1967, 34, '38'], ['moaazsidat/react-native-qrcode-scanner', 438, 1945, 353, '337'], ['react-native-community/cli', 10549, 1945, 171, '2105'], ['algolia/react-instantsearch', 138536, 1944, 1151, '4919'], ['flatlogic/react-native-starter', 7930, 1938, 63, '43'], ['mohebifar/react-native-copilot', 948, 1916, 29, '192'], ['nirsky/react-native-size-matters', 3795, 1911, 23, '61'], ['zoontek/react-native-localize', 4658, 1895, 29, '365'], ['callstack/react-native-builder-bob', 3239, 1886, 70, '351'], ['IjzerenHein/react-native-shared-element', 20461, 1862, 38, '487'], ['callstack/react-native-pager-view', 36795, 1854, 69, '431'], ['react-native-datetimepicker/datetimepicker', 4684, 1845, 31, '436'], ['deepsweet/hocs', 1627, 1831, 67, '297'], ['teslamotors/react-native-camera-kit', 12210, 1826, 24, '894'], ['areslabs/alita', 12511, 1825, 204, '790'], ['junedomingo/movieapp', 882, 1795, 30, '131'], ['BlueWallet/BlueWallet', 92482, 1782, 1692, '7283'], ['wuba/Fair', 184655, 1767, 168, '797'], ['Meituan-Dianping/beeshell', 160672, 1763, 22, 22], ['binggg/mrn', 45934, 1734, 1, '61'], ['dabit3/awesome-aws-amplify', 464, 1733, 0, '93'], ['open-source-labs/ReacType', 100735, 1718, 126, '2550'], ['testshallpass/react-native-dropdownalert', 32060, 1716, 598, '448'], ['react-native-community/react-native-template-typescript', 542, 1706, 24, '306'], ['chantastic/reactpatterns', 175, 1706, 4, '96'], ['facebook/react-native-website', 148310, 1705, 41, '3008'], ['crazycodeboy/react-native-awesome', 3907, 1699, 0, '64'], ['react-native-ar/react-native-arkit', 4576, 1682, 281, '538'], ['sysgears/apollo-universal-starter-kit', 18349, 1671, 549, '2544'], ['listen1/listen1_mobile', 552, 1642, 44, '41'], ['innoveit/react-native-ble-manager', 4703, 1597, 876, '741'], ['start-react/native-starter-kit', 29945, 1593, 32, '118'], ['th3rdwave/react-native-safe-area-context', 2679, 1586, 71, '326'], ['tomauty/react-native-chart', 623, 1577, 12, '221'], ['react-native-netinfo/react-native-netinfo', 2393, 1573, 48, '430'], ['bhrott/react-native-masked-text', 133640, 1567, 13, '202'], ['lawnstarter/react-native-picker-select', 2851, 1553, 18, '203'], ['henninghall/react-native-date-picker', 11685, 1538, 37, '508'], ['benawad/fullstack-graphql-airbnb-clone', 804, 1538, 1130, '104'], ['morenoh149/react-native-contacts', 9858, 1535, 15, '654'], ['joggerplus/awesome-weex', 51, 1534, 0, '61'], ['waylybaye/XcodeCleaner', 963, 1534, 6, '92'], ['renative-org/renative', 228574, 1533, 363, '4638'], ['naoufal/react-native-payments', 13929, 1528, 818, '131'], ['oblador/loki', 9600, 1523, 140, '433'], ['rnmapbox/maps', 32640, 1522, 95, '2935'], ['Trixieapp/react-virgin', 1360, 1521, 700, '64'], ['RocketChat/Rocket.Chat.ReactNative', 332225, 1512, 169, '2391'], ['react-native-community/releases', 1614, 1507, 18, '330'], ['GantMan/ReactStateMuseum', 7376, 1507, 2092, '226'], ['Andr3wHur5t/react-native-keyboard-spacer', 29, 1507, 0, '54'], ['ladjs/react-native-loading-spinner-overlay', 2017, 1497, 27, '83'], ['LeoMobileDeveloper/Blogs', 56950, 1497, 0, '200'], ['mmazzarolo/react-native-universal-monorepo', 4334, 1490, 131, '80'], ['phil-r/react-native-looped-carousel', 1372, 1470, 14, '222'], ['OneSignal/react-native-onesignal', 148518, 1454, 30, '792'], ['react-native-training/react-native-fonts', 11, 1453, 0, '12'], ['alexbrillant/react-native-deck-swiper', 3866, 1451, 28, '334'], ['a7ul/react-native-exception-handler', 990, 1443, 4, '115'], ['react-native-community/discussions-and-proposals', 496, 1437, 0, '76'], ['frostney/react-native-create-library', 131, 1428, 12, '77'], ['jaydenseric/apollo-upload-client', 467, 1420, 17, '449'], ['naoufal/react-native-touch-id', 687, 1419, 593, '218'], ['rgommezz/react-native-scroll-bottom-sheet', 87031, 1406, 728, '134'], ['chiclaim/AndroidAll', 23474, 1406, 3, '418'], ['Agontuk/react-native-geolocation-service', 6475, 1405, 30, '230'], ['netguru/sticky-parallax-header', 336893, 1402, 67, '719'], ['gorhom/react-native-animated-tabbar', 4807, 1402, 45, '95'], ['marudy/react-native-responsive-screen', 406, 1399, 22, '107'], ['ospfranco/sol', 505823, 1399, 47, '779'], ['react-native-voice/voice', 2223, 1385, 21, '169'], ['sbycrosz/react-native-credit-card-input', 1694, 1381, 20, '99'], ['bamlab/react-native-image-resizer', 1341, 1378, 30, '163'], ['mrousavy/react-native-blurhash', 5565, 1376, 45, '336'], ['expo/examples', 49900, 1371, 1172, '697'], ['pixielabs/cavy', 1607, 1368, 398, '336'], ['MetaMask/metamask-mobile', 143880, 1357, 244, '1939'], ['instea/react-native-popup-menu', 3678, 1347, 895, '395'], ['Softmotions/ejdb', 11602, 1346, 36, '2790'], ['dohooo/react-native-reanimated-carousel', 352690, 1334, 91, '602'], ['getsentry/sentry-react-native', 53991, 1331, 72, '1638'], ['marklawlor/nativewind', 77945, 1309, 3813, '1584'], ['corymsmith/react-native-fabric', 39601, 1308, 25, '185'], ['react-everywhere/re-start', 492, 1306, 38, '273'], ['azat-co/cheatsheets', 544, 1305, 0, '24'], ['beefe/react-native-actionsheet', 839, 1303, 13, '79'], ['jpush/jpush-react-native', 77886, 1301, 12, '809'], ['apollographql/apollo-cache-persist', 1837, 1293, 52, '432'], ['EasyTuan/taro-msparis', 5405, 1288, 36, '82'], ['wonday/react-native-pdf', 3621, 1285, 25, '639'], ['24ark/react-native-step-indicator', 5222, 1276, 31, '10'], ['react-native-elements/react-native-elements-app', 10528, 1272, 31, '347'], ['czy0729/Bangumi', 78071, 1271, 279, '1742'], ['OneKeyHQ/app-monorepo', 115734, 1269, 397, '2152'], ['eduardomoroni/react-clean-architecture', 51668, 1260, 3220, '68'], ['nativescript-vue/nativescript-vue', 26676, 4896, 40, '794'], ['ngx-formly/ngx-formly', 32344, 2406, 1762, '1699'], ['NathanWalker/angular-seed-advanced', 13073, 2279, 175, '2261'], ['NativeScript/nativescript-angular', 33538, 1213, 318, '1866'], ['NativeScript/nativescript-cli', 148925, 1026, 1200, '6390'], ['EddyVerbruggen/nativescript-plugin-firebase', 50841, 1019, 105, '1764']]\n"
          ]
        }
      ],
      "source": [
        "CAMINHOSINTER=[]\n",
        "CAMINHOSREACT=[]\n",
        "CAMINHOSNSCRIPT=[]\n",
        "tam1=[]\n",
        "tam2=[]\n",
        "paginacao('search/repositories','''topic:react-native -topic:capacitor -topic:cordova\n",
        "-topic:flutter -topic:pwa -topic:xamarin -topic:nativescript sort:stars''',1,CAMINHOSREACT,tam1)\n",
        "paginacao('search/repositories','''topic:nativescript -topic:capacitor -topic:cordova\n",
        "-topic:flutter -topic:pwa -topic:react-native -topic:xamarin sort:stars''',1,CAMINHOSNSCRIPT,tam2)\n",
        "proporcao(tam1,tam2,278)\n",
        "CAMINHOSINTER=CAMINHOSREACT[:tam1[0]]+CAMINHOSNSCRIPT[:tam2[0]]\n",
        "CAMINHOSINTER=reposAddElem(CAMINHOSINTER,'size')\n",
        "CAMINHOSINTER=reposAddElem(CAMINHOSINTER,'stargazers_count')\n",
        "CAMINHOSINTER=contaDepRepos(CAMINHOSINTER)\n",
        "CAMINHOSINTER=contaCommitRepos(CAMINHOSINTER)\n",
        "print(len(CAMINHOSINTER),CAMINHOSINTER)"
      ]
    },
    {
      "cell_type": "markdown",
      "metadata": {
        "id": "t-SuYN_OsDZ3"
      },
      "source": [
        "# Saida\n"
      ]
    },
    {
      "cell_type": "code",
      "execution_count": 23,
      "metadata": {
        "id": "E4rsZ5PkpxfQ"
      },
      "outputs": [],
      "source": [
        "def escreveSaida(arquivo,vetor):\n",
        "  f=open(arquivo,\"w\")\n",
        "  f.write(\"nome tamanho estrelas dependencias commits\")\n",
        "  f.write('\\n')\n",
        "  for lin in vetor:\n",
        "    for col in lin[0:]:\n",
        "      if lin.index(col)!=(len(lin)-1):\n",
        "        f.write(str(col)+\" \")\n",
        "      else:\n",
        "        f.write(str(col))\n",
        "    f.write('\\n')\n",
        "  f.close()"
      ]
    },
    {
      "cell_type": "code",
      "source": [
        "escreveSaida(\"outputpwa.txt\",CAMINHOSPWA)\n",
        "#escreveSaida(\"outputcross.txt\",CAMINHOSCROSS)\n",
        "#escreveSaida(\"outputinter.txt\",CAMINHOSINTER)\n",
        "#escreveSaida(\"outputnativo.txt\",CAMINHOSNATIVO)\n",
        "#escreveSaida(\"outputhibrido.txt\",CAMINHOSHIBRIDO)"
      ],
      "metadata": {
        "id": "BQ7kofB72wAs"
      },
      "execution_count": 25,
      "outputs": []
    }
  ],
  "metadata": {
    "colab": {
      "provenance": [],
      "authorship_tag": "ABX9TyOM7k+42BtDbanSwtXJbie/",
      "include_colab_link": true
    },
    "kernelspec": {
      "display_name": "Python 3",
      "name": "python3"
    },
    "language_info": {
      "name": "python"
    },
    "widgets": {
      "application/vnd.jupyter.widget-state+json": {
        "94547036c5694ecba73b232f171bd0d9": {
          "model_module": "@jupyter-widgets/controls",
          "model_name": "VBoxModel",
          "model_module_version": "1.5.0",
          "state": {
            "_dom_classes": [
              "widget-interact"
            ],
            "_model_module": "@jupyter-widgets/controls",
            "_model_module_version": "1.5.0",
            "_model_name": "VBoxModel",
            "_view_count": null,
            "_view_module": "@jupyter-widgets/controls",
            "_view_module_version": "1.5.0",
            "_view_name": "VBoxView",
            "box_style": "",
            "children": [
              "IPY_MODEL_b5b2dce695f549ea8801e0f8378dd538",
              "IPY_MODEL_47128a3ff09f41528b7d43e0bc274f4a"
            ],
            "layout": "IPY_MODEL_cf9f1b30f5bf4083be261f9119fdadb6"
          }
        },
        "b5b2dce695f549ea8801e0f8378dd538": {
          "model_module": "@jupyter-widgets/controls",
          "model_name": "FileUploadModel",
          "model_module_version": "1.5.0",
          "state": {
            "_counter": 1,
            "_dom_classes": [],
            "_model_module": "@jupyter-widgets/controls",
            "_model_module_version": "1.5.0",
            "_model_name": "FileUploadModel",
            "_view_count": null,
            "_view_module": "@jupyter-widgets/controls",
            "_view_module_version": "1.5.0",
            "_view_name": "FileUploadView",
            "accept": "",
            "button_style": "",
            "data": [
              null
            ],
            "description": "Upload",
            "description_tooltip": null,
            "disabled": false,
            "error": "",
            "icon": "upload",
            "layout": "IPY_MODEL_f1bc082d0f21442c8dac1ffefefedd42",
            "metadata": [
              {
                "name": "token.txt",
                "type": "text/plain",
                "size": 40,
                "lastModified": 1667219848000
              }
            ],
            "multiple": false,
            "style": "IPY_MODEL_86dd65b5a0d94015b9f796949b2921c4"
          }
        },
        "47128a3ff09f41528b7d43e0bc274f4a": {
          "model_module": "@jupyter-widgets/output",
          "model_name": "OutputModel",
          "model_module_version": "1.0.0",
          "state": {
            "_dom_classes": [],
            "_model_module": "@jupyter-widgets/output",
            "_model_module_version": "1.0.0",
            "_model_name": "OutputModel",
            "_view_count": null,
            "_view_module": "@jupyter-widgets/output",
            "_view_module_version": "1.0.0",
            "_view_name": "OutputView",
            "layout": "IPY_MODEL_c4da5db0a54244d180b06c2867008a2d",
            "msg_id": "",
            "outputs": [
              {
                "output_type": "stream",
                "name": "stdout",
                "text": [
                  "Token carregado\n"
                ]
              }
            ]
          }
        },
        "cf9f1b30f5bf4083be261f9119fdadb6": {
          "model_module": "@jupyter-widgets/base",
          "model_name": "LayoutModel",
          "model_module_version": "1.2.0",
          "state": {
            "_model_module": "@jupyter-widgets/base",
            "_model_module_version": "1.2.0",
            "_model_name": "LayoutModel",
            "_view_count": null,
            "_view_module": "@jupyter-widgets/base",
            "_view_module_version": "1.2.0",
            "_view_name": "LayoutView",
            "align_content": null,
            "align_items": null,
            "align_self": null,
            "border": null,
            "bottom": null,
            "display": null,
            "flex": null,
            "flex_flow": null,
            "grid_area": null,
            "grid_auto_columns": null,
            "grid_auto_flow": null,
            "grid_auto_rows": null,
            "grid_column": null,
            "grid_gap": null,
            "grid_row": null,
            "grid_template_areas": null,
            "grid_template_columns": null,
            "grid_template_rows": null,
            "height": null,
            "justify_content": null,
            "justify_items": null,
            "left": null,
            "margin": null,
            "max_height": null,
            "max_width": null,
            "min_height": null,
            "min_width": null,
            "object_fit": null,
            "object_position": null,
            "order": null,
            "overflow": null,
            "overflow_x": null,
            "overflow_y": null,
            "padding": null,
            "right": null,
            "top": null,
            "visibility": null,
            "width": null
          }
        },
        "f1bc082d0f21442c8dac1ffefefedd42": {
          "model_module": "@jupyter-widgets/base",
          "model_name": "LayoutModel",
          "model_module_version": "1.2.0",
          "state": {
            "_model_module": "@jupyter-widgets/base",
            "_model_module_version": "1.2.0",
            "_model_name": "LayoutModel",
            "_view_count": null,
            "_view_module": "@jupyter-widgets/base",
            "_view_module_version": "1.2.0",
            "_view_name": "LayoutView",
            "align_content": null,
            "align_items": null,
            "align_self": null,
            "border": null,
            "bottom": null,
            "display": null,
            "flex": null,
            "flex_flow": null,
            "grid_area": null,
            "grid_auto_columns": null,
            "grid_auto_flow": null,
            "grid_auto_rows": null,
            "grid_column": null,
            "grid_gap": null,
            "grid_row": null,
            "grid_template_areas": null,
            "grid_template_columns": null,
            "grid_template_rows": null,
            "height": null,
            "justify_content": null,
            "justify_items": null,
            "left": null,
            "margin": null,
            "max_height": null,
            "max_width": null,
            "min_height": null,
            "min_width": null,
            "object_fit": null,
            "object_position": null,
            "order": null,
            "overflow": null,
            "overflow_x": null,
            "overflow_y": null,
            "padding": null,
            "right": null,
            "top": null,
            "visibility": null,
            "width": null
          }
        },
        "86dd65b5a0d94015b9f796949b2921c4": {
          "model_module": "@jupyter-widgets/controls",
          "model_name": "ButtonStyleModel",
          "model_module_version": "1.5.0",
          "state": {
            "_model_module": "@jupyter-widgets/controls",
            "_model_module_version": "1.5.0",
            "_model_name": "ButtonStyleModel",
            "_view_count": null,
            "_view_module": "@jupyter-widgets/base",
            "_view_module_version": "1.2.0",
            "_view_name": "StyleView",
            "button_color": null,
            "font_weight": ""
          }
        },
        "c4da5db0a54244d180b06c2867008a2d": {
          "model_module": "@jupyter-widgets/base",
          "model_name": "LayoutModel",
          "model_module_version": "1.2.0",
          "state": {
            "_model_module": "@jupyter-widgets/base",
            "_model_module_version": "1.2.0",
            "_model_name": "LayoutModel",
            "_view_count": null,
            "_view_module": "@jupyter-widgets/base",
            "_view_module_version": "1.2.0",
            "_view_name": "LayoutView",
            "align_content": null,
            "align_items": null,
            "align_self": null,
            "border": null,
            "bottom": null,
            "display": null,
            "flex": null,
            "flex_flow": null,
            "grid_area": null,
            "grid_auto_columns": null,
            "grid_auto_flow": null,
            "grid_auto_rows": null,
            "grid_column": null,
            "grid_gap": null,
            "grid_row": null,
            "grid_template_areas": null,
            "grid_template_columns": null,
            "grid_template_rows": null,
            "height": null,
            "justify_content": null,
            "justify_items": null,
            "left": null,
            "margin": null,
            "max_height": null,
            "max_width": null,
            "min_height": null,
            "min_width": null,
            "object_fit": null,
            "object_position": null,
            "order": null,
            "overflow": null,
            "overflow_x": null,
            "overflow_y": null,
            "padding": null,
            "right": null,
            "top": null,
            "visibility": null,
            "width": null
          }
        }
      }
    }
  },
  "nbformat": 4,
  "nbformat_minor": 0
}