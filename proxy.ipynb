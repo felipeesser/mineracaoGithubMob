{
  "cells": [
    {
      "cell_type": "markdown",
      "metadata": {
        "id": "view-in-github",
        "colab_type": "text"
      },
      "source": [
        "<a href=\"https://colab.research.google.com/github/felipeesser/mineracaoGithubMob/blob/main/proxy.ipynb\" target=\"_parent\"><img src=\"https://colab.research.google.com/assets/colab-badge.svg\" alt=\"Open In Colab\"/></a>"
      ]
    },
    {
      "cell_type": "markdown",
      "metadata": {
        "id": "qfFsYVVVoqgn"
      },
      "source": [
        "# +/- 257 repositórios por grupo\n"
      ]
    },
    {
      "cell_type": "markdown",
      "metadata": {
        "id": "bTrQBEDQo4I2"
      },
      "source": [
        "# init"
      ]
    },
    {
      "cell_type": "code",
      "execution_count": null,
      "metadata": {
        "colab": {
          "base_uri": "https://localhost:8080/"
        },
        "id": "C86VXPPUow_L",
        "outputId": "ed547735-d80c-469d-a2b3-9ece3043b3d4"
      },
      "outputs": [
        {
          "output_type": "stream",
          "name": "stdout",
          "text": [
            "Looking in indexes: https://pypi.org/simple, https://us-python.pkg.dev/colab-wheels/public/simple/\n",
            "Collecting simplejson\n",
            "  Downloading simplejson-3.18.0-cp37-cp37m-manylinux_2_5_x86_64.manylinux1_x86_64.manylinux_2_12_x86_64.manylinux2010_x86_64.whl (130 kB)\n",
            "\u001b[K     |████████████████████████████████| 130 kB 4.6 MB/s \n",
            "\u001b[?25hInstalling collected packages: simplejson\n",
            "Successfully installed simplejson-3.18.0\n"
          ]
        }
      ],
      "source": [
        "!pip install simplejson"
      ]
    },
    {
      "cell_type": "code",
      "execution_count": null,
      "metadata": {
        "id": "23o7qCewozG-"
      },
      "outputs": [],
      "source": [
        "import hashlib\n",
        "import requests\n",
        "import simplejson\n",
        "import os\n",
        "import sys\n",
        "from flask import Flask, request, Response"
      ]
    },
    {
      "cell_type": "code",
      "execution_count": null,
      "metadata": {
        "colab": {
          "base_uri": "https://localhost:8080/",
          "height": 66,
          "referenced_widgets": [
            "5bea9772007b4c81b46c9338414bd89b",
            "33a91dcb15d549c0983d4290a04160ad",
            "5ec2150dddb540cb966512b5b5d66de9",
            "45e4a18fe1384d7ca705986559e22c50",
            "fdf4c6991b7c4b33aa96fd2b5b51cbbb",
            "4a6bcc9ff57f4040b47b8d739ffe054f",
            "967f66895572439f9c2bd75758d90efe"
          ]
        },
        "id": "GLZFFNL_o26h",
        "outputId": "f710f498-17d2-4629-db85-df5304b7413b"
      },
      "outputs": [
        {
          "output_type": "display_data",
          "data": {
            "text/plain": [
              "interactive(children=(FileUpload(value={}, description='Upload'), Output()), _dom_classes=('widget-interact',)…"
            ],
            "application/vnd.jupyter.widget-view+json": {
              "version_major": 2,
              "version_minor": 0,
              "model_id": "5bea9772007b4c81b46c9338414bd89b"
            }
          },
          "metadata": {}
        }
      ],
      "source": [
        "from ipywidgets import FileUpload, interact\n",
        "@interact(files=FileUpload())\n",
        "def setToken(files={}):\n",
        "  global token\n",
        "  if files:\n",
        "    for key, values in files.items():\n",
        "      token= values['content'].decode(\"utf-8\").strip()\n",
        "      print(\"Token carregado\")"
      ]
    },
    {
      "cell_type": "code",
      "execution_count": null,
      "metadata": {
        "colab": {
          "base_uri": "https://localhost:8080/"
        },
        "id": "ubNPdysJpsoZ",
        "outputId": "46eb1337-97b7-469a-8733-617a952e1a6c"
      },
      "outputs": [
        {
          "output_type": "stream",
          "name": "stdout",
          "text": [
            "status code:  200\n",
            "limite de requisições:  5000\n",
            "número de requisições disponíveis:  4999\n",
            "número de requisições utilizadas:  1\n",
            "horário para o reset do limite:  2022-11-26 01:51:16\n"
          ]
        }
      ],
      "source": [
        "import datetime\n",
        "SITE=\"https://api.github.com/\"\n",
        "def tokenAuth(request):\n",
        "  request.headers[\"User-Agent\"]=\"Mineracao\"\n",
        "  request.headers[\"Authorization\"]=\"token {}\".format(token)\n",
        "  return request\n",
        "\n",
        "response= requests.get(SITE,auth=tokenAuth)\n",
        "print(\"status code: \",response.status_code)\n",
        "print(\"limite de requisições: \",response.headers[\"x-ratelimit-limit\"])\n",
        "print(\"número de requisições disponíveis: \",response.headers[\"x-ratelimit-remaining\"])\n",
        "print(\"número de requisições utilizadas: \",response.headers[\"x-ratelimit-used\"])\n",
        "print(\"horário para o reset do limite: \",datetime.datetime.fromtimestamp(int(response.headers[\"x-ratelimit-reset\"])).strftime('%Y-%m-%d %H:%M:%S'))"
      ]
    },
    {
      "cell_type": "markdown",
      "metadata": {
        "id": "n7xmLQU0vEVw"
      },
      "source": [
        "# Armazenamento da população"
      ]
    },
    {
      "cell_type": "code",
      "execution_count": null,
      "metadata": {
        "id": "p24MDxRjo_vP"
      },
      "outputs": [],
      "source": [
        "import time\n",
        "def paginacao(path,query,pagina,caminhos,tam):\n",
        "  itemsPg=1\n",
        "  while(itemsPg!=0):\n",
        "    response=requests.get(SITE+path+'?q='+query+'&page='+str(pagina),auth=tokenAuth)\n",
        "    data=response.json()\n",
        "    if(pagina==1):\n",
        "      if 'total_count' in data:\n",
        "        tam.append(data['total_count'])\n",
        "    if 'items' in data:\n",
        "      itemsPg=len(data['items'])\n",
        "      if(itemsPg!=0):\n",
        "        for item in data['items']:\n",
        "          if item['full_name'] not in caminhos:\n",
        "            caminhos.append([item['full_name']])\n",
        "        pagina+=1\n",
        "    else:\n",
        "      if '1000' in data['message']:\n",
        "        print(data)\n",
        "        return\n",
        "      print(data)\n",
        "      time.sleep(60)\n",
        "      paginacao(path,query,pagina,caminhos,tam)\n",
        "      return"
      ]
    },
    {
      "cell_type": "markdown",
      "metadata": {
        "id": "U9yoTm18v0Gf"
      },
      "source": [
        "# Armazenamento variaveis de estudo"
      ]
    },
    {
      "cell_type": "code",
      "execution_count": null,
      "metadata": {
        "id": "qIjc-59lqEzz"
      },
      "outputs": [],
      "source": [
        "import time\n",
        "def repPossuiQ(path,repo,query,resultado):\n",
        "    response=requests.get(SITE+path+'?q=repo:'+repo[0]+'+'+query,auth=tokenAuth)\n",
        "    data=response.json()\n",
        "    if 'items' in data:\n",
        "      if(int(data['total_count'])>0):\n",
        "        resultado.append(repo)\n",
        "    else:\n",
        "      time.sleep(60)\n",
        "      repPossuiQ(path,repo,query,resultado)\n",
        "\n",
        "def reposPossuiQ(repos,path,query):\n",
        "  tam=len(repos)\n",
        "  resultado=[]\n",
        "  for pos in range(tam):\n",
        "    repPossuiQ(path,repos[pos],query,resultado)\n",
        "    if pos!=0 and (pos%49==0) or (pos==(tam-1)):\n",
        "      print(str(pos+1)+' repositórios filtrados')\n",
        "  return resultado"
      ]
    },
    {
      "cell_type": "code",
      "execution_count": null,
      "metadata": {
        "id": "9Ty9tFDDpDwW"
      },
      "outputs": [],
      "source": [
        "import time\n",
        "def repAddElem(path,repo,resultado,elem):\n",
        "    response=requests.get(SITE+path+repo[0],auth=tokenAuth)\n",
        "    data=response.json()\n",
        "    if elem in data:\n",
        "      temp=repo.copy()\n",
        "      temp.append(data[elem])\n",
        "      resultado.append(temp)\n",
        "    else:\n",
        "      print(data)\n",
        "      time.sleep(60)\n",
        "      repAddElem(path,repo,resultado,elem)\n",
        "    "
      ]
    },
    {
      "cell_type": "code",
      "execution_count": null,
      "metadata": {
        "id": "WUGgqozspFg-"
      },
      "outputs": [],
      "source": [
        "def reposAddElem(repos,elem):\n",
        "  resultado=[]\n",
        "  for repo in repos:\n",
        "    repAddElem('repos/',repo,resultado,elem)\n",
        "  return resultado"
      ]
    },
    {
      "cell_type": "code",
      "execution_count": null,
      "metadata": {
        "id": "7J6m961tppqJ"
      },
      "outputs": [],
      "source": [
        "import time\n",
        "from bs4 import BeautifulSoup\n",
        "def contaDepRepo(repo):\n",
        "  resultado=0\n",
        "  response= requests.get('https://github.com/'+repo+'/network/dependencies')\n",
        "  if response.status_code==200:\n",
        "    soup=BeautifulSoup(response.text,'html.parser')\n",
        "    for s in soup.select('a.Link--primary.text-bold'):\n",
        "      if s.has_attr('title'):\n",
        "        if '.lock' not in s['title']:\n",
        "          nbr=s.findNext('span').contents[0]\n",
        "          if ',' in nbr:\n",
        "            resultado+=int(nbr.replace(',',\"\"))\n",
        "          else:\n",
        "            resultado+=int(nbr)\n",
        "  else:\n",
        "    time.sleep(60)\n",
        "    resultado=contaDepRepo(repo)\n",
        "  return resultado\n",
        "\n",
        "def contaDepRepos(repos):\n",
        "  resultado=[]\n",
        "  pos=0\n",
        "  tam=len(repos)\n",
        "  for repo in repos:\n",
        "    ndep=contaDepRepo(repo[0])\n",
        "    if ndep!=0:\n",
        "      temp=repo.copy()\n",
        "      temp.append(ndep)\n",
        "      resultado.append(temp)\n",
        "    pos+=1\n",
        "    if (pos%50==0) or (pos==tam):\n",
        "      print(str(pos)+' repositórios filtrados')\n",
        "  return resultado"
      ]
    },
    {
      "cell_type": "code",
      "execution_count": null,
      "metadata": {
        "id": "hYOES5wa3z9R"
      },
      "outputs": [],
      "source": [
        "import time\n",
        "from bs4 import BeautifulSoup\n",
        "def contaCommitRepo(repo):\n",
        "  resultado=0\n",
        "  response= requests.get('https://github.com/'+repo)\n",
        "  if response.status_code==200:\n",
        "    soup=BeautifulSoup(response.text,'html.parser')\n",
        "    for tag in soup.select(\"span.d-none.d-sm-inline\"):\n",
        "      if len(tag.find_all(\"strong\"))>0:\n",
        "        for child in tag.find_all(\"strong\"):\n",
        "          nbr=child.get_text()\n",
        "          if ',' in nbr:\n",
        "            resultado=nbr.replace(',',\"\")\n",
        "          else:\n",
        "            resultado=nbr\n",
        "  else:\n",
        "    time.sleep(60)\n",
        "    resultado=contaDepRepo(repo)\n",
        "  return resultado\n",
        "def contaCommitRepos(repos):\n",
        "  resultado=[]\n",
        "  pos=0\n",
        "  tam=len(repos)\n",
        "  for repo in repos:\n",
        "    ncommit=contaCommitRepo(repo[0])\n",
        "    if ncommit!=0:\n",
        "      temp=repo.copy()\n",
        "      temp.append(ncommit)\n",
        "      resultado.append(temp)\n",
        "    pos+=1\n",
        "    if (pos%50==0) or (pos==tam):\n",
        "      print(str(pos)+' repositórios filtrados')\n",
        "  return resultado"
      ]
    },
    {
      "cell_type": "markdown",
      "metadata": {
        "id": "KZIlBATopag2"
      },
      "source": [
        "# Definição grupos"
      ]
    },
    {
      "cell_type": "code",
      "execution_count": null,
      "metadata": {
        "id": "Gdk3vabL15J9"
      },
      "outputs": [],
      "source": [
        "def proporcao(tam1,tam2,tamf):\n",
        "  prop=tamf/(tam1[0]+tam2[0])\n",
        "  tam1[0]=round(tam1[0]*prop)\n",
        "  tam2[0]=tamf-tam1[0]\n",
        "  return"
      ]
    },
    {
      "cell_type": "markdown",
      "metadata": {
        "id": "WH1auePxJJtA"
      },
      "source": [
        "Limite de 1000 repos por query"
      ]
    },
    {
      "cell_type": "markdown",
      "metadata": {
        "id": "igtjk2LEqLA4"
      },
      "source": [
        "PWA"
      ]
    },
    {
      "cell_type": "code",
      "execution_count": null,
      "metadata": {
        "colab": {
          "base_uri": "https://localhost:8080/"
        },
        "id": "tzyQNz1HgWKW",
        "outputId": "dc28ee32-2996-4942-cfc0-1893e8545c0e"
      },
      "outputs": [
        {
          "output_type": "stream",
          "name": "stdout",
          "text": [
            "8054\n"
          ]
        }
      ],
      "source": [
        "response=requests.get(SITE+'search/repositories'+'?q='+'''topic:pwa\n",
        " -topic:flutter -topic:nativescript -topic:cordova -topic:capacitor -topic:react-native -topic:xamarin sort:stars''',auth=tokenAuth)\n",
        "data=response.json()\n",
        "if 'total_count' in data:\n",
        "  print(data['total_count'])"
      ]
    },
    {
      "cell_type": "code",
      "execution_count": null,
      "metadata": {
        "id": "6HDEu15vxWSd"
      },
      "outputs": [],
      "source": [
        "CAMINHOSPWA=[]\n",
        "paginacao('search/repositories','''topic:pwa\n",
        " -topic:flutter -topic:nativescript -topic:cordova -topic:capacitor -topic:react-native -topic:xamarin sort:stars''',1,CAMINHOSPWA)\n",
        "CAMINHOSPWA=CAMINHOSPWA[:278]\n",
        "CAMINHOSPWA=reposAddElem(CAMINHOSPWA,'size')\n",
        "CAMINHOSPWA=reposAddElem(CAMINHOSPWA,'stargazers_count')\n",
        "CAMINHOSPWA=contaDepRepos(CAMINHOSPWA)\n",
        "CAMINHOSPWA=contaCommitRepos(CAMINHOSPWA)\n",
        "print(len(CAMINHOSPWA),CAMINHOSPWA)"
      ]
    },
    {
      "cell_type": "markdown",
      "metadata": {
        "id": "6VxSHkC3qPEx"
      },
      "source": [
        "Híbrido"
      ]
    },
    {
      "cell_type": "markdown",
      "metadata": {
        "id": "6N0Gpa3wp7EJ"
      },
      "source": [
        "cordova"
      ]
    },
    {
      "cell_type": "code",
      "execution_count": null,
      "metadata": {
        "colab": {
          "base_uri": "https://localhost:8080/"
        },
        "id": "Ahuq28fgp8Ox",
        "outputId": "b6d77042-a28b-4254-ebee-df9942849b7c"
      },
      "outputs": [
        {
          "output_type": "stream",
          "name": "stdout",
          "text": [
            "2394\n"
          ]
        }
      ],
      "source": [
        "response=requests.get(SITE+'search/repositories'+'?q='+'''topic:cordova -topic:capacitor\n",
        "-topic:flutter -topic:pwa -topic:xamarin -topic:react-native -topic:native-script sort:stars''',auth=tokenAuth)\n",
        "data=response.json()\n",
        "if 'total_count' in data:\n",
        "  print(data['total_count'])"
      ]
    },
    {
      "cell_type": "markdown",
      "metadata": {
        "id": "IDHTee-u_HwD"
      },
      "source": [
        "capacitor"
      ]
    },
    {
      "cell_type": "code",
      "execution_count": null,
      "metadata": {
        "colab": {
          "base_uri": "https://localhost:8080/"
        },
        "id": "bO3NhXAD_JmL",
        "outputId": "611e5296-3905-4a8a-e066-f487c7fd7522"
      },
      "outputs": [
        {
          "output_type": "stream",
          "name": "stdout",
          "text": [
            "542\n"
          ]
        }
      ],
      "source": [
        "response=requests.get(SITE+'search/repositories'+'?q='+'''topic:capacitor \n",
        "-topic:flutter -topic:reactjs -topic:react-native -topic:xamarin -topic:cordova -topic:pwa sort:stars''',auth=tokenAuth)\n",
        "data=response.json()\n",
        "if 'total_count' in data:\n",
        "  print(data['total_count'])"
      ]
    },
    {
      "cell_type": "code",
      "execution_count": null,
      "metadata": {
        "colab": {
          "base_uri": "https://localhost:8080/"
        },
        "id": "4sSH2PfMy3pn",
        "outputId": "11fde30d-e2da-47a9-8747-dde4740f3460"
      },
      "outputs": [
        {
          "output_type": "stream",
          "name": "stdout",
          "text": [
            "{'message': 'API rate limit exceeded for user ID 44467278.', 'documentation_url': 'https://docs.github.com/rest/overview/resources-in-the-rest-api#rate-limiting'}\n",
            "{'message': 'Only the first 1000 search results are available', 'documentation_url': 'https://docs.github.com/v3/search/'}\n",
            "227 51\n",
            "50 repositórios filtrados\n",
            "100 repositórios filtrados\n",
            "150 repositórios filtrados\n",
            "200 repositórios filtrados\n",
            "250 repositórios filtrados\n",
            "278 repositórios filtrados\n",
            "50 repositórios filtrados\n",
            "100 repositórios filtrados\n",
            "150 repositórios filtrados\n",
            "200 repositórios filtrados\n",
            "250 repositórios filtrados\n",
            "278 repositórios filtrados\n",
            "277 [['framework7io/framework7', 102716, 16982, 923, '6665'], ['Jigsaw-Code/outline-client', 560467, 7289, 1772, '1006'], ['melonjs/melonJS', 95083, 4270, 873, '6279'], ['apache/cordova-android', 37740, 3416, 376, '4045'], ['danielsogl/awesome-cordova-plugins', 32402, 2256, 1121, '4409'], ['apache/cordova-ios', 32157, 2076, 420, '3917'], ['halfrost/vue-objccn', 67016, 2004, 1040, '106'], ['mapsplugin/cordova-plugin-googlemaps', 132295, 1647, 4, '4669'], ['tus/tus-js-client', 12713, 1565, 56, '584'], ['quasarframework/quasar-awesome', 360, 1409, 0, '287'], ['katzer/cordova-plugin-background-mode', 11501, 1366, 0, '229'], ['lean/phaser-es6-webpack', 2337, 1291, 786, '85'], ['deadlyjack/Acode', 24087, 1212, 502, '307'], ['xu-li/cordova-plugin-wechat', 48176, 1210, 1, '196'], ['apache/cordova-plugin-inappbrowser', 1898, 1069, 207, '689'], ['arnesson/cordova-plugin-firebase', 253466, 1001, 0, '644'], ['apache/cordova-plugin-camera', 1773, 932, 209, '704'], ['apache/cordova-cli', 40676, 898, 592, '1374'], ['candelibas/awesome-ionic', 76, 830, 0, '75'], ['chrisben/imgcache.js', 509, 824, 130, '202'], ['BelinChung/HiApp', 2499, 783, 1052, '148'], ['EddyVerbruggen/Calendar-PhoneGap-Plugin', 606, 759, 0, '361'], ['apache/cordova-plugin-file', 2313, 715, 211, '720'], ['floatinghotpot/cordova-admob-pro', 288335, 703, 0, '276'], ['CS-Tao/whu-library-seat-mobile', 10325, 690, 67, '174'], ['cordova-rtc/cordova-plugin-iosrtc', 319746, 678, 629, '1240'], ['mwaylabs/generator-m-ionic', 4581, 675, 67, '668'], ['microsoft/cordova-plugin-code-push', 1605, 648, 619, '598'], ['transistorsoft/cordova-background-geolocation-lt', 538511, 639, 4, '545'], ['caiobiodere/cordova-template-framework7-vue-webpack', 478, 629, 40, '198'], ['apache/cordova-plugin-splashscreen', 786, 629, 204, '410'], ['apache/cordova-plugin-geolocation', 655, 619, 211, '340'], ['apache/cordova-js', 12956, 615, 530, '2011'], ['apache/cordova-plugin-wkwebview-engine', 242, 614, 178, '154'], ['apache/cordova-plugin-statusbar', 482, 599, 188, '307'], ['apache/cordova-plugin-file-transfer', 1246, 583, 434, '525'], ['EddyVerbruggen/cordova-plugin-googleplus', 25559, 567, 3, '298'], ['cordova-plugin-camera-preview/cordova-plugin-camera-preview', 10435, 560, 0, '594'], ['bitpay/cordova-plugin-qrscanner', 2516, 558, 576, '134'], ['g0v/moedict-webkit', 168886, 537, 800, '1505'], ['apache/cordova-weinre', 5358, 520, 0, '208'], ['EddyVerbruggen/Toast-PhoneGap-Plugin', 2038, 508, 0, '149'], ['ratson/cordova-plugin-admob-free', 13321, 507, 49, '333'], ['john-doherty/swiped-events', 523, 478, 548, '48'], ['ionic-team/cordova-plugin-ionic-webview', 614, 462, 9, '425'], ['apache/cordova-plugin-network-information', 444, 449, 207, '300'], ['apache/cordova-plugin-whitelist', 130, 449, 0, '97'], ['apache/cordova', 44, 445, 2, '40'], ['Xmader/aria-ng-gui-android', 4169, 432, 281, '43'], ['apache/cordova-plugman', 5482, 391, 516, '1042'], ['apache/cordova-plugin-media', 1088, 370, 182, '440'], ['shekit/peeqo-robot', 187503, 369, 23, '224'], ['apache/cordova-plugin-device', 507, 367, 208, '329'], ['giantss/cordova-plugin-ImagePicker', 7247, 352, 2, '146'], ['meteor/mobile-packages', 1091, 338, 221, '143'], ['liupeijun/vue2-hybridapp-haoshiqi', 11883, 337, 47, '22'], ['apache/cordova-docs', 211672, 335, 769, '3341'], ['isleofcode/corber', 5858, 333, 37, '1991'], ['kartsims/vue-cordova', 215, 331, 7, '25'], ['apache/cordova-plugin-media-capture', 2991, 290, 211, '342'], ['NiklasMerz/cordova-plugin-fingerprint-aio', 789, 288, 3, '481'], ['apache/cordova-plugin-dialogs', 621, 286, 211, '312'], ['Riron/ionic-img-viewer', 2949, 286, 14, '117'], ['busterc/awesome-cordova', 28, 281, 0, '48'], ['srtucker22/glipchat', 44016, 281, 50, '458'], ['microsoft/vscode-cordova', 16485, 280, 1204, '1177'], ['floatinghotpot/cordova-httpd', 224, 279, 0, '39'], ['EddyVerbruggen/cordova-plugin-native-keyboard', 25571, 275, 0, '118'], ['cowbell/cordova-plugin-geofence', 3592, 265, 1, '245'], ['gautamsi/ews-javascript-api', 8494, 264, 192, '425'], ['apache/cordova-plugins', 12945, 243, 0, '223'], ['CordovaCn/CordovaCn', 8071, 240, 0, '383'], ['apache/cordova-osx', 17713, 235, 348, '277'], ['OneSignal/OneSignal-Cordova-SDK', 2883, 230, 0, '371'], ['floatinghotpot/cordova-plugin-nativeaudio', 2989, 230, 0, '160'], ['BranchMetrics/cordova-ionic-phonegap-branch-deep-linking-attribution', 106611, 229, 151, '1593'], ['logicalhacking/DVHMA', 12226, 226, 0, '42'], ['apache/cordova-lib', 53946, 221, 612, '3539'], ['apache/cordova-plugin-contacts', 912, 213, 1, '440'], ['EddyVerbruggen/cordova-plugin-touch-id', 639, 212, 0, '43'], ['samarthagarwal/wooionic3', 23285, 212, 34, '53'], ['akoidan/pychat', 11647, 209, 99, '2838'], ['unimonkiez/react-cordova-boilerplate', 3180, 209, 54, '149'], ['paulsutherland/Polyonic', 102099, 207, 1346, '193'], ['fishme/awesome-ionic2-components', 41, 205, 0, '38'], ['apache/cordova-windows', 39650, 204, 294, '648'], ['apache/cordova-plugin-screen-orientation', 283, 202, 201, '208'], ['sarriaroman/FabricPlugin', 38374, 201, 2, '118'], ['akFace/vue-movie', 10201, 188, 66, '78'], ['apache/cordova-app-hello-world', 13689, 187, 0, '194'], ['charleyw/cordova-plugin-alipay', 31062, 180, 0, '46'], ['sitewaerts/cordova-plugin-document-viewer', 20525, 172, 5, '197'], ['Scandit/barcodescanner-sdk-cordova', 6410, 170, 1081, '684'], ['cjpearson/cordova-plugin-keyboard', 138, 171, 0, '66'], ['johnkmzhou/cordova-create-react-app', 96, 165, 38, '7'], ['floatinghotpot/coding-to-monetization', 4344, 163, 0, '132'], ['apache/cordova-node-xcode', 1402, 161, 336, '400'], ['xseignard/cordovarduino', 9002, 160, 0, '83'], ['apache/cordova-browser', 10031, 153, 404, '203'], ['edimuj/cordova-plugin-audioinput', 168, 151, 0, '87'], ['seasonstar/bibi-ionic', 10328, 150, 140, '10'], ['apache/cordova-plugin-console', 141, 146, 1, '152'], ['MobileUI/components', 6768, 146, 127, '249'], ['oracle/cordova-plugin-wkwebview-file-xhr', 97, 139, 1, '58'], ['DmcSDK/cordova-plugin-mediaPicker', 40528, 140, 0, '216'], ['cozy/cozy-drive', 476507, 137, 101, '6475'], ['apache/cordova-plugin-globalization', 5380, 137, 7, '236'], ['pmwisdom/cordova-background-geolocation-services', 132, 135, 0, '109'], ['Involt/Involt', 2898, 132, 0, '109'], ['fluster-app/fluster-app', 6245, 129, 1138, '341'], ['smartapant/ionic2-reddit-reader', 1032, 127, 19, '53'], ['Justin-Credible/Ionic-TypeScript-Starter', 3569, 124, 35, '246'], ['chihu-team/chihu2', 79411, 123, 69, '46'], ['friimaind/pi-hole-droid', 8376, 121, 4, '53'], ['apache/cordova-plugin-vibration', 728, 120, 207, '335'], ['tripflex/WifiWizard2', 207, 116, 3, '104'], ['akofman/cordova-plugin-add-swift-support', 3660, 112, 10, '67'], ['bamlab/fastlane-plugin-cordova', 58, 113, 6, '55'], ['bsorrentino/cordova-broadcaster', 10171, 111, 148, '221'], ['bykof/cordova-plugin-webserver', 352, 107, 632, '73'], ['timbru31/cordova-plugin-lottie-splashscreen', 11424, 106, 491, '651'], ['framework7io/framework7-template-react', 633, 105, 9, '44'], ['cesarvr/pdf-generator', 2713, 104, 0, '122'], ['apache/cordova-electron', 8140, 102, 559, '233'], ['thompsonemerson/ionic-collection', 711, 101, 3, '44'], ['yasirkula/UnityIonicIntegration', 475, 100, 0, '29'], ['Cloudoki/ImageDetectionCordovaPlugin', 271978, 100, 0, '41'], ['720kb/BitNFC', 3890, 96, 9, '363'], ['apache/cordova-plugin-battery-status', 420, 95, 207, '240'], ['zyra/cordova-plugin-stripe', 32976, 94, 5, '150'], ['intercom/intercom-cordova', 201379, 93, 116, '366'], ['beevelop/docker-ionic', 29, 92, 7, '97'], ['AxGord/Pony', 9706, 91, 0, '1217'], ['an-rahulpandey/cordova-plugin-dbcopy', 86, 90, 0, '94'], ['TruckMovers/cordova-plugin-remote-injection', 48, 90, 0, '31'], ['juancarlospaco/webgui', 2031, 90, 4, '184'], ['cmackay/google-analytics-plugin', 49839, 90, 2, '106'], ['arcoirislabs/cordova-plugin-mqtt', 125, 86, 0, '105'], ['framework7io/framework7-cli', 17344, 86, 814, '396'], ['azerion/phaser-ads', 3565, 85, 314, '150'], ['apache/cordova-wp8', 10193, 83, 8, '1164'], ['framework7io/framework7-template-vue-simple', 2974, 82, 104, '15'], ['NeutrinosPlatform/cordova-plugin-document-scanner', 32276, 80, 0, '85'], ['JSalaat/TheFoodShop', 4120, 80, 8, '26'], ['STS-Rosario/carpoolear', 11906, 79, 1216, '739'], ['ETENG-OSP/xgpush-cordova', 25530, 78, 2, '83'], ['HMS-Core/hms-cordova-plugin', 12950, 78, 634, '166'], ['cordova-plugin-camera-preview/cordova-plugin-camera-preview-sample-app', 3307, 77, 0, '39'], ['framework7io/framework7-plugin-keypad', 2674, 73, 487, '44'], ['imouou/BUI-Guide', 44846, 73, 35, '80'], ['growu/drip-ionic3', 42499, 72, 1036, '131'], ['Justin-Credible/Ionic-TypeScript-MDHA-Starter', 7943, 71, 29, '157'], ['apache/cordova-plugin-test-framework', 2987, 70, 200, '151'], ['beevelop/docker-cordova', 27, 70, 7, '54'], ['twogate/cordova-plugin-sign-in-with-apple', 36, 70, 0, '38'], ['TheMushrr00m/cordovue', 2787, 69, 32, '18'], ['GetuiLaboratory/cordova-plugin-getuisdk', 132136, 67, 0, '98'], ['okode/movies-app', 11350, 68, 995, 995], ['MetinSeylan/Kaput', 54, 68, 55, '19'], ['apache/cordova-plugin-device-motion', 459, 67, 207, '274'], ['meteor/cordova-plugin-meteor-webapp', 9197, 67, 855, '192'], ['jdnichollsc/Ionic-ElastiChat-with-Images', 5339, 67, 19, '22'], ['zsxsoft/cordova-plugin-x5-tbs', 1410, 65, 0, '16'], ['ExpeditionRPG/expedition', 207929, 65, 159, '2893'], ['getsentry/sentry-cordova', 584, 64, 44, '232'], ['apache/cordova-mobile-spec', 3313, 63, 3, '846'], ['972784674t/quasar-manage', 5961, 62, 186, '55'], ['kotarella1110/cordova-plugin-webpack', 33578, 60, 1161, '952'], ['zoro-r/vue-mobile-mint', 17906, 59, 100, '82'], ['ionic-team/angular-toolkit', 3124, 59, 1325, '134'], ['nakulkundaliya/ionic-3-video-calling-using-webrtc', 1884, 58, 41, '4'], ['framework7io/framework7-plugin-3d-panels', 992, 58, 587, '20'], ['apache/cordova-qt', 399, 57, 0, '137'], ['didinj/ionic4-angular7-example', 171, 57, 914, '9'], ['tonib/kaichronicles', 5474, 57, 857, '1216'], ['kristofferandreasen/simple-ionic-3-app', 5982, 57, 19, '20'], ['supertorpe/chessendgametraining', 11231, 57, 61, '142'], ['marcoturi/ionic-docker', 41, 56, 0, '50'], ['apache/cordova-plugin-device-orientation', 409, 54, 207, '230'], ['didinj/ionic3-angular4-sample-app', 1014, 35, 19, '6'], ['aerogear/aerogear-cordova-push', 9700, 34, 0, '335'], ['framework7io/framework7-template-single-view', 3061, 34, 94, '22'], ['EasyTuan/ionic-cordova-demo', 14899, 34, 84, '112'], ['MBuchalik/cordova-build-architecture', 12, 34, 0, '30'], ['gurisko/cordova-plugin-accountkit', 27348, 34, 4, '40'], ['phonegap/phonegap-template-vue-f7-blank', 12049, 32, 46, '71'], ['xfally/cordova-plugin-ftp', 197, 33, 113, '75'], ['yantrab/nest-angular', 7786, 33, 369, '524'], ['enterlab/cordevicljs', 6898, 33, 0, '53'], ['apache/cordova-paramedic', 1868, 32, 418, '416'], ['tolu360/cordova-plugin-paystack', 1794, 32, 0, '82'], ['mikaoelitiana/cordova-ios-plugin-no-export-compliance', 10, 31, 0, '25'], ['apache/cordova-common', 1090, 31, 370, '298'], ['phonegap/phonegap-template-vue-f7-tabs', 11888, 31, 864, '52'], ['hc-oss/ionic-resource-generator', 107, 31, 8, '22'], ['busterc/cordova-resource-generators', 20, 31, 0, '7'], ['paulstelzer/cordova-plugin-ml-kit', 1334, 30, 48, '27'], ['apache/cordova-tizen', 12890, 31, 0, '55'], ['PeterHdd/cordova-plugin-crypto-file', 28, 30, 0, '20'], ['apache/cordova-coho', 2438, 29, 588, '1023'], ['hhfa008/SwiftJSBridge', 77, 29, 0, '16'], ['airamrguez/cordova-plugin-realm', 23403, 29, 12, '80'], ['dmedvinsky/cordova-startapp', 111, 29, 0, '9'], ['RootSoft/Create-a-custom-Cordova-plugin', 6, 30, 0, '2'], ['feedhenry/mobile-security', 3253, 28, 16, '197'], ['liangminhua/cordova-posprinter-sample', 2008, 27, 8, '17'], ['akofman/cordova-plugin-permissionScope', 55, 27, 8, '30'], ['hajirodeon/daftarkaryaku', 651, 27, 0, '62'], ['mwaylabs/generator-m-ionic-demo', 334, 27, 50, '173'], ['zyra/cordova-plugin-linkedin', 714, 17, 0, '45'], ['Scratch-Client-4/itchy-cordova', 1189, 17, 1087, '102'], ['PeeJeeDR/phaser-3-webpack-cordova', 716, 17, 18, '39'], ['appodeal/appodeal-cordova-plugin', 1163226, 18, 3, '100'], ['mnasyrov/cryptobench-js', 1168, 17, 697, '25'], ['akofman/cordova-plugin-boilerplate', 132, 16, 0, '15'], ['oracle/cordova-plugin-emm-app-config', 15, 16, 1, '13'], ['hanatharesh2712/ionic-native-sms-retriever-plugin-master', 34, 18, 0, '45'], ['zwilias/elm-cordova-intro', 9459, 16, 8, '12'], ['ModusCreateOrg/cordova-swift-plugin-example', 5, 16, 0, '7'], ['ioBroker/ioBroker.vis.cordova', 22567, 16, 87, '209'], ['apache/cordova-medic', 989, 17, 16, '492'], ['isleofcode/ember-cordova', 3167, 16, 38, '1366'], ['phonegap/phonegap-template-vue-f7-split-panel', 11974, 17, 861, '60'], ['didinj/ionic4-image-crop-upload', 1418, 16, 926, '6'], ['Coware-Apps/ellenorzo', 11825, 16, 1003, '80'], ['Wiseonesoft/cordova-whatsapp-sticker-plugin', 2542, 16, 729, '71'], ['NativeScript/NativeScript', 109665, 21819, 154, '7117'], ['lichess-org/lichobile', 88327, 1579, 802, '6949'], ['mlynch/nextjs-tailwind-ionic-capacitor-starter', 5686, 1008, 458, '104'], ['XRFoundation/XREngine', 1733779, 529, 569, '1222'], ['iotaledger/firefly', 292997, 405, 166, '1359'], ['ionic-team/capacitor-assets', 5203, 342, 1033, '129'], ['riderx/awesome-capacitor', 382, 228, 3, '108'], ['capacitor-community/sqlite', 32734, 228, 361, '512'], ['capacitor-community/electron', 10543, 218, 2176, '843'], ['capacitor-community/http', 12492, 205, 1743, '155'], ['capacitor-community/fcm', 14118, 204, 64, '219'], ['capacitor-community/react-hooks', 4483, 204, 750, '88'], ['6c65726f79/Transmissionic', 14558, 167, 1521, '2766'], ['capawesome-team/capacitor-firebase', 1100, 166, 677, '211'], ['moberwasserlechner/capacitor-oauth2', 1009, 165, 368, '211'], ['ionic-team/trapeze', 22131, 155, 3196, '441'], ['capacitor-community/bluetooth-le', 1898, 145, 689, '246'], ['capacitor-community/vue-cli-plugin-capacitor', 366, 135, 10, '48'], ['capacitor-community/firebase-analytics', 588, 128, 397, 397], ['ionic-team/ionifits', 18700, 122, 1016, '84'], ['capacitor-community/stripe', 17146, 119, 4834, '648'], ['ionic-team/tutorial-photo-gallery-angular', 2187, 113, 1253, '41'], ['ionicthemes/ionic5-firebase-authentication', 4210, 105, 1790, '22'], ['getsentry/sentry-capacitor', 12247, 99, 1252, '213'], ['danielsogl/capacitor-face-id', 4063, 93, 186, '279'], ['capawesome-team/capacitor-app-update', 718, 88, 444, '72'], ['TeamMaestro/app-starter', 7606, 76, 1619, '32'], ['rfprod/nx-ng-starter', 32664, 74, 676, '983'], ['capacitor-community/keep-awake', 607, 72, 446, '51'], ['calvinckho/capacitor-jitsi-meet', 34853, 69, 116, '237'], ['capacitor-community/tauri', 3322, 67, 2077, '54'], ['ionic-team/tutorial-photo-gallery-react', 1414, 65, 1505, '32'], ['abritopach/angular-ionic-ngxs-movies', 73300, 64, 1200, '274'], ['capacitor-community/firebase-crashlytics', 459, 62, 461, '157'], ['capacitor-community/text-to-speech', 834, 56, 443, '120'], ['moberwasserlechner/capacitor-filesharer', 391, 55, 373, '38'], ['wagiminator/ATmega-Transistor-Tester', 5186, 52, 0, '9'], ['ionic-team/tutorial-photo-gallery-vue', 1837, 49, 1546, '16'], ['dlodeprojuicer/ionic-vue-mobile-template-01', 4865, 47, 29, '37'], ['capawesome-team/capacitor-background-task', 746, 42, 440, '45'], ['aparajita/capacitor-splash-screen', 456, 42, 33, '65'], ['capacitor-community/media', 715, 39, 364, '53'], ['capacitor-community/intercom', 945, 38, 1804, '163'], ['techiediaries/vue-capacitor-ionic-app', 489, 37, 975, '3'], ['capacitor-community/privacy-screen', 503, 36, 443, '73'], ['capacitor-community/app-icon', 13098, 35, 591, '87'], ['gavinlyonsrepo/LCR_meter', 291, 35, 0, '13'], ['productdevbook/full-stack-monorepo', 4779, 32, 278, '56'], ['abritopach/capacitor-youtube-player', 49237, 31, 3836, '327'], ['Cap-go/capacitor-purchases', 19432, 26, 330, '174'], ['W4G1/ionic-vue-starter', 131, 24, 909, '6']]\n"
          ]
        }
      ],
      "source": [
        "CAMINHOSHIBRIDO=[]\n",
        "CAMINHOSCORDOVA=[]\n",
        "CAMINHOSCAPACITOR=[]\n",
        "tam1=[]\n",
        "tam2=[]\n",
        "paginacao('search/repositories','''topic:cordova -topic:capacitor\n",
        "-topic:flutter -topic:pwa -topic:xamarin -topic:react-native -topic:native-script sort:stars''',1,CAMINHOSCORDOVA,tam1)\n",
        "paginacao('search/repositories','''topic:capacitor -topic:flutter \n",
        "-topic:reactjs -topic:react-native -topic:xamarin -topic:cordova -topic:pwa sort:stars''',1,CAMINHOSCAPACITOR,tam2)\n",
        "proporcao(tam1,tam2,278)\n",
        "print(tam1[0],tam2[0])\n",
        "CAMINHOSHIBRIDO=CAMINHOSCORDOVA[:tam1[0]]+CAMINHOSCAPACITOR[:tam2[0]]\n",
        "CAMINHOSHIBRIDO=reposAddElem(CAMINHOSHIBRIDO,'size')\n",
        "CAMINHOSHIBRIDO=reposAddElem(CAMINHOSHIBRIDO,'stargazers_count')\n",
        "CAMINHOSHIBRIDO=contaDepRepos(CAMINHOSHIBRIDO)\n",
        "CAMINHOSHIBRIDO=contaCommitRepos(CAMINHOSHIBRIDO)\n",
        "print(len(CAMINHOSHIBRIDO),CAMINHOSHIBRIDO)"
      ]
    },
    {
      "cell_type": "markdown",
      "metadata": {
        "id": "hp6HHwuXqaUx"
      },
      "source": [
        "Nativo"
      ]
    },
    {
      "cell_type": "markdown",
      "metadata": {
        "id": "glJZUFmCp87J"
      },
      "source": [
        "android"
      ]
    },
    {
      "cell_type": "code",
      "execution_count": null,
      "metadata": {
        "colab": {
          "base_uri": "https://localhost:8080/"
        },
        "id": "GpP4zs2Hp_XA",
        "outputId": "9ab5e714-2746-4557-a43b-7c9f17e5d270"
      },
      "outputs": [
        {
          "output_type": "stream",
          "name": "stdout",
          "text": [
            "87154\n"
          ]
        }
      ],
      "source": [
        "response=requests.get(SITE+'search/repositories'+'?q='+'''topic:android -topic:capacitor -topic:cordova\n",
        "-topic:flutter -topic:pwa -topic:react-native -topic:xamarin -topic:nativescript -topic:ios sort:stars''',auth=tokenAuth)\n",
        "data=response.json()\n",
        "if 'total_count' in data:\n",
        "  print(data['total_count'])"
      ]
    },
    {
      "cell_type": "markdown",
      "metadata": {
        "id": "CNx2ZWrz9C1D"
      },
      "source": [
        "ios"
      ]
    },
    {
      "cell_type": "code",
      "execution_count": null,
      "metadata": {
        "colab": {
          "base_uri": "https://localhost:8080/"
        },
        "id": "6ygBZ9Br9A9D",
        "outputId": "99866723-bf55-45b5-a64d-411f4639ff61"
      },
      "outputs": [
        {
          "output_type": "stream",
          "name": "stdout",
          "text": [
            "26808\n"
          ]
        }
      ],
      "source": [
        "response=requests.get(SITE+'search/repositories'+'?q='+'''topic:ios -topic:capacitor -topic:cordova\n",
        "-topic:flutter -topic:pwa -topic:react-native -topic:xamarin -topic:nativescript -topic:android sort:stars''',auth=tokenAuth)\n",
        "data=response.json()\n",
        "if 'total_count' in data:\n",
        "  print(data['total_count'])"
      ]
    },
    {
      "cell_type": "code",
      "execution_count": null,
      "metadata": {
        "colab": {
          "base_uri": "https://localhost:8080/"
        },
        "id": "SaCd0TT55WNd",
        "outputId": "f414149a-4b0d-423f-8373-0b832df5e754"
      },
      "outputs": [
        {
          "output_type": "stream",
          "name": "stdout",
          "text": [
            "{'message': 'API rate limit exceeded for user ID 44467278.', 'documentation_url': 'https://docs.github.com/rest/overview/resources-in-the-rest-api#rate-limiting'}\n",
            "{'message': 'Only the first 1000 search results are available', 'documentation_url': 'https://docs.github.com/v3/search/'}\n",
            "{'message': 'API rate limit exceeded for user ID 44467278.', 'documentation_url': 'https://docs.github.com/rest/overview/resources-in-the-rest-api#rate-limiting'}\n",
            "{'message': 'Only the first 1000 search results are available', 'documentation_url': 'https://docs.github.com/v3/search/'}\n",
            "213 65\n",
            "50 repositórios filtrados\n",
            "100 repositórios filtrados\n",
            "150 repositórios filtrados\n",
            "200 repositórios filtrados\n",
            "250 repositórios filtrados\n",
            "278 repositórios filtrados\n",
            "50 repositórios filtrados\n",
            "100 repositórios filtrados\n",
            "150 repositórios filtrados\n",
            "200 repositórios filtrados\n",
            "250 repositórios filtrados\n",
            "278 repositórios filtrados\n",
            "275 [['Genymobile/scrcpy', 3805, 73399, 0, '1809'], ['Hack-with-Github/Awesome-Hacking', 165, 58518, 0, '115'], ['wasabeef/awesome-android-ui', 871781, 44615, 0, '459'], ['square/okhttp', 47755, 43191, 9, '5226'], ['android/architecture-samples', 14195, 41835, 7, '776'], ['square/retrofit', 5688, 40825, 10, '1960'], ['PhilJay/MPAndroidChart', 21720, 35842, 2, '2070'], ['airbnb/lottie-android', 136179, 33391, 4, '1453'], ['bumptech/glide', 95046, 33156, 5, '2757'], ['shadowsocks/shadowsocks-android', 53335, 33098, 0, '3659'], ['skylot/jadx', 19682, 32376, 14, '1872'], ['Blankj/AndroidUtilCode', 47327, 31606, 6, '1430'], ['Trinea/android-open-project', 2042, 31104, 0, '956'], ['zxing/zxing', 241439, 30419, 86, '3682'], ['square/leakcanary', 135117, 28035, 10, '2002'], ['codepath/android_guides', 1100, 27959, 0, '62'], ['alibaba/fastjson', 15499, 25092, 71, '3976'], ['scwang90/SmartRefreshLayout', 273318, 23946, 0, '1111'], ['CymChad/BaseRecyclerViewAdapterHelper', 65329, 23250, 0, '1235'], ['TeamNewPipe/NewPipe', 63517, 22064, 10, '10348'], ['google/iosched', 58036, 21692, 5, '3138'], ['futurice/android-best-practices', 584, 20192, 0, '247'], ['google/ExoPlayer', 200677, 20107, 2, '14882'], ['tachiyomiorg/tachiyomi', 40477, 19822, 13, '5271'], ['google/mediapipe', 564461, 19521, 27, '658'], ['afollestad/material-dialogs', 265793, 19456, 2, '2020'], ['CarGuo/GSYVideoPlayer', 333365, 18009, 7, '1457'], ['google/flexbox-layout', 49328, 17686, 2, '370'], ['2dust/v2rayNG', 232731, 17633, 3, '330'], ['termux/termux-app', 4318, 17607, 6, '1417'], ['Shahroz16/material-searchview', 106, 149, 0, '7'], ['massivedisaster/ArcToolbarView', 10726, 147, 0, '43'], ['zhaoxuyang/chameleon', 768, 149, 0, '24'], ['kunny/RxFirebase', 515, 142, 0, '187'], ['sebaslogen/CleanGUITestArchitecture', 155, 138, 0, '79'], ['manumaticx/Ti.DrawerLayout', 2903, 137, 1, '165'], ['k4zy/FontDrawable', 217, 131, 0, '30'], ['ruzhan1116/Double-Pull-Delegate', 6064, 131, 0, '18'], ['Orfium/RxMusicPlayer-android', 170, 127, 0, '17'], ['Martin20150405/OpenCV4AndroidWithCmake', 42519, 127, 0, '12'], ['heimashi/debug_view_kotlin', 396, 129, 0, '17'], ['hidaron/HiFrameAnimation', 16799, 127, 0, '7'], ['chunquedong/axbasePlugin', 2200, 125, 0, '23'], ['navyifanr/AndroidTrainingDemo', 6205, 124, 0, '31'], ['MoIbrahim15/AndroidComposeSamples', 4814, 122, 0, '27'], ['klinker24/wearable-reply', 214, 120, 0, '7'], ['dynamitechetan/VusikView', 3800, 120, 0, '12'], ['droidconKE/droidconKE2020App', 38048, 119, 8, '393'], ['znyang/library-analysis', 1697, 118, 0, '111'], ['vejei/scallop', 1436, 118, 0, '107'], ['Panl/Gank.io', 1691, 117, 0, '75'], ['florent37/EnhancedNavigationView', 394, 116, 0, '11'], ['AndSync/XPermissionUtils', 193, 113, 0, '42'], ['jeanboydev/Android-Architecture', 1167, 114, 0, '36'], ['tmurakami/dexopener', 1441, 112, 0, '535'], ['Tonyzhangcanon/AUICrawler', 1318, 114, 0, '123'], ['RxViper/RxViper', 959, 109, 0, '168'], ['jackjyq/android_background_ignore', 31980, 109, 0, '142'], ['china-kook/Skill-learn-collect', 58, 109, 0, '99'], ['pppscn/SmsForwarder', 253529, 6880, 13, '497'], ['li-xiaojun/XPopup', 152942, 6779, 0, '1078'], ['DroidPluginTeam/DroidPlugin', 1859, 6757, 0, '224'], ['Tencent/Shadow', 3867, 6691, 22, '1620'], ['zetbaitsu/Compressor', 900, 6650, 0, '89'], ['Meituan-Dianping/walle', 528, 6510, 0, '13'], ['LawnchairLauncher/lawnchair', 410282, 6494, 31, '39123'], ['mozilla-mobile/fenix', 121900, 6462, 48, '10121'], ['smuyyh/BookReader', 31940, 6205, 0, '452'], ['ArthurHub/Android-Image-Cropper', 26035, 6191, 0, '575'], ['skydoves/Pokedex', 15114, 6129, 3, '343'], ['ankidroid/Anki-Android', 200708, 5707, 35, '16962'], ['igorwojda/android-showcase', 9488, 5700, 24, '592'], ['iSoron/uhabits', 39594, 5647, 506, '2374'], ['yarolegovich/DiscreteScrollView', 33353, 5636, 0, '106'], ['opengapps/opengapps', 218075, 5422, 0, '1426'], ['Tapadoo/Alerter', 37084, 5353, 0, '456'], ['h6ah4i/android-advancedrecyclerview', 9053, 5238, 0, '673'], ['CameraKit/camerakit-android', 21847, 5225, 0, '520'], ['Clans/FloatingActionButton', 3389, 5225, 0, '154'], ['Karumi/Dexter', 2928, 5189, 0, '298'], ['ehids/ecapture', 8167, 5099, 69, '505'], ['AriaLyy/Aria', 39085, 5091, 0, '905'], ['skydoves/android-developer-roadmap', 17677, 5041, 3, '76'], ['alibaba/UltraViewPager', 8873, 5022, 0, '87'], ['orhanobut/dialogplus', 6790, 4974, 0, '183'], ['ldcsaa/HP-Socket', 211007, 4962, 0, '232'], ['Devlight/NavigationTabBar', 389, 4930, 0, '88'], ['aidlearning/AidLearning-FrameWork', 77793, 4922, 0, '758'], ['huangyanbin/smartTable', 63951, 4882, 0, '170'], ['assimp/assimp', 195912, 8435, 16, '11522'], ['roughike/BottomBar', 40819, 8430, 0, '770'], ['firebase/quickstart-android', 31554, 8285, 227, '1227'], ['florent37/MaterialViewPager', 19557, 8201, 0, '311'], ['barry-ran/QtScrcpy', 40667, 8163, 16, '732'], ['amitshekhariitbhu/Android-Debug-Database', 1638, 8098, 0, '328'], ['anbox/anbox', 7061, 8091, 1, '1364'], ['alibaba/atlas', 84497, 8075, 0, '1214'], ['yuliskov/SmartTubeNext', 80370, 8066, 0, '6469'], ['KunMinX/Jetpack-MVVM-Best-Practice', 10608, 7998, 2, '548'], ['JackyAndroid/AndroidInterview-Q-A', 68209, 7915, 941, '221'], ['guolindev/LitePal', 5433, 7907, 0, '449'], ['InsertKoinIO/koin', 41423, 7723, 14, '2174'], ['LSPosed/LSPosed', 19918, 7617, 7, '2455'], ['FreeRDP/FreeRDP', 55973, 7610, 3, '16415'], ['aritraroy/UltimateAndroidReference', 543, 7602, 0, '322'], ['android/android-ktx', 6245, 7535, 0, '445'], ['ColorfulCat/AndroidLibs', 3336, 7437, 0, '2342'], ['seven332/EhViewer', 111228, 7434, 0, '2376'], ['davemorrissey/subsampling-scale-image-view', 57935, 7420, 0, '351'], ['thundernest/k-9', 89850, 7389, 4, '11543'], ['lecho/hellocharts-android', 6126, 7350, 3, '819'], ['n1nj4sec/pupy', 31429, 7337, 53, '3488'], ['Bearded-Hen/Android-Bootstrap', 11507, 7268, 0, '338'], ['google/agera', 968, 7259, 0, '160'], ['cymcsg/UltimateRecyclerView', 7153, 7239, 0, '764'], ['crazycodeboy/TakePhoto', 11513, 7210, 0, '162'], ['google/android-classyshark', 24860, 7208, 0, '616'], ['kivy/python-for-android', 18464, 7203, 27, '3641'], ['geeeeeeeeek/WeChatLuckyMoney', 660, 7147, 0, '199'], ['ogaclejapan/SmartTabLayout', 14671, 7003, 0, '108'], ['alibaba/AndFix', 15890, 6943, 0, '51'], ['pppscn/SmsForwarder', 253529, 6880, 13, '497'], ['li-xiaojun/XPopup', 152942, 6779, 0, '1078'], ['naman14/Timber', 17485, 6769, 0, '602'], ['rovo89/Xposed', 205, 6758, 0, '148'], ['DroidPluginTeam/DroidPlugin', 1859, 6757, 0, '224'], ['Shabinder/SpotiFlyer', 65566, 6702, 17, '597'], ['Tencent/Shadow', 3867, 6691, 22, '1620'], ['zetbaitsu/Compressor', 900, 6650, 0, '89'], ['ashishb/android-security-awesome', 347, 6516, 4, '334'], ['Meituan-Dianping/walle', 528, 6510, 0, '13'], ['LawnchairLauncher/lawnchair', 410282, 6494, 31, '39123'], ['mozilla-mobile/fenix', 121900, 6462, 48, '10121'], ['GrenderG/Toasty', 977, 6420, 0, '181'], ['guardianproject/haven', 24387, 6282, 4, '987'], ['smuyyh/BookReader', 31940, 6205, 0, '452'], ['ArthurHub/Android-Image-Cropper', 26035, 6191, 0, '575'], ['skydoves/Pokedex', 15114, 6129, 3, '343'], ['rey5137/material', 3901, 6033, 0, '280'], ['daimajia/NumberProgressBar', 158, 6023, 0, '61'], ['ximsfei/Android-skin-support', 54130, 5965, 0, '536'], ['ACRA/acra', 11199, 5952, 23, '1837'], ['wasabeef/richeditor-android', 2898, 5935, 0, '170'], ['snowdream/awesome-android', 12403, 5925, 3, '1227'], ['0x192/universal-android-debloater', 9674, 5894, 25, '271'], ['prolificinteractive/material-calendarview', 4823, 5814, 0, '553'], ['amitshekhariitbhu/from-java-to-kotlin', 223, 5800, 0, '157'], ['Devlight/InfiniteCycleViewPager', 279, 5727, 0, '89'], ['ankidroid/Anki-Android', 200708, 5707, 35, '16962'], ['igorwojda/android-showcase', 9488, 5700, 24, '592'], ['kickstarter/android-oss', 42422, 5688, 7, '4961'], ['iSoron/uhabits', 39594, 5647, 506, '2374'], ['k0shk0sh/FastHub', 19973, 5637, 0, '1879'], ['yarolegovich/DiscreteScrollView', 33353, 5636, 0, '106'], ['robolectric/robolectric', 54091, 5566, 19, '12721'], ['sockeqwe/mosby', 26564, 5495, 0, '604'], ['amitshekhariitbhu/Fast-Android-Networking', 2831, 5484, 0, '565'], ['hanks-zyh/HTextView', 9880, 5439, 0, '148'], ['opengapps/opengapps', 218075, 5422, 0, '1426'], ['evernote/android-job', 1860, 5385, 0, '480'], ['Tapadoo/Alerter', 37084, 5353, 0, '456'], ['wasabeef/Blurry', 2286, 5303, 0, '131'], ['commonsguy/cw-omnibus', 75165, 5300, 0, '1078'], ['getActivity/AndroidProject', 89374, 5292, 2, '24'], ['taichi-framework/TaiChi', 23395, 5246, 0, '51'], ['h6ah4i/android-advancedrecyclerview', 9053, 5238, 0, '673'], ['CameraKit/camerakit-android', 21847, 5225, 0, '520'], ['Clans/FloatingActionButton', 3389, 5225, 0, '154'], ['KeepSafe/TapTargetView', 4401, 5216, 0, '159'], ['Yalantis/Side-Menu.Android', 1048, 5206, 0, '63'], ['Karumi/Dexter', 2928, 5189, 0, '298'], ['microg/GmsCore', 6555, 5172, 1, '1130'], ['budtmo/docker-android', 242212, 5155, 6, '536'], ['ehids/ecapture', 8167, 5099, 69, '505'], ['AriaLyy/Aria', 39085, 5091, 0, '905'], ['danikula/AndroidVideoCache', 116058, 5090, 0, '89'], ['skydoves/android-developer-roadmap', 17677, 5041, 3, '76'], ['mikepenz/Android-Iconics', 16119, 5026, 11, '1230'], ['alibaba/UltraViewPager', 8873, 5022, 0, '87'], ['alipay/SoloPi', 258080, 5021, 0, '203'], ['amitshekhariitbhu/RxJava2-Android-Samples', 491, 4980, 0, '197'], ['orhanobut/dialogplus', 6790, 4974, 0, '183'], ['ldcsaa/HP-Socket', 211007, 4962, 0, '232'], ['Devlight/NavigationTabBar', 389, 4930, 0, '88'], ['aidlearning/AidLearning-FrameWork', 77793, 4922, 0, '758'], ['diogobernardino/williamchart', 1026, 4914, 2, '439'], ['ElderDrivers/EdXposed', 12036, 4909, 3, '621'], ['Ramotion/folding-cell-android', 26341, 4888, 0, '131'], ['huangyanbin/smartTable', 63951, 4882, 0, '170'], ['Moosphan/Android-Daily-Interview', 1126, 4864, 0, '282'], ['razerdp/BasePopup', 20608, 4861, 0, '1688'], ['revanced/revanced-manager', 20289, 4856, 63, '466'], ['szad670401/HyperLPR', 289373, 4831, 64, '255'], ['mcxiaoke/packer-ng-plugin', 1458, 4815, 0, '217'], ['Jasonchenlijian/FastBle', 35234, 4794, 0, '153'], ['RangiLyu/nanodet', 5407, 4771, 20, '353'], ['Gurupreet/ComposeCookBook', 78415, 4750, 6, '334'], ['google/cameraview', 256, 4745, 0, '80'], ['AdAway/AdAway', 39760, 4740, 106, '3656'], ['begeekmyfriend/yasea', 27381, 4735, 0, '408'], ['youlookwhat/CloudReader', 95346, 4733, 0, '915'], ['Genymobile/gnirehtet', 1014, 4728, 7, '658'], ['bromite/bromite', 26093, 4701, 0, '853'], ['wdullaer/MaterialDateTimePicker', 2001, 4651, 0, '473'], ['nisrulz/android-tips-tricks', 34191, 4641, 0, '291'], ['kyleduo/SwitchButton', 12157, 4599, 0, '177'], ['SplashCodes/JAViewer', 2335, 4576, 0, '117'], ['xiaojieonly/Ehviewer_CN_SXJ', 4376, 4574, 3, '342'], ['romandanylyk/PageIndicatorView', 33988, 4563, 0, '303'], ['AntennaPod/AntennaPod', 102538, 4562, 7, '8352'], ['zhanghai/Douya', 25350, 4530, 0, '1318'], ['vsouza/awesome-ios', 15378, 41178, 0, '6246'], ['FiloSottile/mkcert', 1844, 38500, 15, '164'], ['ultralytics/yolov5', 13895, 33138, 33, '2490'], ['SheetJS/sheetjs', 106167, 31738, 57, '767'], ['SDWebImage/SDWebImage', 21243, 24393, 1, '3295'], ['airbnb/lottie-ios', 173183, 23348, 5, '1121'], ['ReactiveX/RxSwift', 16119, 22936, 3, '3634'], ['matteocrippa/awesome-swift', 6949, 22715, 5, '3854'], ['HeroTransitions/Hero', 31215, 21149, 21, '558'], ['onevcat/Kingfisher', 5706, 20772, 5, '2547'], ['nikitavoloboev/my-mac-os', 37784, 19172, 0, '374'], ['utmapp/UTM', 23544, 16698, 9, '2547'], ['ustbhuangyi/better-scroll', 18667, 15854, 100, '1990'], ['realm/realm-swift', 67745, 15647, 1, '12025'], ['CodeEditApp/CodeEdit', 9060, 15542, 23, '1451'], ['CocoaPods/CocoaPods', 88818, 13900, 48, '9377'], ['ish-app/ish', 4725, 13027, 0, '3308'], ['CocoaLumberjack/CocoaLumberjack', 5926, 12839, 16, '2246'], ['Instagram/IGListKit', 8143, 12522, 5, '733'], ['SVProgressHUD/SVProgressHUD', 1115, 12361, 0, '781'], ['SwifterSwift/SwifterSwift', 16186, 11917, 8, '925'], ['halfrost/Halfrost-Field', 105218, 11704, 3, '1030'], ['Juanpe/SkeletonView', 6536, 11593, 10, '875'], ['xmartlabs/Eureka', 21075, 11547, 2, '898'], ['jessesquires/JSQMessagesViewController', 20414, 11196, 0, '1710'], ['Tim9Liu9/TimLiu-iOS', 4315, 11149, 0, '1636'], ['Ramotion/animated-tab-bar', 9671, 11027, 0, '409'], ['futurice/ios-good-practices', 295, 10638, 0, '207'], ['ninjaprox/NVActivityIndicatorView', 6114, 10256, 1, '537'], ['WenchaoD/FSCalendar', 2514, 10209, 0, '841'], ['Ramotion/folding-cell', 23548, 10129, 0, '373'], ['Quick/Quick', 3021, 9564, 15, '1984'], ['AudioKit/AudioKit', 118772, 9446, 2, '12374'], ['ultralytics/yolov3', 9595, 9170, 26, '2653'], ['mac-cain13/R.swift', 4734, 8897, 8, '1256'], ['IBAnimatable/IBAnimatable', 26761, 8642, 5, '2197'], ['SwiftGen/SwiftGen', 49859, 8300, 25, '2726'], ['draveness/analyze', 103436, 8031, 0, '432'], ['kickstarter/ios-oss', 2948726, 8022, 9, '2381'], ['PureLayout/PureLayout', 1070, 7592, 1, '316'], ['olucurious/Awesome-ARKit', 1200, 7476, 2, '324'], ['soapyigu/Swift-30-Projects', 213159, 7413, 0, '417'], ['patchthecode/JTAppleCalendar', 2532, 7271, 0, '1040'], ['krzysztofzablocki/Sourcery', 56936, 6902, 8, '1173'], ['marcosgriselli/ViewAnimator', 12303, 6862, 2, '154'], ['ChenYilong/CYLTabBarController', 56475, 6740, 0, '395'], ['Tencent/QMUI_iOS', 7236, 6734, 0, '736'], ['SwiftKickMobile/SwiftMessages', 18747, 6698, 0, '312'], ['WenchaoD/FSPagerView', 2105, 6640, 0, '129'], ['jverkoey/nimbus', 45382, 6471, 2, '2122'], ['bizz84/SwiftyStoreKit', 3925, 6133, 1, '856'], ['BohdanOrlov/iOS-Developer-Roadmap', 35616, 5990, 0, '173'], ['SwipeCellKit/SwipeCellKit', 8356, 5929, 0, '266'], ['AloneMonkey/MonkeyDev', 20217, 5910, 0, '198'], ['Swift-AI/Swift-AI', 30117, 5900, 0, '341'], ['exyte/Macaw', 57767, 5880, 0, '1600'], ['pujiaxin33/JXCategoryView', 31926, 5813, 0, '618'], ['VirgilClyne/iRingo', 9254, 5748, 0, '1719'], ['joeldev/JLRoutes', 683, 5639, 0, '294'], ['SwiftyBeaver/SwiftyBeaver', 2455, 5589, 0, '615'], ['likedan/Awesome-CoreML-Models', 3082, 5547, 0, '145'], ['Swinject/Swinject', 1704, 5530, 3, '1039'], ['blinksh/blink', 52688, 5468, 3, '2642'], ['google/EarlGrey', 47914, 5450, 7, '783']]\n"
          ]
        }
      ],
      "source": [
        "CAMINHOSNATIVO=[]\n",
        "CAMINHOSANDROID=[]\n",
        "CAMINHOSIOS=[]\n",
        "tam1=[]\n",
        "tam2=[]\n",
        "paginacao('search/repositories','''topic:android -topic:capacitor -topic:cordova\n",
        "-topic:flutter -topic:pwa -topic:react-native -topic:xamarin -topic:nativescript -topic:ios sort:stars''',1,CAMINHOSANDROID,tam1)\n",
        "paginacao('search/repositories','''topic:ios -topic:capacitor -topic:cordova\n",
        "-topic:flutter -topic:pwa -topic:react-native -topic:xamarin -topic:nativescript -topic:android sort:stars''',1,CAMINHOSIOS,tam2)\n",
        "proporcao(tam1,tam2,278)\n",
        "print(tam1[0],tam2[0])\n",
        "CAMINHOSNATIVO=CAMINHOSANDROID[:tam1[0]]+CAMINHOSIOS[:tam2[0]]\n",
        "CAMINHOSNATIVO=reposAddElem(CAMINHOSNATIVO,'size')\n",
        "CAMINHOSNATIVO=reposAddElem(CAMINHOSNATIVO,'stargazers_count')\n",
        "CAMINHOSNATIVO=contaDepRepos(CAMINHOSNATIVO)\n",
        "CAMINHOSNATIVO=contaCommitRepos(CAMINHOSNATIVO)\n",
        "print(len(CAMINHOSNATIVO),CAMINHOSNATIVO)"
      ]
    },
    {
      "cell_type": "markdown",
      "metadata": {
        "id": "kRwpj5LEqcsZ"
      },
      "source": [
        "Cross-compilado"
      ]
    },
    {
      "cell_type": "markdown",
      "metadata": {
        "id": "5SG9sRXhp_5B"
      },
      "source": [
        "flutter"
      ]
    },
    {
      "cell_type": "code",
      "execution_count": null,
      "metadata": {
        "colab": {
          "base_uri": "https://localhost:8080/"
        },
        "id": "Tss6JtjyqF7w",
        "outputId": "ef6468e2-c339-40de-ac2f-c94d79f44337"
      },
      "outputs": [
        {
          "output_type": "stream",
          "name": "stdout",
          "text": [
            "37749\n"
          ]
        }
      ],
      "source": [
        "response=requests.get(SITE+'search/repositories'+'?q='+'''topic:flutter -topic:capacitor -topic:cordova\n",
        "-topic:xamarin -topic:nativescript -topic:react-native -topic:pwa sort:stars''',auth=tokenAuth)\n",
        "data=response.json()\n",
        "if 'total_count' in data:\n",
        "  print(data['total_count'])"
      ]
    },
    {
      "cell_type": "markdown",
      "metadata": {
        "id": "UlU9YyQG9a9j"
      },
      "source": [
        "xamarin"
      ]
    },
    {
      "cell_type": "code",
      "execution_count": null,
      "metadata": {
        "colab": {
          "base_uri": "https://localhost:8080/"
        },
        "id": "_6dMuYH76gy7",
        "outputId": "0d9e88a0-f7a7-439a-ba72-86f91dae1768"
      },
      "outputs": [
        {
          "output_type": "stream",
          "name": "stdout",
          "text": [
            "3832\n"
          ]
        }
      ],
      "source": [
        "response=requests.get(SITE+'search/repositories'+'?q='+'''topic:xamarin  -topic:capacitor -topic:cordova\n",
        "-topic:flutter -topic:nativescript -topic:react-native -topic:pwa sort:stars''',auth=tokenAuth)\n",
        "data=response.json()\n",
        "if 'total_count' in data:\n",
        "  print(data['total_count'])"
      ]
    },
    {
      "cell_type": "code",
      "execution_count": null,
      "metadata": {
        "colab": {
          "base_uri": "https://localhost:8080/"
        },
        "id": "QZnxEKsf6-6m",
        "outputId": "2de36c50-c0d7-4aa4-96dd-7bb9f6ade027"
      },
      "outputs": [
        {
          "output_type": "stream",
          "name": "stdout",
          "text": [
            "{'message': 'API rate limit exceeded for user ID 44467278.', 'documentation_url': 'https://docs.github.com/rest/overview/resources-in-the-rest-api#rate-limiting'}\n",
            "{'message': 'Only the first 1000 search results are available', 'documentation_url': 'https://docs.github.com/v3/search/'}\n",
            "{'message': 'API rate limit exceeded for user ID 44467278.', 'documentation_url': 'https://docs.github.com/rest/overview/resources-in-the-rest-api#rate-limiting'}\n",
            "{'message': 'Only the first 1000 search results are available', 'documentation_url': 'https://docs.github.com/v3/search/'}\n",
            "252 26\n",
            "50 repositórios filtrados\n",
            "100 repositórios filtrados\n",
            "150 repositórios filtrados\n",
            "200 repositórios filtrados\n",
            "250 repositórios filtrados\n",
            "278 repositórios filtrados\n",
            "50 repositórios filtrados\n",
            "100 repositórios filtrados\n",
            "150 repositórios filtrados\n",
            "200 repositórios filtrados\n",
            "250 repositórios filtrados\n",
            "278 repositórios filtrados\n",
            "278 [['flutter/flutter', 227253, 146693, 2490, 2490], ['Solido/awesome-flutter', 3414, 44125, 0, '1810'], ['rustdesk/rustdesk', 14849, 33545, 215, '3151'], ['AppFlowy-IO/AppFlowy', 37774, 29587, 485, '3530'], ['appwrite/appwrite', 212593, 27423, 58, '13685'], ['alibaba/flutter-go', 117708, 23215, 36, '754'], ['iampawan/FlutterExampleApps', 112899, 17729, 0, '52'], ['flutter/plugins', 34532, 16482, 315, '4318'], ['mitesh77/Best-Flutter-UI-Templates', 148807, 16137, 9, '110'], ['Tencent/MMKV', 2475, 15266, 7, '1081'], ['CarGuo/gsy_github_app_flutter', 35943, 13602, 43, '915'], ['flutterchina/dio', 3428, 11124, 31, '427'], ['felangel/bloc', 56546, 9818, 472, '2035'], ['flutterchina/flutter-in-action', 52115, 8703, 41, '628'], ['brianegan/flutter_architecture_samples', 3696, 8186, 40, '336'], ['jonataslaw/getx', 34181, 7772, 7, '1845'], ['alibaba/fish-redux', 833, 7311, 5, '486'], ['firebase/flutterfire', 43969, 7278, 680, '2837'], ['flame-engine/flame', 45345, 7150, 182, '2727'], ['OpenFlutter/Flutter-Notebook', 52523, 6983, 65, '455'], ['invoiceninja/invoiceninja', 2959602, 6749, 868, '14767'], ['simplezhli/flutter_deer', 56521, 6618, 35, '497'], ['alibaba/flutter_boost', 6086, 6258, 9, '1120'], ['nisrulz/flutter-examples', 96419, 6254, 122, '196'], ['immich-app/immich', 87270, 6048, 3644, '763'], ['iampawan/Flutter-UI-Kit', 55942, 5959, 4, '84'], ['vandadnp/flutter-tips-and-tricks', 437900, 5636, 0, '1525'], ['toly1994328/FlutterUnit', 46730, 5576, 33, '267'], ['go-flutter-desktop/go-flutter', 1506, 5475, 37, '344'], ['Sky24n/flutter_wanandroid', 2090, 5453, 14, '117'], ['abuanwar072/Flutter-Responsive-Admin-Panel-or-Dashboard', 21365, 5351, 9, '48'], ['getActivity/AndroidProject', 89374, 5292, 2, '24'], ['AweiLoveAndroid/Flutter-learning', 8305, 5148, 13, '184'], ['nhost/nhost', 132543, 5138, 455, '2508'], ['imaNNeoFighT/fl_chart', 52135, 5116, 13, '1431'], ['samarthagarwal/FlutterScreens', 15462, 4959, 0, '65'], ['openkraken/kraken', 173669, 4737, 129, '8642'], ['flutter/gallery', 51303, 4669, 50, '559'], ['flutterchina/flukit', 72424, 4628, 3, '41'], ['rrousselGit/provider', 1220, 4539, 6, '411'], ['FilledStacks/flutter-tutorials', 3436, 4493, 151, '43'], ['Notsfsssf/pixez-flutter', 184461, 4310, 47, '1032'], ['Sangwan5688/BlackHole', 58916, 3967, 46, '659'], ['lohanidamodar/flutter_ui_challenges', 261487, 3924, 16, '492'], ['rrousselGit/riverpod', 23046, 3758, 1197, '1226'], ['monkeyWie/gopeed', 1410, 3748, 184, '176'], ['ionorg/ion', 24534, 3650, 138, '813'], ['ionicfirebaseapp/getwidget', 18118, 3610, 3, '1132'], ['CarGuo/gsy_flutter_book', 150645, 3534, 0, '21'], ['lukepighetti/fluro', 1125, 3529, 4, '186'], ['roughike/inKino', 32460, 3395, 29, '424'], ['best-flutter/flutter_swiper', 6397, 3354, 3, '83'], ['OpenFlutter/flutter_screenutil', 3613, 3329, 3, '506'], ['FlutterOpen/flutter-ui-nice', 27961, 3329, 4, '124'], ['xuelongqy/flutter_easy_refresh', 391224, 3328, 23, '746'], ['flutter-webrtc/flutter-webrtc', 201838, 3325, 15, '904'], ['hivedb/hive', 1094, 3317, 31, '624'], ['fluttertools/fvm', 5795, 3097, 122, '1082'], ['abuanwar072/E-commerce-Complete-Flutter-UI', 48628, 3091, 3, '54'], ['boyan01/flutter-netease-music', 2997, 3059, 51, '853'], ['zino-hofmann/graphql-flutter', 85302, 3050, 55, '1826'], ['niuhuan/pikapika', 4247, 2875, 73, '200'], ['yubo725/flutter-osc', 48858, 2840, 7, '36'], ['bernaferrari/FigmaToCode', 12061, 2734, 54, '144'], ['letsar/flutter_staggered_grid_view', 14039, 2709, 1, '162'], ['OpenFlutter/fluwx', 45172, 2701, 5, '994'], ['jogboms/flutter_spinkit', 2494, 2648, 6, '137'], ['crazycodeboy/awesome-flutter-cn', 75, 2599, 0, '10'], ['tortuvshin/open-source-flutter-apps', 7447, 2593, 0, '148'], ['phoenixsky/fun_android_flutter', 9880, 2591, 27, '275'], ['flet-dev/flet', 30289, 2536, 122, '465'], ['rrousselGit/flutter_hooks', 528, 2534, 10, '336'], ['huangruiLearn/flutter_hrlweibo', 74026, 2525, 26, '30'], ['yang7229693/flutter-study', 282, 2491, 2, '48'], ['CarGuo/gsy_flutter_demo', 5371, 2482, 19, '282'], ['TheAlphamerc/flutter_ecommerce_app', 2427, 2481, 5, '46'], ['fireship-io/fireship.io', 316208, 2442, 1099, '1256'], ['shichunlei/flutter_app', 172531, 2366, 51, '637'], ['letsar/flutter_slidable', 9487, 2293, 2, '212'], ['pichillilorenzo/flutter_inappwebview', 8564, 2267, 105, '1021'], ['flutter/website', 421704, 2262, 269, '4928'], ['harmonoid/harmonoid', 19950, 2226, 30, '1857'], ['fleaflet/flutter_map', 10023, 2217, 24, '744'], ['mobxjs/mobx.dart', 21632, 2214, 45, '1071'], ['balsikandar/Android-Studio-Plugins', 81, 2208, 0, '47'], ['TheAlphamerc/flutter_twitter_clone', 17688, 2202, 35, '307'], ['fluttercandies/wechat_flutter', 32615, 2172, 29, 29], ['LianjiaTech/bruno', 165784, 2156, 20, '135'], ['memspace/zefyr', 11622, 2139, 20, '346'], ['Baseflow/flutter_cached_network_image', 660, 2122, 25, '326'], ['mdanics/fluttergram', 71444, 2113, 415, '199'], ['GanZhiXiong/GZXTaoBaoAppFlutter', 91444, 2110, 14, '92'], ['WorldHealthOrganization/app', 29164, 2107, 1079, '791'], ['MaikuB/flutter_local_notifications', 6437, 2076, 21, '558'], ['flutter-rs/flutter-rs', 41633, 1990, 38, '477'], ['KRTirtho/spotube', 101115, 1989, 95, '657'], ['UnityTech/UIWidgets', 69261, 1948, 5, '1865'], ['fzyzcjy/flutter_rust_bridge', 13684, 1946, 135, '3088'], ['isar/isar', 17204, 1938, 468, '1191'], ['zubairehman/flutter-boilerplate-project', 1873, 1910, 21, '141'], ['janoodleFTW/timy-messenger', 15610, 1852, 303, '41'], ['Tencent/cloudbase-framework', 7086, 1846, 189, '1568'], ['aloisdeniel/flutter_device_preview', 116927, 1829, 30, '217'], ['flutter/flutter-intellij', 159777, 1825, 20, '2850'], ['X-Wei/flutter_catalog', 20021, 1820, 90, '565'], ['yukilzw/dy_flutter', 760, 1809, 20, '164'], ['JideGuru/FlutterEbookApp', 77390, 1790, 135, '198'], ['simolus3/drift', 24064, 1771, 178, '2746'], ['asjqkkkk/flutter-todos', 2670, 1769, 28, '261'], ['mulaRahul/keyviz', 2356, 1769, 10, '57'], ['bdlukaa/fluent_ui', 11154, 1745, 21, '1342'], ['leisim/auto_size_text', 6119, 1745, 4, '99'], ['hungps/flutter_pokedex', 10069, 1743, 14, '99'], ['fluttercandies/NeteaseCloudMusic', 1139, 1734, 20, '107'], ['VeryGoodOpenSource/very_good_cli', 8096, 1728, 1096, '356'], ['bytedance/flutter_ume', 37362, 1724, 57, '129'], ['robertodoering/harpy', 73797, 1713, 65, '3039'], ['olmps/memo', 6703, 1713, 39, '722'], ['Baseflow/flutter-permission-handler', 6831, 1680, 39, '759'], ['rxlabz/panache', 65093, 1674, 16, '79'], ['juicycleff/flutter-unity-view-widget', 309411, 1670, 9, '266'], ['fluttercommunity/flutter_launcher_icons', 73255, 1668, 18, '341'], ['bluefireteam/photo_view', 59200, 1666, 5, '382'], ['dahliaOS/pangolin_desktop', 301908, 1660, 38, '2563'], ['abuanwar072/Flutter-responsive-email-ui---Mobile-Tablet-and-Web', 1496, 1647, 3, '7'], ['JideGuru/FlutterSocialAppUIKit', 61139, 1641, 4, '59'], ['singerdmx/flutter-quill', 2607, 1640, 27, '1220'], ['abuanwar072/E-commerce-App-UI-Flutter', 23146, 1639, 2, '10'], ['Idean/Flutter-Neumorphic', 16829, 1624, 3, '608'], ['ResoCoder/flutter-tdd-clean-architecture-course', 110, 1615, 8, '18'], ['huextrat/TheGorgeousLogin', 12909, 1604, 1, '25'], ['fluttercommunity/chewie', 38119, 1598, 11, '365'], ['atsign-foundation/at_client_sdk', 4467, 1585, 77, '1603'], ['brianegan/flutter_redux', 7982, 1584, 13, '83'], ['subosito/flutter-action', 1280, 1550, 494, '214'], ['hnvn/flutter_shimmer', 2005, 1542, 4, '44'], ['fluttercandies/extended_image', 11157, 1541, 26, '343'], ['Sub6Resources/flutter_html', 2648, 1522, 43, '913'], ['Mayandev/morec', 41942, 1504, 15, '119'], ['kubenav/kubenav', 43724, 1502, 240, '892'], ['bluefireteam/audioplayers', 15089, 1500, 46, '855'], ['authpass/authpass', 153465, 1478, 112, '1263'], ['iampawan/FlutterWhatsAppClone', 882, 1472, 3, '15'], ['wasabeef/flutter-architecture-blueprints', 112927, 1464, 8, '488'], ['dnfield/flutter_svg', 2662, 1456, 6, '576'], ['niuhuan/jasmine', 2018, 1455, 28, '143'], ['Xtremilicious/projectlearn-project-based-learning', 12349, 1447, 27, '184'], ['jamesblasco/modal_bottom_sheet', 33586, 1446, 21, '217'], ['aleksanderwozniak/table_calendar', 2724, 1432, 3, '337'], ['aagarwal1012/Animated-Text-Kit', 18316, 1431, 10, '318'], ['boyan01/flutter-tetris', 7817, 1404, 6, '51'], ['xuyisheng/flutter_dojo', 17702, 1395, 22, '167'], ['duytq94/flutter-chat-demo', 6504, 1383, 14, '93'], ['befovy/fijkplayer', 2886, 1376, 72, '574'], ['Rannie/flui', 23146, 1376, 9, '236'], ['serenader2014/flutter_carousel_slider', 42659, 1369, 0, '142'], ['rrousselGit/freezed', 3027, 1358, 32, '629'], ['abuanwar072/Chat-Messaging-App-Light-and-Dark-Theme', 73933, 1357, 2, '9'], ['dengyin2000/dynamic_widget', 22582, 1341, 4, '196'], ['Dart-Code/Dart-Code', 19664, 1333, 475, '6707'], ['JideGuru/FlutterFoodybite', 18199, 1320, 1, '40'], ['stryder-dev/flutter_platform_widgets', 2343, 1317, 1, '383'], ['invoiceninja/admin-portal', 79795, 1277, 58, '11797'], ['mkobuolys/flutter-design-patterns', 4670, 1272, 15, '221'], ['git-touch/git-touch', 13066, 1248, 54, '1078'], ['Sky24n/common_utils', 460, 1240, 4, '126'], ['akshathjain/sliding_up_panel', 139373, 1239, 4, '182'], ['ponnamkarthik/FlutterToast', 16924, 1239, 4, '250'], ['alan-ai/alan-sdk-flutter', 355, 1236, 1, '71'], ['YYFlutter/flutter-ui', 14936, 1226, 22, '396'], ['bizz84/layout-demo-flutter', 3593, 1215, 2, '85'], ['NearHuscarl/flutter_login', 16703, 1209, 16, '484'], ['leo-elstin/Flutter-UI-Kits', 4552, 1202, 5, '49'], ['leisim/awesome-flutter-packages', 13636, 1191, 2, '43'], ['flutter-form-builder-ecosystem/flutter_form_builder', 82700, 1178, 13, '1303'], ['javiercbk/json_to_dart', 2994, 1159, 5, '40'], ['Milad-Akarie/auto_route_library', 12998, 1155, 27, '470'], ['iampawan/VelocityX', 1209, 1149, 8, '463'], ['ponkans/F2E', 148, 1145, 166, '61'], ['FlutterGen/flutter_gen', 4641, 1124, 124, '561'], ['aws-amplify/amplify-flutter', 26964, 1116, 580, '671'], ['SimformSolutionsPvtLtd/flutter_showcaseview', 10867, 1107, 7, '197'], ['fluttercandies/flutter_wechat_assets_picker', 10978, 1099, 22, '770'], ['GroovinChip/macos_ui', 16531, 1089, 22, '340'], ['fluttertools/sidekick', 19059, 1087, 47, '746'], ['0015/ThatProject', 32919, 1062, 698, '246'], ['rohan20/flutter-chat-app', 28809, 1057, 7, 7], ['aagarwal1012/Liquid-Pull-To-Refresh', 16177, 1053, 10, '97'], ['ardera/flutter-pi', 1519, 1047, 2, '327'], ['Baseflow/flutter-geolocator', 1743, 1040, 86, '1093'], ['bailicangdu/native-xdm', 886, 1039, 9, '47'], ['hasura/learn-graphql', 52652, 1034, 21199, '699'], ['mjohnsullivan/flutter-by-example', 21300, 1032, 67, '155'], ['mpflutter/mpflutter', 9342, 1030, 7001, '598'], ['fluttercommunity/plus_plugins', 7669, 1027, 1442, '1254'], ['olayemii/flutter-ui-kits', 276854, 1016, 44, '292'], ['leanflutter/awesome-flutter-desktop', 155, 1012, 4, '143'], ['Crequency/KitX', 46596, 1008, 9, '27'], ['ibhavikmakwana/FlutterPlayground', 30651, 1006, 15, '140'], ['KhoaSuperman/findseat', 14894, 1005, 26, '155'], ['burhanrashid52/WhatTodo', 909, 998, 8, '166'], ['nslogx/flutter_easyloading', 5232, 994, 4, '130'], ['iamSahdeep/liquid_swipe_flutter', 54631, 980, 9, '152'], ['ZDfordream/FlutterTianYue', 18761, 980, 15, '62'], ['margaretmz/awesome-tensorflow-lite', 12221, 971, 0, '224'], ['miguelpruivo/flutter_file_picker', 20763, 966, 32, '330'], ['trentpiercy/trace', 127221, 966, 7, '260'], ['leisim/dartx', 619, 950, 13, '313'], ['ReinBentdal/styled_widget', 18608, 949, 1, '231'], ['Lyokone/flutterlocation', 13977, 949, 31, '459'], ['DavBfr/dart_pdf', 16226, 930, 31, '872'], ['jonbhanson/flutter_native_splash', 3256, 922, 14, '174'], ['pengMaster/BestNote', 21801, 915, 0, '84'], ['Codelessly/ResponsiveFramework', 194244, 914, 2, '188'], ['AdobeXD/xd-to-flutter-plugin', 5576, 909, 19, '328'], ['sony/flutter-embedded-linux', 726, 902, 1, '191'], ['ajay-prabhakar/awesome-flutter-ui', 31397, 893, 16, '35'], ['dart-native/dart_native', 116045, 886, 17, '891'], ['pedromassango/my_flutter_challenges', 66734, 885, 3, '115'], ['miickel/flutter_particle_clock', 3705, 884, 0, '22'], ['hnvn/flutter_image_cropper', 18036, 884, 16, '180'], ['go-flutter-desktop/hover', 801, 881, 49, '491'], ['dart-lang/http', 1495, 879, 39, '404'], ['mogol/flutter_secure_storage', 26873, 877, 24, '414'], ['biyidev/biyi', 1935, 875, 0, '1'], ['glorylab/wave', 13841, 874, 5, '50'], ['xvrh/lottie-flutter', 48966, 873, 7, '87'], ['anji-plus/captcha', 83867, 866, 3466, '541'], ['JideGuru/FlutterTravel', 13937, 865, 1, '35'], ['syphon-org/syphon', 52268, 865, 69, '1824'], ['aaronoe/FlutterCinematic', 20927, 865, 7, '66'], ['entronad/graphic', 4546, 865, 9, '115'], ['google/inject.dart', 102, 864, 22, '12'], ['pedromassango/bottom_navy_bar', 8089, 863, 3, '134'], ['vvkeep/JSONConverter', 41431, 842, 0, '232'], ['jogboms/flutter_offline', 1170, 836, 8, '39'], ['aloisdeniel/figma-to-flutter', 5327, 831, 38, '49'], ['kauemurakami/getx_pattern', 125701, 830, 9, '220'], ['flutter/photobooth', 85724, 824, 895, '315'], ['JagandeepBrar/LunaSea', 20041, 822, 522, '966'], ['google/flutter-provide', 74, 821, 1, '19'], ['material-components/material-components-flutter', 27761, 819, 0, '55'], ['fzyzcjy/flutter_smooth', 9421, 819, 36, '1210'], ['TakeoffAndroid/flutter-examples', 326, 816, 3, '392'], ['PoojaB26/FlutterBasicWidgets', 2696, 812, 1, '80'], ['marchellodev/sharik', 7170, 810, 30, '334'], ['huextrat/Taskist', 491, 807, 12, '33'], ['Tarikul711/flutter-food-delivery-app-ui', 7375, 799, 3, '22'], ['fluttercandies/flutter_candies', 93179, 792, 2, '185'], ['flutterturkey/flutter-rehberi', 514, 791, 0, '82'], ['brinesoftwares/Flutter-AI-Rubik-cube-Solver', 1074, 790, 5, '12'], ['jpush/jpush-flutter-plugin', 4236, 787, 9, '126'], ['dotnet-architecture/eShopOnContainers', 657399, 22015, 1834, '4097'], ['mono/mono', 579042, 10184, 47, '122568'], ['reactiveui/ReactiveUI', 87875, 7265, 86, '4894'], ['unoplatform/uno', 154883, 7205, 353, '18527'], ['reactiveui/refit', 15216, 6627, 21, '1595'], ['NLog/NLog', 113669, 5682, 64, '6510'], ['xamarin/Xamarin.Forms', 110976, 5626, 170, '5782'], ['neuecc/MessagePack-CSharp', 9265, 4291, 133, '1797'], ['xamarin/xamarin-forms-samples', 488022, 4255, 398, '2892'], ['bitwarden/mobile', 1072162, 4083, 119, '3468'], ['MvvmCross/MvvmCross', 75080, 3711, 80, '9409'], ['mono/SkiaSharp', 51961, 3099, 272, '2952'], ['migueldeicaza/TensorFlowSharp', 8583, 3075, 29, '275'], ['Caliburn-Micro/Caliburn.Micro', 21564, 2572, 78, '1603'], ['mono/CppSharp', 37735, 2495, 11, '5429'], ['jsuarezruiz/xamarin-forms-goodlooking-UI', 398917, 2480, 0, '200'], ['beto-rodriguez/LiveCharts2', 39152, 2325, 126, '1653'], ['reactiveui/Akavache', 80322, 2285, 50, '1470'], ['xamarin/xamarin-macios', 189158, 2200, 98, '14889'], ['XamSome/awesome-xamarin', 485, 1831, 0, '251'], ['microcharts-dotnet/Microcharts', 10567, 1790, 215, '309'], ['NLua/NLua', 90317, 1665, 44, '623'], ['xamarin/ios-samples', 1497532, 1557, 3, '3177'], ['xamarin/Essentials', 15977, 1507, 81, '1570'], ['luberda-molinet/FFImageLoading', 34147, 1393, 192, '1995'], ['microsoft/AdaptiveCards', 360640, 1393, 5406, '3562']]\n"
          ]
        }
      ],
      "source": [
        "CAMINHOSCROSS=[]\n",
        "CAMINHOSFLUTTER=[]\n",
        "CAMINHOSXAMARIN=[]\n",
        "tam1=[]\n",
        "tam2=[]\n",
        "paginacao('search/repositories','''topic:flutter -topic:capacitor -topic:cordova\n",
        "-topic:xamarin -topic:nativescript -topic:react-native -topic:pwa sort:stars''',1,CAMINHOSFLUTTER,tam1)\n",
        "paginacao('search/repositories','''topic:xamarin  -topic:capacitor -topic:cordova\n",
        "-topic:flutter -topic:nativescript -topic:react-native -topic:pwa sort:stars''',1,CAMINHOSXAMARIN,tam2)\n",
        "proporcao(tam1,tam2,278)\n",
        "print(tam1[0],tam2[0])\n",
        "CAMINHOSCROSS=CAMINHOSFLUTTER[:tam1[0]]+CAMINHOSXAMARIN[:tam2[0]]\n",
        "CAMINHOSCROSS=reposAddElem(CAMINHOSCROSS,'size')\n",
        "CAMINHOSCROSS=reposAddElem(CAMINHOSCROSS,'stargazers_count')\n",
        "CAMINHOSCROSS=contaDepRepos(CAMINHOSCROSS)\n",
        "CAMINHOSCROSS=contaCommitRepos(CAMINHOSCROSS)\n",
        "print(len(CAMINHOSCROSS),CAMINHOSCROSS)"
      ]
    },
    {
      "cell_type": "markdown",
      "metadata": {
        "id": "8vWt-FA5y0oD"
      },
      "source": [
        "Interpretado"
      ]
    },
    {
      "cell_type": "markdown",
      "metadata": {
        "id": "LRi_Cx4Qy7By"
      },
      "source": [
        "react-native"
      ]
    },
    {
      "cell_type": "code",
      "execution_count": null,
      "metadata": {
        "colab": {
          "base_uri": "https://localhost:8080/"
        },
        "id": "nb1ZCeW8y277",
        "outputId": "64daf51f-e799-45f0-fb77-4115ec86abc2"
      },
      "outputs": [
        {
          "output_type": "stream",
          "name": "stdout",
          "text": [
            "35372\n"
          ]
        }
      ],
      "source": [
        "response=requests.get(SITE+'search/repositories'+'?q='+'''topic:react-native -topic:capacitor -topic:cordova\n",
        "-topic:flutter -topic:pwa -topic:xamarin -topic:nativescript sort:stars''',auth=tokenAuth)\n",
        "data=response.json()\n",
        "if 'total_count' in data:\n",
        "  print(data['total_count'])"
      ]
    },
    {
      "cell_type": "markdown",
      "metadata": {
        "id": "JFMRs1Qi-eqr"
      },
      "source": [
        "native-script"
      ]
    },
    {
      "cell_type": "code",
      "execution_count": null,
      "metadata": {
        "colab": {
          "base_uri": "https://localhost:8080/"
        },
        "id": "W1hrV6SP-dXe",
        "outputId": "cb16668a-5671-4a1e-99f9-d77a84978777"
      },
      "outputs": [
        {
          "output_type": "stream",
          "name": "stdout",
          "text": [
            "726\n"
          ]
        }
      ],
      "source": [
        "response=requests.get(SITE+'search/repositories'+'?q='+'''topic:nativescript -topic:capacitor -topic:cordova\n",
        "-topic:flutter -topic:pwa -topic:react-native -topic:xamarin sort:stars''',auth=tokenAuth)\n",
        "data=response.json()\n",
        "if 'total_count' in data:\n",
        "  print(data['total_count'])"
      ]
    },
    {
      "cell_type": "code",
      "execution_count": null,
      "metadata": {
        "colab": {
          "base_uri": "https://localhost:8080/"
        },
        "id": "IHjUN6Hc827O",
        "outputId": "77aaf250-3a77-43c8-e607-3d621445d718"
      },
      "outputs": [
        {
          "output_type": "stream",
          "name": "stdout",
          "text": [
            "{'message': 'API rate limit exceeded for user ID 44467278.', 'documentation_url': 'https://docs.github.com/rest/overview/resources-in-the-rest-api#rate-limiting'}\n",
            "{'message': 'Only the first 1000 search results are available', 'documentation_url': 'https://docs.github.com/v3/search/'}\n",
            "{'message': 'API rate limit exceeded for user ID 44467278.', 'documentation_url': 'https://docs.github.com/rest/overview/resources-in-the-rest-api#rate-limiting'}\n",
            "50 repositórios filtrados\n",
            "100 repositórios filtrados\n",
            "150 repositórios filtrados\n",
            "200 repositórios filtrados\n",
            "250 repositórios filtrados\n",
            "278 repositórios filtrados\n",
            "50 repositórios filtrados\n",
            "100 repositórios filtrados\n",
            "150 repositórios filtrados\n",
            "200 repositórios filtrados\n",
            "250 repositórios filtrados\n",
            "278 repositórios filtrados\n",
            "278 [['justjavac/free-programming-books-zh_CN', 1236, 97281, 0, '922'], ['storybookjs/storybook', 594739, 75231, 1401, '45316'], ['enaqx/awesome-react', 2429, 52417, 0, '1932'], ['laurent22/joplin', 294743, 33147, 11263, '8367'], ['dkhamsing/open-source-ios-apps', 19278, 32564, 2, '6409'], ['jondot/awesome-react-native', 5250, 32175, 7, '2193'], ['NervJS/taro', 1417422, 31947, 966, '8878'], ['react-hook-form/react-hook-form', 27674, 31872, 88, '3350'], ['jaredpalmer/formik', 13364, 31540, 190, '1703'], ['typeorm/typeorm', 24191, 29813, 980, '5113'], ['sudheerj/reactjs-interview-questions', 1873, 25438, 8, '365'], ['vercel/swr', 3229, 24684, 116, '691'], ['mattermost/mattermost-server', 577219, 24361, 0, '15657'], ['react-native-elements/react-native-elements', 142760, 23037, 123, '2366'], ['react-navigation/react-navigation', 49363, 21867, 236, '1857'], ['necolas/react-native-web', 53416, 20374, 1198, '1873'], ['GeekyAnts/NativeBase', 69854, 18643, 1011, 1011], ['expo/expo', 2481322, 18187, 727, '16803'], ['zulip/zulip', 381147, 16787, 613, '49280'], ['oblador/react-native-vector-icons', 6606, 16231, 47, '582'], ['lottie-react-native/lottie-react-native', 414262, 15493, 54, '681'], ['microsoft/react-native-windows', 211103, 15121, 946, '6937'], ['infinitered/ignite', 58008, 14516, 112, '2378'], ['feathersjs/feathers', 30395, 14203, 2229, '3819'], ['infinitered/reactotron', 21939, 13802, 170, '1259'], ['react-native-maps/react-native-maps', 6056, 13644, 29, '1391'], ['expo/create-react-native-app', 1912, 13048, 32, '371'], ['wix/react-native-navigation', 136264, 12667, 80, '5446'], ['danilowoz/react-content-loader', 8229, 12615, 2069, '279'], ['FaridSafi/react-native-gifted-chat', 47538, 12035, 61, '1319'], ['invertase/react-native-firebase', 45018, 10452, 1034, '5342'], ['leecade/react-native-swiper', 9194, 10060, 25, '364'], ['wix/Detox', 70383, 10022, 175, '4311'], ['callstack/react-native-paper', 355862, 10009, 105, '1714'], ['jhen0409/react-native-debugger', 6078, 9660, 96, '899'], ['react-native-camera/react-native-camera', 17586, 9594, 838, '1699'], ['welldone-software/why-did-you-render', 5531, 9448, 57, '420'], ['akveo/react-native-ui-kitten', 464220, 9382, 182, '816'], ['oblador/react-native-animatable', 5695, 9367, 42, '181'], ['boardgameio/boardgame.io', 13875, 9339, 1348, '1834'], ['gregberge/svgr', 15379, 9208, 3023, '593'], ['alibaba/formily', 27165, 8842, 355, '2985'], ['Nozbe/WatermelonDB', 18435, 8743, 189, '3640'], ['GetStream/Winds', 61501, 8701, 112, '3306'], ['devhubapp/devhub', 121209, 8567, 199, '2725'], ['keybase/client', 657640, 8286, 885, '36408'], ['rematch/rematch', 23635, 8277, 4256, '1624'], ['microsoft/react-native-code-push', 8368, 8275, 455, '1739'], ['wix/react-native-calendars', 17592, 8165, 64, '2511'], ['i18next/react-i18next', 10185, 7835, 5346, '1546'], ['react-native-image-picker/react-native-image-picker', 2453, 7808, 31, '771'], ['DylanVann/react-native-fast-image', 61812, 7236, 49, '575'], ['akveo/kittenTricks', 107763, 6931, 55, '303'], ['ptomasroos/react-native-scrollable-tab-view', 7597, 6836, 15, '380'], ['software-mansion/react-native-reanimated', 105707, 6715, 199, '1371'], ['fangwei716/30-days-of-react-native', 94030, 6603, 13, '72'], ['zo0r/react-native-push-notification', 1688, 6511, 12, '818'], ['berty/berty', 264368, 6280, 2621, '7770'], ['redux-offline/redux-offline', 3181, 6099, 46, '366'], ['ivpusic/react-native-image-crop-picker', 8163, 5626, 4, '480'], ['jpush/aurora-imui', 11148, 5591, 737, '1197'], ['crazycodeboy/react-native-splash-screen', 3830, 5325, 11, '166'], ['learnapollo/learnapollo', 44669, 5246, 67, '311'], ['benoitvallon/react-native-nw-react-calculator', 1839, 5165, 57, '186'], ['software-mansion/react-native-gesture-handler', 62844, 5144, 154, '1122'], ['satya164/react-native-tab-view', 9735, 5111, 51, '719'], ['react-native-modal/react-native-modal', 8492, 5025, 44, '537'], ['wix/react-native-ui-lib', 161643, 4937, 179, '3676'], ['APSL/react-native-keyboard-aware-scroll-view', 408, 4891, 8, '182'], ['xinthink/react-native-material-kit', 2553, 4839, 44, '496'], ['shoutem/ui', 8506, 4769, 1040, '1218'], ['vhpoet/react-native-styling-cheat-sheet', 38, 4658, 0, '36'], ['streetwriters/notesnook', 134182, 4646, 10539, '8847'], ['facebook/metro', 32016, 4642, 261, '3852'], ['futurice/pepperoni-app-kit', 49617, 4642, 854, '213'], ['Flipkart/recyclerlistview', 4973, 4638, 11, '466'], ['gitpoint/git-point', 6059, 4615, 96, '730'], ['bartonhammond/snowflake', 30278, 4585, 39, '283'], ['itinance/react-native-fs', 1193, 4564, 33, '733'], ['Shopify/react-native-skia', 108865, 4485, 113, '1943'], ['unform/unform', 9263, 4481, 64, '421'], ['oliviertassinari/react-swipeable-views', 4377, 4267, 99, '600'], ['ritz078/transform', 13283, 4204, 94, '380'], ['kdchang/reactjs101', 7719, 4122, 296, '500'], ['react-native-webrtc/react-native-webrtc', 432601, 4088, 489, '890'], ['maicki/why-did-you-update', 956, 4079, 0, '120'], ['gorhom/react-native-bottom-sheet', 28596, 4076, 95, '367'], ['crazycodeboy/RNStudyNotes', 8356, 3915, 19, '255'], ['xotahal/react-native-material-ui', 2611, 3762, 26, '524'], ['rcbyr/keen-slider', 3059, 3673, 1072, '413'], ['callstack/haul', 5695, 3611, 226, '576'], ['status-im/status-mobile', 207389, 3553, 125, '7412'], ['lingui/js-lingui', 13715, 3479, 315, '1987'], ['attentiveness/reading', 22613, 3428, 31, '458'], ['Kureev/react-native-blur', 1941, 3412, 34, '253'], ['deepsyx/home-automation', 4273, 3381, 12, '48'], ['taofed/react-web', 8314, 3380, 31, '313'], ['mrousavy/react-native-vision-camera', 74354, 3376, 79, '922'], ['thecodingmachine/react-native-boilerplate', 18244, 3362, 75, '479'], ['hectahertz/react-native-typography', 4251, 3342, 12, '51'], ['zoontek/react-native-permissions', 4376, 3327, 36, '679'], ['vincentriemer/react-native-dom', 17204, 3255, 99, '418'], ['mcnamee/react-native-starter-kit', 13766, 3212, 38, '59'], ['react-native-share/react-native-share', 10931, 3198, 731, '969'], ['FuYaoDe/react-native-app-intro', 10686, 3193, 9, '96'], ['airbnb/native-navigation', 1679, 3133, 18, 18], ['artsy/eigen', 477250, 3126, 223, '22299'], ['rainbow-me/rainbow', 165987, 3124, 351, '6926'], ['meliorence/react-native-render-html', 70085, 2993, 184, '1358'], ['CSFrequency/react-firebase-hooks', 1240, 2979, 1225, '389'], ['galio-org/galio', 30857, 2946, 756, '419'], ['fram-x/FluidTransitions', 9199, 2898, 27, '678'], ['sunnylqm/react-native-storage', 1084, 2894, 11, '175'], ['rilyu/teaset', 6685, 2880, 13, '144'], ['yorkie/react-native-wechat', 58165, 2873, 71, '230'], ['iconoir-icons/iconoir', 6870, 2868, 74, '271'], ['crazycodeboy/GitHubPopular', 10464, 2859, 12, '13'], ['coffe1891/frontend-hard-mode-interview', 11110, 2847, 0, '964'], ['vitalets/react-native-extended-stylesheet', 1282, 2836, 640, '242'], ['tamagui/tamagui', 378347, 2832, 873, '2935'], ['react-native-community/upgrade-helper', 26696, 2831, 37, '718'], ['oblador/react-native-keychain', 1752, 2755, 21, '315'], ['gre/gl-react', 133245, 2722, 855, '480'], ['mrousavy/react-native-mmkv', 6088, 2699, 52, '370'], ['YvetteLau/Blog', 1348, 2681, 950, '78'], ['mmazzarolo/react-native-modal-datetime-picker', 5393, 2665, 16, '452'], ['jemise111/react-native-swipe-list-view', 1217, 2653, 18, '551'], ['ant-design/ant-design-mobile-rn', 38120, 2620, 82, '553'], ['react-native-google-signin/google-signin', 22664, 2610, 30, '485'], ['jsdf/react-native-htmlview', 710, 2608, 8, '226'], ['callstack/react-native-testing-library', 10899, 2598, 73, '733'], ['wkh237/react-native-fetch-blob', 52488, 2598, 2, '1196'], ['unicodeveloper/awesome-opensource-apps', 247, 2580, 0, '300'], ['jeremybarbet/react-native-modalize', 2598, 2553, 63, '529'], ['js-newbee/taro-yanxuan', 4627, 2512, 45, '65'], ['doublesymmetry/react-native-track-player', 34957, 2509, 63, '881'], ['software-mansion/react-native-screens', 19398, 2493, 212, '798'], ['infinitered/apisauce', 355, 2493, 28, '301'], ['react-ui-kit/dribbble2react', 18325, 2491, 97, '65'], ['zoontek/react-native-bootsplash', 18395, 2474, 24, '396'], ['microsoft/vscode-react-native', 21926, 2455, 1184, '1836'], ['mastermoo/react-native-action-button', 361, 2449, 22, '230'], ['midudev/preguntas-entrevista-react', 392, 2443, 21, '224'], ['bberak/react-native-game-engine', 527, 2398, 3, '186'], ['ascoders/react-native-image-viewer', 2498, 2388, 1316, '324'], ['atulmy/crate', 10773, 2362, 2404, '166'], ['expo/expo-cli', 131026, 2362, 488, '5212'], ['indiespirit/react-native-chart-kit', 2329, 2331, 25, '336'], ['MarnoDev/react-native-open-project', 25018, 2311, 0, '32'], ['oblador/react-native-collapsible', 1376, 2297, 647, '226'], ['transistorsoft/react-native-background-geolocation', 644843, 2275, 9, '725'], ['bolan9999/react-native-largelist', 37674, 2261, 30, '274'], ['CarGuo/GSYGithubAPP', 8128, 2257, 44, '34'], ['dooboolab/react-native-iap', 42513, 2246, 81, '1538'], ['wuxudong/react-native-charts-wrapper', 7950, 2234, 19, '329'], ['amazon-archives/aws-mobile-react-native-starter', 28118, 2234, 47, '79'], ['gre/react-native-view-shot', 6908, 2217, 34, '316'], ['Kureev/react-native-side-menu', 721, 2215, 21, '337'], ['ladjs/lad', 6126, 2197, 202, '343'], ['JesperLekland/react-native-svg-charts', 1912, 2183, 34, '386'], ['junedomingo/react-native-rename', 442, 2181, 28, '206'], ['rgommezz/react-native-offline', 1944, 2139, 1809, '214'], ['nitaliano/react-native-mapbox-gl', 16868, 2137, 70, '1261'], ['xmppjs/xmpp.js', 6307, 2080, 1512, '2489'], ['arthenica/ffmpeg-kit', 10368, 2080, 29, '322'], ['jacklam718/react-native-modals', 15600, 2078, 37, '367'], ['Flaque/quirk', 43858, 2071, 75, '476'], ['nachos-ui/nachos-ui', 1507, 2050, 678, '58'], ['xotahal/react-native-motion', 46, 2035, 18, '51'], ['catalinmiron/react-native-dribbble-app', 5441, 2031, 5, '67'], ['FormidableLabs/victory-native', 2888, 2016, 97, '452'], ['mfrachet/rn-placeholder', 13150, 1992, 51, '100'], ['osdio/noder-react-native', 5535, 1989, 61, '397'], ['bartgryszko/react-native-circular-progress', 6609, 1989, 640, '236'], ['7kfpun/FinanceReactNative', 4423, 1984, 16, '104'], ['redux-zero/redux-zero', 3415, 1983, 4046, '438'], ['viromedia/viro', 2028018, 1975, 20, '1631'], ['jmurzy/react-native-foldview', 1127, 1967, 34, '38'], ['moaazsidat/react-native-qrcode-scanner', 438, 1945, 353, '337'], ['react-native-community/cli', 10549, 1945, 171, '2105'], ['algolia/react-instantsearch', 138536, 1944, 1151, '4919'], ['flatlogic/react-native-starter', 7930, 1938, 63, '43'], ['mohebifar/react-native-copilot', 948, 1916, 29, '192'], ['nirsky/react-native-size-matters', 3795, 1911, 23, '61'], ['zoontek/react-native-localize', 4658, 1895, 29, '365'], ['callstack/react-native-builder-bob', 3239, 1886, 70, '351'], ['IjzerenHein/react-native-shared-element', 20461, 1862, 38, '487'], ['callstack/react-native-pager-view', 36795, 1854, 69, '431'], ['react-native-datetimepicker/datetimepicker', 4684, 1845, 31, '436'], ['deepsweet/hocs', 1627, 1831, 67, '297'], ['teslamotors/react-native-camera-kit', 12210, 1826, 24, '894'], ['areslabs/alita', 12511, 1825, 204, '790'], ['junedomingo/movieapp', 882, 1795, 30, '131'], ['BlueWallet/BlueWallet', 92482, 1782, 1692, '7283'], ['wuba/Fair', 184655, 1767, 168, '797'], ['Meituan-Dianping/beeshell', 160672, 1763, 22, 22], ['binggg/mrn', 45934, 1734, 1, '61'], ['dabit3/awesome-aws-amplify', 464, 1733, 0, '93'], ['open-source-labs/ReacType', 100735, 1718, 126, '2550'], ['testshallpass/react-native-dropdownalert', 32060, 1716, 598, '448'], ['react-native-community/react-native-template-typescript', 542, 1706, 24, '306'], ['chantastic/reactpatterns', 175, 1706, 4, '96'], ['facebook/react-native-website', 148310, 1705, 41, '3008'], ['crazycodeboy/react-native-awesome', 3907, 1699, 0, '64'], ['react-native-ar/react-native-arkit', 4576, 1682, 281, '538'], ['sysgears/apollo-universal-starter-kit', 18349, 1671, 549, '2544'], ['listen1/listen1_mobile', 552, 1642, 44, '41'], ['innoveit/react-native-ble-manager', 4703, 1597, 876, '741'], ['start-react/native-starter-kit', 29945, 1593, 32, '118'], ['th3rdwave/react-native-safe-area-context', 2679, 1586, 71, '326'], ['tomauty/react-native-chart', 623, 1577, 12, '221'], ['react-native-netinfo/react-native-netinfo', 2393, 1573, 48, '430'], ['bhrott/react-native-masked-text', 133640, 1567, 13, '202'], ['lawnstarter/react-native-picker-select', 2851, 1553, 18, '203'], ['henninghall/react-native-date-picker', 11685, 1538, 37, '508'], ['benawad/fullstack-graphql-airbnb-clone', 804, 1538, 1130, '104'], ['morenoh149/react-native-contacts', 9858, 1535, 15, '654'], ['joggerplus/awesome-weex', 51, 1534, 0, '61'], ['waylybaye/XcodeCleaner', 963, 1534, 6, '92'], ['renative-org/renative', 228574, 1533, 363, '4638'], ['naoufal/react-native-payments', 13929, 1528, 818, '131'], ['oblador/loki', 9600, 1523, 140, '433'], ['rnmapbox/maps', 32640, 1522, 95, '2935'], ['Trixieapp/react-virgin', 1360, 1521, 700, '64'], ['RocketChat/Rocket.Chat.ReactNative', 332225, 1512, 169, '2391'], ['react-native-community/releases', 1614, 1507, 18, '330'], ['GantMan/ReactStateMuseum', 7376, 1507, 2092, '226'], ['Andr3wHur5t/react-native-keyboard-spacer', 29, 1507, 0, '54'], ['ladjs/react-native-loading-spinner-overlay', 2017, 1497, 27, '83'], ['LeoMobileDeveloper/Blogs', 56950, 1497, 0, '200'], ['mmazzarolo/react-native-universal-monorepo', 4334, 1490, 131, '80'], ['phil-r/react-native-looped-carousel', 1372, 1470, 14, '222'], ['OneSignal/react-native-onesignal', 148518, 1454, 30, '792'], ['react-native-training/react-native-fonts', 11, 1453, 0, '12'], ['alexbrillant/react-native-deck-swiper', 3866, 1451, 28, '334'], ['a7ul/react-native-exception-handler', 990, 1443, 4, '115'], ['react-native-community/discussions-and-proposals', 496, 1437, 0, '76'], ['frostney/react-native-create-library', 131, 1428, 12, '77'], ['jaydenseric/apollo-upload-client', 467, 1420, 17, '449'], ['naoufal/react-native-touch-id', 687, 1419, 593, '218'], ['rgommezz/react-native-scroll-bottom-sheet', 87031, 1406, 728, '134'], ['chiclaim/AndroidAll', 23474, 1406, 3, '418'], ['Agontuk/react-native-geolocation-service', 6475, 1405, 30, '230'], ['netguru/sticky-parallax-header', 336893, 1402, 67, '719'], ['gorhom/react-native-animated-tabbar', 4807, 1402, 45, '95'], ['marudy/react-native-responsive-screen', 406, 1399, 22, '107'], ['ospfranco/sol', 505823, 1399, 47, '779'], ['react-native-voice/voice', 2223, 1385, 21, '169'], ['sbycrosz/react-native-credit-card-input', 1694, 1381, 20, '99'], ['bamlab/react-native-image-resizer', 1341, 1378, 30, '163'], ['mrousavy/react-native-blurhash', 5565, 1376, 45, '336'], ['expo/examples', 49900, 1371, 1172, '697'], ['pixielabs/cavy', 1607, 1368, 398, '336'], ['MetaMask/metamask-mobile', 143880, 1357, 244, '1939'], ['instea/react-native-popup-menu', 3678, 1347, 895, '395'], ['Softmotions/ejdb', 11602, 1346, 36, '2790'], ['dohooo/react-native-reanimated-carousel', 352690, 1334, 91, '602'], ['getsentry/sentry-react-native', 53991, 1331, 72, '1638'], ['marklawlor/nativewind', 77945, 1309, 3813, '1584'], ['corymsmith/react-native-fabric', 39601, 1308, 25, '185'], ['react-everywhere/re-start', 492, 1306, 38, '273'], ['azat-co/cheatsheets', 544, 1305, 0, '24'], ['beefe/react-native-actionsheet', 839, 1303, 13, '79'], ['jpush/jpush-react-native', 77886, 1301, 12, '809'], ['apollographql/apollo-cache-persist', 1837, 1293, 52, '432'], ['EasyTuan/taro-msparis', 5405, 1288, 36, '82'], ['wonday/react-native-pdf', 3621, 1285, 25, '639'], ['24ark/react-native-step-indicator', 5222, 1276, 31, '10'], ['react-native-elements/react-native-elements-app', 10528, 1272, 31, '347'], ['czy0729/Bangumi', 78071, 1271, 279, '1742'], ['OneKeyHQ/app-monorepo', 115734, 1269, 397, '2152'], ['eduardomoroni/react-clean-architecture', 51668, 1260, 3220, '68'], ['nativescript-vue/nativescript-vue', 26676, 4896, 40, '794'], ['ngx-formly/ngx-formly', 32344, 2406, 1762, '1699'], ['NathanWalker/angular-seed-advanced', 13073, 2279, 175, '2261'], ['NativeScript/nativescript-angular', 33538, 1213, 318, '1866'], ['NativeScript/nativescript-cli', 148925, 1026, 1200, '6390'], ['EddyVerbruggen/nativescript-plugin-firebase', 50841, 1019, 105, '1764']]\n"
          ]
        }
      ],
      "source": [
        "CAMINHOSINTER=[]\n",
        "CAMINHOSREACT=[]\n",
        "CAMINHOSNSCRIPT=[]\n",
        "tam1=[]\n",
        "tam2=[]\n",
        "paginacao('search/repositories','''topic:react-native -topic:capacitor -topic:cordova\n",
        "-topic:flutter -topic:pwa -topic:xamarin -topic:nativescript sort:stars''',1,CAMINHOSREACT,tam1)\n",
        "paginacao('search/repositories','''topic:nativescript -topic:capacitor -topic:cordova\n",
        "-topic:flutter -topic:pwa -topic:react-native -topic:xamarin sort:stars''',1,CAMINHOSNSCRIPT,tam2)\n",
        "proporcao(tam1,tam2,278)\n",
        "CAMINHOSINTER=CAMINHOSREACT[:tam1[0]]+CAMINHOSNSCRIPT[:tam2[0]]\n",
        "CAMINHOSINTER=reposAddElem(CAMINHOSINTER,'size')\n",
        "CAMINHOSINTER=reposAddElem(CAMINHOSINTER,'stargazers_count')\n",
        "CAMINHOSINTER=contaDepRepos(CAMINHOSINTER)\n",
        "CAMINHOSINTER=contaCommitRepos(CAMINHOSINTER)\n",
        "print(len(CAMINHOSINTER),CAMINHOSINTER)"
      ]
    },
    {
      "cell_type": "markdown",
      "metadata": {
        "id": "t-SuYN_OsDZ3"
      },
      "source": [
        "# Saida\n"
      ]
    },
    {
      "cell_type": "code",
      "execution_count": null,
      "metadata": {
        "id": "E4rsZ5PkpxfQ"
      },
      "outputs": [],
      "source": [
        "def escreveSaida(arquivo,vetor):\n",
        "  f=open(arquivo,\"w\")\n",
        "  f.write(\"nome tamanho estrelas dependencias commits\")\n",
        "  f.write('\\n')\n",
        "  for lin in vetor:\n",
        "    for col in lin[0:]:\n",
        "      if lin.index(col)!=(len(lin)-1):\n",
        "        f.write(str(col)+\" \")\n",
        "      else:\n",
        "        f.write(str(col))\n",
        "    f.write('\\n')\n",
        "  f.close()"
      ]
    },
    {
      "cell_type": "code",
      "execution_count": null,
      "metadata": {
        "id": "V3vM1uXytNCc"
      },
      "outputs": [],
      "source": [
        "#escreveSaida(\"outputpwa.txt\",CAMINHOSPWA)\n",
        "escreveSaida(\"outputcross.txt\",CAMINHOSCROSS)\n",
        "escreveSaida(\"outputinter.txt\",CAMINHOSINTER)\n",
        "escreveSaida(\"outputnativo.txt\",CAMINHOSNATIVO)\n",
        "escreveSaida(\"outputhibrido.txt\",CAMINHOSHIBRIDO)"
      ]
    }
  ],
  "metadata": {
    "colab": {
      "provenance": [],
      "toc_visible": true,
      "authorship_tag": "ABX9TyOJU8kmH1JnkOj4Z5y545+c",
      "include_colab_link": true
    },
    "kernelspec": {
      "display_name": "Python 3",
      "name": "python3"
    },
    "language_info": {
      "name": "python"
    },
    "widgets": {
      "application/vnd.jupyter.widget-state+json": {
        "5bea9772007b4c81b46c9338414bd89b": {
          "model_module": "@jupyter-widgets/controls",
          "model_name": "VBoxModel",
          "model_module_version": "1.5.0",
          "state": {
            "_dom_classes": [
              "widget-interact"
            ],
            "_model_module": "@jupyter-widgets/controls",
            "_model_module_version": "1.5.0",
            "_model_name": "VBoxModel",
            "_view_count": null,
            "_view_module": "@jupyter-widgets/controls",
            "_view_module_version": "1.5.0",
            "_view_name": "VBoxView",
            "box_style": "",
            "children": [
              "IPY_MODEL_33a91dcb15d549c0983d4290a04160ad",
              "IPY_MODEL_5ec2150dddb540cb966512b5b5d66de9"
            ],
            "layout": "IPY_MODEL_45e4a18fe1384d7ca705986559e22c50"
          }
        },
        "33a91dcb15d549c0983d4290a04160ad": {
          "model_module": "@jupyter-widgets/controls",
          "model_name": "FileUploadModel",
          "model_module_version": "1.5.0",
          "state": {
            "_counter": 1,
            "_dom_classes": [],
            "_model_module": "@jupyter-widgets/controls",
            "_model_module_version": "1.5.0",
            "_model_name": "FileUploadModel",
            "_view_count": null,
            "_view_module": "@jupyter-widgets/controls",
            "_view_module_version": "1.5.0",
            "_view_name": "FileUploadView",
            "accept": "",
            "button_style": "",
            "data": [
              null
            ],
            "description": "Upload",
            "description_tooltip": null,
            "disabled": false,
            "error": "",
            "icon": "upload",
            "layout": "IPY_MODEL_fdf4c6991b7c4b33aa96fd2b5b51cbbb",
            "metadata": [
              {
                "name": "token.txt",
                "type": "text/plain",
                "size": 40,
                "lastModified": 1667219848000
              }
            ],
            "multiple": false,
            "style": "IPY_MODEL_4a6bcc9ff57f4040b47b8d739ffe054f"
          }
        },
        "5ec2150dddb540cb966512b5b5d66de9": {
          "model_module": "@jupyter-widgets/output",
          "model_name": "OutputModel",
          "model_module_version": "1.0.0",
          "state": {
            "_dom_classes": [],
            "_model_module": "@jupyter-widgets/output",
            "_model_module_version": "1.0.0",
            "_model_name": "OutputModel",
            "_view_count": null,
            "_view_module": "@jupyter-widgets/output",
            "_view_module_version": "1.0.0",
            "_view_name": "OutputView",
            "layout": "IPY_MODEL_967f66895572439f9c2bd75758d90efe",
            "msg_id": "",
            "outputs": [
              {
                "output_type": "stream",
                "name": "stdout",
                "text": [
                  "Token carregado\n"
                ]
              }
            ]
          }
        },
        "45e4a18fe1384d7ca705986559e22c50": {
          "model_module": "@jupyter-widgets/base",
          "model_name": "LayoutModel",
          "model_module_version": "1.2.0",
          "state": {
            "_model_module": "@jupyter-widgets/base",
            "_model_module_version": "1.2.0",
            "_model_name": "LayoutModel",
            "_view_count": null,
            "_view_module": "@jupyter-widgets/base",
            "_view_module_version": "1.2.0",
            "_view_name": "LayoutView",
            "align_content": null,
            "align_items": null,
            "align_self": null,
            "border": null,
            "bottom": null,
            "display": null,
            "flex": null,
            "flex_flow": null,
            "grid_area": null,
            "grid_auto_columns": null,
            "grid_auto_flow": null,
            "grid_auto_rows": null,
            "grid_column": null,
            "grid_gap": null,
            "grid_row": null,
            "grid_template_areas": null,
            "grid_template_columns": null,
            "grid_template_rows": null,
            "height": null,
            "justify_content": null,
            "justify_items": null,
            "left": null,
            "margin": null,
            "max_height": null,
            "max_width": null,
            "min_height": null,
            "min_width": null,
            "object_fit": null,
            "object_position": null,
            "order": null,
            "overflow": null,
            "overflow_x": null,
            "overflow_y": null,
            "padding": null,
            "right": null,
            "top": null,
            "visibility": null,
            "width": null
          }
        },
        "fdf4c6991b7c4b33aa96fd2b5b51cbbb": {
          "model_module": "@jupyter-widgets/base",
          "model_name": "LayoutModel",
          "model_module_version": "1.2.0",
          "state": {
            "_model_module": "@jupyter-widgets/base",
            "_model_module_version": "1.2.0",
            "_model_name": "LayoutModel",
            "_view_count": null,
            "_view_module": "@jupyter-widgets/base",
            "_view_module_version": "1.2.0",
            "_view_name": "LayoutView",
            "align_content": null,
            "align_items": null,
            "align_self": null,
            "border": null,
            "bottom": null,
            "display": null,
            "flex": null,
            "flex_flow": null,
            "grid_area": null,
            "grid_auto_columns": null,
            "grid_auto_flow": null,
            "grid_auto_rows": null,
            "grid_column": null,
            "grid_gap": null,
            "grid_row": null,
            "grid_template_areas": null,
            "grid_template_columns": null,
            "grid_template_rows": null,
            "height": null,
            "justify_content": null,
            "justify_items": null,
            "left": null,
            "margin": null,
            "max_height": null,
            "max_width": null,
            "min_height": null,
            "min_width": null,
            "object_fit": null,
            "object_position": null,
            "order": null,
            "overflow": null,
            "overflow_x": null,
            "overflow_y": null,
            "padding": null,
            "right": null,
            "top": null,
            "visibility": null,
            "width": null
          }
        },
        "4a6bcc9ff57f4040b47b8d739ffe054f": {
          "model_module": "@jupyter-widgets/controls",
          "model_name": "ButtonStyleModel",
          "model_module_version": "1.5.0",
          "state": {
            "_model_module": "@jupyter-widgets/controls",
            "_model_module_version": "1.5.0",
            "_model_name": "ButtonStyleModel",
            "_view_count": null,
            "_view_module": "@jupyter-widgets/base",
            "_view_module_version": "1.2.0",
            "_view_name": "StyleView",
            "button_color": null,
            "font_weight": ""
          }
        },
        "967f66895572439f9c2bd75758d90efe": {
          "model_module": "@jupyter-widgets/base",
          "model_name": "LayoutModel",
          "model_module_version": "1.2.0",
          "state": {
            "_model_module": "@jupyter-widgets/base",
            "_model_module_version": "1.2.0",
            "_model_name": "LayoutModel",
            "_view_count": null,
            "_view_module": "@jupyter-widgets/base",
            "_view_module_version": "1.2.0",
            "_view_name": "LayoutView",
            "align_content": null,
            "align_items": null,
            "align_self": null,
            "border": null,
            "bottom": null,
            "display": null,
            "flex": null,
            "flex_flow": null,
            "grid_area": null,
            "grid_auto_columns": null,
            "grid_auto_flow": null,
            "grid_auto_rows": null,
            "grid_column": null,
            "grid_gap": null,
            "grid_row": null,
            "grid_template_areas": null,
            "grid_template_columns": null,
            "grid_template_rows": null,
            "height": null,
            "justify_content": null,
            "justify_items": null,
            "left": null,
            "margin": null,
            "max_height": null,
            "max_width": null,
            "min_height": null,
            "min_width": null,
            "object_fit": null,
            "object_position": null,
            "order": null,
            "overflow": null,
            "overflow_x": null,
            "overflow_y": null,
            "padding": null,
            "right": null,
            "top": null,
            "visibility": null,
            "width": null
          }
        }
      }
    }
  },
  "nbformat": 4,
  "nbformat_minor": 0
}